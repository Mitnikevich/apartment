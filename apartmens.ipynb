{
 "cells": [
  {
   "cell_type": "markdown",
   "metadata": {
    "toc": true
   },
   "source": [
    "<h1>Содержание<span class=\"tocSkip\"></span></h1>\n",
    "<div class=\"toc\"><ul class=\"toc-item\"><li><span><a href=\"#Изучение-данных-из-файла\" data-toc-modified-id=\"Изучение-данных-из-файла-1\"><span class=\"toc-item-num\">1&nbsp;&nbsp;</span>Изучение данных из файла</a></span><ul class=\"toc-item\"><li><span><a href=\"#Вывод\" data-toc-modified-id=\"Вывод-1.1\"><span class=\"toc-item-num\">1.1&nbsp;&nbsp;</span>Вывод</a></span></li></ul></li><li><span><a href=\"#Предобработка-данных\" data-toc-modified-id=\"Предобработка-данных-2\"><span class=\"toc-item-num\">2&nbsp;&nbsp;</span>Предобработка данных</a></span></li><li><span><a href=\"#Расчёты-и-добавление-результатов-в-таблицу\" data-toc-modified-id=\"Расчёты-и-добавление-результатов-в-таблицу-3\"><span class=\"toc-item-num\">3&nbsp;&nbsp;</span>Расчёты и добавление результатов в таблицу</a></span></li><li><span><a href=\"#Исследовательский-анализ-данных\" data-toc-modified-id=\"Исследовательский-анализ-данных-4\"><span class=\"toc-item-num\">4&nbsp;&nbsp;</span>Исследовательский анализ данных</a></span></li><li><span><a href=\"#Общий-вывод\" data-toc-modified-id=\"Общий-вывод-5\"><span class=\"toc-item-num\">5&nbsp;&nbsp;</span>Общий вывод</a></span></li></ul></div>"
   ]
  },
  {
   "cell_type": "markdown",
   "metadata": {},
   "source": [
    "# Исследование объявлений о продаже квартир\n",
    "\n",
    "В вашем распоряжении данные сервиса Яндекc Недвижимость — архив объявлений о продаже квартир в Санкт-Петербурге и соседних населённых пунктах за несколько лет. Нужно научиться определять рыночную стоимость объектов недвижимости. Ваша задача — установить параметры. Это позволит построить автоматизированную систему: она отследит аномалии и мошенническую деятельность. \n",
    "\n",
    "По каждой квартире на продажу доступны два вида данных. Первые вписаны пользователем, вторые получены автоматически на основе картографических данных. Например, расстояние до центра, аэропорта, ближайшего парка и водоёма. "
   ]
  },
  {
   "cell_type": "markdown",
   "metadata": {},
   "source": [
    "## Изучение данных из файла"
   ]
  },
  {
   "cell_type": "markdown",
   "metadata": {},
   "source": [
    "ОПИСАНИЕ ДАННЫХ\n",
    "\n",
    "-airports_nearest — расстояние до ближайшего аэропорта в метрах (м)\n",
    "\n",
    "-balcony — число балконов\n",
    "\n",
    "-ceiling_height — высота потолков (м)\n",
    "\n",
    "-cityCenters_nearest — расстояние до центра города (м)\n",
    "\n",
    "-days_exposition — сколько дней было размещено объявление (от публикации до снятия)\n",
    "\n",
    "-first_day_exposition — дата публикации\n",
    "\n",
    "-floor — этаж\n",
    "\n",
    "-floors_total — всего этажей в доме\n",
    "\n",
    "-is_apartment — апартаменты (булев тип)\n",
    "\n",
    "-kitchen_area — площадь кухни в квадратных метрах (м²)\n",
    "\n",
    "-last_price — цена на момент снятия с публикации\n",
    "\n",
    "-living_area — жилая площадь в квадратных метрах (м²)\n",
    "\n",
    "-locality_name — название населённого пункта\n",
    "\n",
    "-open_plan — свободная планировка (булев тип)\n",
    "\n",
    "-parks_around3000 — число парков в радиусе 3 км\n",
    "\n",
    "-parks_nearest — расстояние до ближайшего парка (м)\n",
    "\n",
    "-ponds_around3000 — число водоёмов в радиусе 3 км\n",
    "\n",
    "-ponds_nearest — расстояние до ближайшего водоёма (м)\n",
    "\n",
    "-rooms — число комнат\n",
    "\n",
    "-studio — квартира-студия (булев тип)\n",
    "\n",
    "-total_area — площадь квартиры в квадратных метрах (м²)\n",
    "\n",
    "-total_images — число фотографий квартиры в объявлении"
   ]
  },
  {
   "cell_type": "markdown",
   "metadata": {},
   "source": [
    "Шаг 1. Откройте файл с данными и изучите общую информацию\n",
    "Путь к файлу: /datasets/real_estate_data.csv"
   ]
  },
  {
   "cell_type": "code",
   "execution_count": 1,
   "metadata": {},
   "outputs": [],
   "source": [
    "import pandas as pd#импортируем билиотеки\n",
    "import numpy as np\n",
    "import seaborn as sns\n",
    "import matplotlib.pyplot as plt\n",
    "from datetime import datetime\n",
    "import pprint\n",
    "\n",
    "from pymystem3 import Mystem\n",
    "from collections import Counter"
   ]
  },
  {
   "cell_type": "code",
   "execution_count": 2,
   "metadata": {},
   "outputs": [],
   "source": [
    "pd.set_option('display.max_columns', None)\n",
    "pd.options.display.float_format = '{:,.2f}'.format"
   ]
  },
  {
   "cell_type": "code",
   "execution_count": 3,
   "metadata": {},
   "outputs": [
    {
     "name": "stdout",
     "output_type": "stream",
     "text": [
      "<class 'pandas.core.frame.DataFrame'>\n",
      "RangeIndex: 23699 entries, 0 to 23698\n",
      "Data columns (total 22 columns):\n",
      " #   Column                Non-Null Count  Dtype  \n",
      "---  ------                --------------  -----  \n",
      " 0   total_images          23699 non-null  int64  \n",
      " 1   last_price            23699 non-null  float64\n",
      " 2   total_area            23699 non-null  float64\n",
      " 3   first_day_exposition  23699 non-null  object \n",
      " 4   rooms                 23699 non-null  int64  \n",
      " 5   ceiling_height        14504 non-null  float64\n",
      " 6   floors_total          23613 non-null  float64\n",
      " 7   living_area           21796 non-null  float64\n",
      " 8   floor                 23699 non-null  int64  \n",
      " 9   is_apartment          2775 non-null   object \n",
      " 10  studio                23699 non-null  bool   \n",
      " 11  open_plan             23699 non-null  bool   \n",
      " 12  kitchen_area          21421 non-null  float64\n",
      " 13  balcony               12180 non-null  float64\n",
      " 14  locality_name         23650 non-null  object \n",
      " 15  airports_nearest      18157 non-null  float64\n",
      " 16  cityCenters_nearest   18180 non-null  float64\n",
      " 17  parks_around3000      18181 non-null  float64\n",
      " 18  parks_nearest         8079 non-null   float64\n",
      " 19  ponds_around3000      18181 non-null  float64\n",
      " 20  ponds_nearest         9110 non-null   float64\n",
      " 21  days_exposition       20518 non-null  float64\n",
      "dtypes: bool(2), float64(14), int64(3), object(3)\n",
      "memory usage: 3.7+ MB\n"
     ]
    }
   ],
   "source": [
    "df = pd.read_csv('/datasets/real_estate_data.csv', sep='\\t')\n",
    "df.info()"
   ]
  },
  {
   "cell_type": "code",
   "execution_count": 4,
   "metadata": {},
   "outputs": [
    {
     "data": {
      "text/html": [
       "<div>\n",
       "<style scoped>\n",
       "    .dataframe tbody tr th:only-of-type {\n",
       "        vertical-align: middle;\n",
       "    }\n",
       "\n",
       "    .dataframe tbody tr th {\n",
       "        vertical-align: top;\n",
       "    }\n",
       "\n",
       "    .dataframe thead th {\n",
       "        text-align: right;\n",
       "    }\n",
       "</style>\n",
       "<table border=\"1\" class=\"dataframe\">\n",
       "  <thead>\n",
       "    <tr style=\"text-align: right;\">\n",
       "      <th></th>\n",
       "      <th>total_images</th>\n",
       "      <th>last_price</th>\n",
       "      <th>total_area</th>\n",
       "      <th>rooms</th>\n",
       "      <th>ceiling_height</th>\n",
       "      <th>floors_total</th>\n",
       "      <th>living_area</th>\n",
       "      <th>floor</th>\n",
       "      <th>kitchen_area</th>\n",
       "      <th>balcony</th>\n",
       "      <th>airports_nearest</th>\n",
       "      <th>cityCenters_nearest</th>\n",
       "      <th>parks_around3000</th>\n",
       "      <th>parks_nearest</th>\n",
       "      <th>ponds_around3000</th>\n",
       "      <th>ponds_nearest</th>\n",
       "      <th>days_exposition</th>\n",
       "    </tr>\n",
       "  </thead>\n",
       "  <tbody>\n",
       "    <tr>\n",
       "      <th>count</th>\n",
       "      <td>23,699.00</td>\n",
       "      <td>23,699.00</td>\n",
       "      <td>23,699.00</td>\n",
       "      <td>23,699.00</td>\n",
       "      <td>14,504.00</td>\n",
       "      <td>23,613.00</td>\n",
       "      <td>21,796.00</td>\n",
       "      <td>23,699.00</td>\n",
       "      <td>21,421.00</td>\n",
       "      <td>12,180.00</td>\n",
       "      <td>18,157.00</td>\n",
       "      <td>18,180.00</td>\n",
       "      <td>18,181.00</td>\n",
       "      <td>8,079.00</td>\n",
       "      <td>18,181.00</td>\n",
       "      <td>9,110.00</td>\n",
       "      <td>20,518.00</td>\n",
       "    </tr>\n",
       "    <tr>\n",
       "      <th>mean</th>\n",
       "      <td>9.86</td>\n",
       "      <td>6,541,548.77</td>\n",
       "      <td>60.35</td>\n",
       "      <td>2.07</td>\n",
       "      <td>2.77</td>\n",
       "      <td>10.67</td>\n",
       "      <td>34.46</td>\n",
       "      <td>5.89</td>\n",
       "      <td>10.57</td>\n",
       "      <td>1.15</td>\n",
       "      <td>28,793.67</td>\n",
       "      <td>14,191.28</td>\n",
       "      <td>0.61</td>\n",
       "      <td>490.80</td>\n",
       "      <td>0.77</td>\n",
       "      <td>517.98</td>\n",
       "      <td>180.89</td>\n",
       "    </tr>\n",
       "    <tr>\n",
       "      <th>std</th>\n",
       "      <td>5.68</td>\n",
       "      <td>10,887,013.27</td>\n",
       "      <td>35.65</td>\n",
       "      <td>1.08</td>\n",
       "      <td>1.26</td>\n",
       "      <td>6.60</td>\n",
       "      <td>22.03</td>\n",
       "      <td>4.89</td>\n",
       "      <td>5.91</td>\n",
       "      <td>1.07</td>\n",
       "      <td>12,630.88</td>\n",
       "      <td>8,608.39</td>\n",
       "      <td>0.80</td>\n",
       "      <td>342.32</td>\n",
       "      <td>0.94</td>\n",
       "      <td>277.72</td>\n",
       "      <td>219.73</td>\n",
       "    </tr>\n",
       "    <tr>\n",
       "      <th>min</th>\n",
       "      <td>0.00</td>\n",
       "      <td>12,190.00</td>\n",
       "      <td>12.00</td>\n",
       "      <td>0.00</td>\n",
       "      <td>1.00</td>\n",
       "      <td>1.00</td>\n",
       "      <td>2.00</td>\n",
       "      <td>1.00</td>\n",
       "      <td>1.30</td>\n",
       "      <td>0.00</td>\n",
       "      <td>0.00</td>\n",
       "      <td>181.00</td>\n",
       "      <td>0.00</td>\n",
       "      <td>1.00</td>\n",
       "      <td>0.00</td>\n",
       "      <td>13.00</td>\n",
       "      <td>1.00</td>\n",
       "    </tr>\n",
       "    <tr>\n",
       "      <th>25%</th>\n",
       "      <td>6.00</td>\n",
       "      <td>3,400,000.00</td>\n",
       "      <td>40.00</td>\n",
       "      <td>1.00</td>\n",
       "      <td>2.52</td>\n",
       "      <td>5.00</td>\n",
       "      <td>18.60</td>\n",
       "      <td>2.00</td>\n",
       "      <td>7.00</td>\n",
       "      <td>0.00</td>\n",
       "      <td>18,585.00</td>\n",
       "      <td>9,238.00</td>\n",
       "      <td>0.00</td>\n",
       "      <td>288.00</td>\n",
       "      <td>0.00</td>\n",
       "      <td>294.00</td>\n",
       "      <td>45.00</td>\n",
       "    </tr>\n",
       "    <tr>\n",
       "      <th>50%</th>\n",
       "      <td>9.00</td>\n",
       "      <td>4,650,000.00</td>\n",
       "      <td>52.00</td>\n",
       "      <td>2.00</td>\n",
       "      <td>2.65</td>\n",
       "      <td>9.00</td>\n",
       "      <td>30.00</td>\n",
       "      <td>4.00</td>\n",
       "      <td>9.10</td>\n",
       "      <td>1.00</td>\n",
       "      <td>26,726.00</td>\n",
       "      <td>13,098.50</td>\n",
       "      <td>0.00</td>\n",
       "      <td>455.00</td>\n",
       "      <td>1.00</td>\n",
       "      <td>502.00</td>\n",
       "      <td>95.00</td>\n",
       "    </tr>\n",
       "    <tr>\n",
       "      <th>75%</th>\n",
       "      <td>14.00</td>\n",
       "      <td>6,800,000.00</td>\n",
       "      <td>69.90</td>\n",
       "      <td>3.00</td>\n",
       "      <td>2.80</td>\n",
       "      <td>16.00</td>\n",
       "      <td>42.30</td>\n",
       "      <td>8.00</td>\n",
       "      <td>12.00</td>\n",
       "      <td>2.00</td>\n",
       "      <td>37,273.00</td>\n",
       "      <td>16,293.00</td>\n",
       "      <td>1.00</td>\n",
       "      <td>612.00</td>\n",
       "      <td>1.00</td>\n",
       "      <td>729.00</td>\n",
       "      <td>232.00</td>\n",
       "    </tr>\n",
       "    <tr>\n",
       "      <th>max</th>\n",
       "      <td>50.00</td>\n",
       "      <td>763,000,000.00</td>\n",
       "      <td>900.00</td>\n",
       "      <td>19.00</td>\n",
       "      <td>100.00</td>\n",
       "      <td>60.00</td>\n",
       "      <td>409.70</td>\n",
       "      <td>33.00</td>\n",
       "      <td>112.00</td>\n",
       "      <td>5.00</td>\n",
       "      <td>84,869.00</td>\n",
       "      <td>65,968.00</td>\n",
       "      <td>3.00</td>\n",
       "      <td>3,190.00</td>\n",
       "      <td>3.00</td>\n",
       "      <td>1,344.00</td>\n",
       "      <td>1,580.00</td>\n",
       "    </tr>\n",
       "  </tbody>\n",
       "</table>\n",
       "</div>"
      ],
      "text/plain": [
       "       total_images     last_price  total_area     rooms  ceiling_height  \\\n",
       "count     23,699.00      23,699.00   23,699.00 23,699.00       14,504.00   \n",
       "mean           9.86   6,541,548.77       60.35      2.07            2.77   \n",
       "std            5.68  10,887,013.27       35.65      1.08            1.26   \n",
       "min            0.00      12,190.00       12.00      0.00            1.00   \n",
       "25%            6.00   3,400,000.00       40.00      1.00            2.52   \n",
       "50%            9.00   4,650,000.00       52.00      2.00            2.65   \n",
       "75%           14.00   6,800,000.00       69.90      3.00            2.80   \n",
       "max           50.00 763,000,000.00      900.00     19.00          100.00   \n",
       "\n",
       "       floors_total  living_area     floor  kitchen_area   balcony  \\\n",
       "count     23,613.00    21,796.00 23,699.00     21,421.00 12,180.00   \n",
       "mean          10.67        34.46      5.89         10.57      1.15   \n",
       "std            6.60        22.03      4.89          5.91      1.07   \n",
       "min            1.00         2.00      1.00          1.30      0.00   \n",
       "25%            5.00        18.60      2.00          7.00      0.00   \n",
       "50%            9.00        30.00      4.00          9.10      1.00   \n",
       "75%           16.00        42.30      8.00         12.00      2.00   \n",
       "max           60.00       409.70     33.00        112.00      5.00   \n",
       "\n",
       "       airports_nearest  cityCenters_nearest  parks_around3000  parks_nearest  \\\n",
       "count         18,157.00            18,180.00         18,181.00       8,079.00   \n",
       "mean          28,793.67            14,191.28              0.61         490.80   \n",
       "std           12,630.88             8,608.39              0.80         342.32   \n",
       "min                0.00               181.00              0.00           1.00   \n",
       "25%           18,585.00             9,238.00              0.00         288.00   \n",
       "50%           26,726.00            13,098.50              0.00         455.00   \n",
       "75%           37,273.00            16,293.00              1.00         612.00   \n",
       "max           84,869.00            65,968.00              3.00       3,190.00   \n",
       "\n",
       "       ponds_around3000  ponds_nearest  days_exposition  \n",
       "count         18,181.00       9,110.00        20,518.00  \n",
       "mean               0.77         517.98           180.89  \n",
       "std                0.94         277.72           219.73  \n",
       "min                0.00          13.00             1.00  \n",
       "25%                0.00         294.00            45.00  \n",
       "50%                1.00         502.00            95.00  \n",
       "75%                1.00         729.00           232.00  \n",
       "max                3.00       1,344.00         1,580.00  "
      ]
     },
     "execution_count": 4,
     "metadata": {},
     "output_type": "execute_result"
    }
   ],
   "source": [
    "df.describe()"
   ]
  },
  {
   "cell_type": "code",
   "execution_count": 5,
   "metadata": {},
   "outputs": [
    {
     "data": {
      "text/html": [
       "<div>\n",
       "<style scoped>\n",
       "    .dataframe tbody tr th:only-of-type {\n",
       "        vertical-align: middle;\n",
       "    }\n",
       "\n",
       "    .dataframe tbody tr th {\n",
       "        vertical-align: top;\n",
       "    }\n",
       "\n",
       "    .dataframe thead th {\n",
       "        text-align: right;\n",
       "    }\n",
       "</style>\n",
       "<table border=\"1\" class=\"dataframe\">\n",
       "  <thead>\n",
       "    <tr style=\"text-align: right;\">\n",
       "      <th></th>\n",
       "      <th>total_images</th>\n",
       "      <th>last_price</th>\n",
       "      <th>total_area</th>\n",
       "      <th>first_day_exposition</th>\n",
       "      <th>rooms</th>\n",
       "      <th>ceiling_height</th>\n",
       "      <th>floors_total</th>\n",
       "      <th>living_area</th>\n",
       "      <th>floor</th>\n",
       "      <th>is_apartment</th>\n",
       "      <th>studio</th>\n",
       "      <th>open_plan</th>\n",
       "      <th>kitchen_area</th>\n",
       "      <th>balcony</th>\n",
       "      <th>locality_name</th>\n",
       "      <th>airports_nearest</th>\n",
       "      <th>cityCenters_nearest</th>\n",
       "      <th>parks_around3000</th>\n",
       "      <th>parks_nearest</th>\n",
       "      <th>ponds_around3000</th>\n",
       "      <th>ponds_nearest</th>\n",
       "      <th>days_exposition</th>\n",
       "    </tr>\n",
       "  </thead>\n",
       "  <tbody>\n",
       "    <tr>\n",
       "      <th>17896</th>\n",
       "      <td>10</td>\n",
       "      <td>11,100,000.00</td>\n",
       "      <td>71.00</td>\n",
       "      <td>2017-08-01T00:00:00</td>\n",
       "      <td>2</td>\n",
       "      <td>3.00</td>\n",
       "      <td>8.00</td>\n",
       "      <td>34.00</td>\n",
       "      <td>7</td>\n",
       "      <td>NaN</td>\n",
       "      <td>False</td>\n",
       "      <td>False</td>\n",
       "      <td>17.00</td>\n",
       "      <td>0.00</td>\n",
       "      <td>Санкт-Петербург</td>\n",
       "      <td>23,564.00</td>\n",
       "      <td>5,160.00</td>\n",
       "      <td>0.00</td>\n",
       "      <td>NaN</td>\n",
       "      <td>1.00</td>\n",
       "      <td>814.00</td>\n",
       "      <td>107.00</td>\n",
       "    </tr>\n",
       "  </tbody>\n",
       "</table>\n",
       "</div>"
      ],
      "text/plain": [
       "       total_images    last_price  total_area first_day_exposition  rooms  \\\n",
       "17896            10 11,100,000.00       71.00  2017-08-01T00:00:00      2   \n",
       "\n",
       "       ceiling_height  floors_total  living_area  floor is_apartment  studio  \\\n",
       "17896            3.00          8.00        34.00      7          NaN   False   \n",
       "\n",
       "       open_plan  kitchen_area  balcony    locality_name  airports_nearest  \\\n",
       "17896      False         17.00     0.00  Санкт-Петербург         23,564.00   \n",
       "\n",
       "       cityCenters_nearest  parks_around3000  parks_nearest  ponds_around3000  \\\n",
       "17896             5,160.00              0.00            NaN              1.00   \n",
       "\n",
       "       ponds_nearest  days_exposition  \n",
       "17896         814.00           107.00  "
      ]
     },
     "execution_count": 5,
     "metadata": {},
     "output_type": "execute_result"
    }
   ],
   "source": [
    "df.sample()"
   ]
  },
  {
   "cell_type": "code",
   "execution_count": 6,
   "metadata": {},
   "outputs": [
    {
     "data": {
      "text/plain": [
       "0"
      ]
     },
     "execution_count": 6,
     "metadata": {},
     "output_type": "execute_result"
    }
   ],
   "source": [
    "df.duplicated().sum()"
   ]
  },
  {
   "cell_type": "markdown",
   "metadata": {},
   "source": [
    "### Вывод"
   ]
  },
  {
   "cell_type": "markdown",
   "metadata": {},
   "source": [
    "По общей картинке можно обозначить выбивающиеся данные. Например минимальная (12,190, как будто продают просто долю в кварте) цена и максимальная (763000000) цена за квартиру, есть минимальное число до аэропорта равное = 0(врядли квартира находится на территории аэропорта), есть минимальная высота потолков 1 метр и максимальная высота 100 метров(здесь явно какая- то ошибка), максимальное число комнат 19(не очень правдоподобно для квартры)и минимальное 0(но может быть имели ввиду студию), минимальная жилая прощадь равная 2 метрам(тоже не похоже на правду), минимальная квадратура для кухни 1,3 метра(если только не имели ввиду просто,где стоит плита). В данных присутствуют пропуски, дубликатов нет."
   ]
  },
  {
   "cell_type": "markdown",
   "metadata": {},
   "source": [
    "## Предобработка данных"
   ]
  },
  {
   "cell_type": "markdown",
   "metadata": {},
   "source": [
    "Определите и изучите пропущенные значения:\n",
    "\n",
    "-Для некоторых пропущенных значений можно предположить логичную замену. Например, если человек не указал число балконов — скорее всего, их нет. Такие пропуски правильно заменить на 0. Для других типов данных нет подходящего значения на замену. В этом случае правильно оставить эти значения пустыми. Отсутствие значения — тоже важный сигнал, который не нужно прятать.\n",
    "\n",
    "-Заполните пропуски, где это уместно. Опишите, почему вы решили заполнить пропуски именно в этих столбцах и как выбрали значения.\n",
    "Укажите причины, которые могли привести к пропускам в данных.\n",
    "\n",
    "-Приведите данные к нужным типам:\n",
    "Поясните, в каких столбцах нужно изменить тип данных и почему."
   ]
  },
  {
   "cell_type": "code",
   "execution_count": 7,
   "metadata": {},
   "outputs": [
    {
     "data": {
      "text/plain": [
       "total_images                0\n",
       "open_plan                   0\n",
       "floor                       0\n",
       "rooms                       0\n",
       "studio                      0\n",
       "total_area                  0\n",
       "last_price                  0\n",
       "first_day_exposition        0\n",
       "locality_name              49\n",
       "floors_total               86\n",
       "living_area              1903\n",
       "kitchen_area             2278\n",
       "days_exposition          3181\n",
       "ponds_around3000         5518\n",
       "parks_around3000         5518\n",
       "cityCenters_nearest      5519\n",
       "airports_nearest         5542\n",
       "ceiling_height           9195\n",
       "balcony                 11519\n",
       "ponds_nearest           14589\n",
       "parks_nearest           15620\n",
       "is_apartment            20924\n",
       "dtype: int64"
      ]
     },
     "execution_count": 7,
     "metadata": {},
     "output_type": "execute_result"
    }
   ],
   "source": [
    "df.isnull().sum().sort_values()#ппроверим на пропуски"
   ]
  },
  {
   "cell_type": "markdown",
   "metadata": {},
   "source": [
    "***Посмотрим на пропуски в процентах. Много пропусков в значении апартаменты, возможно продаыцы не указывают, что бы успешнее продать, так как они без возможности прописки, скорее всего в целях привлечения, а говорят уже по факту. В растоянии до парков и водоемов тоже не мало пропусков, либо продавец незнает, либо намерянно не указывает. В высоте потолков возможно не знает точной цифры***"
   ]
  },
  {
   "cell_type": "code",
   "execution_count": 8,
   "metadata": {},
   "outputs": [
    {
     "data": {
      "text/plain": [
       "total_images            0.00\n",
       "open_plan               0.00\n",
       "floor                   0.00\n",
       "rooms                   0.00\n",
       "studio                  0.00\n",
       "total_area              0.00\n",
       "last_price              0.00\n",
       "first_day_exposition    0.00\n",
       "locality_name           0.21\n",
       "floors_total            0.36\n",
       "living_area             8.03\n",
       "kitchen_area            9.61\n",
       "days_exposition        13.42\n",
       "ponds_around3000       23.28\n",
       "parks_around3000       23.28\n",
       "cityCenters_nearest    23.29\n",
       "airports_nearest       23.38\n",
       "ceiling_height         38.80\n",
       "balcony                48.61\n",
       "ponds_nearest          61.56\n",
       "parks_nearest          65.91\n",
       "is_apartment           88.29\n",
       "dtype: float64"
      ]
     },
     "execution_count": 8,
     "metadata": {},
     "output_type": "execute_result"
    }
   ],
   "source": [
    "df.isnull().sum().sort_values()/df.shape[0]*100"
   ]
  },
  {
   "cell_type": "code",
   "execution_count": 9,
   "metadata": {},
   "outputs": [
    {
     "data": {
      "text/html": [
       "<div>\n",
       "<style scoped>\n",
       "    .dataframe tbody tr th:only-of-type {\n",
       "        vertical-align: middle;\n",
       "    }\n",
       "\n",
       "    .dataframe tbody tr th {\n",
       "        vertical-align: top;\n",
       "    }\n",
       "\n",
       "    .dataframe thead th {\n",
       "        text-align: right;\n",
       "    }\n",
       "</style>\n",
       "<table border=\"1\" class=\"dataframe\">\n",
       "  <thead>\n",
       "    <tr style=\"text-align: right;\">\n",
       "      <th></th>\n",
       "      <th>total_images</th>\n",
       "      <th>last_price</th>\n",
       "      <th>total_area</th>\n",
       "      <th>first_day_exposition</th>\n",
       "      <th>rooms</th>\n",
       "      <th>ceiling_height</th>\n",
       "      <th>floors_total</th>\n",
       "      <th>living_area</th>\n",
       "      <th>floor</th>\n",
       "      <th>is_apartment</th>\n",
       "      <th>studio</th>\n",
       "      <th>open_plan</th>\n",
       "      <th>kitchen_area</th>\n",
       "      <th>balcony</th>\n",
       "      <th>locality_name</th>\n",
       "      <th>airports_nearest</th>\n",
       "      <th>cityCenters_nearest</th>\n",
       "      <th>parks_around3000</th>\n",
       "      <th>parks_nearest</th>\n",
       "      <th>ponds_around3000</th>\n",
       "      <th>ponds_nearest</th>\n",
       "      <th>days_exposition</th>\n",
       "    </tr>\n",
       "  </thead>\n",
       "  <tbody>\n",
       "    <tr>\n",
       "      <th>0</th>\n",
       "      <td>20</td>\n",
       "      <td>13,000,000.00</td>\n",
       "      <td>108.00</td>\n",
       "      <td>2019-03-07T00:00:00</td>\n",
       "      <td>3</td>\n",
       "      <td>2.70</td>\n",
       "      <td>16.00</td>\n",
       "      <td>51.00</td>\n",
       "      <td>8</td>\n",
       "      <td>NaN</td>\n",
       "      <td>False</td>\n",
       "      <td>False</td>\n",
       "      <td>25.00</td>\n",
       "      <td>NaN</td>\n",
       "      <td>Санкт-Петербург</td>\n",
       "      <td>18,863.00</td>\n",
       "      <td>16,028.00</td>\n",
       "      <td>1.00</td>\n",
       "      <td>482.00</td>\n",
       "      <td>2.00</td>\n",
       "      <td>755.00</td>\n",
       "      <td>NaN</td>\n",
       "    </tr>\n",
       "    <tr>\n",
       "      <th>1</th>\n",
       "      <td>7</td>\n",
       "      <td>3,350,000.00</td>\n",
       "      <td>40.40</td>\n",
       "      <td>2018-12-04T00:00:00</td>\n",
       "      <td>1</td>\n",
       "      <td>NaN</td>\n",
       "      <td>11.00</td>\n",
       "      <td>18.60</td>\n",
       "      <td>1</td>\n",
       "      <td>NaN</td>\n",
       "      <td>False</td>\n",
       "      <td>False</td>\n",
       "      <td>11.00</td>\n",
       "      <td>2.00</td>\n",
       "      <td>посёлок Шушары</td>\n",
       "      <td>12,817.00</td>\n",
       "      <td>18,603.00</td>\n",
       "      <td>0.00</td>\n",
       "      <td>NaN</td>\n",
       "      <td>0.00</td>\n",
       "      <td>NaN</td>\n",
       "      <td>81.00</td>\n",
       "    </tr>\n",
       "    <tr>\n",
       "      <th>2</th>\n",
       "      <td>10</td>\n",
       "      <td>5,196,000.00</td>\n",
       "      <td>56.00</td>\n",
       "      <td>2015-08-20T00:00:00</td>\n",
       "      <td>2</td>\n",
       "      <td>NaN</td>\n",
       "      <td>5.00</td>\n",
       "      <td>34.30</td>\n",
       "      <td>4</td>\n",
       "      <td>NaN</td>\n",
       "      <td>False</td>\n",
       "      <td>False</td>\n",
       "      <td>8.30</td>\n",
       "      <td>0.00</td>\n",
       "      <td>Санкт-Петербург</td>\n",
       "      <td>21,741.00</td>\n",
       "      <td>13,933.00</td>\n",
       "      <td>1.00</td>\n",
       "      <td>90.00</td>\n",
       "      <td>2.00</td>\n",
       "      <td>574.00</td>\n",
       "      <td>558.00</td>\n",
       "    </tr>\n",
       "    <tr>\n",
       "      <th>3</th>\n",
       "      <td>0</td>\n",
       "      <td>64,900,000.00</td>\n",
       "      <td>159.00</td>\n",
       "      <td>2015-07-24T00:00:00</td>\n",
       "      <td>3</td>\n",
       "      <td>NaN</td>\n",
       "      <td>14.00</td>\n",
       "      <td>NaN</td>\n",
       "      <td>9</td>\n",
       "      <td>NaN</td>\n",
       "      <td>False</td>\n",
       "      <td>False</td>\n",
       "      <td>NaN</td>\n",
       "      <td>0.00</td>\n",
       "      <td>Санкт-Петербург</td>\n",
       "      <td>28,098.00</td>\n",
       "      <td>6,800.00</td>\n",
       "      <td>2.00</td>\n",
       "      <td>84.00</td>\n",
       "      <td>3.00</td>\n",
       "      <td>234.00</td>\n",
       "      <td>424.00</td>\n",
       "    </tr>\n",
       "    <tr>\n",
       "      <th>4</th>\n",
       "      <td>2</td>\n",
       "      <td>10,000,000.00</td>\n",
       "      <td>100.00</td>\n",
       "      <td>2018-06-19T00:00:00</td>\n",
       "      <td>2</td>\n",
       "      <td>3.03</td>\n",
       "      <td>14.00</td>\n",
       "      <td>32.00</td>\n",
       "      <td>13</td>\n",
       "      <td>NaN</td>\n",
       "      <td>False</td>\n",
       "      <td>False</td>\n",
       "      <td>41.00</td>\n",
       "      <td>NaN</td>\n",
       "      <td>Санкт-Петербург</td>\n",
       "      <td>31,856.00</td>\n",
       "      <td>8,098.00</td>\n",
       "      <td>2.00</td>\n",
       "      <td>112.00</td>\n",
       "      <td>1.00</td>\n",
       "      <td>48.00</td>\n",
       "      <td>121.00</td>\n",
       "    </tr>\n",
       "  </tbody>\n",
       "</table>\n",
       "</div>"
      ],
      "text/plain": [
       "   total_images    last_price  total_area first_day_exposition  rooms  \\\n",
       "0            20 13,000,000.00      108.00  2019-03-07T00:00:00      3   \n",
       "1             7  3,350,000.00       40.40  2018-12-04T00:00:00      1   \n",
       "2            10  5,196,000.00       56.00  2015-08-20T00:00:00      2   \n",
       "3             0 64,900,000.00      159.00  2015-07-24T00:00:00      3   \n",
       "4             2 10,000,000.00      100.00  2018-06-19T00:00:00      2   \n",
       "\n",
       "   ceiling_height  floors_total  living_area  floor is_apartment  studio  \\\n",
       "0            2.70         16.00        51.00      8          NaN   False   \n",
       "1             NaN         11.00        18.60      1          NaN   False   \n",
       "2             NaN          5.00        34.30      4          NaN   False   \n",
       "3             NaN         14.00          NaN      9          NaN   False   \n",
       "4            3.03         14.00        32.00     13          NaN   False   \n",
       "\n",
       "   open_plan  kitchen_area  balcony    locality_name  airports_nearest  \\\n",
       "0      False         25.00      NaN  Санкт-Петербург         18,863.00   \n",
       "1      False         11.00     2.00   посёлок Шушары         12,817.00   \n",
       "2      False          8.30     0.00  Санкт-Петербург         21,741.00   \n",
       "3      False           NaN     0.00  Санкт-Петербург         28,098.00   \n",
       "4      False         41.00      NaN  Санкт-Петербург         31,856.00   \n",
       "\n",
       "   cityCenters_nearest  parks_around3000  parks_nearest  ponds_around3000  \\\n",
       "0            16,028.00              1.00         482.00              2.00   \n",
       "1            18,603.00              0.00            NaN              0.00   \n",
       "2            13,933.00              1.00          90.00              2.00   \n",
       "3             6,800.00              2.00          84.00              3.00   \n",
       "4             8,098.00              2.00         112.00              1.00   \n",
       "\n",
       "   ponds_nearest  days_exposition  \n",
       "0         755.00              NaN  \n",
       "1            NaN            81.00  \n",
       "2         574.00           558.00  \n",
       "3         234.00           424.00  \n",
       "4          48.00           121.00  "
      ]
     },
     "execution_count": 9,
     "metadata": {},
     "output_type": "execute_result"
    }
   ],
   "source": [
    "df.head()"
   ]
  },
  {
   "cell_type": "code",
   "execution_count": 10,
   "metadata": {},
   "outputs": [
    {
     "data": {
      "text/plain": [
       "1"
      ]
     },
     "execution_count": 10,
     "metadata": {},
     "output_type": "execute_result"
    }
   ],
   "source": [
    "#столбцы 'open_plan' и 'studio', выглядят одинаково\n",
    "df['open_plan'].unique().sum()"
   ]
  },
  {
   "cell_type": "code",
   "execution_count": 11,
   "metadata": {},
   "outputs": [
    {
     "data": {
      "text/plain": [
       "1"
      ]
     },
     "execution_count": 11,
     "metadata": {},
     "output_type": "execute_result"
    }
   ],
   "source": [
    "df['studio'].unique().sum()#видимо имели ввиду одно и тоже"
   ]
  },
  {
   "cell_type": "code",
   "execution_count": 12,
   "metadata": {},
   "outputs": [
    {
     "data": {
      "text/html": [
       "<div>\n",
       "<style scoped>\n",
       "    .dataframe tbody tr th:only-of-type {\n",
       "        vertical-align: middle;\n",
       "    }\n",
       "\n",
       "    .dataframe tbody tr th {\n",
       "        vertical-align: top;\n",
       "    }\n",
       "\n",
       "    .dataframe thead th {\n",
       "        text-align: right;\n",
       "    }\n",
       "</style>\n",
       "<table border=\"1\" class=\"dataframe\">\n",
       "  <thead>\n",
       "    <tr style=\"text-align: right;\">\n",
       "      <th></th>\n",
       "      <th>total_images</th>\n",
       "      <th>last_price</th>\n",
       "      <th>total_area</th>\n",
       "      <th>first_day_exposition</th>\n",
       "      <th>rooms</th>\n",
       "      <th>ceiling_height</th>\n",
       "      <th>floors_total</th>\n",
       "      <th>living_area</th>\n",
       "      <th>floor</th>\n",
       "      <th>is_apartment</th>\n",
       "      <th>studio</th>\n",
       "      <th>open_plan</th>\n",
       "      <th>kitchen_area</th>\n",
       "      <th>balcony</th>\n",
       "      <th>locality_name</th>\n",
       "      <th>airports_nearest</th>\n",
       "      <th>cityCenters_nearest</th>\n",
       "      <th>parks_around3000</th>\n",
       "      <th>parks_nearest</th>\n",
       "      <th>ponds_around3000</th>\n",
       "      <th>ponds_nearest</th>\n",
       "      <th>days_exposition</th>\n",
       "    </tr>\n",
       "  </thead>\n",
       "  <tbody>\n",
       "    <tr>\n",
       "      <th>0</th>\n",
       "      <td>20</td>\n",
       "      <td>13,000,000.00</td>\n",
       "      <td>108.00</td>\n",
       "      <td>2019-03-07T00:00:00</td>\n",
       "      <td>3</td>\n",
       "      <td>2.70</td>\n",
       "      <td>16.00</td>\n",
       "      <td>51.00</td>\n",
       "      <td>8</td>\n",
       "      <td>NaN</td>\n",
       "      <td>False</td>\n",
       "      <td>False</td>\n",
       "      <td>25.00</td>\n",
       "      <td>NaN</td>\n",
       "      <td>Санкт-Петербург</td>\n",
       "      <td>18,863.00</td>\n",
       "      <td>16,028.00</td>\n",
       "      <td>1.00</td>\n",
       "      <td>482.00</td>\n",
       "      <td>2.00</td>\n",
       "      <td>755.00</td>\n",
       "      <td>NaN</td>\n",
       "    </tr>\n",
       "    <tr>\n",
       "      <th>1</th>\n",
       "      <td>7</td>\n",
       "      <td>3,350,000.00</td>\n",
       "      <td>40.40</td>\n",
       "      <td>2018-12-04T00:00:00</td>\n",
       "      <td>1</td>\n",
       "      <td>NaN</td>\n",
       "      <td>11.00</td>\n",
       "      <td>18.60</td>\n",
       "      <td>1</td>\n",
       "      <td>NaN</td>\n",
       "      <td>False</td>\n",
       "      <td>False</td>\n",
       "      <td>11.00</td>\n",
       "      <td>2.00</td>\n",
       "      <td>посёлок Шушары</td>\n",
       "      <td>12,817.00</td>\n",
       "      <td>18,603.00</td>\n",
       "      <td>0.00</td>\n",
       "      <td>NaN</td>\n",
       "      <td>0.00</td>\n",
       "      <td>NaN</td>\n",
       "      <td>81.00</td>\n",
       "    </tr>\n",
       "    <tr>\n",
       "      <th>2</th>\n",
       "      <td>10</td>\n",
       "      <td>5,196,000.00</td>\n",
       "      <td>56.00</td>\n",
       "      <td>2015-08-20T00:00:00</td>\n",
       "      <td>2</td>\n",
       "      <td>NaN</td>\n",
       "      <td>5.00</td>\n",
       "      <td>34.30</td>\n",
       "      <td>4</td>\n",
       "      <td>NaN</td>\n",
       "      <td>False</td>\n",
       "      <td>False</td>\n",
       "      <td>8.30</td>\n",
       "      <td>0.00</td>\n",
       "      <td>Санкт-Петербург</td>\n",
       "      <td>21,741.00</td>\n",
       "      <td>13,933.00</td>\n",
       "      <td>1.00</td>\n",
       "      <td>90.00</td>\n",
       "      <td>2.00</td>\n",
       "      <td>574.00</td>\n",
       "      <td>558.00</td>\n",
       "    </tr>\n",
       "    <tr>\n",
       "      <th>3</th>\n",
       "      <td>0</td>\n",
       "      <td>64,900,000.00</td>\n",
       "      <td>159.00</td>\n",
       "      <td>2015-07-24T00:00:00</td>\n",
       "      <td>3</td>\n",
       "      <td>NaN</td>\n",
       "      <td>14.00</td>\n",
       "      <td>NaN</td>\n",
       "      <td>9</td>\n",
       "      <td>NaN</td>\n",
       "      <td>False</td>\n",
       "      <td>False</td>\n",
       "      <td>NaN</td>\n",
       "      <td>0.00</td>\n",
       "      <td>Санкт-Петербург</td>\n",
       "      <td>28,098.00</td>\n",
       "      <td>6,800.00</td>\n",
       "      <td>2.00</td>\n",
       "      <td>84.00</td>\n",
       "      <td>3.00</td>\n",
       "      <td>234.00</td>\n",
       "      <td>424.00</td>\n",
       "    </tr>\n",
       "    <tr>\n",
       "      <th>4</th>\n",
       "      <td>2</td>\n",
       "      <td>10,000,000.00</td>\n",
       "      <td>100.00</td>\n",
       "      <td>2018-06-19T00:00:00</td>\n",
       "      <td>2</td>\n",
       "      <td>3.03</td>\n",
       "      <td>14.00</td>\n",
       "      <td>32.00</td>\n",
       "      <td>13</td>\n",
       "      <td>NaN</td>\n",
       "      <td>False</td>\n",
       "      <td>False</td>\n",
       "      <td>41.00</td>\n",
       "      <td>NaN</td>\n",
       "      <td>Санкт-Петербург</td>\n",
       "      <td>31,856.00</td>\n",
       "      <td>8,098.00</td>\n",
       "      <td>2.00</td>\n",
       "      <td>112.00</td>\n",
       "      <td>1.00</td>\n",
       "      <td>48.00</td>\n",
       "      <td>121.00</td>\n",
       "    </tr>\n",
       "  </tbody>\n",
       "</table>\n",
       "</div>"
      ],
      "text/plain": [
       "   total_images    last_price  total_area first_day_exposition  rooms  \\\n",
       "0            20 13,000,000.00      108.00  2019-03-07T00:00:00      3   \n",
       "1             7  3,350,000.00       40.40  2018-12-04T00:00:00      1   \n",
       "2            10  5,196,000.00       56.00  2015-08-20T00:00:00      2   \n",
       "3             0 64,900,000.00      159.00  2015-07-24T00:00:00      3   \n",
       "4             2 10,000,000.00      100.00  2018-06-19T00:00:00      2   \n",
       "\n",
       "   ceiling_height  floors_total  living_area  floor is_apartment  studio  \\\n",
       "0            2.70         16.00        51.00      8          NaN   False   \n",
       "1             NaN         11.00        18.60      1          NaN   False   \n",
       "2             NaN          5.00        34.30      4          NaN   False   \n",
       "3             NaN         14.00          NaN      9          NaN   False   \n",
       "4            3.03         14.00        32.00     13          NaN   False   \n",
       "\n",
       "   open_plan  kitchen_area  balcony    locality_name  airports_nearest  \\\n",
       "0      False         25.00      NaN  Санкт-Петербург         18,863.00   \n",
       "1      False         11.00     2.00   посёлок Шушары         12,817.00   \n",
       "2      False          8.30     0.00  Санкт-Петербург         21,741.00   \n",
       "3      False           NaN     0.00  Санкт-Петербург         28,098.00   \n",
       "4      False         41.00      NaN  Санкт-Петербург         31,856.00   \n",
       "\n",
       "   cityCenters_nearest  parks_around3000  parks_nearest  ponds_around3000  \\\n",
       "0            16,028.00              1.00         482.00              2.00   \n",
       "1            18,603.00              0.00            NaN              0.00   \n",
       "2            13,933.00              1.00          90.00              2.00   \n",
       "3             6,800.00              2.00          84.00              3.00   \n",
       "4             8,098.00              2.00         112.00              1.00   \n",
       "\n",
       "   ponds_nearest  days_exposition  \n",
       "0         755.00              NaN  \n",
       "1            NaN            81.00  \n",
       "2         574.00           558.00  \n",
       "3         234.00           424.00  \n",
       "4          48.00           121.00  "
      ]
     },
     "execution_count": 12,
     "metadata": {},
     "output_type": "execute_result"
    }
   ],
   "source": [
    "df.head()#проверим"
   ]
  },
  {
   "cell_type": "code",
   "execution_count": 13,
   "metadata": {},
   "outputs": [
    {
     "data": {
      "text/plain": [
       "365"
      ]
     },
     "execution_count": 13,
     "metadata": {},
     "output_type": "execute_result"
    }
   ],
   "source": [
    "#посмотрим что с городами\n",
    "len(df['locality_name'].unique())"
   ]
  },
  {
   "cell_type": "code",
   "execution_count": 14,
   "metadata": {},
   "outputs": [
    {
     "data": {
      "text/plain": [
       "array(['Санкт-Петербург', 'посёлок Шушары', 'городской посёлок Янино-1',\n",
       "       'посёлок Парголово', 'посёлок Мурино', 'Ломоносов', 'Сертолово',\n",
       "       'Петергоф', 'Пушкин', 'деревня Кудрово', 'Коммунар', 'Колпино',\n",
       "       'поселок городского типа Красный Бор', 'Гатчина', 'поселок Мурино',\n",
       "       'деревня Фёдоровское', 'Выборг', 'Кронштадт', 'Кировск',\n",
       "       'деревня Новое Девяткино', 'посёлок Металлострой',\n",
       "       'посёлок городского типа Лебяжье',\n",
       "       'посёлок городского типа Сиверский', 'поселок Молодцово',\n",
       "       'поселок городского типа Кузьмоловский',\n",
       "       'садовое товарищество Новая Ропша', 'Павловск',\n",
       "       'деревня Пикколово', 'Всеволожск', 'Волхов', 'Кингисепп',\n",
       "       'Приозерск', 'Сестрорецк', 'деревня Куттузи', 'посёлок Аннино',\n",
       "       'поселок городского типа Ефимовский', 'посёлок Плодовое',\n",
       "       'деревня Заклинье', 'поселок Торковичи', 'поселок Первомайское',\n",
       "       'Красное Село', 'посёлок Понтонный', 'Сясьстрой', 'деревня Старая',\n",
       "       'деревня Лесколово', 'посёлок Новый Свет', 'Сланцы',\n",
       "       'село Путилово', 'Ивангород', 'Мурино', 'Шлиссельбург',\n",
       "       'Никольское', 'Зеленогорск', 'Сосновый Бор', 'поселок Новый Свет',\n",
       "       'деревня Оржицы', 'деревня Кальтино', 'Кудрово',\n",
       "       'поселок Романовка', 'посёлок Бугры', 'поселок Бугры',\n",
       "       'поселок городского типа Рощино', 'Кириши', 'Луга', 'Волосово',\n",
       "       'Отрадное', 'село Павлово', 'поселок Оредеж', 'село Копорье',\n",
       "       'посёлок городского типа Красный Бор', 'посёлок Молодёжное',\n",
       "       'Тихвин', 'посёлок Победа', 'деревня Нурма',\n",
       "       'поселок городского типа Синявино', 'Тосно',\n",
       "       'посёлок городского типа Кузьмоловский', 'посёлок Стрельна',\n",
       "       'Бокситогорск', 'посёлок Александровская', 'деревня Лопухинка',\n",
       "       'Пикалёво', 'поселок Терволово',\n",
       "       'поселок городского типа Советский', 'Подпорожье',\n",
       "       'посёлок Петровское', 'посёлок городского типа Токсово',\n",
       "       'поселок Сельцо', 'посёлок городского типа Вырица',\n",
       "       'деревня Кипень', 'деревня Келози', 'деревня Вартемяги',\n",
       "       'посёлок Тельмана', 'поселок Севастьяново',\n",
       "       'городской поселок Большая Ижора', nan,\n",
       "       'городской посёлок Павлово', 'деревня Агалатово',\n",
       "       'посёлок Новогорелово', 'городской посёлок Лесогорский',\n",
       "       'деревня Лаголово', 'поселок Цвелодубово',\n",
       "       'поселок городского типа Рахья', 'поселок городского типа Вырица',\n",
       "       'деревня Белогорка', 'поселок Заводской',\n",
       "       'городской посёлок Новоселье', 'деревня Большие Колпаны',\n",
       "       'деревня Горбунки', 'деревня Батово', 'деревня Заневка',\n",
       "       'деревня Иссад', 'Приморск', 'городской посёлок Фёдоровское',\n",
       "       'деревня Мистолово', 'Новая Ладога', 'поселок Зимитицы',\n",
       "       'поселок Барышево', 'деревня Разметелево',\n",
       "       'поселок городского типа имени Свердлова', 'деревня Пеники',\n",
       "       'поселок Рябово', 'деревня Пудомяги', 'поселок станции Корнево',\n",
       "       'деревня Низино', 'деревня Бегуницы', 'посёлок Поляны',\n",
       "       'городской посёлок Мга', 'поселок Елизаветино',\n",
       "       'посёлок городского типа Кузнечное', 'деревня Колтуши',\n",
       "       'поселок Запорожское', 'посёлок городского типа Рощино',\n",
       "       'деревня Гостилицы', 'деревня Малое Карлино',\n",
       "       'посёлок Мичуринское', 'посёлок городского типа имени Морозова',\n",
       "       'посёлок Песочный', 'посёлок Сосново', 'деревня Аро',\n",
       "       'поселок Ильичёво', 'посёлок городского типа Тайцы',\n",
       "       'деревня Малое Верево', 'деревня Извара', 'поселок станции Вещево',\n",
       "       'село Паша', 'деревня Калитино',\n",
       "       'посёлок городского типа Ульяновка', 'деревня Чудской Бор',\n",
       "       'поселок городского типа Дубровка', 'деревня Мины',\n",
       "       'поселок Войсковицы', 'посёлок городского типа имени Свердлова',\n",
       "       'деревня Коркино', 'посёлок Ропша',\n",
       "       'поселок городского типа Приладожский', 'посёлок Щеглово',\n",
       "       'посёлок Гаврилово', 'Лодейное Поле', 'деревня Рабитицы',\n",
       "       'поселок городского типа Никольский', 'деревня Кузьмолово',\n",
       "       'деревня Малые Колпаны', 'поселок Тельмана',\n",
       "       'посёлок Петро-Славянка', 'городской посёлок Назия',\n",
       "       'посёлок Репино', 'посёлок Ильичёво', 'поселок Углово',\n",
       "       'поселок Старая Малукса', 'садовое товарищество Рахья',\n",
       "       'поселок Аннино', 'поселок Победа', 'деревня Меньково',\n",
       "       'деревня Старые Бегуницы', 'посёлок Сапёрный', 'поселок Семрино',\n",
       "       'поселок Гаврилово', 'поселок Глажево', 'поселок Кобринское',\n",
       "       'деревня Гарболово', 'деревня Юкки',\n",
       "       'поселок станции Приветнинское', 'деревня Мануйлово',\n",
       "       'деревня Пчева', 'поселок Поляны', 'поселок Цвылёво',\n",
       "       'поселок Мельниково', 'посёлок Пудость', 'посёлок Усть-Луга',\n",
       "       'Светогорск', 'Любань', 'поселок Селезнёво',\n",
       "       'поселок городского типа Рябово', 'Каменногорск', 'деревня Кривко',\n",
       "       'поселок Глебычево', 'деревня Парицы', 'поселок Жилпосёлок',\n",
       "       'посёлок городского типа Мга', 'городской поселок Янино-1',\n",
       "       'посёлок Войскорово', 'село Никольское', 'посёлок Терволово',\n",
       "       'поселок Стеклянный', 'посёлок городского типа Важины',\n",
       "       'посёлок Мыза-Ивановка', 'село Русско-Высоцкое',\n",
       "       'поселок городского типа Лебяжье',\n",
       "       'поселок городского типа Форносово', 'село Старая Ладога',\n",
       "       'поселок Житково', 'городской посёлок Виллози', 'деревня Лампово',\n",
       "       'деревня Шпаньково', 'деревня Лаврики', 'посёлок Сумино',\n",
       "       'посёлок Возрождение', 'деревня Старосиверская',\n",
       "       'посёлок Кикерино', 'поселок Возрождение',\n",
       "       'деревня Старое Хинколово', 'посёлок Пригородный',\n",
       "       'посёлок Торфяное', 'городской посёлок Будогощь',\n",
       "       'поселок Суходолье', 'поселок Красная Долина', 'деревня Хапо-Ое',\n",
       "       'поселок городского типа Дружная Горка', 'поселок Лисий Нос',\n",
       "       'деревня Яльгелево', 'посёлок Стеклянный', 'село Рождествено',\n",
       "       'деревня Старополье', 'посёлок Левашово', 'деревня Сяськелево',\n",
       "       'деревня Камышовка',\n",
       "       'садоводческое некоммерческое товарищество Лесная Поляна',\n",
       "       'деревня Хязельки', 'поселок Жилгородок',\n",
       "       'посёлок городского типа Павлово', 'деревня Ялгино',\n",
       "       'поселок Новый Учхоз', 'городской посёлок Рощино',\n",
       "       'поселок Гончарово', 'поселок Почап', 'посёлок Сапёрное',\n",
       "       'посёлок Платформа 69-й километр', 'поселок Каложицы',\n",
       "       'деревня Фалилеево', 'деревня Пельгора',\n",
       "       'поселок городского типа Лесогорский', 'деревня Торошковичи',\n",
       "       'посёлок Белоостров', 'посёлок Алексеевка', 'поселок Серебрянский',\n",
       "       'поселок Лукаши', 'поселок Петровское', 'деревня Щеглово',\n",
       "       'поселок Мичуринское', 'деревня Тарасово', 'поселок Кингисеппский',\n",
       "       'посёлок при железнодорожной станции Вещево', 'поселок Ушаки',\n",
       "       'деревня Котлы', 'деревня Сижно', 'деревня Торосово',\n",
       "       'посёлок Форт Красная Горка', 'поселок городского типа Токсово',\n",
       "       'деревня Новолисино', 'посёлок станции Громово', 'деревня Глинка',\n",
       "       'посёлок Мельниково', 'поселок городского типа Назия',\n",
       "       'деревня Старая Пустошь', 'поселок Коммунары', 'поселок Починок',\n",
       "       'посёлок городского типа Вознесенье', 'деревня Разбегаево',\n",
       "       'посёлок городского типа Рябово', 'поселок Гладкое',\n",
       "       'посёлок при железнодорожной станции Приветнинское',\n",
       "       'поселок Тёсово-4', 'посёлок Жилгородок', 'деревня Бор',\n",
       "       'посёлок Коробицыно', 'деревня Большая Вруда', 'деревня Курковицы',\n",
       "       'посёлок Лисий Нос', 'городской посёлок Советский',\n",
       "       'посёлок Кобралово', 'деревня Суоранда', 'поселок Кобралово',\n",
       "       'поселок городского типа Кондратьево',\n",
       "       'коттеджный поселок Счастье', 'поселок Любань', 'деревня Реброво',\n",
       "       'деревня Зимитицы', 'деревня Тойворово', 'поселок Семиозерье',\n",
       "       'поселок Лесное', 'поселок Совхозный', 'поселок Усть-Луга',\n",
       "       'посёлок Ленинское', 'посёлок Суйда',\n",
       "       'посёлок городского типа Форносово', 'деревня Нижние Осельки',\n",
       "       'посёлок станции Свирь', 'поселок Перово', 'Высоцк',\n",
       "       'поселок Гарболово', 'село Шум', 'поселок Котельский',\n",
       "       'поселок станции Лужайка', 'деревня Большая Пустомержа',\n",
       "       'поселок Красносельское', 'деревня Вахнова Кара', 'деревня Пижма',\n",
       "       'коттеджный поселок Кивеннапа Север', 'поселок Коробицыно',\n",
       "       'поселок Ромашки', 'посёлок Перово', 'деревня Каськово',\n",
       "       'деревня Куровицы', 'посёлок Плоское', 'поселок Сумино',\n",
       "       'поселок городского типа Большая Ижора', 'поселок Кирпичное',\n",
       "       'деревня Ям-Тесово', 'деревня Раздолье', 'деревня Терпилицы',\n",
       "       'посёлок Шугозеро', 'деревня Ваганово', 'поселок Пушное',\n",
       "       'садовое товарищество Садко', 'посёлок Усть-Ижора',\n",
       "       'деревня Выскатка', 'городской посёлок Свирьстрой',\n",
       "       'поселок Громово', 'деревня Кисельня', 'посёлок Старая Малукса',\n",
       "       'деревня Трубников Бор', 'поселок Калитино',\n",
       "       'посёлок Высокоключевой', 'садовое товарищество Приладожский',\n",
       "       'посёлок Пансионат Зелёный Бор', 'деревня Ненимяки',\n",
       "       'поселок Пансионат Зелёный Бор', 'деревня Снегирёвка',\n",
       "       'деревня Рапполово', 'деревня Пустынка', 'поселок Рабитицы',\n",
       "       'деревня Большой Сабск', 'деревня Русско', 'деревня Лупполово',\n",
       "       'деревня Большое Рейзино', 'деревня Малая Романовка',\n",
       "       'поселок Дружноселье', 'поселок Пчевжа', 'поселок Володарское',\n",
       "       'деревня Нижняя', 'коттеджный посёлок Лесное', 'деревня Тихковицы',\n",
       "       'деревня Борисова Грива', 'посёлок Дзержинского'], dtype=object)"
      ]
     },
     "execution_count": 14,
     "metadata": {},
     "output_type": "execute_result"
    }
   ],
   "source": [
    "df['locality_name'].unique()#на первый взгляд все в одном регистре, дубликаты мы проверили раннее, они отсутствовали\n",
    "#но букву ё где-то пишут, а где то нет"
   ]
  },
  {
   "cell_type": "code",
   "execution_count": 15,
   "metadata": {},
   "outputs": [],
   "source": [
    "df['locality_name'] = df['locality_name'].str.lower()#на всякий случай, вдруг что то не заметила"
   ]
  },
  {
   "cell_type": "code",
   "execution_count": 16,
   "metadata": {},
   "outputs": [],
   "source": [
    "df['locality_name'] = df['locality_name'].str.replace('ё', 'е', regex=True)"
   ]
  },
  {
   "cell_type": "code",
   "execution_count": 17,
   "metadata": {},
   "outputs": [
    {
     "data": {
      "text/plain": [
       "331"
      ]
     },
     "execution_count": 17,
     "metadata": {},
     "output_type": "execute_result"
    }
   ],
   "source": [
    "len(df['locality_name'].unique())#от 34 дубликатов избавилсь"
   ]
  },
  {
   "cell_type": "code",
   "execution_count": 18,
   "metadata": {},
   "outputs": [
    {
     "data": {
      "text/plain": [
       "49"
      ]
     },
     "execution_count": 18,
     "metadata": {},
     "output_type": "execute_result"
    }
   ],
   "source": [
    "df['locality_name'].isna().sum()"
   ]
  },
  {
   "cell_type": "code",
   "execution_count": 19,
   "metadata": {},
   "outputs": [],
   "source": [
    "#Удалим строки без городов, ключевой мометн где ищут покупатели квартиры это город\n",
    "df = df.dropna(subset=['locality_name'])"
   ]
  },
  {
   "cell_type": "code",
   "execution_count": 20,
   "metadata": {},
   "outputs": [
    {
     "data": {
      "text/plain": [
       "0"
      ]
     },
     "execution_count": 20,
     "metadata": {},
     "output_type": "execute_result"
    }
   ],
   "source": [
    "df['locality_name'].isna().sum()"
   ]
  },
  {
   "cell_type": "code",
   "execution_count": 21,
   "metadata": {},
   "outputs": [
    {
     "data": {
      "text/plain": [
       "array([nan, False, True], dtype=object)"
      ]
     },
     "execution_count": 21,
     "metadata": {},
     "output_type": "execute_result"
    }
   ],
   "source": [
    "#посмотрим что с апартами, свободной планировкой и студией\n",
    "df['is_apartment'].unique()"
   ]
  },
  {
   "cell_type": "code",
   "execution_count": 22,
   "metadata": {},
   "outputs": [],
   "source": [
    "#заменим nan на false\n",
    "df['is_apartment'] = df['is_apartment'].fillna(0)"
   ]
  },
  {
   "cell_type": "code",
   "execution_count": 23,
   "metadata": {},
   "outputs": [],
   "source": [
    "#переведем булев тип к цифровому\n",
    "df['is_apartment'] = df['is_apartment'].map({True: 1, False: 0})"
   ]
  },
  {
   "cell_type": "code",
   "execution_count": 24,
   "metadata": {},
   "outputs": [
    {
     "data": {
      "text/html": [
       "<div>\n",
       "<style scoped>\n",
       "    .dataframe tbody tr th:only-of-type {\n",
       "        vertical-align: middle;\n",
       "    }\n",
       "\n",
       "    .dataframe tbody tr th {\n",
       "        vertical-align: top;\n",
       "    }\n",
       "\n",
       "    .dataframe thead th {\n",
       "        text-align: right;\n",
       "    }\n",
       "</style>\n",
       "<table border=\"1\" class=\"dataframe\">\n",
       "  <thead>\n",
       "    <tr style=\"text-align: right;\">\n",
       "      <th></th>\n",
       "      <th>total_images</th>\n",
       "      <th>last_price</th>\n",
       "      <th>total_area</th>\n",
       "      <th>first_day_exposition</th>\n",
       "      <th>rooms</th>\n",
       "      <th>ceiling_height</th>\n",
       "      <th>floors_total</th>\n",
       "      <th>living_area</th>\n",
       "      <th>floor</th>\n",
       "      <th>is_apartment</th>\n",
       "      <th>studio</th>\n",
       "      <th>open_plan</th>\n",
       "      <th>kitchen_area</th>\n",
       "      <th>balcony</th>\n",
       "      <th>locality_name</th>\n",
       "      <th>airports_nearest</th>\n",
       "      <th>cityCenters_nearest</th>\n",
       "      <th>parks_around3000</th>\n",
       "      <th>parks_nearest</th>\n",
       "      <th>ponds_around3000</th>\n",
       "      <th>ponds_nearest</th>\n",
       "      <th>days_exposition</th>\n",
       "    </tr>\n",
       "  </thead>\n",
       "  <tbody>\n",
       "    <tr>\n",
       "      <th>0</th>\n",
       "      <td>20</td>\n",
       "      <td>13,000,000.00</td>\n",
       "      <td>108.00</td>\n",
       "      <td>2019-03-07T00:00:00</td>\n",
       "      <td>3</td>\n",
       "      <td>2.70</td>\n",
       "      <td>16.00</td>\n",
       "      <td>51.00</td>\n",
       "      <td>8</td>\n",
       "      <td>0</td>\n",
       "      <td>False</td>\n",
       "      <td>False</td>\n",
       "      <td>25.00</td>\n",
       "      <td>NaN</td>\n",
       "      <td>санкт-петербург</td>\n",
       "      <td>18,863.00</td>\n",
       "      <td>16,028.00</td>\n",
       "      <td>1.00</td>\n",
       "      <td>482.00</td>\n",
       "      <td>2.00</td>\n",
       "      <td>755.00</td>\n",
       "      <td>NaN</td>\n",
       "    </tr>\n",
       "    <tr>\n",
       "      <th>1</th>\n",
       "      <td>7</td>\n",
       "      <td>3,350,000.00</td>\n",
       "      <td>40.40</td>\n",
       "      <td>2018-12-04T00:00:00</td>\n",
       "      <td>1</td>\n",
       "      <td>NaN</td>\n",
       "      <td>11.00</td>\n",
       "      <td>18.60</td>\n",
       "      <td>1</td>\n",
       "      <td>0</td>\n",
       "      <td>False</td>\n",
       "      <td>False</td>\n",
       "      <td>11.00</td>\n",
       "      <td>2.00</td>\n",
       "      <td>поселок шушары</td>\n",
       "      <td>12,817.00</td>\n",
       "      <td>18,603.00</td>\n",
       "      <td>0.00</td>\n",
       "      <td>NaN</td>\n",
       "      <td>0.00</td>\n",
       "      <td>NaN</td>\n",
       "      <td>81.00</td>\n",
       "    </tr>\n",
       "    <tr>\n",
       "      <th>2</th>\n",
       "      <td>10</td>\n",
       "      <td>5,196,000.00</td>\n",
       "      <td>56.00</td>\n",
       "      <td>2015-08-20T00:00:00</td>\n",
       "      <td>2</td>\n",
       "      <td>NaN</td>\n",
       "      <td>5.00</td>\n",
       "      <td>34.30</td>\n",
       "      <td>4</td>\n",
       "      <td>0</td>\n",
       "      <td>False</td>\n",
       "      <td>False</td>\n",
       "      <td>8.30</td>\n",
       "      <td>0.00</td>\n",
       "      <td>санкт-петербург</td>\n",
       "      <td>21,741.00</td>\n",
       "      <td>13,933.00</td>\n",
       "      <td>1.00</td>\n",
       "      <td>90.00</td>\n",
       "      <td>2.00</td>\n",
       "      <td>574.00</td>\n",
       "      <td>558.00</td>\n",
       "    </tr>\n",
       "    <tr>\n",
       "      <th>3</th>\n",
       "      <td>0</td>\n",
       "      <td>64,900,000.00</td>\n",
       "      <td>159.00</td>\n",
       "      <td>2015-07-24T00:00:00</td>\n",
       "      <td>3</td>\n",
       "      <td>NaN</td>\n",
       "      <td>14.00</td>\n",
       "      <td>NaN</td>\n",
       "      <td>9</td>\n",
       "      <td>0</td>\n",
       "      <td>False</td>\n",
       "      <td>False</td>\n",
       "      <td>NaN</td>\n",
       "      <td>0.00</td>\n",
       "      <td>санкт-петербург</td>\n",
       "      <td>28,098.00</td>\n",
       "      <td>6,800.00</td>\n",
       "      <td>2.00</td>\n",
       "      <td>84.00</td>\n",
       "      <td>3.00</td>\n",
       "      <td>234.00</td>\n",
       "      <td>424.00</td>\n",
       "    </tr>\n",
       "    <tr>\n",
       "      <th>4</th>\n",
       "      <td>2</td>\n",
       "      <td>10,000,000.00</td>\n",
       "      <td>100.00</td>\n",
       "      <td>2018-06-19T00:00:00</td>\n",
       "      <td>2</td>\n",
       "      <td>3.03</td>\n",
       "      <td>14.00</td>\n",
       "      <td>32.00</td>\n",
       "      <td>13</td>\n",
       "      <td>0</td>\n",
       "      <td>False</td>\n",
       "      <td>False</td>\n",
       "      <td>41.00</td>\n",
       "      <td>NaN</td>\n",
       "      <td>санкт-петербург</td>\n",
       "      <td>31,856.00</td>\n",
       "      <td>8,098.00</td>\n",
       "      <td>2.00</td>\n",
       "      <td>112.00</td>\n",
       "      <td>1.00</td>\n",
       "      <td>48.00</td>\n",
       "      <td>121.00</td>\n",
       "    </tr>\n",
       "  </tbody>\n",
       "</table>\n",
       "</div>"
      ],
      "text/plain": [
       "   total_images    last_price  total_area first_day_exposition  rooms  \\\n",
       "0            20 13,000,000.00      108.00  2019-03-07T00:00:00      3   \n",
       "1             7  3,350,000.00       40.40  2018-12-04T00:00:00      1   \n",
       "2            10  5,196,000.00       56.00  2015-08-20T00:00:00      2   \n",
       "3             0 64,900,000.00      159.00  2015-07-24T00:00:00      3   \n",
       "4             2 10,000,000.00      100.00  2018-06-19T00:00:00      2   \n",
       "\n",
       "   ceiling_height  floors_total  living_area  floor  is_apartment  studio  \\\n",
       "0            2.70         16.00        51.00      8             0   False   \n",
       "1             NaN         11.00        18.60      1             0   False   \n",
       "2             NaN          5.00        34.30      4             0   False   \n",
       "3             NaN         14.00          NaN      9             0   False   \n",
       "4            3.03         14.00        32.00     13             0   False   \n",
       "\n",
       "   open_plan  kitchen_area  balcony    locality_name  airports_nearest  \\\n",
       "0      False         25.00      NaN  санкт-петербург         18,863.00   \n",
       "1      False         11.00     2.00   поселок шушары         12,817.00   \n",
       "2      False          8.30     0.00  санкт-петербург         21,741.00   \n",
       "3      False           NaN     0.00  санкт-петербург         28,098.00   \n",
       "4      False         41.00      NaN  санкт-петербург         31,856.00   \n",
       "\n",
       "   cityCenters_nearest  parks_around3000  parks_nearest  ponds_around3000  \\\n",
       "0            16,028.00              1.00         482.00              2.00   \n",
       "1            18,603.00              0.00            NaN              0.00   \n",
       "2            13,933.00              1.00          90.00              2.00   \n",
       "3             6,800.00              2.00          84.00              3.00   \n",
       "4             8,098.00              2.00         112.00              1.00   \n",
       "\n",
       "   ponds_nearest  days_exposition  \n",
       "0         755.00              NaN  \n",
       "1            NaN            81.00  \n",
       "2         574.00           558.00  \n",
       "3         234.00           424.00  \n",
       "4          48.00           121.00  "
      ]
     },
     "execution_count": 24,
     "metadata": {},
     "output_type": "execute_result"
    }
   ],
   "source": [
    "df.head()"
   ]
  },
  {
   "cell_type": "code",
   "execution_count": 25,
   "metadata": {},
   "outputs": [
    {
     "data": {
      "text/plain": [
       "array([False,  True])"
      ]
     },
     "execution_count": 25,
     "metadata": {},
     "output_type": "execute_result"
    }
   ],
   "source": [
    "df['studio'].unique()"
   ]
  },
  {
   "cell_type": "code",
   "execution_count": 26,
   "metadata": {},
   "outputs": [
    {
     "data": {
      "text/plain": [
       "False    23501\n",
       "True       149\n",
       "Name: studio, dtype: int64"
      ]
     },
     "execution_count": 26,
     "metadata": {},
     "output_type": "execute_result"
    }
   ],
   "source": [
    "df['studio'].value_counts()"
   ]
  },
  {
   "cell_type": "code",
   "execution_count": 27,
   "metadata": {},
   "outputs": [],
   "source": [
    "df['studio'] = df['studio'].map({True: 1, False: 0})"
   ]
  },
  {
   "cell_type": "code",
   "execution_count": 28,
   "metadata": {},
   "outputs": [
    {
     "data": {
      "text/html": [
       "<div>\n",
       "<style scoped>\n",
       "    .dataframe tbody tr th:only-of-type {\n",
       "        vertical-align: middle;\n",
       "    }\n",
       "\n",
       "    .dataframe tbody tr th {\n",
       "        vertical-align: top;\n",
       "    }\n",
       "\n",
       "    .dataframe thead th {\n",
       "        text-align: right;\n",
       "    }\n",
       "</style>\n",
       "<table border=\"1\" class=\"dataframe\">\n",
       "  <thead>\n",
       "    <tr style=\"text-align: right;\">\n",
       "      <th></th>\n",
       "      <th>total_images</th>\n",
       "      <th>last_price</th>\n",
       "      <th>total_area</th>\n",
       "      <th>first_day_exposition</th>\n",
       "      <th>rooms</th>\n",
       "      <th>ceiling_height</th>\n",
       "      <th>floors_total</th>\n",
       "      <th>living_area</th>\n",
       "      <th>floor</th>\n",
       "      <th>is_apartment</th>\n",
       "      <th>studio</th>\n",
       "      <th>open_plan</th>\n",
       "      <th>kitchen_area</th>\n",
       "      <th>balcony</th>\n",
       "      <th>locality_name</th>\n",
       "      <th>airports_nearest</th>\n",
       "      <th>cityCenters_nearest</th>\n",
       "      <th>parks_around3000</th>\n",
       "      <th>parks_nearest</th>\n",
       "      <th>ponds_around3000</th>\n",
       "      <th>ponds_nearest</th>\n",
       "      <th>days_exposition</th>\n",
       "    </tr>\n",
       "  </thead>\n",
       "  <tbody>\n",
       "    <tr>\n",
       "      <th>0</th>\n",
       "      <td>20</td>\n",
       "      <td>13,000,000.00</td>\n",
       "      <td>108.00</td>\n",
       "      <td>2019-03-07T00:00:00</td>\n",
       "      <td>3</td>\n",
       "      <td>2.70</td>\n",
       "      <td>16.00</td>\n",
       "      <td>51.00</td>\n",
       "      <td>8</td>\n",
       "      <td>0</td>\n",
       "      <td>0</td>\n",
       "      <td>False</td>\n",
       "      <td>25.00</td>\n",
       "      <td>NaN</td>\n",
       "      <td>санкт-петербург</td>\n",
       "      <td>18,863.00</td>\n",
       "      <td>16,028.00</td>\n",
       "      <td>1.00</td>\n",
       "      <td>482.00</td>\n",
       "      <td>2.00</td>\n",
       "      <td>755.00</td>\n",
       "      <td>NaN</td>\n",
       "    </tr>\n",
       "    <tr>\n",
       "      <th>1</th>\n",
       "      <td>7</td>\n",
       "      <td>3,350,000.00</td>\n",
       "      <td>40.40</td>\n",
       "      <td>2018-12-04T00:00:00</td>\n",
       "      <td>1</td>\n",
       "      <td>NaN</td>\n",
       "      <td>11.00</td>\n",
       "      <td>18.60</td>\n",
       "      <td>1</td>\n",
       "      <td>0</td>\n",
       "      <td>0</td>\n",
       "      <td>False</td>\n",
       "      <td>11.00</td>\n",
       "      <td>2.00</td>\n",
       "      <td>поселок шушары</td>\n",
       "      <td>12,817.00</td>\n",
       "      <td>18,603.00</td>\n",
       "      <td>0.00</td>\n",
       "      <td>NaN</td>\n",
       "      <td>0.00</td>\n",
       "      <td>NaN</td>\n",
       "      <td>81.00</td>\n",
       "    </tr>\n",
       "    <tr>\n",
       "      <th>2</th>\n",
       "      <td>10</td>\n",
       "      <td>5,196,000.00</td>\n",
       "      <td>56.00</td>\n",
       "      <td>2015-08-20T00:00:00</td>\n",
       "      <td>2</td>\n",
       "      <td>NaN</td>\n",
       "      <td>5.00</td>\n",
       "      <td>34.30</td>\n",
       "      <td>4</td>\n",
       "      <td>0</td>\n",
       "      <td>0</td>\n",
       "      <td>False</td>\n",
       "      <td>8.30</td>\n",
       "      <td>0.00</td>\n",
       "      <td>санкт-петербург</td>\n",
       "      <td>21,741.00</td>\n",
       "      <td>13,933.00</td>\n",
       "      <td>1.00</td>\n",
       "      <td>90.00</td>\n",
       "      <td>2.00</td>\n",
       "      <td>574.00</td>\n",
       "      <td>558.00</td>\n",
       "    </tr>\n",
       "    <tr>\n",
       "      <th>3</th>\n",
       "      <td>0</td>\n",
       "      <td>64,900,000.00</td>\n",
       "      <td>159.00</td>\n",
       "      <td>2015-07-24T00:00:00</td>\n",
       "      <td>3</td>\n",
       "      <td>NaN</td>\n",
       "      <td>14.00</td>\n",
       "      <td>NaN</td>\n",
       "      <td>9</td>\n",
       "      <td>0</td>\n",
       "      <td>0</td>\n",
       "      <td>False</td>\n",
       "      <td>NaN</td>\n",
       "      <td>0.00</td>\n",
       "      <td>санкт-петербург</td>\n",
       "      <td>28,098.00</td>\n",
       "      <td>6,800.00</td>\n",
       "      <td>2.00</td>\n",
       "      <td>84.00</td>\n",
       "      <td>3.00</td>\n",
       "      <td>234.00</td>\n",
       "      <td>424.00</td>\n",
       "    </tr>\n",
       "    <tr>\n",
       "      <th>4</th>\n",
       "      <td>2</td>\n",
       "      <td>10,000,000.00</td>\n",
       "      <td>100.00</td>\n",
       "      <td>2018-06-19T00:00:00</td>\n",
       "      <td>2</td>\n",
       "      <td>3.03</td>\n",
       "      <td>14.00</td>\n",
       "      <td>32.00</td>\n",
       "      <td>13</td>\n",
       "      <td>0</td>\n",
       "      <td>0</td>\n",
       "      <td>False</td>\n",
       "      <td>41.00</td>\n",
       "      <td>NaN</td>\n",
       "      <td>санкт-петербург</td>\n",
       "      <td>31,856.00</td>\n",
       "      <td>8,098.00</td>\n",
       "      <td>2.00</td>\n",
       "      <td>112.00</td>\n",
       "      <td>1.00</td>\n",
       "      <td>48.00</td>\n",
       "      <td>121.00</td>\n",
       "    </tr>\n",
       "  </tbody>\n",
       "</table>\n",
       "</div>"
      ],
      "text/plain": [
       "   total_images    last_price  total_area first_day_exposition  rooms  \\\n",
       "0            20 13,000,000.00      108.00  2019-03-07T00:00:00      3   \n",
       "1             7  3,350,000.00       40.40  2018-12-04T00:00:00      1   \n",
       "2            10  5,196,000.00       56.00  2015-08-20T00:00:00      2   \n",
       "3             0 64,900,000.00      159.00  2015-07-24T00:00:00      3   \n",
       "4             2 10,000,000.00      100.00  2018-06-19T00:00:00      2   \n",
       "\n",
       "   ceiling_height  floors_total  living_area  floor  is_apartment  studio  \\\n",
       "0            2.70         16.00        51.00      8             0       0   \n",
       "1             NaN         11.00        18.60      1             0       0   \n",
       "2             NaN          5.00        34.30      4             0       0   \n",
       "3             NaN         14.00          NaN      9             0       0   \n",
       "4            3.03         14.00        32.00     13             0       0   \n",
       "\n",
       "   open_plan  kitchen_area  balcony    locality_name  airports_nearest  \\\n",
       "0      False         25.00      NaN  санкт-петербург         18,863.00   \n",
       "1      False         11.00     2.00   поселок шушары         12,817.00   \n",
       "2      False          8.30     0.00  санкт-петербург         21,741.00   \n",
       "3      False           NaN     0.00  санкт-петербург         28,098.00   \n",
       "4      False         41.00      NaN  санкт-петербург         31,856.00   \n",
       "\n",
       "   cityCenters_nearest  parks_around3000  parks_nearest  ponds_around3000  \\\n",
       "0            16,028.00              1.00         482.00              2.00   \n",
       "1            18,603.00              0.00            NaN              0.00   \n",
       "2            13,933.00              1.00          90.00              2.00   \n",
       "3             6,800.00              2.00          84.00              3.00   \n",
       "4             8,098.00              2.00         112.00              1.00   \n",
       "\n",
       "   ponds_nearest  days_exposition  \n",
       "0         755.00              NaN  \n",
       "1            NaN            81.00  \n",
       "2         574.00           558.00  \n",
       "3         234.00           424.00  \n",
       "4          48.00           121.00  "
      ]
     },
     "execution_count": 28,
     "metadata": {},
     "output_type": "execute_result"
    }
   ],
   "source": [
    "df.head()"
   ]
  },
  {
   "cell_type": "code",
   "execution_count": 29,
   "metadata": {},
   "outputs": [
    {
     "data": {
      "text/plain": [
       "array([False,  True])"
      ]
     },
     "execution_count": 29,
     "metadata": {},
     "output_type": "execute_result"
    }
   ],
   "source": [
    "df['open_plan'].unique()"
   ]
  },
  {
   "cell_type": "code",
   "execution_count": 30,
   "metadata": {},
   "outputs": [
    {
     "data": {
      "text/plain": [
       "False    23583\n",
       "True        67\n",
       "Name: open_plan, dtype: int64"
      ]
     },
     "execution_count": 30,
     "metadata": {},
     "output_type": "execute_result"
    }
   ],
   "source": [
    "df['open_plan'].value_counts()"
   ]
  },
  {
   "cell_type": "code",
   "execution_count": 31,
   "metadata": {},
   "outputs": [],
   "source": [
    "df['open_plan'] = df['open_plan'].map({True: 1, False: 0})"
   ]
  },
  {
   "cell_type": "code",
   "execution_count": 32,
   "metadata": {},
   "outputs": [
    {
     "data": {
      "text/html": [
       "<div>\n",
       "<style scoped>\n",
       "    .dataframe tbody tr th:only-of-type {\n",
       "        vertical-align: middle;\n",
       "    }\n",
       "\n",
       "    .dataframe tbody tr th {\n",
       "        vertical-align: top;\n",
       "    }\n",
       "\n",
       "    .dataframe thead th {\n",
       "        text-align: right;\n",
       "    }\n",
       "</style>\n",
       "<table border=\"1\" class=\"dataframe\">\n",
       "  <thead>\n",
       "    <tr style=\"text-align: right;\">\n",
       "      <th></th>\n",
       "      <th>total_images</th>\n",
       "      <th>last_price</th>\n",
       "      <th>total_area</th>\n",
       "      <th>first_day_exposition</th>\n",
       "      <th>rooms</th>\n",
       "      <th>ceiling_height</th>\n",
       "      <th>floors_total</th>\n",
       "      <th>living_area</th>\n",
       "      <th>floor</th>\n",
       "      <th>is_apartment</th>\n",
       "      <th>studio</th>\n",
       "      <th>open_plan</th>\n",
       "      <th>kitchen_area</th>\n",
       "      <th>balcony</th>\n",
       "      <th>locality_name</th>\n",
       "      <th>airports_nearest</th>\n",
       "      <th>cityCenters_nearest</th>\n",
       "      <th>parks_around3000</th>\n",
       "      <th>parks_nearest</th>\n",
       "      <th>ponds_around3000</th>\n",
       "      <th>ponds_nearest</th>\n",
       "      <th>days_exposition</th>\n",
       "    </tr>\n",
       "  </thead>\n",
       "  <tbody>\n",
       "    <tr>\n",
       "      <th>0</th>\n",
       "      <td>20</td>\n",
       "      <td>13,000,000.00</td>\n",
       "      <td>108.00</td>\n",
       "      <td>2019-03-07T00:00:00</td>\n",
       "      <td>3</td>\n",
       "      <td>2.70</td>\n",
       "      <td>16.00</td>\n",
       "      <td>51.00</td>\n",
       "      <td>8</td>\n",
       "      <td>0</td>\n",
       "      <td>0</td>\n",
       "      <td>0</td>\n",
       "      <td>25.00</td>\n",
       "      <td>NaN</td>\n",
       "      <td>санкт-петербург</td>\n",
       "      <td>18,863.00</td>\n",
       "      <td>16,028.00</td>\n",
       "      <td>1.00</td>\n",
       "      <td>482.00</td>\n",
       "      <td>2.00</td>\n",
       "      <td>755.00</td>\n",
       "      <td>NaN</td>\n",
       "    </tr>\n",
       "    <tr>\n",
       "      <th>1</th>\n",
       "      <td>7</td>\n",
       "      <td>3,350,000.00</td>\n",
       "      <td>40.40</td>\n",
       "      <td>2018-12-04T00:00:00</td>\n",
       "      <td>1</td>\n",
       "      <td>NaN</td>\n",
       "      <td>11.00</td>\n",
       "      <td>18.60</td>\n",
       "      <td>1</td>\n",
       "      <td>0</td>\n",
       "      <td>0</td>\n",
       "      <td>0</td>\n",
       "      <td>11.00</td>\n",
       "      <td>2.00</td>\n",
       "      <td>поселок шушары</td>\n",
       "      <td>12,817.00</td>\n",
       "      <td>18,603.00</td>\n",
       "      <td>0.00</td>\n",
       "      <td>NaN</td>\n",
       "      <td>0.00</td>\n",
       "      <td>NaN</td>\n",
       "      <td>81.00</td>\n",
       "    </tr>\n",
       "    <tr>\n",
       "      <th>2</th>\n",
       "      <td>10</td>\n",
       "      <td>5,196,000.00</td>\n",
       "      <td>56.00</td>\n",
       "      <td>2015-08-20T00:00:00</td>\n",
       "      <td>2</td>\n",
       "      <td>NaN</td>\n",
       "      <td>5.00</td>\n",
       "      <td>34.30</td>\n",
       "      <td>4</td>\n",
       "      <td>0</td>\n",
       "      <td>0</td>\n",
       "      <td>0</td>\n",
       "      <td>8.30</td>\n",
       "      <td>0.00</td>\n",
       "      <td>санкт-петербург</td>\n",
       "      <td>21,741.00</td>\n",
       "      <td>13,933.00</td>\n",
       "      <td>1.00</td>\n",
       "      <td>90.00</td>\n",
       "      <td>2.00</td>\n",
       "      <td>574.00</td>\n",
       "      <td>558.00</td>\n",
       "    </tr>\n",
       "    <tr>\n",
       "      <th>3</th>\n",
       "      <td>0</td>\n",
       "      <td>64,900,000.00</td>\n",
       "      <td>159.00</td>\n",
       "      <td>2015-07-24T00:00:00</td>\n",
       "      <td>3</td>\n",
       "      <td>NaN</td>\n",
       "      <td>14.00</td>\n",
       "      <td>NaN</td>\n",
       "      <td>9</td>\n",
       "      <td>0</td>\n",
       "      <td>0</td>\n",
       "      <td>0</td>\n",
       "      <td>NaN</td>\n",
       "      <td>0.00</td>\n",
       "      <td>санкт-петербург</td>\n",
       "      <td>28,098.00</td>\n",
       "      <td>6,800.00</td>\n",
       "      <td>2.00</td>\n",
       "      <td>84.00</td>\n",
       "      <td>3.00</td>\n",
       "      <td>234.00</td>\n",
       "      <td>424.00</td>\n",
       "    </tr>\n",
       "    <tr>\n",
       "      <th>4</th>\n",
       "      <td>2</td>\n",
       "      <td>10,000,000.00</td>\n",
       "      <td>100.00</td>\n",
       "      <td>2018-06-19T00:00:00</td>\n",
       "      <td>2</td>\n",
       "      <td>3.03</td>\n",
       "      <td>14.00</td>\n",
       "      <td>32.00</td>\n",
       "      <td>13</td>\n",
       "      <td>0</td>\n",
       "      <td>0</td>\n",
       "      <td>0</td>\n",
       "      <td>41.00</td>\n",
       "      <td>NaN</td>\n",
       "      <td>санкт-петербург</td>\n",
       "      <td>31,856.00</td>\n",
       "      <td>8,098.00</td>\n",
       "      <td>2.00</td>\n",
       "      <td>112.00</td>\n",
       "      <td>1.00</td>\n",
       "      <td>48.00</td>\n",
       "      <td>121.00</td>\n",
       "    </tr>\n",
       "  </tbody>\n",
       "</table>\n",
       "</div>"
      ],
      "text/plain": [
       "   total_images    last_price  total_area first_day_exposition  rooms  \\\n",
       "0            20 13,000,000.00      108.00  2019-03-07T00:00:00      3   \n",
       "1             7  3,350,000.00       40.40  2018-12-04T00:00:00      1   \n",
       "2            10  5,196,000.00       56.00  2015-08-20T00:00:00      2   \n",
       "3             0 64,900,000.00      159.00  2015-07-24T00:00:00      3   \n",
       "4             2 10,000,000.00      100.00  2018-06-19T00:00:00      2   \n",
       "\n",
       "   ceiling_height  floors_total  living_area  floor  is_apartment  studio  \\\n",
       "0            2.70         16.00        51.00      8             0       0   \n",
       "1             NaN         11.00        18.60      1             0       0   \n",
       "2             NaN          5.00        34.30      4             0       0   \n",
       "3             NaN         14.00          NaN      9             0       0   \n",
       "4            3.03         14.00        32.00     13             0       0   \n",
       "\n",
       "   open_plan  kitchen_area  balcony    locality_name  airports_nearest  \\\n",
       "0          0         25.00      NaN  санкт-петербург         18,863.00   \n",
       "1          0         11.00     2.00   поселок шушары         12,817.00   \n",
       "2          0          8.30     0.00  санкт-петербург         21,741.00   \n",
       "3          0           NaN     0.00  санкт-петербург         28,098.00   \n",
       "4          0         41.00      NaN  санкт-петербург         31,856.00   \n",
       "\n",
       "   cityCenters_nearest  parks_around3000  parks_nearest  ponds_around3000  \\\n",
       "0            16,028.00              1.00         482.00              2.00   \n",
       "1            18,603.00              0.00            NaN              0.00   \n",
       "2            13,933.00              1.00          90.00              2.00   \n",
       "3             6,800.00              2.00          84.00              3.00   \n",
       "4             8,098.00              2.00         112.00              1.00   \n",
       "\n",
       "   ponds_nearest  days_exposition  \n",
       "0         755.00              NaN  \n",
       "1            NaN            81.00  \n",
       "2         574.00           558.00  \n",
       "3         234.00           424.00  \n",
       "4          48.00           121.00  "
      ]
     },
     "execution_count": 32,
     "metadata": {},
     "output_type": "execute_result"
    }
   ],
   "source": [
    "df.head()#теперь 1 и 0 в трех столбцах, что бы было понятнее в таблице смотреть"
   ]
  },
  {
   "cell_type": "code",
   "execution_count": 33,
   "metadata": {},
   "outputs": [
    {
     "data": {
      "text/plain": [
       "array([nan,  2.,  0.,  1.,  5.,  4.,  3.])"
      ]
     },
     "execution_count": 33,
     "metadata": {},
     "output_type": "execute_result"
    }
   ],
   "source": [
    "#посмотрим балконы,ничего необычного\n",
    "df['balcony'].unique()"
   ]
  },
  {
   "cell_type": "code",
   "execution_count": 34,
   "metadata": {},
   "outputs": [
    {
     "data": {
      "text/plain": [
       "1.00    4187\n",
       "0.00    3725\n",
       "2.00    3658\n",
       "5.00     304\n",
       "4.00     182\n",
       "3.00      81\n",
       "Name: balcony, dtype: int64"
      ]
     },
     "execution_count": 34,
     "metadata": {},
     "output_type": "execute_result"
    }
   ],
   "source": [
    "df['balcony'].value_counts()"
   ]
  },
  {
   "cell_type": "code",
   "execution_count": 35,
   "metadata": {},
   "outputs": [],
   "source": [
    "#даты публикации обьявления\n",
    "df['first_day_exposition'] = pd.to_datetime(df['first_day_exposition'], format=\"%Y-%m-%dT%H:%M:%S\")"
   ]
  },
  {
   "cell_type": "code",
   "execution_count": 36,
   "metadata": {},
   "outputs": [
    {
     "data": {
      "text/html": [
       "<div>\n",
       "<style scoped>\n",
       "    .dataframe tbody tr th:only-of-type {\n",
       "        vertical-align: middle;\n",
       "    }\n",
       "\n",
       "    .dataframe tbody tr th {\n",
       "        vertical-align: top;\n",
       "    }\n",
       "\n",
       "    .dataframe thead th {\n",
       "        text-align: right;\n",
       "    }\n",
       "</style>\n",
       "<table border=\"1\" class=\"dataframe\">\n",
       "  <thead>\n",
       "    <tr style=\"text-align: right;\">\n",
       "      <th></th>\n",
       "      <th>total_images</th>\n",
       "      <th>last_price</th>\n",
       "      <th>total_area</th>\n",
       "      <th>first_day_exposition</th>\n",
       "      <th>rooms</th>\n",
       "      <th>ceiling_height</th>\n",
       "      <th>floors_total</th>\n",
       "      <th>living_area</th>\n",
       "      <th>floor</th>\n",
       "      <th>is_apartment</th>\n",
       "      <th>studio</th>\n",
       "      <th>open_plan</th>\n",
       "      <th>kitchen_area</th>\n",
       "      <th>balcony</th>\n",
       "      <th>locality_name</th>\n",
       "      <th>airports_nearest</th>\n",
       "      <th>cityCenters_nearest</th>\n",
       "      <th>parks_around3000</th>\n",
       "      <th>parks_nearest</th>\n",
       "      <th>ponds_around3000</th>\n",
       "      <th>ponds_nearest</th>\n",
       "      <th>days_exposition</th>\n",
       "    </tr>\n",
       "  </thead>\n",
       "  <tbody>\n",
       "    <tr>\n",
       "      <th>0</th>\n",
       "      <td>20</td>\n",
       "      <td>13,000,000.00</td>\n",
       "      <td>108.00</td>\n",
       "      <td>2019-03-07</td>\n",
       "      <td>3</td>\n",
       "      <td>2.70</td>\n",
       "      <td>16.00</td>\n",
       "      <td>51.00</td>\n",
       "      <td>8</td>\n",
       "      <td>0</td>\n",
       "      <td>0</td>\n",
       "      <td>0</td>\n",
       "      <td>25.00</td>\n",
       "      <td>NaN</td>\n",
       "      <td>санкт-петербург</td>\n",
       "      <td>18,863.00</td>\n",
       "      <td>16,028.00</td>\n",
       "      <td>1.00</td>\n",
       "      <td>482.00</td>\n",
       "      <td>2.00</td>\n",
       "      <td>755.00</td>\n",
       "      <td>NaN</td>\n",
       "    </tr>\n",
       "    <tr>\n",
       "      <th>1</th>\n",
       "      <td>7</td>\n",
       "      <td>3,350,000.00</td>\n",
       "      <td>40.40</td>\n",
       "      <td>2018-12-04</td>\n",
       "      <td>1</td>\n",
       "      <td>NaN</td>\n",
       "      <td>11.00</td>\n",
       "      <td>18.60</td>\n",
       "      <td>1</td>\n",
       "      <td>0</td>\n",
       "      <td>0</td>\n",
       "      <td>0</td>\n",
       "      <td>11.00</td>\n",
       "      <td>2.00</td>\n",
       "      <td>поселок шушары</td>\n",
       "      <td>12,817.00</td>\n",
       "      <td>18,603.00</td>\n",
       "      <td>0.00</td>\n",
       "      <td>NaN</td>\n",
       "      <td>0.00</td>\n",
       "      <td>NaN</td>\n",
       "      <td>81.00</td>\n",
       "    </tr>\n",
       "    <tr>\n",
       "      <th>2</th>\n",
       "      <td>10</td>\n",
       "      <td>5,196,000.00</td>\n",
       "      <td>56.00</td>\n",
       "      <td>2015-08-20</td>\n",
       "      <td>2</td>\n",
       "      <td>NaN</td>\n",
       "      <td>5.00</td>\n",
       "      <td>34.30</td>\n",
       "      <td>4</td>\n",
       "      <td>0</td>\n",
       "      <td>0</td>\n",
       "      <td>0</td>\n",
       "      <td>8.30</td>\n",
       "      <td>0.00</td>\n",
       "      <td>санкт-петербург</td>\n",
       "      <td>21,741.00</td>\n",
       "      <td>13,933.00</td>\n",
       "      <td>1.00</td>\n",
       "      <td>90.00</td>\n",
       "      <td>2.00</td>\n",
       "      <td>574.00</td>\n",
       "      <td>558.00</td>\n",
       "    </tr>\n",
       "    <tr>\n",
       "      <th>3</th>\n",
       "      <td>0</td>\n",
       "      <td>64,900,000.00</td>\n",
       "      <td>159.00</td>\n",
       "      <td>2015-07-24</td>\n",
       "      <td>3</td>\n",
       "      <td>NaN</td>\n",
       "      <td>14.00</td>\n",
       "      <td>NaN</td>\n",
       "      <td>9</td>\n",
       "      <td>0</td>\n",
       "      <td>0</td>\n",
       "      <td>0</td>\n",
       "      <td>NaN</td>\n",
       "      <td>0.00</td>\n",
       "      <td>санкт-петербург</td>\n",
       "      <td>28,098.00</td>\n",
       "      <td>6,800.00</td>\n",
       "      <td>2.00</td>\n",
       "      <td>84.00</td>\n",
       "      <td>3.00</td>\n",
       "      <td>234.00</td>\n",
       "      <td>424.00</td>\n",
       "    </tr>\n",
       "    <tr>\n",
       "      <th>4</th>\n",
       "      <td>2</td>\n",
       "      <td>10,000,000.00</td>\n",
       "      <td>100.00</td>\n",
       "      <td>2018-06-19</td>\n",
       "      <td>2</td>\n",
       "      <td>3.03</td>\n",
       "      <td>14.00</td>\n",
       "      <td>32.00</td>\n",
       "      <td>13</td>\n",
       "      <td>0</td>\n",
       "      <td>0</td>\n",
       "      <td>0</td>\n",
       "      <td>41.00</td>\n",
       "      <td>NaN</td>\n",
       "      <td>санкт-петербург</td>\n",
       "      <td>31,856.00</td>\n",
       "      <td>8,098.00</td>\n",
       "      <td>2.00</td>\n",
       "      <td>112.00</td>\n",
       "      <td>1.00</td>\n",
       "      <td>48.00</td>\n",
       "      <td>121.00</td>\n",
       "    </tr>\n",
       "  </tbody>\n",
       "</table>\n",
       "</div>"
      ],
      "text/plain": [
       "   total_images    last_price  total_area first_day_exposition  rooms  \\\n",
       "0            20 13,000,000.00      108.00           2019-03-07      3   \n",
       "1             7  3,350,000.00       40.40           2018-12-04      1   \n",
       "2            10  5,196,000.00       56.00           2015-08-20      2   \n",
       "3             0 64,900,000.00      159.00           2015-07-24      3   \n",
       "4             2 10,000,000.00      100.00           2018-06-19      2   \n",
       "\n",
       "   ceiling_height  floors_total  living_area  floor  is_apartment  studio  \\\n",
       "0            2.70         16.00        51.00      8             0       0   \n",
       "1             NaN         11.00        18.60      1             0       0   \n",
       "2             NaN          5.00        34.30      4             0       0   \n",
       "3             NaN         14.00          NaN      9             0       0   \n",
       "4            3.03         14.00        32.00     13             0       0   \n",
       "\n",
       "   open_plan  kitchen_area  balcony    locality_name  airports_nearest  \\\n",
       "0          0         25.00      NaN  санкт-петербург         18,863.00   \n",
       "1          0         11.00     2.00   поселок шушары         12,817.00   \n",
       "2          0          8.30     0.00  санкт-петербург         21,741.00   \n",
       "3          0           NaN     0.00  санкт-петербург         28,098.00   \n",
       "4          0         41.00      NaN  санкт-петербург         31,856.00   \n",
       "\n",
       "   cityCenters_nearest  parks_around3000  parks_nearest  ponds_around3000  \\\n",
       "0            16,028.00              1.00         482.00              2.00   \n",
       "1            18,603.00              0.00            NaN              0.00   \n",
       "2            13,933.00              1.00          90.00              2.00   \n",
       "3             6,800.00              2.00          84.00              3.00   \n",
       "4             8,098.00              2.00         112.00              1.00   \n",
       "\n",
       "   ponds_nearest  days_exposition  \n",
       "0         755.00              NaN  \n",
       "1            NaN            81.00  \n",
       "2         574.00           558.00  \n",
       "3         234.00           424.00  \n",
       "4          48.00           121.00  "
      ]
     },
     "execution_count": 36,
     "metadata": {},
     "output_type": "execute_result"
    }
   ],
   "source": [
    "df.head()#теперь всем будет понятнее "
   ]
  },
  {
   "cell_type": "code",
   "execution_count": 37,
   "metadata": {},
   "outputs": [],
   "source": [
    "#перевем метры в километры в столбцах с их наличием\n",
    "df['airports_nearest_km'] = df['airports_nearest'] / 1000\n",
    "df['cityCenters_nearest_km'] = df['cityCenters_nearest'] / 1000\n",
    "df['parks_nearest_km'] = df['parks_nearest'] / 1000\n",
    "df['ponds_nearest_km'] = df['ponds_nearest'] / 1000"
   ]
  },
  {
   "cell_type": "code",
   "execution_count": 38,
   "metadata": {},
   "outputs": [
    {
     "data": {
      "text/html": [
       "<div>\n",
       "<style scoped>\n",
       "    .dataframe tbody tr th:only-of-type {\n",
       "        vertical-align: middle;\n",
       "    }\n",
       "\n",
       "    .dataframe tbody tr th {\n",
       "        vertical-align: top;\n",
       "    }\n",
       "\n",
       "    .dataframe thead th {\n",
       "        text-align: right;\n",
       "    }\n",
       "</style>\n",
       "<table border=\"1\" class=\"dataframe\">\n",
       "  <thead>\n",
       "    <tr style=\"text-align: right;\">\n",
       "      <th></th>\n",
       "      <th>total_images</th>\n",
       "      <th>last_price</th>\n",
       "      <th>total_area</th>\n",
       "      <th>first_day_exposition</th>\n",
       "      <th>rooms</th>\n",
       "      <th>ceiling_height</th>\n",
       "      <th>floors_total</th>\n",
       "      <th>living_area</th>\n",
       "      <th>floor</th>\n",
       "      <th>is_apartment</th>\n",
       "      <th>studio</th>\n",
       "      <th>open_plan</th>\n",
       "      <th>kitchen_area</th>\n",
       "      <th>balcony</th>\n",
       "      <th>locality_name</th>\n",
       "      <th>airports_nearest</th>\n",
       "      <th>cityCenters_nearest</th>\n",
       "      <th>parks_around3000</th>\n",
       "      <th>parks_nearest</th>\n",
       "      <th>ponds_around3000</th>\n",
       "      <th>ponds_nearest</th>\n",
       "      <th>days_exposition</th>\n",
       "      <th>airports_nearest_km</th>\n",
       "      <th>cityCenters_nearest_km</th>\n",
       "      <th>parks_nearest_km</th>\n",
       "      <th>ponds_nearest_km</th>\n",
       "    </tr>\n",
       "  </thead>\n",
       "  <tbody>\n",
       "    <tr>\n",
       "      <th>0</th>\n",
       "      <td>20</td>\n",
       "      <td>13,000,000.00</td>\n",
       "      <td>108.00</td>\n",
       "      <td>2019-03-07</td>\n",
       "      <td>3</td>\n",
       "      <td>2.70</td>\n",
       "      <td>16.00</td>\n",
       "      <td>51.00</td>\n",
       "      <td>8</td>\n",
       "      <td>0</td>\n",
       "      <td>0</td>\n",
       "      <td>0</td>\n",
       "      <td>25.00</td>\n",
       "      <td>NaN</td>\n",
       "      <td>санкт-петербург</td>\n",
       "      <td>18,863.00</td>\n",
       "      <td>16,028.00</td>\n",
       "      <td>1.00</td>\n",
       "      <td>482.00</td>\n",
       "      <td>2.00</td>\n",
       "      <td>755.00</td>\n",
       "      <td>NaN</td>\n",
       "      <td>18.86</td>\n",
       "      <td>16.03</td>\n",
       "      <td>0.48</td>\n",
       "      <td>0.76</td>\n",
       "    </tr>\n",
       "    <tr>\n",
       "      <th>1</th>\n",
       "      <td>7</td>\n",
       "      <td>3,350,000.00</td>\n",
       "      <td>40.40</td>\n",
       "      <td>2018-12-04</td>\n",
       "      <td>1</td>\n",
       "      <td>NaN</td>\n",
       "      <td>11.00</td>\n",
       "      <td>18.60</td>\n",
       "      <td>1</td>\n",
       "      <td>0</td>\n",
       "      <td>0</td>\n",
       "      <td>0</td>\n",
       "      <td>11.00</td>\n",
       "      <td>2.00</td>\n",
       "      <td>поселок шушары</td>\n",
       "      <td>12,817.00</td>\n",
       "      <td>18,603.00</td>\n",
       "      <td>0.00</td>\n",
       "      <td>NaN</td>\n",
       "      <td>0.00</td>\n",
       "      <td>NaN</td>\n",
       "      <td>81.00</td>\n",
       "      <td>12.82</td>\n",
       "      <td>18.60</td>\n",
       "      <td>NaN</td>\n",
       "      <td>NaN</td>\n",
       "    </tr>\n",
       "    <tr>\n",
       "      <th>2</th>\n",
       "      <td>10</td>\n",
       "      <td>5,196,000.00</td>\n",
       "      <td>56.00</td>\n",
       "      <td>2015-08-20</td>\n",
       "      <td>2</td>\n",
       "      <td>NaN</td>\n",
       "      <td>5.00</td>\n",
       "      <td>34.30</td>\n",
       "      <td>4</td>\n",
       "      <td>0</td>\n",
       "      <td>0</td>\n",
       "      <td>0</td>\n",
       "      <td>8.30</td>\n",
       "      <td>0.00</td>\n",
       "      <td>санкт-петербург</td>\n",
       "      <td>21,741.00</td>\n",
       "      <td>13,933.00</td>\n",
       "      <td>1.00</td>\n",
       "      <td>90.00</td>\n",
       "      <td>2.00</td>\n",
       "      <td>574.00</td>\n",
       "      <td>558.00</td>\n",
       "      <td>21.74</td>\n",
       "      <td>13.93</td>\n",
       "      <td>0.09</td>\n",
       "      <td>0.57</td>\n",
       "    </tr>\n",
       "    <tr>\n",
       "      <th>3</th>\n",
       "      <td>0</td>\n",
       "      <td>64,900,000.00</td>\n",
       "      <td>159.00</td>\n",
       "      <td>2015-07-24</td>\n",
       "      <td>3</td>\n",
       "      <td>NaN</td>\n",
       "      <td>14.00</td>\n",
       "      <td>NaN</td>\n",
       "      <td>9</td>\n",
       "      <td>0</td>\n",
       "      <td>0</td>\n",
       "      <td>0</td>\n",
       "      <td>NaN</td>\n",
       "      <td>0.00</td>\n",
       "      <td>санкт-петербург</td>\n",
       "      <td>28,098.00</td>\n",
       "      <td>6,800.00</td>\n",
       "      <td>2.00</td>\n",
       "      <td>84.00</td>\n",
       "      <td>3.00</td>\n",
       "      <td>234.00</td>\n",
       "      <td>424.00</td>\n",
       "      <td>28.10</td>\n",
       "      <td>6.80</td>\n",
       "      <td>0.08</td>\n",
       "      <td>0.23</td>\n",
       "    </tr>\n",
       "    <tr>\n",
       "      <th>4</th>\n",
       "      <td>2</td>\n",
       "      <td>10,000,000.00</td>\n",
       "      <td>100.00</td>\n",
       "      <td>2018-06-19</td>\n",
       "      <td>2</td>\n",
       "      <td>3.03</td>\n",
       "      <td>14.00</td>\n",
       "      <td>32.00</td>\n",
       "      <td>13</td>\n",
       "      <td>0</td>\n",
       "      <td>0</td>\n",
       "      <td>0</td>\n",
       "      <td>41.00</td>\n",
       "      <td>NaN</td>\n",
       "      <td>санкт-петербург</td>\n",
       "      <td>31,856.00</td>\n",
       "      <td>8,098.00</td>\n",
       "      <td>2.00</td>\n",
       "      <td>112.00</td>\n",
       "      <td>1.00</td>\n",
       "      <td>48.00</td>\n",
       "      <td>121.00</td>\n",
       "      <td>31.86</td>\n",
       "      <td>8.10</td>\n",
       "      <td>0.11</td>\n",
       "      <td>0.05</td>\n",
       "    </tr>\n",
       "  </tbody>\n",
       "</table>\n",
       "</div>"
      ],
      "text/plain": [
       "   total_images    last_price  total_area first_day_exposition  rooms  \\\n",
       "0            20 13,000,000.00      108.00           2019-03-07      3   \n",
       "1             7  3,350,000.00       40.40           2018-12-04      1   \n",
       "2            10  5,196,000.00       56.00           2015-08-20      2   \n",
       "3             0 64,900,000.00      159.00           2015-07-24      3   \n",
       "4             2 10,000,000.00      100.00           2018-06-19      2   \n",
       "\n",
       "   ceiling_height  floors_total  living_area  floor  is_apartment  studio  \\\n",
       "0            2.70         16.00        51.00      8             0       0   \n",
       "1             NaN         11.00        18.60      1             0       0   \n",
       "2             NaN          5.00        34.30      4             0       0   \n",
       "3             NaN         14.00          NaN      9             0       0   \n",
       "4            3.03         14.00        32.00     13             0       0   \n",
       "\n",
       "   open_plan  kitchen_area  balcony    locality_name  airports_nearest  \\\n",
       "0          0         25.00      NaN  санкт-петербург         18,863.00   \n",
       "1          0         11.00     2.00   поселок шушары         12,817.00   \n",
       "2          0          8.30     0.00  санкт-петербург         21,741.00   \n",
       "3          0           NaN     0.00  санкт-петербург         28,098.00   \n",
       "4          0         41.00      NaN  санкт-петербург         31,856.00   \n",
       "\n",
       "   cityCenters_nearest  parks_around3000  parks_nearest  ponds_around3000  \\\n",
       "0            16,028.00              1.00         482.00              2.00   \n",
       "1            18,603.00              0.00            NaN              0.00   \n",
       "2            13,933.00              1.00          90.00              2.00   \n",
       "3             6,800.00              2.00          84.00              3.00   \n",
       "4             8,098.00              2.00         112.00              1.00   \n",
       "\n",
       "   ponds_nearest  days_exposition  airports_nearest_km  \\\n",
       "0         755.00              NaN                18.86   \n",
       "1            NaN            81.00                12.82   \n",
       "2         574.00           558.00                21.74   \n",
       "3         234.00           424.00                28.10   \n",
       "4          48.00           121.00                31.86   \n",
       "\n",
       "   cityCenters_nearest_km  parks_nearest_km  ponds_nearest_km  \n",
       "0                   16.03              0.48              0.76  \n",
       "1                   18.60               NaN               NaN  \n",
       "2                   13.93              0.09              0.57  \n",
       "3                    6.80              0.08              0.23  \n",
       "4                    8.10              0.11              0.05  "
      ]
     },
     "execution_count": 38,
     "metadata": {},
     "output_type": "execute_result"
    }
   ],
   "source": [
    "df.head()"
   ]
  },
  {
   "cell_type": "code",
   "execution_count": 39,
   "metadata": {},
   "outputs": [],
   "source": [
    "del df['airports_nearest']\n",
    "del df['cityCenters_nearest']\n",
    "del df['parks_nearest']\n",
    "del df['ponds_nearest'] "
   ]
  },
  {
   "cell_type": "code",
   "execution_count": 40,
   "metadata": {},
   "outputs": [],
   "source": [
    "#переименуем столбец 'cityCenters_nearest'\n",
    "df['city_centers_nearest_km'] = df['cityCenters_nearest_km']\n",
    "del df['cityCenters_nearest_km']"
   ]
  },
  {
   "cell_type": "code",
   "execution_count": 41,
   "metadata": {},
   "outputs": [
    {
     "data": {
      "text/html": [
       "<div>\n",
       "<style scoped>\n",
       "    .dataframe tbody tr th:only-of-type {\n",
       "        vertical-align: middle;\n",
       "    }\n",
       "\n",
       "    .dataframe tbody tr th {\n",
       "        vertical-align: top;\n",
       "    }\n",
       "\n",
       "    .dataframe thead th {\n",
       "        text-align: right;\n",
       "    }\n",
       "</style>\n",
       "<table border=\"1\" class=\"dataframe\">\n",
       "  <thead>\n",
       "    <tr style=\"text-align: right;\">\n",
       "      <th></th>\n",
       "      <th>total_images</th>\n",
       "      <th>last_price</th>\n",
       "      <th>total_area</th>\n",
       "      <th>first_day_exposition</th>\n",
       "      <th>rooms</th>\n",
       "      <th>ceiling_height</th>\n",
       "      <th>floors_total</th>\n",
       "      <th>living_area</th>\n",
       "      <th>floor</th>\n",
       "      <th>is_apartment</th>\n",
       "      <th>studio</th>\n",
       "      <th>open_plan</th>\n",
       "      <th>kitchen_area</th>\n",
       "      <th>balcony</th>\n",
       "      <th>locality_name</th>\n",
       "      <th>parks_around3000</th>\n",
       "      <th>ponds_around3000</th>\n",
       "      <th>days_exposition</th>\n",
       "      <th>airports_nearest_km</th>\n",
       "      <th>parks_nearest_km</th>\n",
       "      <th>ponds_nearest_km</th>\n",
       "      <th>city_centers_nearest_km</th>\n",
       "    </tr>\n",
       "  </thead>\n",
       "  <tbody>\n",
       "    <tr>\n",
       "      <th>0</th>\n",
       "      <td>20</td>\n",
       "      <td>13,000,000.00</td>\n",
       "      <td>108.00</td>\n",
       "      <td>2019-03-07</td>\n",
       "      <td>3</td>\n",
       "      <td>2.70</td>\n",
       "      <td>16.00</td>\n",
       "      <td>51.00</td>\n",
       "      <td>8</td>\n",
       "      <td>0</td>\n",
       "      <td>0</td>\n",
       "      <td>0</td>\n",
       "      <td>25.00</td>\n",
       "      <td>NaN</td>\n",
       "      <td>санкт-петербург</td>\n",
       "      <td>1.00</td>\n",
       "      <td>2.00</td>\n",
       "      <td>NaN</td>\n",
       "      <td>18.86</td>\n",
       "      <td>0.48</td>\n",
       "      <td>0.76</td>\n",
       "      <td>16.03</td>\n",
       "    </tr>\n",
       "    <tr>\n",
       "      <th>1</th>\n",
       "      <td>7</td>\n",
       "      <td>3,350,000.00</td>\n",
       "      <td>40.40</td>\n",
       "      <td>2018-12-04</td>\n",
       "      <td>1</td>\n",
       "      <td>NaN</td>\n",
       "      <td>11.00</td>\n",
       "      <td>18.60</td>\n",
       "      <td>1</td>\n",
       "      <td>0</td>\n",
       "      <td>0</td>\n",
       "      <td>0</td>\n",
       "      <td>11.00</td>\n",
       "      <td>2.00</td>\n",
       "      <td>поселок шушары</td>\n",
       "      <td>0.00</td>\n",
       "      <td>0.00</td>\n",
       "      <td>81.00</td>\n",
       "      <td>12.82</td>\n",
       "      <td>NaN</td>\n",
       "      <td>NaN</td>\n",
       "      <td>18.60</td>\n",
       "    </tr>\n",
       "    <tr>\n",
       "      <th>2</th>\n",
       "      <td>10</td>\n",
       "      <td>5,196,000.00</td>\n",
       "      <td>56.00</td>\n",
       "      <td>2015-08-20</td>\n",
       "      <td>2</td>\n",
       "      <td>NaN</td>\n",
       "      <td>5.00</td>\n",
       "      <td>34.30</td>\n",
       "      <td>4</td>\n",
       "      <td>0</td>\n",
       "      <td>0</td>\n",
       "      <td>0</td>\n",
       "      <td>8.30</td>\n",
       "      <td>0.00</td>\n",
       "      <td>санкт-петербург</td>\n",
       "      <td>1.00</td>\n",
       "      <td>2.00</td>\n",
       "      <td>558.00</td>\n",
       "      <td>21.74</td>\n",
       "      <td>0.09</td>\n",
       "      <td>0.57</td>\n",
       "      <td>13.93</td>\n",
       "    </tr>\n",
       "    <tr>\n",
       "      <th>3</th>\n",
       "      <td>0</td>\n",
       "      <td>64,900,000.00</td>\n",
       "      <td>159.00</td>\n",
       "      <td>2015-07-24</td>\n",
       "      <td>3</td>\n",
       "      <td>NaN</td>\n",
       "      <td>14.00</td>\n",
       "      <td>NaN</td>\n",
       "      <td>9</td>\n",
       "      <td>0</td>\n",
       "      <td>0</td>\n",
       "      <td>0</td>\n",
       "      <td>NaN</td>\n",
       "      <td>0.00</td>\n",
       "      <td>санкт-петербург</td>\n",
       "      <td>2.00</td>\n",
       "      <td>3.00</td>\n",
       "      <td>424.00</td>\n",
       "      <td>28.10</td>\n",
       "      <td>0.08</td>\n",
       "      <td>0.23</td>\n",
       "      <td>6.80</td>\n",
       "    </tr>\n",
       "    <tr>\n",
       "      <th>4</th>\n",
       "      <td>2</td>\n",
       "      <td>10,000,000.00</td>\n",
       "      <td>100.00</td>\n",
       "      <td>2018-06-19</td>\n",
       "      <td>2</td>\n",
       "      <td>3.03</td>\n",
       "      <td>14.00</td>\n",
       "      <td>32.00</td>\n",
       "      <td>13</td>\n",
       "      <td>0</td>\n",
       "      <td>0</td>\n",
       "      <td>0</td>\n",
       "      <td>41.00</td>\n",
       "      <td>NaN</td>\n",
       "      <td>санкт-петербург</td>\n",
       "      <td>2.00</td>\n",
       "      <td>1.00</td>\n",
       "      <td>121.00</td>\n",
       "      <td>31.86</td>\n",
       "      <td>0.11</td>\n",
       "      <td>0.05</td>\n",
       "      <td>8.10</td>\n",
       "    </tr>\n",
       "  </tbody>\n",
       "</table>\n",
       "</div>"
      ],
      "text/plain": [
       "   total_images    last_price  total_area first_day_exposition  rooms  \\\n",
       "0            20 13,000,000.00      108.00           2019-03-07      3   \n",
       "1             7  3,350,000.00       40.40           2018-12-04      1   \n",
       "2            10  5,196,000.00       56.00           2015-08-20      2   \n",
       "3             0 64,900,000.00      159.00           2015-07-24      3   \n",
       "4             2 10,000,000.00      100.00           2018-06-19      2   \n",
       "\n",
       "   ceiling_height  floors_total  living_area  floor  is_apartment  studio  \\\n",
       "0            2.70         16.00        51.00      8             0       0   \n",
       "1             NaN         11.00        18.60      1             0       0   \n",
       "2             NaN          5.00        34.30      4             0       0   \n",
       "3             NaN         14.00          NaN      9             0       0   \n",
       "4            3.03         14.00        32.00     13             0       0   \n",
       "\n",
       "   open_plan  kitchen_area  balcony    locality_name  parks_around3000  \\\n",
       "0          0         25.00      NaN  санкт-петербург              1.00   \n",
       "1          0         11.00     2.00   поселок шушары              0.00   \n",
       "2          0          8.30     0.00  санкт-петербург              1.00   \n",
       "3          0           NaN     0.00  санкт-петербург              2.00   \n",
       "4          0         41.00      NaN  санкт-петербург              2.00   \n",
       "\n",
       "   ponds_around3000  days_exposition  airports_nearest_km  parks_nearest_km  \\\n",
       "0              2.00              NaN                18.86              0.48   \n",
       "1              0.00            81.00                12.82               NaN   \n",
       "2              2.00           558.00                21.74              0.09   \n",
       "3              3.00           424.00                28.10              0.08   \n",
       "4              1.00           121.00                31.86              0.11   \n",
       "\n",
       "   ponds_nearest_km  city_centers_nearest_km  \n",
       "0              0.76                    16.03  \n",
       "1               NaN                    18.60  \n",
       "2              0.57                    13.93  \n",
       "3              0.23                     6.80  \n",
       "4              0.05                     8.10  "
      ]
     },
     "execution_count": 41,
     "metadata": {},
     "output_type": "execute_result"
    }
   ],
   "source": [
    "df.head()"
   ]
  },
  {
   "cell_type": "code",
   "execution_count": 42,
   "metadata": {},
   "outputs": [
    {
     "data": {
      "text/html": [
       "<div>\n",
       "<style scoped>\n",
       "    .dataframe tbody tr th:only-of-type {\n",
       "        vertical-align: middle;\n",
       "    }\n",
       "\n",
       "    .dataframe tbody tr th {\n",
       "        vertical-align: top;\n",
       "    }\n",
       "\n",
       "    .dataframe thead th {\n",
       "        text-align: right;\n",
       "    }\n",
       "</style>\n",
       "<table border=\"1\" class=\"dataframe\">\n",
       "  <thead>\n",
       "    <tr style=\"text-align: right;\">\n",
       "      <th></th>\n",
       "      <th>total_images</th>\n",
       "      <th>last_price</th>\n",
       "      <th>total_area</th>\n",
       "      <th>rooms</th>\n",
       "      <th>ceiling_height</th>\n",
       "      <th>floors_total</th>\n",
       "      <th>living_area</th>\n",
       "      <th>floor</th>\n",
       "      <th>is_apartment</th>\n",
       "      <th>studio</th>\n",
       "      <th>open_plan</th>\n",
       "      <th>kitchen_area</th>\n",
       "      <th>balcony</th>\n",
       "      <th>parks_around3000</th>\n",
       "      <th>ponds_around3000</th>\n",
       "      <th>days_exposition</th>\n",
       "      <th>airports_nearest_km</th>\n",
       "      <th>parks_nearest_km</th>\n",
       "      <th>ponds_nearest_km</th>\n",
       "      <th>city_centers_nearest_km</th>\n",
       "    </tr>\n",
       "  </thead>\n",
       "  <tbody>\n",
       "    <tr>\n",
       "      <th>count</th>\n",
       "      <td>23,650.00</td>\n",
       "      <td>23,650.00</td>\n",
       "      <td>23,650.00</td>\n",
       "      <td>23,650.00</td>\n",
       "      <td>14,490.00</td>\n",
       "      <td>23,565.00</td>\n",
       "      <td>21,752.00</td>\n",
       "      <td>23,650.00</td>\n",
       "      <td>23,650.00</td>\n",
       "      <td>23,650.00</td>\n",
       "      <td>23,650.00</td>\n",
       "      <td>21,381.00</td>\n",
       "      <td>12,137.00</td>\n",
       "      <td>18,140.00</td>\n",
       "      <td>18,140.00</td>\n",
       "      <td>20,470.00</td>\n",
       "      <td>18,116.00</td>\n",
       "      <td>8,064.00</td>\n",
       "      <td>9,085.00</td>\n",
       "      <td>18,139.00</td>\n",
       "    </tr>\n",
       "    <tr>\n",
       "      <th>mean</th>\n",
       "      <td>9.86</td>\n",
       "      <td>6,541,126.90</td>\n",
       "      <td>60.33</td>\n",
       "      <td>2.07</td>\n",
       "      <td>2.77</td>\n",
       "      <td>10.68</td>\n",
       "      <td>34.45</td>\n",
       "      <td>5.89</td>\n",
       "      <td>0.00</td>\n",
       "      <td>0.01</td>\n",
       "      <td>0.00</td>\n",
       "      <td>10.57</td>\n",
       "      <td>1.15</td>\n",
       "      <td>0.61</td>\n",
       "      <td>0.77</td>\n",
       "      <td>180.75</td>\n",
       "      <td>28.80</td>\n",
       "      <td>0.49</td>\n",
       "      <td>0.52</td>\n",
       "      <td>14.20</td>\n",
       "    </tr>\n",
       "    <tr>\n",
       "      <th>std</th>\n",
       "      <td>5.68</td>\n",
       "      <td>10,896,399.18</td>\n",
       "      <td>35.66</td>\n",
       "      <td>1.08</td>\n",
       "      <td>1.26</td>\n",
       "      <td>6.59</td>\n",
       "      <td>22.04</td>\n",
       "      <td>4.88</td>\n",
       "      <td>0.05</td>\n",
       "      <td>0.08</td>\n",
       "      <td>0.05</td>\n",
       "      <td>5.90</td>\n",
       "      <td>1.07</td>\n",
       "      <td>0.80</td>\n",
       "      <td>0.94</td>\n",
       "      <td>219.78</td>\n",
       "      <td>12.64</td>\n",
       "      <td>0.34</td>\n",
       "      <td>0.28</td>\n",
       "      <td>8.61</td>\n",
       "    </tr>\n",
       "    <tr>\n",
       "      <th>min</th>\n",
       "      <td>0.00</td>\n",
       "      <td>12,190.00</td>\n",
       "      <td>12.00</td>\n",
       "      <td>0.00</td>\n",
       "      <td>1.00</td>\n",
       "      <td>1.00</td>\n",
       "      <td>2.00</td>\n",
       "      <td>1.00</td>\n",
       "      <td>0.00</td>\n",
       "      <td>0.00</td>\n",
       "      <td>0.00</td>\n",
       "      <td>1.30</td>\n",
       "      <td>0.00</td>\n",
       "      <td>0.00</td>\n",
       "      <td>0.00</td>\n",
       "      <td>1.00</td>\n",
       "      <td>0.00</td>\n",
       "      <td>0.00</td>\n",
       "      <td>0.01</td>\n",
       "      <td>0.18</td>\n",
       "    </tr>\n",
       "    <tr>\n",
       "      <th>25%</th>\n",
       "      <td>6.00</td>\n",
       "      <td>3,400,000.00</td>\n",
       "      <td>40.00</td>\n",
       "      <td>1.00</td>\n",
       "      <td>2.52</td>\n",
       "      <td>5.00</td>\n",
       "      <td>18.60</td>\n",
       "      <td>2.00</td>\n",
       "      <td>0.00</td>\n",
       "      <td>0.00</td>\n",
       "      <td>0.00</td>\n",
       "      <td>7.00</td>\n",
       "      <td>0.00</td>\n",
       "      <td>0.00</td>\n",
       "      <td>0.00</td>\n",
       "      <td>45.00</td>\n",
       "      <td>18.58</td>\n",
       "      <td>0.29</td>\n",
       "      <td>0.29</td>\n",
       "      <td>9.24</td>\n",
       "    </tr>\n",
       "    <tr>\n",
       "      <th>50%</th>\n",
       "      <td>9.00</td>\n",
       "      <td>4,650,000.00</td>\n",
       "      <td>52.00</td>\n",
       "      <td>2.00</td>\n",
       "      <td>2.65</td>\n",
       "      <td>9.00</td>\n",
       "      <td>30.00</td>\n",
       "      <td>4.00</td>\n",
       "      <td>0.00</td>\n",
       "      <td>0.00</td>\n",
       "      <td>0.00</td>\n",
       "      <td>9.10</td>\n",
       "      <td>1.00</td>\n",
       "      <td>0.00</td>\n",
       "      <td>1.00</td>\n",
       "      <td>95.00</td>\n",
       "      <td>26.76</td>\n",
       "      <td>0.45</td>\n",
       "      <td>0.50</td>\n",
       "      <td>13.11</td>\n",
       "    </tr>\n",
       "    <tr>\n",
       "      <th>75%</th>\n",
       "      <td>14.00</td>\n",
       "      <td>6,799,000.00</td>\n",
       "      <td>69.70</td>\n",
       "      <td>3.00</td>\n",
       "      <td>2.80</td>\n",
       "      <td>16.00</td>\n",
       "      <td>42.30</td>\n",
       "      <td>8.00</td>\n",
       "      <td>0.00</td>\n",
       "      <td>0.00</td>\n",
       "      <td>0.00</td>\n",
       "      <td>12.00</td>\n",
       "      <td>2.00</td>\n",
       "      <td>1.00</td>\n",
       "      <td>1.00</td>\n",
       "      <td>231.00</td>\n",
       "      <td>37.29</td>\n",
       "      <td>0.61</td>\n",
       "      <td>0.73</td>\n",
       "      <td>16.29</td>\n",
       "    </tr>\n",
       "    <tr>\n",
       "      <th>max</th>\n",
       "      <td>50.00</td>\n",
       "      <td>763,000,000.00</td>\n",
       "      <td>900.00</td>\n",
       "      <td>19.00</td>\n",
       "      <td>100.00</td>\n",
       "      <td>60.00</td>\n",
       "      <td>409.70</td>\n",
       "      <td>33.00</td>\n",
       "      <td>1.00</td>\n",
       "      <td>1.00</td>\n",
       "      <td>1.00</td>\n",
       "      <td>112.00</td>\n",
       "      <td>5.00</td>\n",
       "      <td>3.00</td>\n",
       "      <td>3.00</td>\n",
       "      <td>1,580.00</td>\n",
       "      <td>84.87</td>\n",
       "      <td>3.19</td>\n",
       "      <td>1.34</td>\n",
       "      <td>65.97</td>\n",
       "    </tr>\n",
       "  </tbody>\n",
       "</table>\n",
       "</div>"
      ],
      "text/plain": [
       "       total_images     last_price  total_area     rooms  ceiling_height  \\\n",
       "count     23,650.00      23,650.00   23,650.00 23,650.00       14,490.00   \n",
       "mean           9.86   6,541,126.90       60.33      2.07            2.77   \n",
       "std            5.68  10,896,399.18       35.66      1.08            1.26   \n",
       "min            0.00      12,190.00       12.00      0.00            1.00   \n",
       "25%            6.00   3,400,000.00       40.00      1.00            2.52   \n",
       "50%            9.00   4,650,000.00       52.00      2.00            2.65   \n",
       "75%           14.00   6,799,000.00       69.70      3.00            2.80   \n",
       "max           50.00 763,000,000.00      900.00     19.00          100.00   \n",
       "\n",
       "       floors_total  living_area     floor  is_apartment    studio  open_plan  \\\n",
       "count     23,565.00    21,752.00 23,650.00     23,650.00 23,650.00  23,650.00   \n",
       "mean          10.68        34.45      5.89          0.00      0.01       0.00   \n",
       "std            6.59        22.04      4.88          0.05      0.08       0.05   \n",
       "min            1.00         2.00      1.00          0.00      0.00       0.00   \n",
       "25%            5.00        18.60      2.00          0.00      0.00       0.00   \n",
       "50%            9.00        30.00      4.00          0.00      0.00       0.00   \n",
       "75%           16.00        42.30      8.00          0.00      0.00       0.00   \n",
       "max           60.00       409.70     33.00          1.00      1.00       1.00   \n",
       "\n",
       "       kitchen_area   balcony  parks_around3000  ponds_around3000  \\\n",
       "count     21,381.00 12,137.00         18,140.00         18,140.00   \n",
       "mean          10.57      1.15              0.61              0.77   \n",
       "std            5.90      1.07              0.80              0.94   \n",
       "min            1.30      0.00              0.00              0.00   \n",
       "25%            7.00      0.00              0.00              0.00   \n",
       "50%            9.10      1.00              0.00              1.00   \n",
       "75%           12.00      2.00              1.00              1.00   \n",
       "max          112.00      5.00              3.00              3.00   \n",
       "\n",
       "       days_exposition  airports_nearest_km  parks_nearest_km  \\\n",
       "count        20,470.00            18,116.00          8,064.00   \n",
       "mean            180.75                28.80              0.49   \n",
       "std             219.78                12.64              0.34   \n",
       "min               1.00                 0.00              0.00   \n",
       "25%              45.00                18.58              0.29   \n",
       "50%              95.00                26.76              0.45   \n",
       "75%             231.00                37.29              0.61   \n",
       "max           1,580.00                84.87              3.19   \n",
       "\n",
       "       ponds_nearest_km  city_centers_nearest_km  \n",
       "count          9,085.00                18,139.00  \n",
       "mean               0.52                    14.20  \n",
       "std                0.28                     8.61  \n",
       "min                0.01                     0.18  \n",
       "25%                0.29                     9.24  \n",
       "50%                0.50                    13.11  \n",
       "75%                0.73                    16.29  \n",
       "max                1.34                    65.97  "
      ]
     },
     "execution_count": 42,
     "metadata": {},
     "output_type": "execute_result"
    }
   ],
   "source": [
    "df.describe()"
   ]
  },
  {
   "cell_type": "code",
   "execution_count": 43,
   "metadata": {},
   "outputs": [],
   "source": [
    "#переименуем еще некоторе столбцы для красоты\n",
    "df['parks_around_3_km'] = df['parks_around3000']\n",
    "df['ponds_around_3_km'] = df['ponds_around3000']\n",
    "df['total_area_m2'] = df['total_area']\n",
    "df['living_area_m2'] = df['living_area']\n",
    "df['kitchen_area_m2'] = df['kitchen_area']"
   ]
  },
  {
   "cell_type": "code",
   "execution_count": 44,
   "metadata": {},
   "outputs": [],
   "source": [
    "del df['parks_around3000']\n",
    "del df['ponds_around3000']\n",
    "del df['total_area']\n",
    "del df['living_area']\n",
    "del df['kitchen_area']"
   ]
  },
  {
   "cell_type": "code",
   "execution_count": 45,
   "metadata": {},
   "outputs": [
    {
     "data": {
      "text/html": [
       "<div>\n",
       "<style scoped>\n",
       "    .dataframe tbody tr th:only-of-type {\n",
       "        vertical-align: middle;\n",
       "    }\n",
       "\n",
       "    .dataframe tbody tr th {\n",
       "        vertical-align: top;\n",
       "    }\n",
       "\n",
       "    .dataframe thead th {\n",
       "        text-align: right;\n",
       "    }\n",
       "</style>\n",
       "<table border=\"1\" class=\"dataframe\">\n",
       "  <thead>\n",
       "    <tr style=\"text-align: right;\">\n",
       "      <th></th>\n",
       "      <th>total_images</th>\n",
       "      <th>last_price</th>\n",
       "      <th>first_day_exposition</th>\n",
       "      <th>rooms</th>\n",
       "      <th>ceiling_height</th>\n",
       "      <th>floors_total</th>\n",
       "      <th>floor</th>\n",
       "      <th>is_apartment</th>\n",
       "      <th>studio</th>\n",
       "      <th>open_plan</th>\n",
       "      <th>balcony</th>\n",
       "      <th>locality_name</th>\n",
       "      <th>days_exposition</th>\n",
       "      <th>airports_nearest_km</th>\n",
       "      <th>parks_nearest_km</th>\n",
       "      <th>ponds_nearest_km</th>\n",
       "      <th>city_centers_nearest_km</th>\n",
       "      <th>parks_around_3_km</th>\n",
       "      <th>ponds_around_3_km</th>\n",
       "      <th>total_area_m2</th>\n",
       "      <th>living_area_m2</th>\n",
       "      <th>kitchen_area_m2</th>\n",
       "    </tr>\n",
       "  </thead>\n",
       "  <tbody>\n",
       "    <tr>\n",
       "      <th>0</th>\n",
       "      <td>20</td>\n",
       "      <td>13,000,000.00</td>\n",
       "      <td>2019-03-07</td>\n",
       "      <td>3</td>\n",
       "      <td>2.70</td>\n",
       "      <td>16.00</td>\n",
       "      <td>8</td>\n",
       "      <td>0</td>\n",
       "      <td>0</td>\n",
       "      <td>0</td>\n",
       "      <td>NaN</td>\n",
       "      <td>санкт-петербург</td>\n",
       "      <td>NaN</td>\n",
       "      <td>18.86</td>\n",
       "      <td>0.48</td>\n",
       "      <td>0.76</td>\n",
       "      <td>16.03</td>\n",
       "      <td>1.00</td>\n",
       "      <td>2.00</td>\n",
       "      <td>108.00</td>\n",
       "      <td>51.00</td>\n",
       "      <td>25.00</td>\n",
       "    </tr>\n",
       "    <tr>\n",
       "      <th>1</th>\n",
       "      <td>7</td>\n",
       "      <td>3,350,000.00</td>\n",
       "      <td>2018-12-04</td>\n",
       "      <td>1</td>\n",
       "      <td>NaN</td>\n",
       "      <td>11.00</td>\n",
       "      <td>1</td>\n",
       "      <td>0</td>\n",
       "      <td>0</td>\n",
       "      <td>0</td>\n",
       "      <td>2.00</td>\n",
       "      <td>поселок шушары</td>\n",
       "      <td>81.00</td>\n",
       "      <td>12.82</td>\n",
       "      <td>NaN</td>\n",
       "      <td>NaN</td>\n",
       "      <td>18.60</td>\n",
       "      <td>0.00</td>\n",
       "      <td>0.00</td>\n",
       "      <td>40.40</td>\n",
       "      <td>18.60</td>\n",
       "      <td>11.00</td>\n",
       "    </tr>\n",
       "    <tr>\n",
       "      <th>2</th>\n",
       "      <td>10</td>\n",
       "      <td>5,196,000.00</td>\n",
       "      <td>2015-08-20</td>\n",
       "      <td>2</td>\n",
       "      <td>NaN</td>\n",
       "      <td>5.00</td>\n",
       "      <td>4</td>\n",
       "      <td>0</td>\n",
       "      <td>0</td>\n",
       "      <td>0</td>\n",
       "      <td>0.00</td>\n",
       "      <td>санкт-петербург</td>\n",
       "      <td>558.00</td>\n",
       "      <td>21.74</td>\n",
       "      <td>0.09</td>\n",
       "      <td>0.57</td>\n",
       "      <td>13.93</td>\n",
       "      <td>1.00</td>\n",
       "      <td>2.00</td>\n",
       "      <td>56.00</td>\n",
       "      <td>34.30</td>\n",
       "      <td>8.30</td>\n",
       "    </tr>\n",
       "    <tr>\n",
       "      <th>3</th>\n",
       "      <td>0</td>\n",
       "      <td>64,900,000.00</td>\n",
       "      <td>2015-07-24</td>\n",
       "      <td>3</td>\n",
       "      <td>NaN</td>\n",
       "      <td>14.00</td>\n",
       "      <td>9</td>\n",
       "      <td>0</td>\n",
       "      <td>0</td>\n",
       "      <td>0</td>\n",
       "      <td>0.00</td>\n",
       "      <td>санкт-петербург</td>\n",
       "      <td>424.00</td>\n",
       "      <td>28.10</td>\n",
       "      <td>0.08</td>\n",
       "      <td>0.23</td>\n",
       "      <td>6.80</td>\n",
       "      <td>2.00</td>\n",
       "      <td>3.00</td>\n",
       "      <td>159.00</td>\n",
       "      <td>NaN</td>\n",
       "      <td>NaN</td>\n",
       "    </tr>\n",
       "    <tr>\n",
       "      <th>4</th>\n",
       "      <td>2</td>\n",
       "      <td>10,000,000.00</td>\n",
       "      <td>2018-06-19</td>\n",
       "      <td>2</td>\n",
       "      <td>3.03</td>\n",
       "      <td>14.00</td>\n",
       "      <td>13</td>\n",
       "      <td>0</td>\n",
       "      <td>0</td>\n",
       "      <td>0</td>\n",
       "      <td>NaN</td>\n",
       "      <td>санкт-петербург</td>\n",
       "      <td>121.00</td>\n",
       "      <td>31.86</td>\n",
       "      <td>0.11</td>\n",
       "      <td>0.05</td>\n",
       "      <td>8.10</td>\n",
       "      <td>2.00</td>\n",
       "      <td>1.00</td>\n",
       "      <td>100.00</td>\n",
       "      <td>32.00</td>\n",
       "      <td>41.00</td>\n",
       "    </tr>\n",
       "  </tbody>\n",
       "</table>\n",
       "</div>"
      ],
      "text/plain": [
       "   total_images    last_price first_day_exposition  rooms  ceiling_height  \\\n",
       "0            20 13,000,000.00           2019-03-07      3            2.70   \n",
       "1             7  3,350,000.00           2018-12-04      1             NaN   \n",
       "2            10  5,196,000.00           2015-08-20      2             NaN   \n",
       "3             0 64,900,000.00           2015-07-24      3             NaN   \n",
       "4             2 10,000,000.00           2018-06-19      2            3.03   \n",
       "\n",
       "   floors_total  floor  is_apartment  studio  open_plan  balcony  \\\n",
       "0         16.00      8             0       0          0      NaN   \n",
       "1         11.00      1             0       0          0     2.00   \n",
       "2          5.00      4             0       0          0     0.00   \n",
       "3         14.00      9             0       0          0     0.00   \n",
       "4         14.00     13             0       0          0      NaN   \n",
       "\n",
       "     locality_name  days_exposition  airports_nearest_km  parks_nearest_km  \\\n",
       "0  санкт-петербург              NaN                18.86              0.48   \n",
       "1   поселок шушары            81.00                12.82               NaN   \n",
       "2  санкт-петербург           558.00                21.74              0.09   \n",
       "3  санкт-петербург           424.00                28.10              0.08   \n",
       "4  санкт-петербург           121.00                31.86              0.11   \n",
       "\n",
       "   ponds_nearest_km  city_centers_nearest_km  parks_around_3_km  \\\n",
       "0              0.76                    16.03               1.00   \n",
       "1               NaN                    18.60               0.00   \n",
       "2              0.57                    13.93               1.00   \n",
       "3              0.23                     6.80               2.00   \n",
       "4              0.05                     8.10               2.00   \n",
       "\n",
       "   ponds_around_3_km  total_area_m2  living_area_m2  kitchen_area_m2  \n",
       "0               2.00         108.00           51.00            25.00  \n",
       "1               0.00          40.40           18.60            11.00  \n",
       "2               2.00          56.00           34.30             8.30  \n",
       "3               3.00         159.00             NaN              NaN  \n",
       "4               1.00         100.00           32.00            41.00  "
      ]
     },
     "execution_count": 45,
     "metadata": {},
     "output_type": "execute_result"
    }
   ],
   "source": [
    "df.head()"
   ]
  },
  {
   "cell_type": "markdown",
   "metadata": {},
   "source": [
    "## Расчёты и добавление результатов в таблицу"
   ]
  },
  {
   "cell_type": "markdown",
   "metadata": {},
   "source": [
    "-цену квадратного метра;\n",
    "\n",
    "-день недели, месяц и год публикации объявления;\n",
    "\n",
    "-этаж квартиры; варианты — первый, последний, другой;\n",
    "\n",
    "-соотношение жилой и общей площади, а также отношение площади кухни к общей."
   ]
  },
  {
   "cell_type": "code",
   "execution_count": 46,
   "metadata": {},
   "outputs": [],
   "source": [
    "#добавим цену за квадратный метр\n",
    "df['price_m2'] = df['last_price'] / df['living_area_m2']\n",
    "df['price_m2'] = df['price_m2'].round(decimals=2)"
   ]
  },
  {
   "cell_type": "code",
   "execution_count": 47,
   "metadata": {},
   "outputs": [
    {
     "data": {
      "text/html": [
       "<div>\n",
       "<style scoped>\n",
       "    .dataframe tbody tr th:only-of-type {\n",
       "        vertical-align: middle;\n",
       "    }\n",
       "\n",
       "    .dataframe tbody tr th {\n",
       "        vertical-align: top;\n",
       "    }\n",
       "\n",
       "    .dataframe thead th {\n",
       "        text-align: right;\n",
       "    }\n",
       "</style>\n",
       "<table border=\"1\" class=\"dataframe\">\n",
       "  <thead>\n",
       "    <tr style=\"text-align: right;\">\n",
       "      <th></th>\n",
       "      <th>total_images</th>\n",
       "      <th>last_price</th>\n",
       "      <th>first_day_exposition</th>\n",
       "      <th>rooms</th>\n",
       "      <th>ceiling_height</th>\n",
       "      <th>floors_total</th>\n",
       "      <th>floor</th>\n",
       "      <th>is_apartment</th>\n",
       "      <th>studio</th>\n",
       "      <th>open_plan</th>\n",
       "      <th>balcony</th>\n",
       "      <th>locality_name</th>\n",
       "      <th>days_exposition</th>\n",
       "      <th>airports_nearest_km</th>\n",
       "      <th>parks_nearest_km</th>\n",
       "      <th>ponds_nearest_km</th>\n",
       "      <th>city_centers_nearest_km</th>\n",
       "      <th>parks_around_3_km</th>\n",
       "      <th>ponds_around_3_km</th>\n",
       "      <th>total_area_m2</th>\n",
       "      <th>living_area_m2</th>\n",
       "      <th>kitchen_area_m2</th>\n",
       "      <th>price_m2</th>\n",
       "    </tr>\n",
       "  </thead>\n",
       "  <tbody>\n",
       "    <tr>\n",
       "      <th>0</th>\n",
       "      <td>20</td>\n",
       "      <td>13,000,000.00</td>\n",
       "      <td>2019-03-07</td>\n",
       "      <td>3</td>\n",
       "      <td>2.70</td>\n",
       "      <td>16.00</td>\n",
       "      <td>8</td>\n",
       "      <td>0</td>\n",
       "      <td>0</td>\n",
       "      <td>0</td>\n",
       "      <td>NaN</td>\n",
       "      <td>санкт-петербург</td>\n",
       "      <td>NaN</td>\n",
       "      <td>18.86</td>\n",
       "      <td>0.48</td>\n",
       "      <td>0.76</td>\n",
       "      <td>16.03</td>\n",
       "      <td>1.00</td>\n",
       "      <td>2.00</td>\n",
       "      <td>108.00</td>\n",
       "      <td>51.00</td>\n",
       "      <td>25.00</td>\n",
       "      <td>254,901.96</td>\n",
       "    </tr>\n",
       "    <tr>\n",
       "      <th>1</th>\n",
       "      <td>7</td>\n",
       "      <td>3,350,000.00</td>\n",
       "      <td>2018-12-04</td>\n",
       "      <td>1</td>\n",
       "      <td>NaN</td>\n",
       "      <td>11.00</td>\n",
       "      <td>1</td>\n",
       "      <td>0</td>\n",
       "      <td>0</td>\n",
       "      <td>0</td>\n",
       "      <td>2.00</td>\n",
       "      <td>поселок шушары</td>\n",
       "      <td>81.00</td>\n",
       "      <td>12.82</td>\n",
       "      <td>NaN</td>\n",
       "      <td>NaN</td>\n",
       "      <td>18.60</td>\n",
       "      <td>0.00</td>\n",
       "      <td>0.00</td>\n",
       "      <td>40.40</td>\n",
       "      <td>18.60</td>\n",
       "      <td>11.00</td>\n",
       "      <td>180,107.53</td>\n",
       "    </tr>\n",
       "    <tr>\n",
       "      <th>2</th>\n",
       "      <td>10</td>\n",
       "      <td>5,196,000.00</td>\n",
       "      <td>2015-08-20</td>\n",
       "      <td>2</td>\n",
       "      <td>NaN</td>\n",
       "      <td>5.00</td>\n",
       "      <td>4</td>\n",
       "      <td>0</td>\n",
       "      <td>0</td>\n",
       "      <td>0</td>\n",
       "      <td>0.00</td>\n",
       "      <td>санкт-петербург</td>\n",
       "      <td>558.00</td>\n",
       "      <td>21.74</td>\n",
       "      <td>0.09</td>\n",
       "      <td>0.57</td>\n",
       "      <td>13.93</td>\n",
       "      <td>1.00</td>\n",
       "      <td>2.00</td>\n",
       "      <td>56.00</td>\n",
       "      <td>34.30</td>\n",
       "      <td>8.30</td>\n",
       "      <td>151,486.88</td>\n",
       "    </tr>\n",
       "    <tr>\n",
       "      <th>3</th>\n",
       "      <td>0</td>\n",
       "      <td>64,900,000.00</td>\n",
       "      <td>2015-07-24</td>\n",
       "      <td>3</td>\n",
       "      <td>NaN</td>\n",
       "      <td>14.00</td>\n",
       "      <td>9</td>\n",
       "      <td>0</td>\n",
       "      <td>0</td>\n",
       "      <td>0</td>\n",
       "      <td>0.00</td>\n",
       "      <td>санкт-петербург</td>\n",
       "      <td>424.00</td>\n",
       "      <td>28.10</td>\n",
       "      <td>0.08</td>\n",
       "      <td>0.23</td>\n",
       "      <td>6.80</td>\n",
       "      <td>2.00</td>\n",
       "      <td>3.00</td>\n",
       "      <td>159.00</td>\n",
       "      <td>NaN</td>\n",
       "      <td>NaN</td>\n",
       "      <td>NaN</td>\n",
       "    </tr>\n",
       "    <tr>\n",
       "      <th>4</th>\n",
       "      <td>2</td>\n",
       "      <td>10,000,000.00</td>\n",
       "      <td>2018-06-19</td>\n",
       "      <td>2</td>\n",
       "      <td>3.03</td>\n",
       "      <td>14.00</td>\n",
       "      <td>13</td>\n",
       "      <td>0</td>\n",
       "      <td>0</td>\n",
       "      <td>0</td>\n",
       "      <td>NaN</td>\n",
       "      <td>санкт-петербург</td>\n",
       "      <td>121.00</td>\n",
       "      <td>31.86</td>\n",
       "      <td>0.11</td>\n",
       "      <td>0.05</td>\n",
       "      <td>8.10</td>\n",
       "      <td>2.00</td>\n",
       "      <td>1.00</td>\n",
       "      <td>100.00</td>\n",
       "      <td>32.00</td>\n",
       "      <td>41.00</td>\n",
       "      <td>312,500.00</td>\n",
       "    </tr>\n",
       "  </tbody>\n",
       "</table>\n",
       "</div>"
      ],
      "text/plain": [
       "   total_images    last_price first_day_exposition  rooms  ceiling_height  \\\n",
       "0            20 13,000,000.00           2019-03-07      3            2.70   \n",
       "1             7  3,350,000.00           2018-12-04      1             NaN   \n",
       "2            10  5,196,000.00           2015-08-20      2             NaN   \n",
       "3             0 64,900,000.00           2015-07-24      3             NaN   \n",
       "4             2 10,000,000.00           2018-06-19      2            3.03   \n",
       "\n",
       "   floors_total  floor  is_apartment  studio  open_plan  balcony  \\\n",
       "0         16.00      8             0       0          0      NaN   \n",
       "1         11.00      1             0       0          0     2.00   \n",
       "2          5.00      4             0       0          0     0.00   \n",
       "3         14.00      9             0       0          0     0.00   \n",
       "4         14.00     13             0       0          0      NaN   \n",
       "\n",
       "     locality_name  days_exposition  airports_nearest_km  parks_nearest_km  \\\n",
       "0  санкт-петербург              NaN                18.86              0.48   \n",
       "1   поселок шушары            81.00                12.82               NaN   \n",
       "2  санкт-петербург           558.00                21.74              0.09   \n",
       "3  санкт-петербург           424.00                28.10              0.08   \n",
       "4  санкт-петербург           121.00                31.86              0.11   \n",
       "\n",
       "   ponds_nearest_km  city_centers_nearest_km  parks_around_3_km  \\\n",
       "0              0.76                    16.03               1.00   \n",
       "1               NaN                    18.60               0.00   \n",
       "2              0.57                    13.93               1.00   \n",
       "3              0.23                     6.80               2.00   \n",
       "4              0.05                     8.10               2.00   \n",
       "\n",
       "   ponds_around_3_km  total_area_m2  living_area_m2  kitchen_area_m2  \\\n",
       "0               2.00         108.00           51.00            25.00   \n",
       "1               0.00          40.40           18.60            11.00   \n",
       "2               2.00          56.00           34.30             8.30   \n",
       "3               3.00         159.00             NaN              NaN   \n",
       "4               1.00         100.00           32.00            41.00   \n",
       "\n",
       "    price_m2  \n",
       "0 254,901.96  \n",
       "1 180,107.53  \n",
       "2 151,486.88  \n",
       "3        NaN  \n",
       "4 312,500.00  "
      ]
     },
     "execution_count": 47,
     "metadata": {},
     "output_type": "execute_result"
    }
   ],
   "source": [
    "df.head()"
   ]
  },
  {
   "cell_type": "code",
   "execution_count": 48,
   "metadata": {},
   "outputs": [],
   "source": [
    "#Добавим столбцы с днем, месяцем и годом публикации\n",
    "df['day_of_week_exposition'] = df['first_day_exposition'].dt.day_name()\n",
    "df['month_exposition'] = df['first_day_exposition'].dt.month_name()\n",
    "df['year_exposition'] = df['first_day_exposition'].dt.year"
   ]
  },
  {
   "cell_type": "code",
   "execution_count": 49,
   "metadata": {},
   "outputs": [
    {
     "data": {
      "text/html": [
       "<div>\n",
       "<style scoped>\n",
       "    .dataframe tbody tr th:only-of-type {\n",
       "        vertical-align: middle;\n",
       "    }\n",
       "\n",
       "    .dataframe tbody tr th {\n",
       "        vertical-align: top;\n",
       "    }\n",
       "\n",
       "    .dataframe thead th {\n",
       "        text-align: right;\n",
       "    }\n",
       "</style>\n",
       "<table border=\"1\" class=\"dataframe\">\n",
       "  <thead>\n",
       "    <tr style=\"text-align: right;\">\n",
       "      <th></th>\n",
       "      <th>total_images</th>\n",
       "      <th>last_price</th>\n",
       "      <th>first_day_exposition</th>\n",
       "      <th>rooms</th>\n",
       "      <th>ceiling_height</th>\n",
       "      <th>floors_total</th>\n",
       "      <th>floor</th>\n",
       "      <th>is_apartment</th>\n",
       "      <th>studio</th>\n",
       "      <th>open_plan</th>\n",
       "      <th>balcony</th>\n",
       "      <th>locality_name</th>\n",
       "      <th>days_exposition</th>\n",
       "      <th>airports_nearest_km</th>\n",
       "      <th>parks_nearest_km</th>\n",
       "      <th>ponds_nearest_km</th>\n",
       "      <th>city_centers_nearest_km</th>\n",
       "      <th>parks_around_3_km</th>\n",
       "      <th>ponds_around_3_km</th>\n",
       "      <th>total_area_m2</th>\n",
       "      <th>living_area_m2</th>\n",
       "      <th>kitchen_area_m2</th>\n",
       "      <th>price_m2</th>\n",
       "      <th>day_of_week_exposition</th>\n",
       "      <th>month_exposition</th>\n",
       "      <th>year_exposition</th>\n",
       "    </tr>\n",
       "  </thead>\n",
       "  <tbody>\n",
       "    <tr>\n",
       "      <th>0</th>\n",
       "      <td>20</td>\n",
       "      <td>13,000,000.00</td>\n",
       "      <td>2019-03-07</td>\n",
       "      <td>3</td>\n",
       "      <td>2.70</td>\n",
       "      <td>16.00</td>\n",
       "      <td>8</td>\n",
       "      <td>0</td>\n",
       "      <td>0</td>\n",
       "      <td>0</td>\n",
       "      <td>NaN</td>\n",
       "      <td>санкт-петербург</td>\n",
       "      <td>NaN</td>\n",
       "      <td>18.86</td>\n",
       "      <td>0.48</td>\n",
       "      <td>0.76</td>\n",
       "      <td>16.03</td>\n",
       "      <td>1.00</td>\n",
       "      <td>2.00</td>\n",
       "      <td>108.00</td>\n",
       "      <td>51.00</td>\n",
       "      <td>25.00</td>\n",
       "      <td>254,901.96</td>\n",
       "      <td>Thursday</td>\n",
       "      <td>March</td>\n",
       "      <td>2019</td>\n",
       "    </tr>\n",
       "    <tr>\n",
       "      <th>1</th>\n",
       "      <td>7</td>\n",
       "      <td>3,350,000.00</td>\n",
       "      <td>2018-12-04</td>\n",
       "      <td>1</td>\n",
       "      <td>NaN</td>\n",
       "      <td>11.00</td>\n",
       "      <td>1</td>\n",
       "      <td>0</td>\n",
       "      <td>0</td>\n",
       "      <td>0</td>\n",
       "      <td>2.00</td>\n",
       "      <td>поселок шушары</td>\n",
       "      <td>81.00</td>\n",
       "      <td>12.82</td>\n",
       "      <td>NaN</td>\n",
       "      <td>NaN</td>\n",
       "      <td>18.60</td>\n",
       "      <td>0.00</td>\n",
       "      <td>0.00</td>\n",
       "      <td>40.40</td>\n",
       "      <td>18.60</td>\n",
       "      <td>11.00</td>\n",
       "      <td>180,107.53</td>\n",
       "      <td>Tuesday</td>\n",
       "      <td>December</td>\n",
       "      <td>2018</td>\n",
       "    </tr>\n",
       "    <tr>\n",
       "      <th>2</th>\n",
       "      <td>10</td>\n",
       "      <td>5,196,000.00</td>\n",
       "      <td>2015-08-20</td>\n",
       "      <td>2</td>\n",
       "      <td>NaN</td>\n",
       "      <td>5.00</td>\n",
       "      <td>4</td>\n",
       "      <td>0</td>\n",
       "      <td>0</td>\n",
       "      <td>0</td>\n",
       "      <td>0.00</td>\n",
       "      <td>санкт-петербург</td>\n",
       "      <td>558.00</td>\n",
       "      <td>21.74</td>\n",
       "      <td>0.09</td>\n",
       "      <td>0.57</td>\n",
       "      <td>13.93</td>\n",
       "      <td>1.00</td>\n",
       "      <td>2.00</td>\n",
       "      <td>56.00</td>\n",
       "      <td>34.30</td>\n",
       "      <td>8.30</td>\n",
       "      <td>151,486.88</td>\n",
       "      <td>Thursday</td>\n",
       "      <td>August</td>\n",
       "      <td>2015</td>\n",
       "    </tr>\n",
       "    <tr>\n",
       "      <th>3</th>\n",
       "      <td>0</td>\n",
       "      <td>64,900,000.00</td>\n",
       "      <td>2015-07-24</td>\n",
       "      <td>3</td>\n",
       "      <td>NaN</td>\n",
       "      <td>14.00</td>\n",
       "      <td>9</td>\n",
       "      <td>0</td>\n",
       "      <td>0</td>\n",
       "      <td>0</td>\n",
       "      <td>0.00</td>\n",
       "      <td>санкт-петербург</td>\n",
       "      <td>424.00</td>\n",
       "      <td>28.10</td>\n",
       "      <td>0.08</td>\n",
       "      <td>0.23</td>\n",
       "      <td>6.80</td>\n",
       "      <td>2.00</td>\n",
       "      <td>3.00</td>\n",
       "      <td>159.00</td>\n",
       "      <td>NaN</td>\n",
       "      <td>NaN</td>\n",
       "      <td>NaN</td>\n",
       "      <td>Friday</td>\n",
       "      <td>July</td>\n",
       "      <td>2015</td>\n",
       "    </tr>\n",
       "    <tr>\n",
       "      <th>4</th>\n",
       "      <td>2</td>\n",
       "      <td>10,000,000.00</td>\n",
       "      <td>2018-06-19</td>\n",
       "      <td>2</td>\n",
       "      <td>3.03</td>\n",
       "      <td>14.00</td>\n",
       "      <td>13</td>\n",
       "      <td>0</td>\n",
       "      <td>0</td>\n",
       "      <td>0</td>\n",
       "      <td>NaN</td>\n",
       "      <td>санкт-петербург</td>\n",
       "      <td>121.00</td>\n",
       "      <td>31.86</td>\n",
       "      <td>0.11</td>\n",
       "      <td>0.05</td>\n",
       "      <td>8.10</td>\n",
       "      <td>2.00</td>\n",
       "      <td>1.00</td>\n",
       "      <td>100.00</td>\n",
       "      <td>32.00</td>\n",
       "      <td>41.00</td>\n",
       "      <td>312,500.00</td>\n",
       "      <td>Tuesday</td>\n",
       "      <td>June</td>\n",
       "      <td>2018</td>\n",
       "    </tr>\n",
       "  </tbody>\n",
       "</table>\n",
       "</div>"
      ],
      "text/plain": [
       "   total_images    last_price first_day_exposition  rooms  ceiling_height  \\\n",
       "0            20 13,000,000.00           2019-03-07      3            2.70   \n",
       "1             7  3,350,000.00           2018-12-04      1             NaN   \n",
       "2            10  5,196,000.00           2015-08-20      2             NaN   \n",
       "3             0 64,900,000.00           2015-07-24      3             NaN   \n",
       "4             2 10,000,000.00           2018-06-19      2            3.03   \n",
       "\n",
       "   floors_total  floor  is_apartment  studio  open_plan  balcony  \\\n",
       "0         16.00      8             0       0          0      NaN   \n",
       "1         11.00      1             0       0          0     2.00   \n",
       "2          5.00      4             0       0          0     0.00   \n",
       "3         14.00      9             0       0          0     0.00   \n",
       "4         14.00     13             0       0          0      NaN   \n",
       "\n",
       "     locality_name  days_exposition  airports_nearest_km  parks_nearest_km  \\\n",
       "0  санкт-петербург              NaN                18.86              0.48   \n",
       "1   поселок шушары            81.00                12.82               NaN   \n",
       "2  санкт-петербург           558.00                21.74              0.09   \n",
       "3  санкт-петербург           424.00                28.10              0.08   \n",
       "4  санкт-петербург           121.00                31.86              0.11   \n",
       "\n",
       "   ponds_nearest_km  city_centers_nearest_km  parks_around_3_km  \\\n",
       "0              0.76                    16.03               1.00   \n",
       "1               NaN                    18.60               0.00   \n",
       "2              0.57                    13.93               1.00   \n",
       "3              0.23                     6.80               2.00   \n",
       "4              0.05                     8.10               2.00   \n",
       "\n",
       "   ponds_around_3_km  total_area_m2  living_area_m2  kitchen_area_m2  \\\n",
       "0               2.00         108.00           51.00            25.00   \n",
       "1               0.00          40.40           18.60            11.00   \n",
       "2               2.00          56.00           34.30             8.30   \n",
       "3               3.00         159.00             NaN              NaN   \n",
       "4               1.00         100.00           32.00            41.00   \n",
       "\n",
       "    price_m2 day_of_week_exposition month_exposition  year_exposition  \n",
       "0 254,901.96               Thursday            March             2019  \n",
       "1 180,107.53                Tuesday         December             2018  \n",
       "2 151,486.88               Thursday           August             2015  \n",
       "3        NaN                 Friday             July             2015  \n",
       "4 312,500.00                Tuesday             June             2018  "
      ]
     },
     "execution_count": 49,
     "metadata": {},
     "output_type": "execute_result"
    }
   ],
   "source": [
    "df.head()#добавили"
   ]
  },
  {
   "cell_type": "code",
   "execution_count": 50,
   "metadata": {},
   "outputs": [],
   "source": [
    "#добавим этаж квартиры\n",
    "def floor_status(row):\n",
    "    if row['floor'] == 1:\n",
    "        return 'первый'\n",
    "    elif row['floor'] == row['floors_total']:\n",
    "        return 'последний'\n",
    "    else:\n",
    "        return 'другой'"
   ]
  },
  {
   "cell_type": "code",
   "execution_count": 51,
   "metadata": {},
   "outputs": [],
   "source": [
    "df['floor_status'] = df.apply(floor_status, axis=1)"
   ]
  },
  {
   "cell_type": "code",
   "execution_count": 52,
   "metadata": {},
   "outputs": [
    {
     "data": {
      "text/html": [
       "<div>\n",
       "<style scoped>\n",
       "    .dataframe tbody tr th:only-of-type {\n",
       "        vertical-align: middle;\n",
       "    }\n",
       "\n",
       "    .dataframe tbody tr th {\n",
       "        vertical-align: top;\n",
       "    }\n",
       "\n",
       "    .dataframe thead th {\n",
       "        text-align: right;\n",
       "    }\n",
       "</style>\n",
       "<table border=\"1\" class=\"dataframe\">\n",
       "  <thead>\n",
       "    <tr style=\"text-align: right;\">\n",
       "      <th></th>\n",
       "      <th>total_images</th>\n",
       "      <th>last_price</th>\n",
       "      <th>first_day_exposition</th>\n",
       "      <th>rooms</th>\n",
       "      <th>ceiling_height</th>\n",
       "      <th>floors_total</th>\n",
       "      <th>floor</th>\n",
       "      <th>is_apartment</th>\n",
       "      <th>studio</th>\n",
       "      <th>open_plan</th>\n",
       "      <th>balcony</th>\n",
       "      <th>locality_name</th>\n",
       "      <th>days_exposition</th>\n",
       "      <th>airports_nearest_km</th>\n",
       "      <th>parks_nearest_km</th>\n",
       "      <th>ponds_nearest_km</th>\n",
       "      <th>city_centers_nearest_km</th>\n",
       "      <th>parks_around_3_km</th>\n",
       "      <th>ponds_around_3_km</th>\n",
       "      <th>total_area_m2</th>\n",
       "      <th>living_area_m2</th>\n",
       "      <th>kitchen_area_m2</th>\n",
       "      <th>price_m2</th>\n",
       "      <th>day_of_week_exposition</th>\n",
       "      <th>month_exposition</th>\n",
       "      <th>year_exposition</th>\n",
       "      <th>floor_status</th>\n",
       "    </tr>\n",
       "  </thead>\n",
       "  <tbody>\n",
       "    <tr>\n",
       "      <th>0</th>\n",
       "      <td>20</td>\n",
       "      <td>13,000,000.00</td>\n",
       "      <td>2019-03-07</td>\n",
       "      <td>3</td>\n",
       "      <td>2.70</td>\n",
       "      <td>16.00</td>\n",
       "      <td>8</td>\n",
       "      <td>0</td>\n",
       "      <td>0</td>\n",
       "      <td>0</td>\n",
       "      <td>NaN</td>\n",
       "      <td>санкт-петербург</td>\n",
       "      <td>NaN</td>\n",
       "      <td>18.86</td>\n",
       "      <td>0.48</td>\n",
       "      <td>0.76</td>\n",
       "      <td>16.03</td>\n",
       "      <td>1.00</td>\n",
       "      <td>2.00</td>\n",
       "      <td>108.00</td>\n",
       "      <td>51.00</td>\n",
       "      <td>25.00</td>\n",
       "      <td>254,901.96</td>\n",
       "      <td>Thursday</td>\n",
       "      <td>March</td>\n",
       "      <td>2019</td>\n",
       "      <td>другой</td>\n",
       "    </tr>\n",
       "    <tr>\n",
       "      <th>1</th>\n",
       "      <td>7</td>\n",
       "      <td>3,350,000.00</td>\n",
       "      <td>2018-12-04</td>\n",
       "      <td>1</td>\n",
       "      <td>NaN</td>\n",
       "      <td>11.00</td>\n",
       "      <td>1</td>\n",
       "      <td>0</td>\n",
       "      <td>0</td>\n",
       "      <td>0</td>\n",
       "      <td>2.00</td>\n",
       "      <td>поселок шушары</td>\n",
       "      <td>81.00</td>\n",
       "      <td>12.82</td>\n",
       "      <td>NaN</td>\n",
       "      <td>NaN</td>\n",
       "      <td>18.60</td>\n",
       "      <td>0.00</td>\n",
       "      <td>0.00</td>\n",
       "      <td>40.40</td>\n",
       "      <td>18.60</td>\n",
       "      <td>11.00</td>\n",
       "      <td>180,107.53</td>\n",
       "      <td>Tuesday</td>\n",
       "      <td>December</td>\n",
       "      <td>2018</td>\n",
       "      <td>первый</td>\n",
       "    </tr>\n",
       "    <tr>\n",
       "      <th>2</th>\n",
       "      <td>10</td>\n",
       "      <td>5,196,000.00</td>\n",
       "      <td>2015-08-20</td>\n",
       "      <td>2</td>\n",
       "      <td>NaN</td>\n",
       "      <td>5.00</td>\n",
       "      <td>4</td>\n",
       "      <td>0</td>\n",
       "      <td>0</td>\n",
       "      <td>0</td>\n",
       "      <td>0.00</td>\n",
       "      <td>санкт-петербург</td>\n",
       "      <td>558.00</td>\n",
       "      <td>21.74</td>\n",
       "      <td>0.09</td>\n",
       "      <td>0.57</td>\n",
       "      <td>13.93</td>\n",
       "      <td>1.00</td>\n",
       "      <td>2.00</td>\n",
       "      <td>56.00</td>\n",
       "      <td>34.30</td>\n",
       "      <td>8.30</td>\n",
       "      <td>151,486.88</td>\n",
       "      <td>Thursday</td>\n",
       "      <td>August</td>\n",
       "      <td>2015</td>\n",
       "      <td>другой</td>\n",
       "    </tr>\n",
       "    <tr>\n",
       "      <th>3</th>\n",
       "      <td>0</td>\n",
       "      <td>64,900,000.00</td>\n",
       "      <td>2015-07-24</td>\n",
       "      <td>3</td>\n",
       "      <td>NaN</td>\n",
       "      <td>14.00</td>\n",
       "      <td>9</td>\n",
       "      <td>0</td>\n",
       "      <td>0</td>\n",
       "      <td>0</td>\n",
       "      <td>0.00</td>\n",
       "      <td>санкт-петербург</td>\n",
       "      <td>424.00</td>\n",
       "      <td>28.10</td>\n",
       "      <td>0.08</td>\n",
       "      <td>0.23</td>\n",
       "      <td>6.80</td>\n",
       "      <td>2.00</td>\n",
       "      <td>3.00</td>\n",
       "      <td>159.00</td>\n",
       "      <td>NaN</td>\n",
       "      <td>NaN</td>\n",
       "      <td>NaN</td>\n",
       "      <td>Friday</td>\n",
       "      <td>July</td>\n",
       "      <td>2015</td>\n",
       "      <td>другой</td>\n",
       "    </tr>\n",
       "    <tr>\n",
       "      <th>4</th>\n",
       "      <td>2</td>\n",
       "      <td>10,000,000.00</td>\n",
       "      <td>2018-06-19</td>\n",
       "      <td>2</td>\n",
       "      <td>3.03</td>\n",
       "      <td>14.00</td>\n",
       "      <td>13</td>\n",
       "      <td>0</td>\n",
       "      <td>0</td>\n",
       "      <td>0</td>\n",
       "      <td>NaN</td>\n",
       "      <td>санкт-петербург</td>\n",
       "      <td>121.00</td>\n",
       "      <td>31.86</td>\n",
       "      <td>0.11</td>\n",
       "      <td>0.05</td>\n",
       "      <td>8.10</td>\n",
       "      <td>2.00</td>\n",
       "      <td>1.00</td>\n",
       "      <td>100.00</td>\n",
       "      <td>32.00</td>\n",
       "      <td>41.00</td>\n",
       "      <td>312,500.00</td>\n",
       "      <td>Tuesday</td>\n",
       "      <td>June</td>\n",
       "      <td>2018</td>\n",
       "      <td>другой</td>\n",
       "    </tr>\n",
       "  </tbody>\n",
       "</table>\n",
       "</div>"
      ],
      "text/plain": [
       "   total_images    last_price first_day_exposition  rooms  ceiling_height  \\\n",
       "0            20 13,000,000.00           2019-03-07      3            2.70   \n",
       "1             7  3,350,000.00           2018-12-04      1             NaN   \n",
       "2            10  5,196,000.00           2015-08-20      2             NaN   \n",
       "3             0 64,900,000.00           2015-07-24      3             NaN   \n",
       "4             2 10,000,000.00           2018-06-19      2            3.03   \n",
       "\n",
       "   floors_total  floor  is_apartment  studio  open_plan  balcony  \\\n",
       "0         16.00      8             0       0          0      NaN   \n",
       "1         11.00      1             0       0          0     2.00   \n",
       "2          5.00      4             0       0          0     0.00   \n",
       "3         14.00      9             0       0          0     0.00   \n",
       "4         14.00     13             0       0          0      NaN   \n",
       "\n",
       "     locality_name  days_exposition  airports_nearest_km  parks_nearest_km  \\\n",
       "0  санкт-петербург              NaN                18.86              0.48   \n",
       "1   поселок шушары            81.00                12.82               NaN   \n",
       "2  санкт-петербург           558.00                21.74              0.09   \n",
       "3  санкт-петербург           424.00                28.10              0.08   \n",
       "4  санкт-петербург           121.00                31.86              0.11   \n",
       "\n",
       "   ponds_nearest_km  city_centers_nearest_km  parks_around_3_km  \\\n",
       "0              0.76                    16.03               1.00   \n",
       "1               NaN                    18.60               0.00   \n",
       "2              0.57                    13.93               1.00   \n",
       "3              0.23                     6.80               2.00   \n",
       "4              0.05                     8.10               2.00   \n",
       "\n",
       "   ponds_around_3_km  total_area_m2  living_area_m2  kitchen_area_m2  \\\n",
       "0               2.00         108.00           51.00            25.00   \n",
       "1               0.00          40.40           18.60            11.00   \n",
       "2               2.00          56.00           34.30             8.30   \n",
       "3               3.00         159.00             NaN              NaN   \n",
       "4               1.00         100.00           32.00            41.00   \n",
       "\n",
       "    price_m2 day_of_week_exposition month_exposition  year_exposition  \\\n",
       "0 254,901.96               Thursday            March             2019   \n",
       "1 180,107.53                Tuesday         December             2018   \n",
       "2 151,486.88               Thursday           August             2015   \n",
       "3        NaN                 Friday             July             2015   \n",
       "4 312,500.00                Tuesday             June             2018   \n",
       "\n",
       "  floor_status  \n",
       "0       другой  \n",
       "1       первый  \n",
       "2       другой  \n",
       "3       другой  \n",
       "4       другой  "
      ]
     },
     "execution_count": 52,
     "metadata": {},
     "output_type": "execute_result"
    }
   ],
   "source": [
    "df.head()"
   ]
  },
  {
   "cell_type": "code",
   "execution_count": 53,
   "metadata": {},
   "outputs": [
    {
     "data": {
      "text/plain": [
       "другой       17408\n",
       "последний     3330\n",
       "первый        2912\n",
       "Name: floor_status, dtype: int64"
      ]
     },
     "execution_count": 53,
     "metadata": {},
     "output_type": "execute_result"
    }
   ],
   "source": [
    "df['floor_status'].value_counts()"
   ]
  },
  {
   "cell_type": "code",
   "execution_count": 54,
   "metadata": {},
   "outputs": [],
   "source": [
    "#посмотрим сообтношения жилой и общей площади, а также отношение площади кухни к общей.\n",
    "df['total_living_ratio'] = df['living_area_m2'] / df['total_area_m2']\n",
    "df['total_kitchen_ratio'] = df['kitchen_area_m2'] / df['total_area_m2']"
   ]
  },
  {
   "cell_type": "code",
   "execution_count": 55,
   "metadata": {},
   "outputs": [
    {
     "data": {
      "text/html": [
       "<div>\n",
       "<style scoped>\n",
       "    .dataframe tbody tr th:only-of-type {\n",
       "        vertical-align: middle;\n",
       "    }\n",
       "\n",
       "    .dataframe tbody tr th {\n",
       "        vertical-align: top;\n",
       "    }\n",
       "\n",
       "    .dataframe thead th {\n",
       "        text-align: right;\n",
       "    }\n",
       "</style>\n",
       "<table border=\"1\" class=\"dataframe\">\n",
       "  <thead>\n",
       "    <tr style=\"text-align: right;\">\n",
       "      <th></th>\n",
       "      <th>total_images</th>\n",
       "      <th>last_price</th>\n",
       "      <th>first_day_exposition</th>\n",
       "      <th>rooms</th>\n",
       "      <th>ceiling_height</th>\n",
       "      <th>floors_total</th>\n",
       "      <th>floor</th>\n",
       "      <th>is_apartment</th>\n",
       "      <th>studio</th>\n",
       "      <th>open_plan</th>\n",
       "      <th>balcony</th>\n",
       "      <th>locality_name</th>\n",
       "      <th>days_exposition</th>\n",
       "      <th>airports_nearest_km</th>\n",
       "      <th>parks_nearest_km</th>\n",
       "      <th>ponds_nearest_km</th>\n",
       "      <th>city_centers_nearest_km</th>\n",
       "      <th>parks_around_3_km</th>\n",
       "      <th>ponds_around_3_km</th>\n",
       "      <th>total_area_m2</th>\n",
       "      <th>living_area_m2</th>\n",
       "      <th>kitchen_area_m2</th>\n",
       "      <th>price_m2</th>\n",
       "      <th>day_of_week_exposition</th>\n",
       "      <th>month_exposition</th>\n",
       "      <th>year_exposition</th>\n",
       "      <th>floor_status</th>\n",
       "      <th>total_living_ratio</th>\n",
       "      <th>total_kitchen_ratio</th>\n",
       "    </tr>\n",
       "  </thead>\n",
       "  <tbody>\n",
       "    <tr>\n",
       "      <th>0</th>\n",
       "      <td>20</td>\n",
       "      <td>13,000,000.00</td>\n",
       "      <td>2019-03-07</td>\n",
       "      <td>3</td>\n",
       "      <td>2.70</td>\n",
       "      <td>16.00</td>\n",
       "      <td>8</td>\n",
       "      <td>0</td>\n",
       "      <td>0</td>\n",
       "      <td>0</td>\n",
       "      <td>NaN</td>\n",
       "      <td>санкт-петербург</td>\n",
       "      <td>NaN</td>\n",
       "      <td>18.86</td>\n",
       "      <td>0.48</td>\n",
       "      <td>0.76</td>\n",
       "      <td>16.03</td>\n",
       "      <td>1.00</td>\n",
       "      <td>2.00</td>\n",
       "      <td>108.00</td>\n",
       "      <td>51.00</td>\n",
       "      <td>25.00</td>\n",
       "      <td>254,901.96</td>\n",
       "      <td>Thursday</td>\n",
       "      <td>March</td>\n",
       "      <td>2019</td>\n",
       "      <td>другой</td>\n",
       "      <td>0.47</td>\n",
       "      <td>0.23</td>\n",
       "    </tr>\n",
       "    <tr>\n",
       "      <th>1</th>\n",
       "      <td>7</td>\n",
       "      <td>3,350,000.00</td>\n",
       "      <td>2018-12-04</td>\n",
       "      <td>1</td>\n",
       "      <td>NaN</td>\n",
       "      <td>11.00</td>\n",
       "      <td>1</td>\n",
       "      <td>0</td>\n",
       "      <td>0</td>\n",
       "      <td>0</td>\n",
       "      <td>2.00</td>\n",
       "      <td>поселок шушары</td>\n",
       "      <td>81.00</td>\n",
       "      <td>12.82</td>\n",
       "      <td>NaN</td>\n",
       "      <td>NaN</td>\n",
       "      <td>18.60</td>\n",
       "      <td>0.00</td>\n",
       "      <td>0.00</td>\n",
       "      <td>40.40</td>\n",
       "      <td>18.60</td>\n",
       "      <td>11.00</td>\n",
       "      <td>180,107.53</td>\n",
       "      <td>Tuesday</td>\n",
       "      <td>December</td>\n",
       "      <td>2018</td>\n",
       "      <td>первый</td>\n",
       "      <td>0.46</td>\n",
       "      <td>0.27</td>\n",
       "    </tr>\n",
       "    <tr>\n",
       "      <th>2</th>\n",
       "      <td>10</td>\n",
       "      <td>5,196,000.00</td>\n",
       "      <td>2015-08-20</td>\n",
       "      <td>2</td>\n",
       "      <td>NaN</td>\n",
       "      <td>5.00</td>\n",
       "      <td>4</td>\n",
       "      <td>0</td>\n",
       "      <td>0</td>\n",
       "      <td>0</td>\n",
       "      <td>0.00</td>\n",
       "      <td>санкт-петербург</td>\n",
       "      <td>558.00</td>\n",
       "      <td>21.74</td>\n",
       "      <td>0.09</td>\n",
       "      <td>0.57</td>\n",
       "      <td>13.93</td>\n",
       "      <td>1.00</td>\n",
       "      <td>2.00</td>\n",
       "      <td>56.00</td>\n",
       "      <td>34.30</td>\n",
       "      <td>8.30</td>\n",
       "      <td>151,486.88</td>\n",
       "      <td>Thursday</td>\n",
       "      <td>August</td>\n",
       "      <td>2015</td>\n",
       "      <td>другой</td>\n",
       "      <td>0.61</td>\n",
       "      <td>0.15</td>\n",
       "    </tr>\n",
       "    <tr>\n",
       "      <th>3</th>\n",
       "      <td>0</td>\n",
       "      <td>64,900,000.00</td>\n",
       "      <td>2015-07-24</td>\n",
       "      <td>3</td>\n",
       "      <td>NaN</td>\n",
       "      <td>14.00</td>\n",
       "      <td>9</td>\n",
       "      <td>0</td>\n",
       "      <td>0</td>\n",
       "      <td>0</td>\n",
       "      <td>0.00</td>\n",
       "      <td>санкт-петербург</td>\n",
       "      <td>424.00</td>\n",
       "      <td>28.10</td>\n",
       "      <td>0.08</td>\n",
       "      <td>0.23</td>\n",
       "      <td>6.80</td>\n",
       "      <td>2.00</td>\n",
       "      <td>3.00</td>\n",
       "      <td>159.00</td>\n",
       "      <td>NaN</td>\n",
       "      <td>NaN</td>\n",
       "      <td>NaN</td>\n",
       "      <td>Friday</td>\n",
       "      <td>July</td>\n",
       "      <td>2015</td>\n",
       "      <td>другой</td>\n",
       "      <td>NaN</td>\n",
       "      <td>NaN</td>\n",
       "    </tr>\n",
       "    <tr>\n",
       "      <th>4</th>\n",
       "      <td>2</td>\n",
       "      <td>10,000,000.00</td>\n",
       "      <td>2018-06-19</td>\n",
       "      <td>2</td>\n",
       "      <td>3.03</td>\n",
       "      <td>14.00</td>\n",
       "      <td>13</td>\n",
       "      <td>0</td>\n",
       "      <td>0</td>\n",
       "      <td>0</td>\n",
       "      <td>NaN</td>\n",
       "      <td>санкт-петербург</td>\n",
       "      <td>121.00</td>\n",
       "      <td>31.86</td>\n",
       "      <td>0.11</td>\n",
       "      <td>0.05</td>\n",
       "      <td>8.10</td>\n",
       "      <td>2.00</td>\n",
       "      <td>1.00</td>\n",
       "      <td>100.00</td>\n",
       "      <td>32.00</td>\n",
       "      <td>41.00</td>\n",
       "      <td>312,500.00</td>\n",
       "      <td>Tuesday</td>\n",
       "      <td>June</td>\n",
       "      <td>2018</td>\n",
       "      <td>другой</td>\n",
       "      <td>0.32</td>\n",
       "      <td>0.41</td>\n",
       "    </tr>\n",
       "  </tbody>\n",
       "</table>\n",
       "</div>"
      ],
      "text/plain": [
       "   total_images    last_price first_day_exposition  rooms  ceiling_height  \\\n",
       "0            20 13,000,000.00           2019-03-07      3            2.70   \n",
       "1             7  3,350,000.00           2018-12-04      1             NaN   \n",
       "2            10  5,196,000.00           2015-08-20      2             NaN   \n",
       "3             0 64,900,000.00           2015-07-24      3             NaN   \n",
       "4             2 10,000,000.00           2018-06-19      2            3.03   \n",
       "\n",
       "   floors_total  floor  is_apartment  studio  open_plan  balcony  \\\n",
       "0         16.00      8             0       0          0      NaN   \n",
       "1         11.00      1             0       0          0     2.00   \n",
       "2          5.00      4             0       0          0     0.00   \n",
       "3         14.00      9             0       0          0     0.00   \n",
       "4         14.00     13             0       0          0      NaN   \n",
       "\n",
       "     locality_name  days_exposition  airports_nearest_km  parks_nearest_km  \\\n",
       "0  санкт-петербург              NaN                18.86              0.48   \n",
       "1   поселок шушары            81.00                12.82               NaN   \n",
       "2  санкт-петербург           558.00                21.74              0.09   \n",
       "3  санкт-петербург           424.00                28.10              0.08   \n",
       "4  санкт-петербург           121.00                31.86              0.11   \n",
       "\n",
       "   ponds_nearest_km  city_centers_nearest_km  parks_around_3_km  \\\n",
       "0              0.76                    16.03               1.00   \n",
       "1               NaN                    18.60               0.00   \n",
       "2              0.57                    13.93               1.00   \n",
       "3              0.23                     6.80               2.00   \n",
       "4              0.05                     8.10               2.00   \n",
       "\n",
       "   ponds_around_3_km  total_area_m2  living_area_m2  kitchen_area_m2  \\\n",
       "0               2.00         108.00           51.00            25.00   \n",
       "1               0.00          40.40           18.60            11.00   \n",
       "2               2.00          56.00           34.30             8.30   \n",
       "3               3.00         159.00             NaN              NaN   \n",
       "4               1.00         100.00           32.00            41.00   \n",
       "\n",
       "    price_m2 day_of_week_exposition month_exposition  year_exposition  \\\n",
       "0 254,901.96               Thursday            March             2019   \n",
       "1 180,107.53                Tuesday         December             2018   \n",
       "2 151,486.88               Thursday           August             2015   \n",
       "3        NaN                 Friday             July             2015   \n",
       "4 312,500.00                Tuesday             June             2018   \n",
       "\n",
       "  floor_status  total_living_ratio  total_kitchen_ratio  \n",
       "0       другой                0.47                 0.23  \n",
       "1       первый                0.46                 0.27  \n",
       "2       другой                0.61                 0.15  \n",
       "3       другой                 NaN                  NaN  \n",
       "4       другой                0.32                 0.41  "
      ]
     },
     "execution_count": 55,
     "metadata": {},
     "output_type": "execute_result"
    }
   ],
   "source": [
    "df.head()#все расчитали и добавили в таблицу"
   ]
  },
  {
   "cell_type": "markdown",
   "metadata": {},
   "source": [
    "## Исследовательский анализ данных"
   ]
  },
  {
   "cell_type": "markdown",
   "metadata": {},
   "source": [
    "Изучите следующие параметры: площадь, цена, число комнат, высота потолков. Постройте гистограммы для каждого параметра.\n",
    "\n",
    "Изучите время продажи квартиры. Постройте гистограмму. Посчитайте среднее и медиану. Опишите, сколько обычно занимает продажа. Когда можно считать, что продажи прошли очень быстро, а когда необычно долго?\n",
    "\n",
    "Уберите редкие и выбивающиеся значения. Опишите, какие особенности обнаружили.\n",
    "\n",
    "Какие факторы больше всего влияют на стоимость квартиры? Изучите, зависит ли цена от площади, числа комнат, удалённости от центра.\n",
    "\n",
    "Изучите зависимость цены от того, на каком этаже расположена квартира: первом, последнем или другом. Также изучите зависимость от даты размещения: дня недели, месяца и года.\n",
    "\n",
    "Выберите 10 населённых пунктов с наибольшим числом объявлений. Посчитайте среднюю цену квадратного метра в этих населённых пунктах. Выделите населённые пункты с самой высокой и низкой стоимостью жилья. Эти данные можно найти по имени в столбце locality_name.\n",
    "\n",
    "Изучите предложения квартир: для каждой квартиры есть информация о расстоянии до центра. Выделите квартиры в Санкт-Петербурге (locality_name). Ваша задача — выяснить, какая область входит в центр. Создайте столбец с расстоянием до центра в километрах: округлите до целых значений. После этого посчитайте среднюю цену для каждого километра. Постройте график: он должен показывать, как цена зависит от удалённости от центра. Определите границу, где график сильно меняется, — это и будет центральная зона.\n",
    "\n",
    "Выделите сегмент квартир в центре. Проанализируйте эту территорию и изучите следующие параметры: площадь, цена, число комнат, высота потолков. Также выделите факторы, которые влияют на стоимость квартиры (число комнат, этаж, удалённость от центра, дата размещения объявления). Сделайте выводы. Отличаются ли они от общих выводов по всей базе?\n",
    "\n",
    "\n"
   ]
  },
  {
   "cell_type": "markdown",
   "metadata": {},
   "source": [
    "\n",
    "\n",
    "1)Изучим следующие параметры: площадь, цена, число комнат, высота потолков. Постройте гистограммы для каждого параметра."
   ]
  },
  {
   "cell_type": "code",
   "execution_count": 56,
   "metadata": {},
   "outputs": [
    {
     "name": "stdout",
     "output_type": "stream",
     "text": [
      "[[<AxesSubplot:title={'center':'total_area_m2'}>]]\n"
     ]
    },
    {
     "data": {
      "image/png": "[encoded data removed]",
      "text/plain": [
       "<Figure size 432x288 with 1 Axes>"
      ]
     },
     "metadata": {
      "needs_background": "light"
     },
     "output_type": "display_data"
    }
   ],
   "source": [
    "print(df.hist('total_area_m2', bins=20))#гистограмма общей площади"
   ]
  },
  {
   "cell_type": "code",
   "execution_count": 57,
   "metadata": {},
   "outputs": [
    {
     "name": "stdout",
     "output_type": "stream",
     "text": [
      "[[<AxesSubplot:title={'center':'rooms'}>]]\n"
     ]
    },
    {
     "data": {
      "image/png": "[encoded data removed]",
      "text/plain": [
       "<Figure size 432x288 with 1 Axes>"
      ]
     },
     "metadata": {
      "needs_background": "light"
     },
     "output_type": "display_data"
    }
   ],
   "source": [
    "print(df.hist('rooms',range=(1, 13)))#гистограмма для чистла комнат"
   ]
  },
  {
   "cell_type": "code",
   "execution_count": 58,
   "metadata": {},
   "outputs": [
    {
     "name": "stdout",
     "output_type": "stream",
     "text": [
      "[[<AxesSubplot:title={'center':'last_price'}>]]\n"
     ]
    },
    {
     "data": {
      "image/png": "[encoded data removed]",
      "text/plain": [
       "<Figure size 432x288 with 1 Axes>"
      ]
     },
     "metadata": {
      "needs_background": "light"
     },
     "output_type": "display_data"
    }
   ],
   "source": [
    "print(df.hist('last_price'))#гистораграмма цены"
   ]
  },
  {
   "cell_type": "code",
   "execution_count": 59,
   "metadata": {},
   "outputs": [
    {
     "name": "stdout",
     "output_type": "stream",
     "text": [
      "[[<AxesSubplot:title={'center':'ceiling_height'}>]]\n"
     ]
    },
    {
     "data": {
      "image/png": "[encoded data removed]",
      "text/plain": [
       "<Figure size 432x288 with 1 Axes>"
      ]
     },
     "metadata": {
      "needs_background": "light"
     },
     "output_type": "display_data"
    }
   ],
   "source": [
    "print(df.hist('ceiling_height',range=(0, 20)))"
   ]
  },
  {
   "cell_type": "markdown",
   "metadata": {},
   "source": [
    "2)Изучим время продажи квартиры. Постройте гистограмму. Посчитайте среднее и медиану. Опишите, сколько обычно занимает продажа. Когда можно считать, что продажи прошли очень быстро, а когда необычно долго?"
   ]
  },
  {
   "cell_type": "code",
   "execution_count": 60,
   "metadata": {},
   "outputs": [
    {
     "name": "stdout",
     "output_type": "stream",
     "text": [
      "[[<AxesSubplot:title={'center':'days_exposition'}>]]\n"
     ]
    },
    {
     "data": {
      "image/png": "[encoded data removed]",
      "text/plain": [
       "<Figure size 432x288 with 1 Axes>"
      ]
     },
     "metadata": {
      "needs_background": "light"
     },
     "output_type": "display_data"
    }
   ],
   "source": [
    "print(df.hist('days_exposition',bins=50))"
   ]
  },
  {
   "cell_type": "code",
   "execution_count": 61,
   "metadata": {},
   "outputs": [
    {
     "data": {
      "text/plain": [
       "95.0"
      ]
     },
     "execution_count": 61,
     "metadata": {},
     "output_type": "execute_result"
    }
   ],
   "source": [
    "df['days_exposition'].median()#посчитали медиану"
   ]
  },
  {
   "cell_type": "code",
   "execution_count": 62,
   "metadata": {},
   "outputs": [
    {
     "data": {
      "text/plain": [
       "180.7531998045921"
      ]
     },
     "execution_count": 62,
     "metadata": {},
     "output_type": "execute_result"
    }
   ],
   "source": [
    "df['days_exposition'].mean()#посчитали среднее"
   ]
  },
  {
   "cell_type": "code",
   "execution_count": 63,
   "metadata": {},
   "outputs": [
    {
     "data": {
      "text/plain": [
       "count   20,470.00\n",
       "mean       180.75\n",
       "std        219.78\n",
       "min          1.00\n",
       "25%         45.00\n",
       "50%         95.00\n",
       "75%        231.00\n",
       "max      1,580.00\n",
       "Name: days_exposition, dtype: float64"
      ]
     },
     "execution_count": 63,
     "metadata": {},
     "output_type": "execute_result"
    }
   ],
   "source": [
    "df['days_exposition'].describe()"
   ]
  },
  {
   "cell_type": "markdown",
   "metadata": {},
   "source": [
    "В среднем квартиры подаются 180 дней, все что более 219 дней это слишком долго для продажи, ,быстро квартиры продаются, меньше среднего значения"
   ]
  },
  {
   "cell_type": "markdown",
   "metadata": {},
   "source": [
    "3)Уберем редкие и выбивающиеся значения. Опишем, какие особенности обнаружили.\n",
    "\n",
    "-максимамальная прощадь квартиры 900 м2\n",
    "\n",
    "-высота потолка 1м и 100м\n",
    "\n",
    "-19 комнат в квартире\n",
    "\n",
    "-цена 763 000 000"
   ]
  },
  {
   "cell_type": "code",
   "execution_count": 64,
   "metadata": {},
   "outputs": [
    {
     "data": {
      "text/html": [
       "<div>\n",
       "<style scoped>\n",
       "    .dataframe tbody tr th:only-of-type {\n",
       "        vertical-align: middle;\n",
       "    }\n",
       "\n",
       "    .dataframe tbody tr th {\n",
       "        vertical-align: top;\n",
       "    }\n",
       "\n",
       "    .dataframe thead th {\n",
       "        text-align: right;\n",
       "    }\n",
       "</style>\n",
       "<table border=\"1\" class=\"dataframe\">\n",
       "  <thead>\n",
       "    <tr style=\"text-align: right;\">\n",
       "      <th></th>\n",
       "      <th>last_price</th>\n",
       "      <th>rooms</th>\n",
       "      <th>ceiling_height</th>\n",
       "      <th>total_area_m2</th>\n",
       "      <th>days_exposition</th>\n",
       "      <th>price_m2</th>\n",
       "    </tr>\n",
       "  </thead>\n",
       "  <tbody>\n",
       "    <tr>\n",
       "      <th>count</th>\n",
       "      <td>23,650.00</td>\n",
       "      <td>23,650.00</td>\n",
       "      <td>14,490.00</td>\n",
       "      <td>23,650.00</td>\n",
       "      <td>20,470.00</td>\n",
       "      <td>21,752.00</td>\n",
       "    </tr>\n",
       "    <tr>\n",
       "      <th>mean</th>\n",
       "      <td>6,541,126.90</td>\n",
       "      <td>2.07</td>\n",
       "      <td>2.77</td>\n",
       "      <td>60.33</td>\n",
       "      <td>180.75</td>\n",
       "      <td>187,520.80</td>\n",
       "    </tr>\n",
       "    <tr>\n",
       "      <th>std</th>\n",
       "      <td>10,896,399.18</td>\n",
       "      <td>1.08</td>\n",
       "      <td>1.26</td>\n",
       "      <td>35.66</td>\n",
       "      <td>219.78</td>\n",
       "      <td>186,133.96</td>\n",
       "    </tr>\n",
       "    <tr>\n",
       "      <th>min</th>\n",
       "      <td>12,190.00</td>\n",
       "      <td>0.00</td>\n",
       "      <td>1.00</td>\n",
       "      <td>12.00</td>\n",
       "      <td>1.00</td>\n",
       "      <td>380.94</td>\n",
       "    </tr>\n",
       "    <tr>\n",
       "      <th>25%</th>\n",
       "      <td>3,400,000.00</td>\n",
       "      <td>1.00</td>\n",
       "      <td>2.52</td>\n",
       "      <td>40.00</td>\n",
       "      <td>45.00</td>\n",
       "      <td>127,329.19</td>\n",
       "    </tr>\n",
       "    <tr>\n",
       "      <th>50%</th>\n",
       "      <td>4,650,000.00</td>\n",
       "      <td>2.00</td>\n",
       "      <td>2.65</td>\n",
       "      <td>52.00</td>\n",
       "      <td>95.00</td>\n",
       "      <td>168,421.05</td>\n",
       "    </tr>\n",
       "    <tr>\n",
       "      <th>75%</th>\n",
       "      <td>6,799,000.00</td>\n",
       "      <td>3.00</td>\n",
       "      <td>2.80</td>\n",
       "      <td>69.70</td>\n",
       "      <td>231.00</td>\n",
       "      <td>221,446.02</td>\n",
       "    </tr>\n",
       "    <tr>\n",
       "      <th>max</th>\n",
       "      <td>763,000,000.00</td>\n",
       "      <td>19.00</td>\n",
       "      <td>100.00</td>\n",
       "      <td>900.00</td>\n",
       "      <td>1,580.00</td>\n",
       "      <td>21,663,333.33</td>\n",
       "    </tr>\n",
       "  </tbody>\n",
       "</table>\n",
       "</div>"
      ],
      "text/plain": [
       "          last_price     rooms  ceiling_height  total_area_m2  \\\n",
       "count      23,650.00 23,650.00       14,490.00      23,650.00   \n",
       "mean    6,541,126.90      2.07            2.77          60.33   \n",
       "std    10,896,399.18      1.08            1.26          35.66   \n",
       "min        12,190.00      0.00            1.00          12.00   \n",
       "25%     3,400,000.00      1.00            2.52          40.00   \n",
       "50%     4,650,000.00      2.00            2.65          52.00   \n",
       "75%     6,799,000.00      3.00            2.80          69.70   \n",
       "max   763,000,000.00     19.00          100.00         900.00   \n",
       "\n",
       "       days_exposition      price_m2  \n",
       "count        20,470.00     21,752.00  \n",
       "mean            180.75    187,520.80  \n",
       "std             219.78    186,133.96  \n",
       "min               1.00        380.94  \n",
       "25%              45.00    127,329.19  \n",
       "50%              95.00    168,421.05  \n",
       "75%             231.00    221,446.02  \n",
       "max           1,580.00 21,663,333.33  "
      ]
     },
     "execution_count": 64,
     "metadata": {},
     "output_type": "execute_result"
    }
   ],
   "source": [
    "df[['last_price', 'rooms', 'ceiling_height', 'total_area_m2', 'days_exposition', 'price_m2']].describe()"
   ]
  },
  {
   "cell_type": "code",
   "execution_count": 65,
   "metadata": {},
   "outputs": [],
   "source": [
    "#напишем функцию по удалению выбросов\n",
    "def delete_outliers(df, column, grafic=0, x=10,y=10):\n",
    "    q1 = df[column].quantile(0.25)\n",
    "    q3 = df[column].quantile(0.75)\n",
    "    iqr = q3 - q1\n",
    "    filt = (df[column] >= (q1 - 1.5*iqr)) & (df[column] <= (q3 + 1.5*iqr))\n",
    "    if grafic == 1:\n",
    "        return df.loc[filt].boxplot([column], figsize=(x,y))\n",
    "    else:\n",
    "        return df.loc[filt]"
   ]
  },
  {
   "cell_type": "markdown",
   "metadata": {},
   "source": [
    "4)Какие факторы больше всего влияют на стоимость квартиры? Изучите, зависит ли цена от площади, числа комнат, удалённости от центра.Какие факторы больше всего влияют на стоимость квартиры? Изучите, зависит ли цена от площади, числа комнат, удалённости от центра. Изучите зависимость цены от того, на каком этаже расположена квартира: первом, последнем или другом. Также изучите зависимость от даты размещения: дня недели, месяца и года."
   ]
  },
  {
   "cell_type": "code",
   "execution_count": 66,
   "metadata": {},
   "outputs": [
    {
     "data": {
      "text/plain": [
       "(0.0, 150.0)"
      ]
     },
     "execution_count": 66,
     "metadata": {},
     "output_type": "execute_result"
    },
    {
     "data": {
      "image/png": "[encoded data removed]",
      "text/plain": [
       "<Figure size 720x720 with 1 Axes>"
      ]
     },
     "metadata": {
      "needs_background": "light"
     },
     "output_type": "display_data"
    }
   ],
   "source": [
    "delete_outliers(df, 'total_area_m2',1,10,10).set_ylim(0,150)"
   ]
  },
  {
   "cell_type": "code",
   "execution_count": 67,
   "metadata": {},
   "outputs": [
    {
     "data": {
      "text/plain": [
       "54.32568508435241"
      ]
     },
     "execution_count": 67,
     "metadata": {},
     "output_type": "execute_result"
    }
   ],
   "source": [
    "delete_outliers(df, 'total_area_m2',0)['total_area_m2'].mean()"
   ]
  },
  {
   "cell_type": "code",
   "execution_count": 68,
   "metadata": {},
   "outputs": [
    {
     "data": {
      "text/plain": [
       "(0.0, 10000000.0)"
      ]
     },
     "execution_count": 68,
     "metadata": {},
     "output_type": "execute_result"
    },
    {
     "data": {
      "image/png": "[encoded data removed]",
      "text/plain": [
       "<Figure size 720x720 with 1 Axes>"
      ]
     },
     "metadata": {
      "needs_background": "light"
     },
     "output_type": "display_data"
    }
   ],
   "source": [
    "delete_outliers(df, 'last_price',1,10,10).set_ylim(0,10000000)"
   ]
  },
  {
   "cell_type": "code",
   "execution_count": 69,
   "metadata": {},
   "outputs": [
    {
     "data": {
      "text/plain": [
       "4838942.090946979"
      ]
     },
     "execution_count": 69,
     "metadata": {},
     "output_type": "execute_result"
    }
   ],
   "source": [
    "delete_outliers(df, 'last_price',0)['last_price'].mean()"
   ]
  },
  {
   "cell_type": "code",
   "execution_count": 70,
   "metadata": {},
   "outputs": [
    {
     "data": {
      "text/plain": [
       "(0.0, 10.0)"
      ]
     },
     "execution_count": 70,
     "metadata": {},
     "output_type": "execute_result"
    },
    {
     "data": {
      "image/png": "[encoded data removed]",
      "text/plain": [
       "<Figure size 720x720 with 1 Axes>"
      ]
     },
     "metadata": {
      "needs_background": "light"
     },
     "output_type": "display_data"
    }
   ],
   "source": [
    "delete_outliers(df, 'rooms',1,10,10).set_ylim(0,10)"
   ]
  },
  {
   "cell_type": "code",
   "execution_count": 71,
   "metadata": {},
   "outputs": [
    {
     "data": {
      "text/plain": [
       "2.0473259762309"
      ]
     },
     "execution_count": 71,
     "metadata": {},
     "output_type": "execute_result"
    }
   ],
   "source": [
    "delete_outliers(df, 'rooms',0)['rooms'].mean()"
   ]
  },
  {
   "cell_type": "code",
   "execution_count": 72,
   "metadata": {},
   "outputs": [
    {
     "data": {
      "text/plain": [
       "(0.0, 20.0)"
      ]
     },
     "execution_count": 72,
     "metadata": {},
     "output_type": "execute_result"
    },
    {
     "data": {
      "image/png": "[encoded data removed]",
      "text/plain": [
       "<Figure size 720x720 with 1 Axes>"
      ]
     },
     "metadata": {
      "needs_background": "light"
     },
     "output_type": "display_data"
    }
   ],
   "source": [
    "delete_outliers(df, 'city_centers_nearest_km',1,10,10).set_ylim(0,20)"
   ]
  },
  {
   "cell_type": "code",
   "execution_count": 73,
   "metadata": {},
   "outputs": [
    {
     "data": {
      "text/plain": [
       "12.038010661630315"
      ]
     },
     "execution_count": 73,
     "metadata": {},
     "output_type": "execute_result"
    }
   ],
   "source": [
    "delete_outliers(df, 'city_centers_nearest_km',0)['city_centers_nearest_km'].mean()"
   ]
  },
  {
   "cell_type": "code",
   "execution_count": 74,
   "metadata": {},
   "outputs": [
    {
     "data": {
      "text/plain": [
       "city_centers_nearest_km\n",
       "11.12      119,000,000.00\n",
       "4.17       168,600,000.00\n",
       "41.63      180,000,000.00\n",
       "60.22      180,000,000.00\n",
       "5.24       180,000,000.00\n",
       "               ...       \n",
       "3.79    18,000,000,000.00\n",
       "6.24    24,500,000,000.00\n",
       "3.96    27,666,666,666.67\n",
       "1.07    28,923,840,000.00\n",
       "1.20    33,000,000,000.00\n",
       "Name: last_price, Length: 7627, dtype: float64"
      ]
     },
     "execution_count": 74,
     "metadata": {},
     "output_type": "execute_result"
    }
   ],
   "source": [
    "city_centers_nearest_km_v = df.groupby('city_centers_nearest_km')['last_price'].sum() / \\\n",
    "   df.groupby('city_centers_nearest_km')['last_price'].count() * 100\n",
    "city_centers_nearest_km_v.sort_values()"
   ]
  },
  {
   "cell_type": "markdown",
   "metadata": {},
   "source": [
    "По показателям отдаленность от центра никак не влияет на стоимость"
   ]
  },
  {
   "cell_type": "code",
   "execution_count": 75,
   "metadata": {},
   "outputs": [
    {
     "data": {
      "text/plain": [
       "total_area_m2\n",
       "28.66        690,000.00\n",
       "19.50        945,750.00\n",
       "14.00      1,190,000.00\n",
       "29.62      1,300,000.00\n",
       "54.33      1,300,000.00\n",
       "              ...      \n",
       "285.70   245,000,000.00\n",
       "400.00   296,333,333.33\n",
       "618.00   300,000,000.00\n",
       "401.00   401,300,000.00\n",
       "900.00   420,000,000.00\n",
       "Name: last_price, Length: 2181, dtype: float64"
      ]
     },
     "execution_count": 75,
     "metadata": {},
     "output_type": "execute_result"
    }
   ],
   "source": [
    "total_area_v = df.groupby('total_area_m2')['last_price'].sum() / \\\n",
    "   df.groupby('total_area_m2')['last_price'].count()\n",
    "total_area_v.sort_values()"
   ]
  },
  {
   "cell_type": "markdown",
   "metadata": {},
   "source": [
    "Чем больше квадратура в квартире,тем больше цена"
   ]
  },
  {
   "cell_type": "code",
   "execution_count": 76,
   "metadata": {},
   "outputs": [
    {
     "data": {
      "text/plain": [
       "rooms\n",
       "0      3,337,724.11\n",
       "1      3,834,079.56\n",
       "2      5,590,627.54\n",
       "3      8,181,797.86\n",
       "4     13,431,852.49\n",
       "5     23,762,082.09\n",
       "6     31,709,751.66\n",
       "7     51,470,069.08\n",
       "8     50,224,166.67\n",
       "9     34,152,362.50\n",
       "10    26,166,666.67\n",
       "11    25,250,000.00\n",
       "12   420,000,000.00\n",
       "14    26,829,500.00\n",
       "15    65,000,000.00\n",
       "16    28,500,000.00\n",
       "19    32,250,000.00\n",
       "Name: last_price, dtype: float64"
      ]
     },
     "execution_count": 76,
     "metadata": {},
     "output_type": "execute_result"
    }
   ],
   "source": [
    "rooms_v = df.groupby('rooms')['last_price'].sum() / \\\n",
    "   df.groupby('rooms')['last_price'].count()\n",
    "rooms_v"
   ]
  },
  {
   "cell_type": "markdown",
   "metadata": {},
   "source": [
    "до 5 комнат ценв растет вместе с колличеством комнат, далее все хаотично"
   ]
  },
  {
   "cell_type": "code",
   "execution_count": 77,
   "metadata": {},
   "outputs": [
    {
     "data": {
      "text/plain": [
       "floor_status\n",
       "другой      6,675,825.44\n",
       "первый      4,800,464.64\n",
       "последний   7,359,137.80\n",
       "Name: last_price, dtype: float64"
      ]
     },
     "execution_count": 77,
     "metadata": {},
     "output_type": "execute_result"
    }
   ],
   "source": [
    "floor_status_v = df.groupby('floor_status')['last_price'].sum() / \\\n",
    "   df.groupby('floor_status')['last_price'].count()\n",
    "floor_status_v"
   ]
  },
  {
   "cell_type": "markdown",
   "metadata": {},
   "source": [
    "Дешевле всего квартиры, которые находятся на первом этаже, на последнем самые дорогие квартиры"
   ]
  },
  {
   "cell_type": "code",
   "execution_count": 78,
   "metadata": {},
   "outputs": [
    {
     "data": {
      "text/plain": [
       "day_of_week_exposition\n",
       "Friday      6,364,605.38\n",
       "Monday      6,510,814.86\n",
       "Saturday    6,982,510.31\n",
       "Sunday      6,249,359.91\n",
       "Thursday    6,711,766.63\n",
       "Tuesday     6,393,782.13\n",
       "Wednesday   6,626,416.16\n",
       "Name: last_price, dtype: float64"
      ]
     },
     "execution_count": 78,
     "metadata": {},
     "output_type": "execute_result"
    }
   ],
   "source": [
    "day_of_week_exposition_v = df.groupby('day_of_week_exposition')['last_price'].sum() / \\\n",
    "   df.groupby('day_of_week_exposition')['last_price'].count()\n",
    "day_of_week_exposition_v"
   ]
  },
  {
   "cell_type": "markdown",
   "metadata": {},
   "source": [
    "Дни недели на продажу квартиры никак не влият"
   ]
  },
  {
   "cell_type": "code",
   "execution_count": 79,
   "metadata": {},
   "outputs": [
    {
     "data": {
      "text/plain": [
       "month_exposition\n",
       "April       6,742,670.94\n",
       "August      6,352,839.44\n",
       "December    7,005,342.66\n",
       "February    6,464,463.11\n",
       "January     6,666,974.98\n",
       "July        6,641,335.94\n",
       "June        6,311,184.37\n",
       "March       6,362,919.37\n",
       "May         6,594,776.78\n",
       "November    6,461,457.98\n",
       "October     6,235,165.85\n",
       "September   6,828,470.77\n",
       "Name: last_price, dtype: float64"
      ]
     },
     "execution_count": 79,
     "metadata": {},
     "output_type": "execute_result"
    }
   ],
   "source": [
    "month_exposition_v = df.groupby('month_exposition')['last_price'].sum() / \\\n",
    "   df.groupby('month_exposition')['last_price'].count()\n",
    "month_exposition_v"
   ]
  },
  {
   "cell_type": "markdown",
   "metadata": {},
   "source": [
    "Месяцы тоже никак не влияют, немного дороже квартиры в декабре"
   ]
  },
  {
   "cell_type": "code",
   "execution_count": 80,
   "metadata": {},
   "outputs": [
    {
     "data": {
      "text/plain": [
       "year_exposition\n",
       "2014   12,046,600.18\n",
       "2015    8,592,727.43\n",
       "2016    6,829,414.85\n",
       "2017    6,585,821.90\n",
       "2018    5,952,216.14\n",
       "2019    6,782,388.39\n",
       "Name: last_price, dtype: float64"
      ]
     },
     "execution_count": 80,
     "metadata": {},
     "output_type": "execute_result"
    }
   ],
   "source": [
    "year_exposition_v = df.groupby('year_exposition')['last_price'].sum() / \\\n",
    "   df.groupby('year_exposition')['last_price'].count()\n",
    "year_exposition_v"
   ]
  },
  {
   "cell_type": "markdown",
   "metadata": {},
   "source": [
    "С годами цены не увиличиваются,самые высокие цены были в 2014 году "
   ]
  },
  {
   "cell_type": "code",
   "execution_count": 81,
   "metadata": {},
   "outputs": [
    {
     "data": {
      "text/html": [
       "<div>\n",
       "<style scoped>\n",
       "    .dataframe tbody tr th:only-of-type {\n",
       "        vertical-align: middle;\n",
       "    }\n",
       "\n",
       "    .dataframe tbody tr th {\n",
       "        vertical-align: top;\n",
       "    }\n",
       "\n",
       "    .dataframe thead th {\n",
       "        text-align: right;\n",
       "    }\n",
       "</style>\n",
       "<table border=\"1\" class=\"dataframe\">\n",
       "  <thead>\n",
       "    <tr style=\"text-align: right;\">\n",
       "      <th></th>\n",
       "      <th>total_images</th>\n",
       "      <th>last_price</th>\n",
       "      <th>first_day_exposition</th>\n",
       "      <th>rooms</th>\n",
       "      <th>ceiling_height</th>\n",
       "      <th>floors_total</th>\n",
       "      <th>floor</th>\n",
       "      <th>is_apartment</th>\n",
       "      <th>studio</th>\n",
       "      <th>open_plan</th>\n",
       "      <th>balcony</th>\n",
       "      <th>locality_name</th>\n",
       "      <th>days_exposition</th>\n",
       "      <th>airports_nearest_km</th>\n",
       "      <th>parks_nearest_km</th>\n",
       "      <th>ponds_nearest_km</th>\n",
       "      <th>city_centers_nearest_km</th>\n",
       "      <th>parks_around_3_km</th>\n",
       "      <th>ponds_around_3_km</th>\n",
       "      <th>total_area_m2</th>\n",
       "      <th>living_area_m2</th>\n",
       "      <th>kitchen_area_m2</th>\n",
       "      <th>price_m2</th>\n",
       "      <th>day_of_week_exposition</th>\n",
       "      <th>month_exposition</th>\n",
       "      <th>year_exposition</th>\n",
       "      <th>floor_status</th>\n",
       "      <th>total_living_ratio</th>\n",
       "      <th>total_kitchen_ratio</th>\n",
       "    </tr>\n",
       "  </thead>\n",
       "  <tbody>\n",
       "    <tr>\n",
       "      <th>0</th>\n",
       "      <td>20</td>\n",
       "      <td>13,000,000.00</td>\n",
       "      <td>2019-03-07</td>\n",
       "      <td>3</td>\n",
       "      <td>2.70</td>\n",
       "      <td>16.00</td>\n",
       "      <td>8</td>\n",
       "      <td>0</td>\n",
       "      <td>0</td>\n",
       "      <td>0</td>\n",
       "      <td>NaN</td>\n",
       "      <td>санкт-петербург</td>\n",
       "      <td>NaN</td>\n",
       "      <td>18.86</td>\n",
       "      <td>0.48</td>\n",
       "      <td>0.76</td>\n",
       "      <td>16.03</td>\n",
       "      <td>1.00</td>\n",
       "      <td>2.00</td>\n",
       "      <td>108.00</td>\n",
       "      <td>51.00</td>\n",
       "      <td>25.00</td>\n",
       "      <td>254,901.96</td>\n",
       "      <td>Thursday</td>\n",
       "      <td>March</td>\n",
       "      <td>2019</td>\n",
       "      <td>другой</td>\n",
       "      <td>0.47</td>\n",
       "      <td>0.23</td>\n",
       "    </tr>\n",
       "    <tr>\n",
       "      <th>1</th>\n",
       "      <td>7</td>\n",
       "      <td>3,350,000.00</td>\n",
       "      <td>2018-12-04</td>\n",
       "      <td>1</td>\n",
       "      <td>NaN</td>\n",
       "      <td>11.00</td>\n",
       "      <td>1</td>\n",
       "      <td>0</td>\n",
       "      <td>0</td>\n",
       "      <td>0</td>\n",
       "      <td>2.00</td>\n",
       "      <td>поселок шушары</td>\n",
       "      <td>81.00</td>\n",
       "      <td>12.82</td>\n",
       "      <td>NaN</td>\n",
       "      <td>NaN</td>\n",
       "      <td>18.60</td>\n",
       "      <td>0.00</td>\n",
       "      <td>0.00</td>\n",
       "      <td>40.40</td>\n",
       "      <td>18.60</td>\n",
       "      <td>11.00</td>\n",
       "      <td>180,107.53</td>\n",
       "      <td>Tuesday</td>\n",
       "      <td>December</td>\n",
       "      <td>2018</td>\n",
       "      <td>первый</td>\n",
       "      <td>0.46</td>\n",
       "      <td>0.27</td>\n",
       "    </tr>\n",
       "    <tr>\n",
       "      <th>2</th>\n",
       "      <td>10</td>\n",
       "      <td>5,196,000.00</td>\n",
       "      <td>2015-08-20</td>\n",
       "      <td>2</td>\n",
       "      <td>NaN</td>\n",
       "      <td>5.00</td>\n",
       "      <td>4</td>\n",
       "      <td>0</td>\n",
       "      <td>0</td>\n",
       "      <td>0</td>\n",
       "      <td>0.00</td>\n",
       "      <td>санкт-петербург</td>\n",
       "      <td>558.00</td>\n",
       "      <td>21.74</td>\n",
       "      <td>0.09</td>\n",
       "      <td>0.57</td>\n",
       "      <td>13.93</td>\n",
       "      <td>1.00</td>\n",
       "      <td>2.00</td>\n",
       "      <td>56.00</td>\n",
       "      <td>34.30</td>\n",
       "      <td>8.30</td>\n",
       "      <td>151,486.88</td>\n",
       "      <td>Thursday</td>\n",
       "      <td>August</td>\n",
       "      <td>2015</td>\n",
       "      <td>другой</td>\n",
       "      <td>0.61</td>\n",
       "      <td>0.15</td>\n",
       "    </tr>\n",
       "    <tr>\n",
       "      <th>3</th>\n",
       "      <td>0</td>\n",
       "      <td>64,900,000.00</td>\n",
       "      <td>2015-07-24</td>\n",
       "      <td>3</td>\n",
       "      <td>NaN</td>\n",
       "      <td>14.00</td>\n",
       "      <td>9</td>\n",
       "      <td>0</td>\n",
       "      <td>0</td>\n",
       "      <td>0</td>\n",
       "      <td>0.00</td>\n",
       "      <td>санкт-петербург</td>\n",
       "      <td>424.00</td>\n",
       "      <td>28.10</td>\n",
       "      <td>0.08</td>\n",
       "      <td>0.23</td>\n",
       "      <td>6.80</td>\n",
       "      <td>2.00</td>\n",
       "      <td>3.00</td>\n",
       "      <td>159.00</td>\n",
       "      <td>NaN</td>\n",
       "      <td>NaN</td>\n",
       "      <td>NaN</td>\n",
       "      <td>Friday</td>\n",
       "      <td>July</td>\n",
       "      <td>2015</td>\n",
       "      <td>другой</td>\n",
       "      <td>NaN</td>\n",
       "      <td>NaN</td>\n",
       "    </tr>\n",
       "    <tr>\n",
       "      <th>4</th>\n",
       "      <td>2</td>\n",
       "      <td>10,000,000.00</td>\n",
       "      <td>2018-06-19</td>\n",
       "      <td>2</td>\n",
       "      <td>3.03</td>\n",
       "      <td>14.00</td>\n",
       "      <td>13</td>\n",
       "      <td>0</td>\n",
       "      <td>0</td>\n",
       "      <td>0</td>\n",
       "      <td>NaN</td>\n",
       "      <td>санкт-петербург</td>\n",
       "      <td>121.00</td>\n",
       "      <td>31.86</td>\n",
       "      <td>0.11</td>\n",
       "      <td>0.05</td>\n",
       "      <td>8.10</td>\n",
       "      <td>2.00</td>\n",
       "      <td>1.00</td>\n",
       "      <td>100.00</td>\n",
       "      <td>32.00</td>\n",
       "      <td>41.00</td>\n",
       "      <td>312,500.00</td>\n",
       "      <td>Tuesday</td>\n",
       "      <td>June</td>\n",
       "      <td>2018</td>\n",
       "      <td>другой</td>\n",
       "      <td>0.32</td>\n",
       "      <td>0.41</td>\n",
       "    </tr>\n",
       "  </tbody>\n",
       "</table>\n",
       "</div>"
      ],
      "text/plain": [
       "   total_images    last_price first_day_exposition  rooms  ceiling_height  \\\n",
       "0            20 13,000,000.00           2019-03-07      3            2.70   \n",
       "1             7  3,350,000.00           2018-12-04      1             NaN   \n",
       "2            10  5,196,000.00           2015-08-20      2             NaN   \n",
       "3             0 64,900,000.00           2015-07-24      3             NaN   \n",
       "4             2 10,000,000.00           2018-06-19      2            3.03   \n",
       "\n",
       "   floors_total  floor  is_apartment  studio  open_plan  balcony  \\\n",
       "0         16.00      8             0       0          0      NaN   \n",
       "1         11.00      1             0       0          0     2.00   \n",
       "2          5.00      4             0       0          0     0.00   \n",
       "3         14.00      9             0       0          0     0.00   \n",
       "4         14.00     13             0       0          0      NaN   \n",
       "\n",
       "     locality_name  days_exposition  airports_nearest_km  parks_nearest_km  \\\n",
       "0  санкт-петербург              NaN                18.86              0.48   \n",
       "1   поселок шушары            81.00                12.82               NaN   \n",
       "2  санкт-петербург           558.00                21.74              0.09   \n",
       "3  санкт-петербург           424.00                28.10              0.08   \n",
       "4  санкт-петербург           121.00                31.86              0.11   \n",
       "\n",
       "   ponds_nearest_km  city_centers_nearest_km  parks_around_3_km  \\\n",
       "0              0.76                    16.03               1.00   \n",
       "1               NaN                    18.60               0.00   \n",
       "2              0.57                    13.93               1.00   \n",
       "3              0.23                     6.80               2.00   \n",
       "4              0.05                     8.10               2.00   \n",
       "\n",
       "   ponds_around_3_km  total_area_m2  living_area_m2  kitchen_area_m2  \\\n",
       "0               2.00         108.00           51.00            25.00   \n",
       "1               0.00          40.40           18.60            11.00   \n",
       "2               2.00          56.00           34.30             8.30   \n",
       "3               3.00         159.00             NaN              NaN   \n",
       "4               1.00         100.00           32.00            41.00   \n",
       "\n",
       "    price_m2 day_of_week_exposition month_exposition  year_exposition  \\\n",
       "0 254,901.96               Thursday            March             2019   \n",
       "1 180,107.53                Tuesday         December             2018   \n",
       "2 151,486.88               Thursday           August             2015   \n",
       "3        NaN                 Friday             July             2015   \n",
       "4 312,500.00                Tuesday             June             2018   \n",
       "\n",
       "  floor_status  total_living_ratio  total_kitchen_ratio  \n",
       "0       другой                0.47                 0.23  \n",
       "1       первый                0.46                 0.27  \n",
       "2       другой                0.61                 0.15  \n",
       "3       другой                 NaN                  NaN  \n",
       "4       другой                0.32                 0.41  "
      ]
     },
     "execution_count": 81,
     "metadata": {},
     "output_type": "execute_result"
    }
   ],
   "source": [
    "df.head()"
   ]
  },
  {
   "cell_type": "code",
   "execution_count": 82,
   "metadata": {},
   "outputs": [
    {
     "data": {
      "text/html": [
       "<style  type=\"text/css\" >\n",
       "#T_987f7_row0_col0,#T_987f7_row1_col1,#T_987f7_row2_col2,#T_987f7_row3_col3{\n",
       "            background-color:  #b40426;\n",
       "            color:  #f1f1f1;\n",
       "        }#T_987f7_row0_col1{\n",
       "            background-color:  #f6a586;\n",
       "            color:  #000000;\n",
       "        }#T_987f7_row0_col2{\n",
       "            background-color:  #4055c8;\n",
       "            color:  #f1f1f1;\n",
       "        }#T_987f7_row0_col3{\n",
       "            background-color:  #445acc;\n",
       "            color:  #f1f1f1;\n",
       "        }#T_987f7_row1_col0{\n",
       "            background-color:  #f7a889;\n",
       "            color:  #000000;\n",
       "        }#T_987f7_row1_col2,#T_987f7_row1_col3,#T_987f7_row2_col0,#T_987f7_row2_col1{\n",
       "            background-color:  #3b4cc0;\n",
       "            color:  #f1f1f1;\n",
       "        }#T_987f7_row2_col3{\n",
       "            background-color:  #5a78e4;\n",
       "            color:  #000000;\n",
       "        }#T_987f7_row3_col0{\n",
       "            background-color:  #6485ec;\n",
       "            color:  #000000;\n",
       "        }#T_987f7_row3_col1{\n",
       "            background-color:  #6180e9;\n",
       "            color:  #000000;\n",
       "        }#T_987f7_row3_col2{\n",
       "            background-color:  #80a3fa;\n",
       "            color:  #000000;\n",
       "        }</style><table id=\"T_987f7_\" ><thead>    <tr>        <th class=\"blank level0\" ></th>        <th class=\"col_heading level0 col0\" >last_price</th>        <th class=\"col_heading level0 col1\" >total_area_m2</th>        <th class=\"col_heading level0 col2\" >city_centers_nearest_km</th>        <th class=\"col_heading level0 col3\" >year_exposition</th>    </tr></thead><tbody>\n",
       "                <tr>\n",
       "                        <th id=\"T_987f7_level0_row0\" class=\"row_heading level0 row0\" >last_price</th>\n",
       "                        <td id=\"T_987f7_row0_col0\" class=\"data row0 col0\" >1.000000</td>\n",
       "                        <td id=\"T_987f7_row0_col1\" class=\"data row0 col1\" >0.653743</td>\n",
       "                        <td id=\"T_987f7_row0_col2\" class=\"data row0 col2\" >-0.206887</td>\n",
       "                        <td id=\"T_987f7_row0_col3\" class=\"data row0 col3\" >-0.042927</td>\n",
       "            </tr>\n",
       "            <tr>\n",
       "                        <th id=\"T_987f7_level0_row1\" class=\"row_heading level0 row1\" >total_area_m2</th>\n",
       "                        <td id=\"T_987f7_row1_col0\" class=\"data row1 col0\" >0.653743</td>\n",
       "                        <td id=\"T_987f7_row1_col1\" class=\"data row1 col1\" >1.000000</td>\n",
       "                        <td id=\"T_987f7_row1_col2\" class=\"data row1 col2\" >-0.231904</td>\n",
       "                        <td id=\"T_987f7_row1_col3\" class=\"data row1 col3\" >-0.079496</td>\n",
       "            </tr>\n",
       "            <tr>\n",
       "                        <th id=\"T_987f7_level0_row2\" class=\"row_heading level0 row2\" >city_centers_nearest_km</th>\n",
       "                        <td id=\"T_987f7_row2_col0\" class=\"data row2 col0\" >-0.206887</td>\n",
       "                        <td id=\"T_987f7_row2_col1\" class=\"data row2 col1\" >-0.231904</td>\n",
       "                        <td id=\"T_987f7_row2_col2\" class=\"data row2 col2\" >1.000000</td>\n",
       "                        <td id=\"T_987f7_row2_col3\" class=\"data row2 col3\" >0.030217</td>\n",
       "            </tr>\n",
       "            <tr>\n",
       "                        <th id=\"T_987f7_level0_row3\" class=\"row_heading level0 row3\" >year_exposition</th>\n",
       "                        <td id=\"T_987f7_row3_col0\" class=\"data row3 col0\" >-0.042927</td>\n",
       "                        <td id=\"T_987f7_row3_col1\" class=\"data row3 col1\" >-0.079496</td>\n",
       "                        <td id=\"T_987f7_row3_col2\" class=\"data row3 col2\" >0.030217</td>\n",
       "                        <td id=\"T_987f7_row3_col3\" class=\"data row3 col3\" >1.000000</td>\n",
       "            </tr>\n",
       "    </tbody></table>"
      ],
      "text/plain": [
       "<pandas.io.formats.style.Styler at 0x7f9e6c3b1520>"
      ]
     },
     "execution_count": 82,
     "metadata": {},
     "output_type": "execute_result"
    }
   ],
   "source": [
    "corr = df[['last_price',\\\n",
    "           'total_area_m2',\\\n",
    "           'city_centers_nearest_km',\\\n",
    "           'floor_status',\\\n",
    "           'day_of_week_exposition',\\\n",
    "           'month_exposition',\\\n",
    "           'year_exposition']].corr()\n",
    "corr.style.background_gradient(cmap='coolwarm')"
   ]
  },
  {
   "cell_type": "code",
   "execution_count": 83,
   "metadata": {},
   "outputs": [
    {
     "data": {
      "image/png": "[encoded data removed]",
      "text/plain": [
       "<Figure size 720x720 with 1 Axes>"
      ]
     },
     "metadata": {
      "needs_background": "light"
     },
     "output_type": "display_data"
    }
   ],
   "source": [
    "plot = df.boxplot('last_price', by='year_exposition',figsize=(10,10)).set_ylim(0,20000000)"
   ]
  },
  {
   "cell_type": "code",
   "execution_count": 84,
   "metadata": {},
   "outputs": [
    {
     "data": {
      "image/png": "[encoded data removed]",
      "text/plain": [
       "<Figure size 720x720 with 1 Axes>"
      ]
     },
     "metadata": {
      "needs_background": "light"
     },
     "output_type": "display_data"
    }
   ],
   "source": [
    "plot = df.boxplot('last_price', by='day_of_week_exposition',figsize=(10,10)).set_ylim(0,20000000)"
   ]
  },
  {
   "cell_type": "code",
   "execution_count": 85,
   "metadata": {},
   "outputs": [
    {
     "data": {
      "image/png": "[encoded data removed]",
      "text/plain": [
       "<Figure size 720x720 with 1 Axes>"
      ]
     },
     "metadata": {
      "needs_background": "light"
     },
     "output_type": "display_data"
    }
   ],
   "source": [
    "plot = df.boxplot('last_price', by='month_exposition',figsize=(10,10)).set_ylim(0,20000000)"
   ]
  },
  {
   "cell_type": "code",
   "execution_count": 86,
   "metadata": {},
   "outputs": [
    {
     "data": {
      "image/png": "[encoded data removed]",
      "text/plain": [
       "<Figure size 720x720 with 1 Axes>"
      ]
     },
     "metadata": {
      "needs_background": "light"
     },
     "output_type": "display_data"
    }
   ],
   "source": [
    "plot = df.boxplot('last_price', by='floor',figsize=(10,10)).set_ylim(0,20000000)"
   ]
  },
  {
   "cell_type": "code",
   "execution_count": 87,
   "metadata": {},
   "outputs": [
    {
     "data": {
      "text/html": [
       "<div>\n",
       "<style scoped>\n",
       "    .dataframe tbody tr th:only-of-type {\n",
       "        vertical-align: middle;\n",
       "    }\n",
       "\n",
       "    .dataframe tbody tr th {\n",
       "        vertical-align: top;\n",
       "    }\n",
       "\n",
       "    .dataframe thead th {\n",
       "        text-align: right;\n",
       "    }\n",
       "</style>\n",
       "<table border=\"1\" class=\"dataframe\">\n",
       "  <thead>\n",
       "    <tr style=\"text-align: right;\">\n",
       "      <th></th>\n",
       "      <th>last_price</th>\n",
       "      <th>total_area_m2</th>\n",
       "      <th>rooms</th>\n",
       "      <th>city_centers_nearest_km</th>\n",
       "    </tr>\n",
       "  </thead>\n",
       "  <tbody>\n",
       "    <tr>\n",
       "      <th>last_price</th>\n",
       "      <td>1.00</td>\n",
       "      <td>0.65</td>\n",
       "      <td>0.36</td>\n",
       "      <td>-0.21</td>\n",
       "    </tr>\n",
       "    <tr>\n",
       "      <th>total_area_m2</th>\n",
       "      <td>0.65</td>\n",
       "      <td>1.00</td>\n",
       "      <td>0.76</td>\n",
       "      <td>-0.23</td>\n",
       "    </tr>\n",
       "    <tr>\n",
       "      <th>rooms</th>\n",
       "      <td>0.36</td>\n",
       "      <td>0.76</td>\n",
       "      <td>1.00</td>\n",
       "      <td>-0.18</td>\n",
       "    </tr>\n",
       "    <tr>\n",
       "      <th>city_centers_nearest_km</th>\n",
       "      <td>-0.21</td>\n",
       "      <td>-0.23</td>\n",
       "      <td>-0.18</td>\n",
       "      <td>1.00</td>\n",
       "    </tr>\n",
       "  </tbody>\n",
       "</table>\n",
       "</div>"
      ],
      "text/plain": [
       "                         last_price  total_area_m2  rooms  \\\n",
       "last_price                     1.00           0.65   0.36   \n",
       "total_area_m2                  0.65           1.00   0.76   \n",
       "rooms                          0.36           0.76   1.00   \n",
       "city_centers_nearest_km       -0.21          -0.23  -0.18   \n",
       "\n",
       "                         city_centers_nearest_km  \n",
       "last_price                                 -0.21  \n",
       "total_area_m2                              -0.23  \n",
       "rooms                                      -0.18  \n",
       "city_centers_nearest_km                     1.00  "
      ]
     },
     "execution_count": 87,
     "metadata": {},
     "output_type": "execute_result"
    }
   ],
   "source": [
    "df[['last_price', 'total_area_m2', 'rooms', 'city_centers_nearest_km']].corr()"
   ]
  },
  {
   "cell_type": "code",
   "execution_count": 88,
   "metadata": {},
   "outputs": [
    {
     "data": {
      "text/plain": [
       "<seaborn.axisgrid.PairGrid at 0x7f9e6bea52b0>"
      ]
     },
     "execution_count": 88,
     "metadata": {},
     "output_type": "execute_result"
    },
    {
     "data": {
      "image/png": "[encoded data removed]",
      "text/plain": [
       "<Figure size 720x720 with 20 Axes>"
      ]
     },
     "metadata": {
      "needs_background": "light"
     },
     "output_type": "display_data"
    }
   ],
   "source": [
    "sns.pairplot(df[['last_price', 'total_area_m2', 'rooms', 'city_centers_nearest_km']])"
   ]
  },
  {
   "cell_type": "markdown",
   "metadata": {},
   "source": []
  },
  {
   "cell_type": "markdown",
   "metadata": {},
   "source": [
    "5)Выберите 10 населённых пунктов с наибольшим числом объявлений. Посчитайте среднюю цену квадратного метра в этих населённых пунктах. Выделите населённые пункты с самой высокой и низкой стоимостью жилья. Эти данные можно найти по имени в столбце locality_name."
   ]
  },
  {
   "cell_type": "code",
   "execution_count": 89,
   "metadata": {},
   "outputs": [
    {
     "data": {
      "text/plain": [
       "71.66666666666667"
      ]
     },
     "execution_count": 89,
     "metadata": {},
     "output_type": "execute_result"
    }
   ],
   "source": [
    "df.groupby('locality_name')['total_area_m2'].count().mean()#нашли среднюю цену за квадратный метр"
   ]
  },
  {
   "cell_type": "code",
   "execution_count": 90,
   "metadata": {},
   "outputs": [
    {
     "name": "stdout",
     "output_type": "stream",
     "text": [
      "locality_name\n",
      "санкт-петербург      15721\n",
      "поселок мурино         556\n",
      "поселок шушары         440\n",
      "всеволожск             398\n",
      "пушкин                 369\n",
      "колпино                338\n",
      "поселок парголово      327\n",
      "гатчина                307\n",
      "деревня кудрово        299\n",
      "выборг                 237\n",
      "Name: total_area_m2, dtype: int64\n"
     ]
    }
   ],
   "source": [
    "top_advert = df.groupby('locality_name')['total_area_m2'].count().sort_values(ascending=False).head(10)\n",
    "print(top_advert)"
   ]
  },
  {
   "cell_type": "code",
   "execution_count": 91,
   "metadata": {},
   "outputs": [
    {
     "data": {
      "text/plain": [
       "locality_name\n",
       "деревня вахнова кара         450,000.00\n",
       "деревня старополье           460,000.00\n",
       "деревня чудской бор          500,000.00\n",
       "поселок совхозный            517,500.00\n",
       "поселок станции свирь        575,000.00\n",
       "                               ...     \n",
       "санкт-петербург            8,062,507.07\n",
       "поселок александровская    8,725,000.00\n",
       "деревня бор               10,397,600.00\n",
       "деревня хязельки          11,000,000.00\n",
       "поселок репино            12,166,854.00\n",
       "Name: last_price, Length: 330, dtype: float64"
      ]
     },
     "execution_count": 91,
     "metadata": {},
     "output_type": "execute_result"
    }
   ],
   "source": [
    "min_max_prise = df.groupby('locality_name')['last_price'].sum() / \\\n",
    "   df.groupby('locality_name')['last_price'].count()\n",
    "min_max_prise.sort_values()"
   ]
  },
  {
   "cell_type": "markdown",
   "metadata": {},
   "source": [
    "6)Изучите предложения квартир: для каждой квартиры есть информация о расстоянии до центра. Выделите квартиры в Санкт-Петербурге (locality_name). Ваша задача — выяснить, какая область входит в центр. Создайте столбец с расстоянием до центра в километрах: округлите до целых значений. После этого посчитайте среднюю цену для каждого километра. Постройте график: он должен показывать, как цена зависит от удалённости от центра. Определите границу, где график сильно меняется, — это и будет центральная зона."
   ]
  },
  {
   "cell_type": "code",
   "execution_count": 92,
   "metadata": {},
   "outputs": [],
   "source": [
    "def city_status(row):\n",
    "    if row['locality_name'] == 'санкт-петербург':\n",
    "        return 'Питер'\n",
    "    else:\n",
    "        return 'За Питером'"
   ]
  },
  {
   "cell_type": "code",
   "execution_count": 93,
   "metadata": {},
   "outputs": [],
   "source": [
    "df['city_status'] = df.apply(city_status, axis=1)"
   ]
  },
  {
   "cell_type": "code",
   "execution_count": 94,
   "metadata": {},
   "outputs": [
    {
     "data": {
      "text/html": [
       "<div>\n",
       "<style scoped>\n",
       "    .dataframe tbody tr th:only-of-type {\n",
       "        vertical-align: middle;\n",
       "    }\n",
       "\n",
       "    .dataframe tbody tr th {\n",
       "        vertical-align: top;\n",
       "    }\n",
       "\n",
       "    .dataframe thead th {\n",
       "        text-align: right;\n",
       "    }\n",
       "</style>\n",
       "<table border=\"1\" class=\"dataframe\">\n",
       "  <thead>\n",
       "    <tr style=\"text-align: right;\">\n",
       "      <th></th>\n",
       "      <th>price_m2</th>\n",
       "    </tr>\n",
       "    <tr>\n",
       "      <th>city_status</th>\n",
       "      <th></th>\n",
       "    </tr>\n",
       "  </thead>\n",
       "  <tbody>\n",
       "    <tr>\n",
       "      <th>За Питером</th>\n",
       "      <td>131,551.97</td>\n",
       "    </tr>\n",
       "    <tr>\n",
       "      <th>Питер</th>\n",
       "      <td>215,046.52</td>\n",
       "    </tr>\n",
       "  </tbody>\n",
       "</table>\n",
       "</div>"
      ],
      "text/plain": [
       "              price_m2\n",
       "city_status           \n",
       "За Питером  131,551.97\n",
       "Питер       215,046.52"
      ]
     },
     "execution_count": 94,
     "metadata": {},
     "output_type": "execute_result"
    }
   ],
   "source": [
    "df.groupby('city_status').agg({'price_m2': 'mean'}).sort_values(by='price_m2')"
   ]
  },
  {
   "cell_type": "code",
   "execution_count": 95,
   "metadata": {},
   "outputs": [
    {
     "data": {
      "text/html": [
       "<div>\n",
       "<style scoped>\n",
       "    .dataframe tbody tr th:only-of-type {\n",
       "        vertical-align: middle;\n",
       "    }\n",
       "\n",
       "    .dataframe tbody tr th {\n",
       "        vertical-align: top;\n",
       "    }\n",
       "\n",
       "    .dataframe thead th {\n",
       "        text-align: right;\n",
       "    }\n",
       "</style>\n",
       "<table border=\"1\" class=\"dataframe\">\n",
       "  <thead>\n",
       "    <tr style=\"text-align: right;\">\n",
       "      <th></th>\n",
       "      <th>price_m2</th>\n",
       "    </tr>\n",
       "    <tr>\n",
       "      <th>city_status</th>\n",
       "      <th></th>\n",
       "    </tr>\n",
       "  </thead>\n",
       "  <tbody>\n",
       "    <tr>\n",
       "      <th>За Питером</th>\n",
       "      <td>123,456.79</td>\n",
       "    </tr>\n",
       "    <tr>\n",
       "      <th>Питер</th>\n",
       "      <td>189,054.73</td>\n",
       "    </tr>\n",
       "  </tbody>\n",
       "</table>\n",
       "</div>"
      ],
      "text/plain": [
       "              price_m2\n",
       "city_status           \n",
       "За Питером  123,456.79\n",
       "Питер       189,054.73"
      ]
     },
     "execution_count": 95,
     "metadata": {},
     "output_type": "execute_result"
    }
   ],
   "source": [
    "df.groupby('city_status').agg({'price_m2': 'median'}).sort_values(by='price_m2')"
   ]
  },
  {
   "cell_type": "code",
   "execution_count": 96,
   "metadata": {},
   "outputs": [
    {
     "data": {
      "text/plain": [
       "city_status\n",
       "Питер        11.60\n",
       "За Питером   30.60\n",
       "Name: city_centers_nearest_km, dtype: float64"
      ]
     },
     "execution_count": 96,
     "metadata": {},
     "output_type": "execute_result"
    }
   ],
   "source": [
    "city_status_centers = df.groupby('city_status')['city_centers_nearest_km'].sum() / \\\n",
    "   df.groupby('city_status')['city_centers_nearest_km'].count()\n",
    "city_status_centers.sort_values()"
   ]
  },
  {
   "cell_type": "code",
   "execution_count": 97,
   "metadata": {},
   "outputs": [],
   "source": [
    "city_center = df.dropna(subset=['city_centers_nearest_km'])"
   ]
  },
  {
   "cell_type": "code",
   "execution_count": 98,
   "metadata": {},
   "outputs": [
    {
     "data": {
      "text/plain": [
       "0.25    9.24\n",
       "0.50   13.11\n",
       "0.75   16.29\n",
       "1.00   65.97\n",
       "Name: city_centers_nearest_km, dtype: float64"
      ]
     },
     "execution_count": 98,
     "metadata": {},
     "output_type": "execute_result"
    }
   ],
   "source": [
    "city_center['city_centers_nearest_km'].quantile([0.25,0.5,0.75,1])"
   ]
  },
  {
   "cell_type": "code",
   "execution_count": 99,
   "metadata": {},
   "outputs": [
    {
     "data": {
      "text/plain": [
       "3712"
      ]
     },
     "execution_count": 99,
     "metadata": {},
     "output_type": "execute_result"
    }
   ],
   "source": [
    "len(city_center.query('city_centers_nearest_km <=8'))#3712 квартиры в пределах 8х км"
   ]
  },
  {
   "cell_type": "code",
   "execution_count": 100,
   "metadata": {},
   "outputs": [],
   "source": [
    "city_center_d = city_center.query('city_centers_nearest_km <=8')"
   ]
  },
  {
   "cell_type": "code",
   "execution_count": 101,
   "metadata": {},
   "outputs": [
    {
     "data": {
      "text/html": [
       "<style  type=\"text/css\" >\n",
       "#T_93ec9_row0_col1{\n",
       "            background-color:  #b40426;\n",
       "            color:  #f1f1f1;\n",
       "        }#T_93ec9_row1_col1{\n",
       "            background-color:  #f7b89c;\n",
       "            color:  #000000;\n",
       "        }#T_93ec9_row2_col1{\n",
       "            background-color:  #eed0c0;\n",
       "            color:  #000000;\n",
       "        }#T_93ec9_row3_col1{\n",
       "            background-color:  #e9d5cb;\n",
       "            color:  #000000;\n",
       "        }#T_93ec9_row4_col1{\n",
       "            background-color:  #c4d5f3;\n",
       "            color:  #000000;\n",
       "        }#T_93ec9_row5_col1{\n",
       "            background-color:  #bcd2f7;\n",
       "            color:  #000000;\n",
       "        }#T_93ec9_row6_col1{\n",
       "            background-color:  #7b9ff9;\n",
       "            color:  #000000;\n",
       "        }#T_93ec9_row7_col1{\n",
       "            background-color:  #7a9df8;\n",
       "            color:  #000000;\n",
       "        }#T_93ec9_row8_col1{\n",
       "            background-color:  #7597f6;\n",
       "            color:  #000000;\n",
       "        }#T_93ec9_row9_col1{\n",
       "            background-color:  #7396f5;\n",
       "            color:  #000000;\n",
       "        }#T_93ec9_row10_col1{\n",
       "            background-color:  #7295f4;\n",
       "            color:  #000000;\n",
       "        }#T_93ec9_row11_col1{\n",
       "            background-color:  #6f92f3;\n",
       "            color:  #000000;\n",
       "        }#T_93ec9_row12_col1{\n",
       "            background-color:  #6788ee;\n",
       "            color:  #000000;\n",
       "        }#T_93ec9_row13_col1{\n",
       "            background-color:  #6687ed;\n",
       "            color:  #000000;\n",
       "        }#T_93ec9_row14_col1{\n",
       "            background-color:  #6180e9;\n",
       "            color:  #000000;\n",
       "        }#T_93ec9_row15_col1{\n",
       "            background-color:  #5e7de7;\n",
       "            color:  #000000;\n",
       "        }#T_93ec9_row16_col1{\n",
       "            background-color:  #5572df;\n",
       "            color:  #000000;\n",
       "        }#T_93ec9_row17_col1{\n",
       "            background-color:  #4e68d8;\n",
       "            color:  #000000;\n",
       "        }#T_93ec9_row18_col1{\n",
       "            background-color:  #4c66d6;\n",
       "            color:  #000000;\n",
       "        }#T_93ec9_row19_col1{\n",
       "            background-color:  #465ecf;\n",
       "            color:  #f1f1f1;\n",
       "        }#T_93ec9_row20_col1,#T_93ec9_row21_col1{\n",
       "            background-color:  #455cce;\n",
       "            color:  #f1f1f1;\n",
       "        }#T_93ec9_row22_col1{\n",
       "            background-color:  #3d50c3;\n",
       "            color:  #f1f1f1;\n",
       "        }#T_93ec9_row23_col1{\n",
       "            background-color:  #3b4cc0;\n",
       "            color:  #f1f1f1;\n",
       "        }</style><table id=\"T_93ec9_\" ><thead>    <tr>        <th class=\"blank level0\" ></th>        <th class=\"col_heading level0 col0\" >index</th>        <th class=\"col_heading level0 col1\" >last_price</th>    </tr></thead><tbody>\n",
       "                <tr>\n",
       "                        <th id=\"T_93ec9_level0_row0\" class=\"row_heading level0 row0\" >0</th>\n",
       "                        <td id=\"T_93ec9_row0_col0\" class=\"data row0 col0\" >last_price</td>\n",
       "                        <td id=\"T_93ec9_row0_col1\" class=\"data row0 col1\" >1.000000</td>\n",
       "            </tr>\n",
       "            <tr>\n",
       "                        <th id=\"T_93ec9_level0_row1\" class=\"row_heading level0 row1\" >1</th>\n",
       "                        <td id=\"T_93ec9_row1_col0\" class=\"data row1 col0\" >total_area_m2</td>\n",
       "                        <td id=\"T_93ec9_row1_col1\" class=\"data row1 col1\" >0.636407</td>\n",
       "            </tr>\n",
       "            <tr>\n",
       "                        <th id=\"T_93ec9_level0_row2\" class=\"row_heading level0 row2\" >2</th>\n",
       "                        <td id=\"T_93ec9_row2_col0\" class=\"data row2 col0\" >living_area_m2</td>\n",
       "                        <td id=\"T_93ec9_row2_col1\" class=\"data row2 col1\" >0.539359</td>\n",
       "            </tr>\n",
       "            <tr>\n",
       "                        <th id=\"T_93ec9_level0_row3\" class=\"row_heading level0 row3\" >3</th>\n",
       "                        <td id=\"T_93ec9_row3_col0\" class=\"data row3 col0\" >kitchen_area_m2</td>\n",
       "                        <td id=\"T_93ec9_row3_col1\" class=\"data row3 col1\" >0.508284</td>\n",
       "            </tr>\n",
       "            <tr>\n",
       "                        <th id=\"T_93ec9_level0_row4\" class=\"row_heading level0 row4\" >4</th>\n",
       "                        <td id=\"T_93ec9_row4_col0\" class=\"data row4 col0\" >price_m2</td>\n",
       "                        <td id=\"T_93ec9_row4_col1\" class=\"data row4 col1\" >0.358084</td>\n",
       "            </tr>\n",
       "            <tr>\n",
       "                        <th id=\"T_93ec9_level0_row5\" class=\"row_heading level0 row5\" >5</th>\n",
       "                        <td id=\"T_93ec9_row5_col0\" class=\"data row5 col0\" >rooms</td>\n",
       "                        <td id=\"T_93ec9_row5_col1\" class=\"data row5 col1\" >0.333342</td>\n",
       "            </tr>\n",
       "            <tr>\n",
       "                        <th id=\"T_93ec9_level0_row6\" class=\"row_heading level0 row6\" >6</th>\n",
       "                        <td id=\"T_93ec9_row6_col0\" class=\"data row6 col0\" >total_images</td>\n",
       "                        <td id=\"T_93ec9_row6_col1\" class=\"data row6 col1\" >0.131486</td>\n",
       "            </tr>\n",
       "            <tr>\n",
       "                        <th id=\"T_93ec9_level0_row7\" class=\"row_heading level0 row7\" >7</th>\n",
       "                        <td id=\"T_93ec9_row7_col0\" class=\"data row7 col0\" >floor</td>\n",
       "                        <td id=\"T_93ec9_row7_col1\" class=\"data row7 col1\" >0.125747</td>\n",
       "            </tr>\n",
       "            <tr>\n",
       "                        <th id=\"T_93ec9_level0_row8\" class=\"row_heading level0 row8\" >8</th>\n",
       "                        <td id=\"T_93ec9_row8_col0\" class=\"data row8 col0\" >parks_around_3_km</td>\n",
       "                        <td id=\"T_93ec9_row8_col1\" class=\"data row8 col1\" >0.108583</td>\n",
       "            </tr>\n",
       "            <tr>\n",
       "                        <th id=\"T_93ec9_level0_row9\" class=\"row_heading level0 row9\" >9</th>\n",
       "                        <td id=\"T_93ec9_row9_col0\" class=\"data row9 col0\" >ponds_around_3_km</td>\n",
       "                        <td id=\"T_93ec9_row9_col1\" class=\"data row9 col1\" >0.104545</td>\n",
       "            </tr>\n",
       "            <tr>\n",
       "                        <th id=\"T_93ec9_level0_row10\" class=\"row_heading level0 row10\" >10</th>\n",
       "                        <td id=\"T_93ec9_row10_col0\" class=\"data row10 col0\" >ceiling_height</td>\n",
       "                        <td id=\"T_93ec9_row10_col1\" class=\"data row10 col1\" >0.101963</td>\n",
       "            </tr>\n",
       "            <tr>\n",
       "                        <th id=\"T_93ec9_level0_row11\" class=\"row_heading level0 row11\" >11</th>\n",
       "                        <td id=\"T_93ec9_row11_col0\" class=\"data row11 col0\" >airports_nearest_km</td>\n",
       "                        <td id=\"T_93ec9_row11_col1\" class=\"data row11 col1\" >0.093220</td>\n",
       "            </tr>\n",
       "            <tr>\n",
       "                        <th id=\"T_93ec9_level0_row12\" class=\"row_heading level0 row12\" >12</th>\n",
       "                        <td id=\"T_93ec9_row12_col0\" class=\"data row12 col0\" >balcony</td>\n",
       "                        <td id=\"T_93ec9_row12_col1\" class=\"data row12 col1\" >0.066885</td>\n",
       "            </tr>\n",
       "            <tr>\n",
       "                        <th id=\"T_93ec9_level0_row13\" class=\"row_heading level0 row13\" >13</th>\n",
       "                        <td id=\"T_93ec9_row13_col0\" class=\"data row13 col0\" >days_exposition</td>\n",
       "                        <td id=\"T_93ec9_row13_col1\" class=\"data row13 col1\" >0.061387</td>\n",
       "            </tr>\n",
       "            <tr>\n",
       "                        <th id=\"T_93ec9_level0_row14\" class=\"row_heading level0 row14\" >14</th>\n",
       "                        <td id=\"T_93ec9_row14_col0\" class=\"data row14 col0\" >floors_total</td>\n",
       "                        <td id=\"T_93ec9_row14_col1\" class=\"data row14 col1\" >0.043211</td>\n",
       "            </tr>\n",
       "            <tr>\n",
       "                        <th id=\"T_93ec9_level0_row15\" class=\"row_heading level0 row15\" >15</th>\n",
       "                        <td id=\"T_93ec9_row15_col0\" class=\"data row15 col0\" >is_apartment</td>\n",
       "                        <td id=\"T_93ec9_row15_col1\" class=\"data row15 col1\" >0.037206</td>\n",
       "            </tr>\n",
       "            <tr>\n",
       "                        <th id=\"T_93ec9_level0_row16\" class=\"row_heading level0 row16\" >16</th>\n",
       "                        <td id=\"T_93ec9_row16_col0\" class=\"data row16 col0\" >open_plan</td>\n",
       "                        <td id=\"T_93ec9_row16_col1\" class=\"data row16 col1\" >0.007722</td>\n",
       "            </tr>\n",
       "            <tr>\n",
       "                        <th id=\"T_93ec9_level0_row17\" class=\"row_heading level0 row17\" >17</th>\n",
       "                        <td id=\"T_93ec9_row17_col0\" class=\"data row17 col0\" >total_living_ratio</td>\n",
       "                        <td id=\"T_93ec9_row17_col1\" class=\"data row17 col1\" >-0.018399</td>\n",
       "            </tr>\n",
       "            <tr>\n",
       "                        <th id=\"T_93ec9_level0_row18\" class=\"row_heading level0 row18\" >18</th>\n",
       "                        <td id=\"T_93ec9_row18_col0\" class=\"data row18 col0\" >studio</td>\n",
       "                        <td id=\"T_93ec9_row18_col1\" class=\"data row18 col1\" >-0.023013</td>\n",
       "            </tr>\n",
       "            <tr>\n",
       "                        <th id=\"T_93ec9_level0_row19\" class=\"row_heading level0 row19\" >19</th>\n",
       "                        <td id=\"T_93ec9_row19_col0\" class=\"data row19 col0\" >year_exposition</td>\n",
       "                        <td id=\"T_93ec9_row19_col1\" class=\"data row19 col1\" >-0.043154</td>\n",
       "            </tr>\n",
       "            <tr>\n",
       "                        <th id=\"T_93ec9_level0_row20\" class=\"row_heading level0 row20\" >20</th>\n",
       "                        <td id=\"T_93ec9_row20_col0\" class=\"data row20 col0\" >parks_nearest_km</td>\n",
       "                        <td id=\"T_93ec9_row20_col1\" class=\"data row20 col1\" >-0.046159</td>\n",
       "            </tr>\n",
       "            <tr>\n",
       "                        <th id=\"T_93ec9_level0_row21\" class=\"row_heading level0 row21\" >21</th>\n",
       "                        <td id=\"T_93ec9_row21_col0\" class=\"data row21 col0\" >city_centers_nearest_km</td>\n",
       "                        <td id=\"T_93ec9_row21_col1\" class=\"data row21 col1\" >-0.048304</td>\n",
       "            </tr>\n",
       "            <tr>\n",
       "                        <th id=\"T_93ec9_level0_row22\" class=\"row_heading level0 row22\" >22</th>\n",
       "                        <td id=\"T_93ec9_row22_col0\" class=\"data row22 col0\" >ponds_nearest_km</td>\n",
       "                        <td id=\"T_93ec9_row22_col1\" class=\"data row22 col1\" >-0.076444</td>\n",
       "            </tr>\n",
       "            <tr>\n",
       "                        <th id=\"T_93ec9_level0_row23\" class=\"row_heading level0 row23\" >23</th>\n",
       "                        <td id=\"T_93ec9_row23_col0\" class=\"data row23 col0\" >total_kitchen_ratio</td>\n",
       "                        <td id=\"T_93ec9_row23_col1\" class=\"data row23 col1\" >-0.088663</td>\n",
       "            </tr>\n",
       "    </tbody></table>"
      ],
      "text/plain": [
       "<pandas.io.formats.style.Styler at 0x7f991f42a3a0>"
      ]
     },
     "execution_count": 101,
     "metadata": {},
     "output_type": "execute_result"
    }
   ],
   "source": [
    "cor_center = city_center_d.corr()\\\n",
    "    .sort_values('last_price', ascending=False)\\\n",
    "    .filter(items = ['last_price'])\\\n",
    "    .reset_index()\n",
    "cor_center.style.background_gradient('coolwarm')"
   ]
  },
  {
   "cell_type": "code",
   "execution_count": 115,
   "metadata": {},
   "outputs": [
    {
     "data": {
      "text/plain": [
       "<AxesSubplot:xlabel='last_price'>"
      ]
     },
     "execution_count": 115,
     "metadata": {},
     "output_type": "execute_result"
    },
    {
     "data": {
      "image/png": "[encoded data removed]",
      "text/plain": [
       "<Figure size 432x288 with 1 Axes>"
      ]
     },
     "metadata": {
      "needs_background": "light"
     },
     "output_type": "display_data"
    }
   ],
   "source": [
    "city_center_d.plot(x='last_price', y='city_centers_nearest_km', style='o-')\n",
    "#в центре самый сильный всплеск цены, график сильно меняется после полутора километра и после 4х километров\n"
   ]
  },
  {
   "cell_type": "markdown",
   "metadata": {},
   "source": [
    "7)Выделите сегмент квартир в центре. Проанализируйте эту территорию и изучите следующие параметры: площадь, цена, число комнат, высота потолков. Также выделите факторы, которые влияют на стоимость квартиры (число комнат, этаж, удалённость от центра, дата размещения объявления). Сделайте выводы. Отличаются ли они от общих выводов по всей базе?"
   ]
  },
  {
   "cell_type": "code",
   "execution_count": 103,
   "metadata": {},
   "outputs": [
    {
     "data": {
      "text/html": [
       "<div>\n",
       "<style scoped>\n",
       "    .dataframe tbody tr th:only-of-type {\n",
       "        vertical-align: middle;\n",
       "    }\n",
       "\n",
       "    .dataframe tbody tr th {\n",
       "        vertical-align: top;\n",
       "    }\n",
       "\n",
       "    .dataframe thead th {\n",
       "        text-align: right;\n",
       "    }\n",
       "</style>\n",
       "<table border=\"1\" class=\"dataframe\">\n",
       "  <thead>\n",
       "    <tr style=\"text-align: right;\">\n",
       "      <th></th>\n",
       "      <th>total_images</th>\n",
       "      <th>last_price</th>\n",
       "      <th>first_day_exposition</th>\n",
       "      <th>rooms</th>\n",
       "      <th>ceiling_height</th>\n",
       "      <th>floors_total</th>\n",
       "      <th>floor</th>\n",
       "      <th>is_apartment</th>\n",
       "      <th>studio</th>\n",
       "      <th>open_plan</th>\n",
       "      <th>balcony</th>\n",
       "      <th>locality_name</th>\n",
       "      <th>days_exposition</th>\n",
       "      <th>airports_nearest_km</th>\n",
       "      <th>parks_nearest_km</th>\n",
       "      <th>ponds_nearest_km</th>\n",
       "      <th>city_centers_nearest_km</th>\n",
       "      <th>parks_around_3_km</th>\n",
       "      <th>ponds_around_3_km</th>\n",
       "      <th>total_area_m2</th>\n",
       "      <th>living_area_m2</th>\n",
       "      <th>kitchen_area_m2</th>\n",
       "      <th>price_m2</th>\n",
       "      <th>day_of_week_exposition</th>\n",
       "      <th>month_exposition</th>\n",
       "      <th>year_exposition</th>\n",
       "      <th>floor_status</th>\n",
       "      <th>total_living_ratio</th>\n",
       "      <th>total_kitchen_ratio</th>\n",
       "      <th>city_status</th>\n",
       "    </tr>\n",
       "  </thead>\n",
       "  <tbody>\n",
       "    <tr>\n",
       "      <th>13694</th>\n",
       "      <td>2</td>\n",
       "      <td>31,099,000.00</td>\n",
       "      <td>2018-06-25</td>\n",
       "      <td>5</td>\n",
       "      <td>3.28</td>\n",
       "      <td>5.00</td>\n",
       "      <td>5</td>\n",
       "      <td>0</td>\n",
       "      <td>0</td>\n",
       "      <td>0</td>\n",
       "      <td>NaN</td>\n",
       "      <td>санкт-петербург</td>\n",
       "      <td>NaN</td>\n",
       "      <td>21.63</td>\n",
       "      <td>0.25</td>\n",
       "      <td>0.43</td>\n",
       "      <td>0.18</td>\n",
       "      <td>2.00</td>\n",
       "      <td>3.00</td>\n",
       "      <td>159.00</td>\n",
       "      <td>106.00</td>\n",
       "      <td>15.00</td>\n",
       "      <td>293,386.79</td>\n",
       "      <td>Monday</td>\n",
       "      <td>June</td>\n",
       "      <td>2018</td>\n",
       "      <td>последний</td>\n",
       "      <td>0.67</td>\n",
       "      <td>0.09</td>\n",
       "      <td>Питер</td>\n",
       "    </tr>\n",
       "    <tr>\n",
       "      <th>1182</th>\n",
       "      <td>1</td>\n",
       "      <td>5,800,000.00</td>\n",
       "      <td>2016-03-10</td>\n",
       "      <td>1</td>\n",
       "      <td>3.70</td>\n",
       "      <td>7.00</td>\n",
       "      <td>4</td>\n",
       "      <td>0</td>\n",
       "      <td>0</td>\n",
       "      <td>0</td>\n",
       "      <td>0.00</td>\n",
       "      <td>санкт-петербург</td>\n",
       "      <td>167.00</td>\n",
       "      <td>21.63</td>\n",
       "      <td>0.30</td>\n",
       "      <td>0.50</td>\n",
       "      <td>0.21</td>\n",
       "      <td>3.00</td>\n",
       "      <td>3.00</td>\n",
       "      <td>33.60</td>\n",
       "      <td>22.80</td>\n",
       "      <td>6.60</td>\n",
       "      <td>254,385.96</td>\n",
       "      <td>Thursday</td>\n",
       "      <td>March</td>\n",
       "      <td>2016</td>\n",
       "      <td>другой</td>\n",
       "      <td>0.68</td>\n",
       "      <td>0.20</td>\n",
       "      <td>Питер</td>\n",
       "    </tr>\n",
       "    <tr>\n",
       "      <th>8614</th>\n",
       "      <td>7</td>\n",
       "      <td>10,990,000.00</td>\n",
       "      <td>2015-12-16</td>\n",
       "      <td>3</td>\n",
       "      <td>3.90</td>\n",
       "      <td>5.00</td>\n",
       "      <td>3</td>\n",
       "      <td>0</td>\n",
       "      <td>0</td>\n",
       "      <td>0</td>\n",
       "      <td>0.00</td>\n",
       "      <td>санкт-петербург</td>\n",
       "      <td>265.00</td>\n",
       "      <td>21.82</td>\n",
       "      <td>0.23</td>\n",
       "      <td>0.51</td>\n",
       "      <td>0.21</td>\n",
       "      <td>3.00</td>\n",
       "      <td>2.00</td>\n",
       "      <td>100.00</td>\n",
       "      <td>37.80</td>\n",
       "      <td>11.60</td>\n",
       "      <td>290,740.74</td>\n",
       "      <td>Wednesday</td>\n",
       "      <td>December</td>\n",
       "      <td>2015</td>\n",
       "      <td>другой</td>\n",
       "      <td>0.38</td>\n",
       "      <td>0.12</td>\n",
       "      <td>Питер</td>\n",
       "    </tr>\n",
       "    <tr>\n",
       "      <th>1934</th>\n",
       "      <td>18</td>\n",
       "      <td>9,590,000.00</td>\n",
       "      <td>2017-05-23</td>\n",
       "      <td>2</td>\n",
       "      <td>3.30</td>\n",
       "      <td>5.00</td>\n",
       "      <td>2</td>\n",
       "      <td>0</td>\n",
       "      <td>0</td>\n",
       "      <td>0</td>\n",
       "      <td>0.00</td>\n",
       "      <td>санкт-петербург</td>\n",
       "      <td>69.00</td>\n",
       "      <td>21.91</td>\n",
       "      <td>0.36</td>\n",
       "      <td>0.29</td>\n",
       "      <td>0.29</td>\n",
       "      <td>3.00</td>\n",
       "      <td>3.00</td>\n",
       "      <td>108.00</td>\n",
       "      <td>59.00</td>\n",
       "      <td>11.00</td>\n",
       "      <td>162,542.37</td>\n",
       "      <td>Tuesday</td>\n",
       "      <td>May</td>\n",
       "      <td>2017</td>\n",
       "      <td>другой</td>\n",
       "      <td>0.55</td>\n",
       "      <td>0.10</td>\n",
       "      <td>Питер</td>\n",
       "    </tr>\n",
       "    <tr>\n",
       "      <th>20873</th>\n",
       "      <td>18</td>\n",
       "      <td>11,500,000.00</td>\n",
       "      <td>2018-09-17</td>\n",
       "      <td>3</td>\n",
       "      <td>4.20</td>\n",
       "      <td>7.00</td>\n",
       "      <td>6</td>\n",
       "      <td>0</td>\n",
       "      <td>0</td>\n",
       "      <td>0</td>\n",
       "      <td>1.00</td>\n",
       "      <td>санкт-петербург</td>\n",
       "      <td>NaN</td>\n",
       "      <td>21.74</td>\n",
       "      <td>0.47</td>\n",
       "      <td>0.09</td>\n",
       "      <td>0.29</td>\n",
       "      <td>2.00</td>\n",
       "      <td>2.00</td>\n",
       "      <td>113.50</td>\n",
       "      <td>44.20</td>\n",
       "      <td>21.70</td>\n",
       "      <td>260,181.00</td>\n",
       "      <td>Monday</td>\n",
       "      <td>September</td>\n",
       "      <td>2018</td>\n",
       "      <td>другой</td>\n",
       "      <td>0.39</td>\n",
       "      <td>0.19</td>\n",
       "      <td>Питер</td>\n",
       "    </tr>\n",
       "    <tr>\n",
       "      <th>10867</th>\n",
       "      <td>1</td>\n",
       "      <td>56,844,500.00</td>\n",
       "      <td>2015-01-15</td>\n",
       "      <td>3</td>\n",
       "      <td>NaN</td>\n",
       "      <td>6.00</td>\n",
       "      <td>5</td>\n",
       "      <td>1</td>\n",
       "      <td>0</td>\n",
       "      <td>0</td>\n",
       "      <td>NaN</td>\n",
       "      <td>санкт-петербург</td>\n",
       "      <td>NaN</td>\n",
       "      <td>21.86</td>\n",
       "      <td>0.16</td>\n",
       "      <td>0.57</td>\n",
       "      <td>0.32</td>\n",
       "      <td>2.00</td>\n",
       "      <td>3.00</td>\n",
       "      <td>177.90</td>\n",
       "      <td>87.20</td>\n",
       "      <td>87.20</td>\n",
       "      <td>651,886.47</td>\n",
       "      <td>Thursday</td>\n",
       "      <td>January</td>\n",
       "      <td>2015</td>\n",
       "      <td>другой</td>\n",
       "      <td>0.49</td>\n",
       "      <td>0.49</td>\n",
       "      <td>Питер</td>\n",
       "    </tr>\n",
       "    <tr>\n",
       "      <th>11492</th>\n",
       "      <td>1</td>\n",
       "      <td>46,424,072.00</td>\n",
       "      <td>2014-12-09</td>\n",
       "      <td>2</td>\n",
       "      <td>NaN</td>\n",
       "      <td>6.00</td>\n",
       "      <td>6</td>\n",
       "      <td>1</td>\n",
       "      <td>0</td>\n",
       "      <td>0</td>\n",
       "      <td>1.00</td>\n",
       "      <td>санкт-петербург</td>\n",
       "      <td>1,030.00</td>\n",
       "      <td>21.86</td>\n",
       "      <td>0.16</td>\n",
       "      <td>0.57</td>\n",
       "      <td>0.32</td>\n",
       "      <td>2.00</td>\n",
       "      <td>3.00</td>\n",
       "      <td>92.40</td>\n",
       "      <td>54.80</td>\n",
       "      <td>20.00</td>\n",
       "      <td>847,154.60</td>\n",
       "      <td>Tuesday</td>\n",
       "      <td>December</td>\n",
       "      <td>2014</td>\n",
       "      <td>последний</td>\n",
       "      <td>0.59</td>\n",
       "      <td>0.22</td>\n",
       "      <td>Питер</td>\n",
       "    </tr>\n",
       "    <tr>\n",
       "      <th>11723</th>\n",
       "      <td>18</td>\n",
       "      <td>32,500,000.00</td>\n",
       "      <td>2015-01-15</td>\n",
       "      <td>3</td>\n",
       "      <td>3.40</td>\n",
       "      <td>6.00</td>\n",
       "      <td>2</td>\n",
       "      <td>0</td>\n",
       "      <td>0</td>\n",
       "      <td>0</td>\n",
       "      <td>0.00</td>\n",
       "      <td>санкт-петербург</td>\n",
       "      <td>725.00</td>\n",
       "      <td>21.86</td>\n",
       "      <td>0.16</td>\n",
       "      <td>0.57</td>\n",
       "      <td>0.32</td>\n",
       "      <td>2.00</td>\n",
       "      <td>3.00</td>\n",
       "      <td>127.10</td>\n",
       "      <td>56.20</td>\n",
       "      <td>51.80</td>\n",
       "      <td>578,291.81</td>\n",
       "      <td>Thursday</td>\n",
       "      <td>January</td>\n",
       "      <td>2015</td>\n",
       "      <td>другой</td>\n",
       "      <td>0.44</td>\n",
       "      <td>0.41</td>\n",
       "      <td>Питер</td>\n",
       "    </tr>\n",
       "    <tr>\n",
       "      <th>7726</th>\n",
       "      <td>20</td>\n",
       "      <td>50,000,000.00</td>\n",
       "      <td>2019-04-18</td>\n",
       "      <td>2</td>\n",
       "      <td>NaN</td>\n",
       "      <td>7.00</td>\n",
       "      <td>4</td>\n",
       "      <td>0</td>\n",
       "      <td>0</td>\n",
       "      <td>0</td>\n",
       "      <td>2.00</td>\n",
       "      <td>санкт-петербург</td>\n",
       "      <td>NaN</td>\n",
       "      <td>21.86</td>\n",
       "      <td>0.16</td>\n",
       "      <td>0.57</td>\n",
       "      <td>0.32</td>\n",
       "      <td>2.00</td>\n",
       "      <td>3.00</td>\n",
       "      <td>93.00</td>\n",
       "      <td>40.00</td>\n",
       "      <td>28.00</td>\n",
       "      <td>1,250,000.00</td>\n",
       "      <td>Thursday</td>\n",
       "      <td>April</td>\n",
       "      <td>2019</td>\n",
       "      <td>другой</td>\n",
       "      <td>0.43</td>\n",
       "      <td>0.30</td>\n",
       "      <td>Питер</td>\n",
       "    </tr>\n",
       "    <tr>\n",
       "      <th>5297</th>\n",
       "      <td>19</td>\n",
       "      <td>45,000,000.00</td>\n",
       "      <td>2018-11-15</td>\n",
       "      <td>2</td>\n",
       "      <td>3.20</td>\n",
       "      <td>6.00</td>\n",
       "      <td>4</td>\n",
       "      <td>1</td>\n",
       "      <td>0</td>\n",
       "      <td>0</td>\n",
       "      <td>1.00</td>\n",
       "      <td>санкт-петербург</td>\n",
       "      <td>NaN</td>\n",
       "      <td>21.86</td>\n",
       "      <td>0.16</td>\n",
       "      <td>0.57</td>\n",
       "      <td>0.32</td>\n",
       "      <td>2.00</td>\n",
       "      <td>3.00</td>\n",
       "      <td>96.00</td>\n",
       "      <td>NaN</td>\n",
       "      <td>45.00</td>\n",
       "      <td>NaN</td>\n",
       "      <td>Thursday</td>\n",
       "      <td>November</td>\n",
       "      <td>2018</td>\n",
       "      <td>другой</td>\n",
       "      <td>NaN</td>\n",
       "      <td>0.47</td>\n",
       "      <td>Питер</td>\n",
       "    </tr>\n",
       "    <tr>\n",
       "      <th>13919</th>\n",
       "      <td>12</td>\n",
       "      <td>65,000,000.00</td>\n",
       "      <td>2017-09-25</td>\n",
       "      <td>3</td>\n",
       "      <td>NaN</td>\n",
       "      <td>6.00</td>\n",
       "      <td>5</td>\n",
       "      <td>0</td>\n",
       "      <td>0</td>\n",
       "      <td>0</td>\n",
       "      <td>0.00</td>\n",
       "      <td>санкт-петербург</td>\n",
       "      <td>13.00</td>\n",
       "      <td>21.86</td>\n",
       "      <td>0.16</td>\n",
       "      <td>0.57</td>\n",
       "      <td>0.32</td>\n",
       "      <td>2.00</td>\n",
       "      <td>3.00</td>\n",
       "      <td>129.00</td>\n",
       "      <td>72.00</td>\n",
       "      <td>19.00</td>\n",
       "      <td>902,777.78</td>\n",
       "      <td>Monday</td>\n",
       "      <td>September</td>\n",
       "      <td>2017</td>\n",
       "      <td>другой</td>\n",
       "      <td>0.56</td>\n",
       "      <td>0.15</td>\n",
       "      <td>Питер</td>\n",
       "    </tr>\n",
       "    <tr>\n",
       "      <th>10377</th>\n",
       "      <td>15</td>\n",
       "      <td>33,000,000.00</td>\n",
       "      <td>2019-03-15</td>\n",
       "      <td>2</td>\n",
       "      <td>3.80</td>\n",
       "      <td>6.00</td>\n",
       "      <td>1</td>\n",
       "      <td>0</td>\n",
       "      <td>0</td>\n",
       "      <td>0</td>\n",
       "      <td>NaN</td>\n",
       "      <td>санкт-петербург</td>\n",
       "      <td>NaN</td>\n",
       "      <td>21.86</td>\n",
       "      <td>0.16</td>\n",
       "      <td>0.57</td>\n",
       "      <td>0.32</td>\n",
       "      <td>2.00</td>\n",
       "      <td>3.00</td>\n",
       "      <td>75.00</td>\n",
       "      <td>63.00</td>\n",
       "      <td>12.00</td>\n",
       "      <td>523,809.52</td>\n",
       "      <td>Friday</td>\n",
       "      <td>March</td>\n",
       "      <td>2019</td>\n",
       "      <td>первый</td>\n",
       "      <td>0.84</td>\n",
       "      <td>0.16</td>\n",
       "      <td>Питер</td>\n",
       "    </tr>\n",
       "    <tr>\n",
       "      <th>1109</th>\n",
       "      <td>1</td>\n",
       "      <td>34,878,556.00</td>\n",
       "      <td>2014-12-09</td>\n",
       "      <td>2</td>\n",
       "      <td>NaN</td>\n",
       "      <td>6.00</td>\n",
       "      <td>5</td>\n",
       "      <td>1</td>\n",
       "      <td>0</td>\n",
       "      <td>0</td>\n",
       "      <td>1.00</td>\n",
       "      <td>санкт-петербург</td>\n",
       "      <td>1,572.00</td>\n",
       "      <td>21.86</td>\n",
       "      <td>0.16</td>\n",
       "      <td>0.57</td>\n",
       "      <td>0.32</td>\n",
       "      <td>2.00</td>\n",
       "      <td>3.00</td>\n",
       "      <td>95.80</td>\n",
       "      <td>58.30</td>\n",
       "      <td>20.00</td>\n",
       "      <td>598,259.97</td>\n",
       "      <td>Tuesday</td>\n",
       "      <td>December</td>\n",
       "      <td>2014</td>\n",
       "      <td>другой</td>\n",
       "      <td>0.61</td>\n",
       "      <td>0.21</td>\n",
       "      <td>Питер</td>\n",
       "    </tr>\n",
       "    <tr>\n",
       "      <th>22036</th>\n",
       "      <td>3</td>\n",
       "      <td>7,200,000.00</td>\n",
       "      <td>2017-12-21</td>\n",
       "      <td>2</td>\n",
       "      <td>3.07</td>\n",
       "      <td>3.00</td>\n",
       "      <td>2</td>\n",
       "      <td>0</td>\n",
       "      <td>0</td>\n",
       "      <td>0</td>\n",
       "      <td>NaN</td>\n",
       "      <td>санкт-петербург</td>\n",
       "      <td>89.00</td>\n",
       "      <td>21.88</td>\n",
       "      <td>0.43</td>\n",
       "      <td>0.27</td>\n",
       "      <td>0.33</td>\n",
       "      <td>3.00</td>\n",
       "      <td>3.00</td>\n",
       "      <td>72.00</td>\n",
       "      <td>44.90</td>\n",
       "      <td>12.30</td>\n",
       "      <td>160,356.35</td>\n",
       "      <td>Thursday</td>\n",
       "      <td>December</td>\n",
       "      <td>2017</td>\n",
       "      <td>другой</td>\n",
       "      <td>0.62</td>\n",
       "      <td>0.17</td>\n",
       "      <td>Питер</td>\n",
       "    </tr>\n",
       "    <tr>\n",
       "      <th>8677</th>\n",
       "      <td>15</td>\n",
       "      <td>13,500,000.00</td>\n",
       "      <td>2017-12-19</td>\n",
       "      <td>3</td>\n",
       "      <td>3.50</td>\n",
       "      <td>5.00</td>\n",
       "      <td>3</td>\n",
       "      <td>0</td>\n",
       "      <td>0</td>\n",
       "      <td>0</td>\n",
       "      <td>NaN</td>\n",
       "      <td>санкт-петербург</td>\n",
       "      <td>35.00</td>\n",
       "      <td>21.37</td>\n",
       "      <td>0.54</td>\n",
       "      <td>0.22</td>\n",
       "      <td>0.38</td>\n",
       "      <td>3.00</td>\n",
       "      <td>3.00</td>\n",
       "      <td>98.00</td>\n",
       "      <td>46.00</td>\n",
       "      <td>22.00</td>\n",
       "      <td>293,478.26</td>\n",
       "      <td>Tuesday</td>\n",
       "      <td>December</td>\n",
       "      <td>2017</td>\n",
       "      <td>другой</td>\n",
       "      <td>0.47</td>\n",
       "      <td>0.22</td>\n",
       "      <td>Питер</td>\n",
       "    </tr>\n",
       "    <tr>\n",
       "      <th>8239</th>\n",
       "      <td>10</td>\n",
       "      <td>13,500,000.00</td>\n",
       "      <td>2018-08-06</td>\n",
       "      <td>3</td>\n",
       "      <td>3.20</td>\n",
       "      <td>7.00</td>\n",
       "      <td>3</td>\n",
       "      <td>0</td>\n",
       "      <td>0</td>\n",
       "      <td>0</td>\n",
       "      <td>NaN</td>\n",
       "      <td>санкт-петербург</td>\n",
       "      <td>14.00</td>\n",
       "      <td>21.98</td>\n",
       "      <td>0.14</td>\n",
       "      <td>0.66</td>\n",
       "      <td>0.39</td>\n",
       "      <td>3.00</td>\n",
       "      <td>2.00</td>\n",
       "      <td>96.90</td>\n",
       "      <td>67.30</td>\n",
       "      <td>14.80</td>\n",
       "      <td>200,594.35</td>\n",
       "      <td>Monday</td>\n",
       "      <td>August</td>\n",
       "      <td>2018</td>\n",
       "      <td>другой</td>\n",
       "      <td>0.69</td>\n",
       "      <td>0.15</td>\n",
       "      <td>Питер</td>\n",
       "    </tr>\n",
       "    <tr>\n",
       "      <th>17078</th>\n",
       "      <td>20</td>\n",
       "      <td>11,500,000.00</td>\n",
       "      <td>2017-07-24</td>\n",
       "      <td>1</td>\n",
       "      <td>4.25</td>\n",
       "      <td>6.00</td>\n",
       "      <td>3</td>\n",
       "      <td>0</td>\n",
       "      <td>0</td>\n",
       "      <td>0</td>\n",
       "      <td>NaN</td>\n",
       "      <td>санкт-петербург</td>\n",
       "      <td>451.00</td>\n",
       "      <td>21.99</td>\n",
       "      <td>0.21</td>\n",
       "      <td>0.62</td>\n",
       "      <td>0.39</td>\n",
       "      <td>3.00</td>\n",
       "      <td>2.00</td>\n",
       "      <td>57.40</td>\n",
       "      <td>37.50</td>\n",
       "      <td>5.60</td>\n",
       "      <td>306,666.67</td>\n",
       "      <td>Monday</td>\n",
       "      <td>July</td>\n",
       "      <td>2017</td>\n",
       "      <td>другой</td>\n",
       "      <td>0.65</td>\n",
       "      <td>0.10</td>\n",
       "      <td>Питер</td>\n",
       "    </tr>\n",
       "    <tr>\n",
       "      <th>2609</th>\n",
       "      <td>20</td>\n",
       "      <td>7,200,000.00</td>\n",
       "      <td>2017-08-24</td>\n",
       "      <td>3</td>\n",
       "      <td>2.80</td>\n",
       "      <td>4.00</td>\n",
       "      <td>1</td>\n",
       "      <td>0</td>\n",
       "      <td>0</td>\n",
       "      <td>0</td>\n",
       "      <td>0.00</td>\n",
       "      <td>санкт-петербург</td>\n",
       "      <td>11.00</td>\n",
       "      <td>21.83</td>\n",
       "      <td>0.41</td>\n",
       "      <td>0.52</td>\n",
       "      <td>0.40</td>\n",
       "      <td>3.00</td>\n",
       "      <td>2.00</td>\n",
       "      <td>80.00</td>\n",
       "      <td>43.00</td>\n",
       "      <td>8.00</td>\n",
       "      <td>167,441.86</td>\n",
       "      <td>Thursday</td>\n",
       "      <td>August</td>\n",
       "      <td>2017</td>\n",
       "      <td>первый</td>\n",
       "      <td>0.54</td>\n",
       "      <td>0.10</td>\n",
       "      <td>Питер</td>\n",
       "    </tr>\n",
       "    <tr>\n",
       "      <th>2291</th>\n",
       "      <td>6</td>\n",
       "      <td>27,000,000.00</td>\n",
       "      <td>2015-06-11</td>\n",
       "      <td>5</td>\n",
       "      <td>3.30</td>\n",
       "      <td>5.00</td>\n",
       "      <td>4</td>\n",
       "      <td>0</td>\n",
       "      <td>0</td>\n",
       "      <td>0</td>\n",
       "      <td>1.00</td>\n",
       "      <td>санкт-петербург</td>\n",
       "      <td>388.00</td>\n",
       "      <td>21.78</td>\n",
       "      <td>0.07</td>\n",
       "      <td>0.56</td>\n",
       "      <td>0.40</td>\n",
       "      <td>2.00</td>\n",
       "      <td>3.00</td>\n",
       "      <td>173.60</td>\n",
       "      <td>125.50</td>\n",
       "      <td>15.00</td>\n",
       "      <td>215,139.44</td>\n",
       "      <td>Thursday</td>\n",
       "      <td>June</td>\n",
       "      <td>2015</td>\n",
       "      <td>другой</td>\n",
       "      <td>0.72</td>\n",
       "      <td>0.09</td>\n",
       "      <td>Питер</td>\n",
       "    </tr>\n",
       "    <tr>\n",
       "      <th>9488</th>\n",
       "      <td>3</td>\n",
       "      <td>8,000,000.00</td>\n",
       "      <td>2018-07-26</td>\n",
       "      <td>3</td>\n",
       "      <td>3.40</td>\n",
       "      <td>4.00</td>\n",
       "      <td>1</td>\n",
       "      <td>0</td>\n",
       "      <td>0</td>\n",
       "      <td>0</td>\n",
       "      <td>NaN</td>\n",
       "      <td>санкт-петербург</td>\n",
       "      <td>60.00</td>\n",
       "      <td>21.65</td>\n",
       "      <td>0.59</td>\n",
       "      <td>0.04</td>\n",
       "      <td>0.41</td>\n",
       "      <td>3.00</td>\n",
       "      <td>2.00</td>\n",
       "      <td>106.00</td>\n",
       "      <td>NaN</td>\n",
       "      <td>NaN</td>\n",
       "      <td>NaN</td>\n",
       "      <td>Thursday</td>\n",
       "      <td>July</td>\n",
       "      <td>2018</td>\n",
       "      <td>первый</td>\n",
       "      <td>NaN</td>\n",
       "      <td>NaN</td>\n",
       "      <td>Питер</td>\n",
       "    </tr>\n",
       "  </tbody>\n",
       "</table>\n",
       "</div>"
      ],
      "text/plain": [
       "       total_images    last_price first_day_exposition  rooms  ceiling_height  \\\n",
       "13694             2 31,099,000.00           2018-06-25      5            3.28   \n",
       "1182              1  5,800,000.00           2016-03-10      1            3.70   \n",
       "8614              7 10,990,000.00           2015-12-16      3            3.90   \n",
       "1934             18  9,590,000.00           2017-05-23      2            3.30   \n",
       "20873            18 11,500,000.00           2018-09-17      3            4.20   \n",
       "10867             1 56,844,500.00           2015-01-15      3             NaN   \n",
       "11492             1 46,424,072.00           2014-12-09      2             NaN   \n",
       "11723            18 32,500,000.00           2015-01-15      3            3.40   \n",
       "7726             20 50,000,000.00           2019-04-18      2             NaN   \n",
       "5297             19 45,000,000.00           2018-11-15      2            3.20   \n",
       "13919            12 65,000,000.00           2017-09-25      3             NaN   \n",
       "10377            15 33,000,000.00           2019-03-15      2            3.80   \n",
       "1109              1 34,878,556.00           2014-12-09      2             NaN   \n",
       "22036             3  7,200,000.00           2017-12-21      2            3.07   \n",
       "8677             15 13,500,000.00           2017-12-19      3            3.50   \n",
       "8239             10 13,500,000.00           2018-08-06      3            3.20   \n",
       "17078            20 11,500,000.00           2017-07-24      1            4.25   \n",
       "2609             20  7,200,000.00           2017-08-24      3            2.80   \n",
       "2291              6 27,000,000.00           2015-06-11      5            3.30   \n",
       "9488              3  8,000,000.00           2018-07-26      3            3.40   \n",
       "\n",
       "       floors_total  floor  is_apartment  studio  open_plan  balcony  \\\n",
       "13694          5.00      5             0       0          0      NaN   \n",
       "1182           7.00      4             0       0          0     0.00   \n",
       "8614           5.00      3             0       0          0     0.00   \n",
       "1934           5.00      2             0       0          0     0.00   \n",
       "20873          7.00      6             0       0          0     1.00   \n",
       "10867          6.00      5             1       0          0      NaN   \n",
       "11492          6.00      6             1       0          0     1.00   \n",
       "11723          6.00      2             0       0          0     0.00   \n",
       "7726           7.00      4             0       0          0     2.00   \n",
       "5297           6.00      4             1       0          0     1.00   \n",
       "13919          6.00      5             0       0          0     0.00   \n",
       "10377          6.00      1             0       0          0      NaN   \n",
       "1109           6.00      5             1       0          0     1.00   \n",
       "22036          3.00      2             0       0          0      NaN   \n",
       "8677           5.00      3             0       0          0      NaN   \n",
       "8239           7.00      3             0       0          0      NaN   \n",
       "17078          6.00      3             0       0          0      NaN   \n",
       "2609           4.00      1             0       0          0     0.00   \n",
       "2291           5.00      4             0       0          0     1.00   \n",
       "9488           4.00      1             0       0          0      NaN   \n",
       "\n",
       "         locality_name  days_exposition  airports_nearest_km  \\\n",
       "13694  санкт-петербург              NaN                21.63   \n",
       "1182   санкт-петербург           167.00                21.63   \n",
       "8614   санкт-петербург           265.00                21.82   \n",
       "1934   санкт-петербург            69.00                21.91   \n",
       "20873  санкт-петербург              NaN                21.74   \n",
       "10867  санкт-петербург              NaN                21.86   \n",
       "11492  санкт-петербург         1,030.00                21.86   \n",
       "11723  санкт-петербург           725.00                21.86   \n",
       "7726   санкт-петербург              NaN                21.86   \n",
       "5297   санкт-петербург              NaN                21.86   \n",
       "13919  санкт-петербург            13.00                21.86   \n",
       "10377  санкт-петербург              NaN                21.86   \n",
       "1109   санкт-петербург         1,572.00                21.86   \n",
       "22036  санкт-петербург            89.00                21.88   \n",
       "8677   санкт-петербург            35.00                21.37   \n",
       "8239   санкт-петербург            14.00                21.98   \n",
       "17078  санкт-петербург           451.00                21.99   \n",
       "2609   санкт-петербург            11.00                21.83   \n",
       "2291   санкт-петербург           388.00                21.78   \n",
       "9488   санкт-петербург            60.00                21.65   \n",
       "\n",
       "       parks_nearest_km  ponds_nearest_km  city_centers_nearest_km  \\\n",
       "13694              0.25              0.43                     0.18   \n",
       "1182               0.30              0.50                     0.21   \n",
       "8614               0.23              0.51                     0.21   \n",
       "1934               0.36              0.29                     0.29   \n",
       "20873              0.47              0.09                     0.29   \n",
       "10867              0.16              0.57                     0.32   \n",
       "11492              0.16              0.57                     0.32   \n",
       "11723              0.16              0.57                     0.32   \n",
       "7726               0.16              0.57                     0.32   \n",
       "5297               0.16              0.57                     0.32   \n",
       "13919              0.16              0.57                     0.32   \n",
       "10377              0.16              0.57                     0.32   \n",
       "1109               0.16              0.57                     0.32   \n",
       "22036              0.43              0.27                     0.33   \n",
       "8677               0.54              0.22                     0.38   \n",
       "8239               0.14              0.66                     0.39   \n",
       "17078              0.21              0.62                     0.39   \n",
       "2609               0.41              0.52                     0.40   \n",
       "2291               0.07              0.56                     0.40   \n",
       "9488               0.59              0.04                     0.41   \n",
       "\n",
       "       parks_around_3_km  ponds_around_3_km  total_area_m2  living_area_m2  \\\n",
       "13694               2.00               3.00         159.00          106.00   \n",
       "1182                3.00               3.00          33.60           22.80   \n",
       "8614                3.00               2.00         100.00           37.80   \n",
       "1934                3.00               3.00         108.00           59.00   \n",
       "20873               2.00               2.00         113.50           44.20   \n",
       "10867               2.00               3.00         177.90           87.20   \n",
       "11492               2.00               3.00          92.40           54.80   \n",
       "11723               2.00               3.00         127.10           56.20   \n",
       "7726                2.00               3.00          93.00           40.00   \n",
       "5297                2.00               3.00          96.00             NaN   \n",
       "13919               2.00               3.00         129.00           72.00   \n",
       "10377               2.00               3.00          75.00           63.00   \n",
       "1109                2.00               3.00          95.80           58.30   \n",
       "22036               3.00               3.00          72.00           44.90   \n",
       "8677                3.00               3.00          98.00           46.00   \n",
       "8239                3.00               2.00          96.90           67.30   \n",
       "17078               3.00               2.00          57.40           37.50   \n",
       "2609                3.00               2.00          80.00           43.00   \n",
       "2291                2.00               3.00         173.60          125.50   \n",
       "9488                3.00               2.00         106.00             NaN   \n",
       "\n",
       "       kitchen_area_m2     price_m2 day_of_week_exposition month_exposition  \\\n",
       "13694            15.00   293,386.79                 Monday             June   \n",
       "1182              6.60   254,385.96               Thursday            March   \n",
       "8614             11.60   290,740.74              Wednesday         December   \n",
       "1934             11.00   162,542.37                Tuesday              May   \n",
       "20873            21.70   260,181.00                 Monday        September   \n",
       "10867            87.20   651,886.47               Thursday          January   \n",
       "11492            20.00   847,154.60                Tuesday         December   \n",
       "11723            51.80   578,291.81               Thursday          January   \n",
       "7726             28.00 1,250,000.00               Thursday            April   \n",
       "5297             45.00          NaN               Thursday         November   \n",
       "13919            19.00   902,777.78                 Monday        September   \n",
       "10377            12.00   523,809.52                 Friday            March   \n",
       "1109             20.00   598,259.97                Tuesday         December   \n",
       "22036            12.30   160,356.35               Thursday         December   \n",
       "8677             22.00   293,478.26                Tuesday         December   \n",
       "8239             14.80   200,594.35                 Monday           August   \n",
       "17078             5.60   306,666.67                 Monday             July   \n",
       "2609              8.00   167,441.86               Thursday           August   \n",
       "2291             15.00   215,139.44               Thursday             June   \n",
       "9488               NaN          NaN               Thursday             July   \n",
       "\n",
       "       year_exposition floor_status  total_living_ratio  total_kitchen_ratio  \\\n",
       "13694             2018    последний                0.67                 0.09   \n",
       "1182              2016       другой                0.68                 0.20   \n",
       "8614              2015       другой                0.38                 0.12   \n",
       "1934              2017       другой                0.55                 0.10   \n",
       "20873             2018       другой                0.39                 0.19   \n",
       "10867             2015       другой                0.49                 0.49   \n",
       "11492             2014    последний                0.59                 0.22   \n",
       "11723             2015       другой                0.44                 0.41   \n",
       "7726              2019       другой                0.43                 0.30   \n",
       "5297              2018       другой                 NaN                 0.47   \n",
       "13919             2017       другой                0.56                 0.15   \n",
       "10377             2019       первый                0.84                 0.16   \n",
       "1109              2014       другой                0.61                 0.21   \n",
       "22036             2017       другой                0.62                 0.17   \n",
       "8677              2017       другой                0.47                 0.22   \n",
       "8239              2018       другой                0.69                 0.15   \n",
       "17078             2017       другой                0.65                 0.10   \n",
       "2609              2017       первый                0.54                 0.10   \n",
       "2291              2015       другой                0.72                 0.09   \n",
       "9488              2018       первый                 NaN                  NaN   \n",
       "\n",
       "      city_status  \n",
       "13694       Питер  \n",
       "1182        Питер  \n",
       "8614        Питер  \n",
       "1934        Питер  \n",
       "20873       Питер  \n",
       "10867       Питер  \n",
       "11492       Питер  \n",
       "11723       Питер  \n",
       "7726        Питер  \n",
       "5297        Питер  \n",
       "13919       Питер  \n",
       "10377       Питер  \n",
       "1109        Питер  \n",
       "22036       Питер  \n",
       "8677        Питер  \n",
       "8239        Питер  \n",
       "17078       Питер  \n",
       "2609        Питер  \n",
       "2291        Питер  \n",
       "9488        Питер  "
      ]
     },
     "execution_count": 103,
     "metadata": {},
     "output_type": "execute_result"
    }
   ],
   "source": [
    "city_center_d.sort_values('city_centers_nearest_km', ascending=True).head(20)"
   ]
  },
  {
   "cell_type": "code",
   "execution_count": 104,
   "metadata": {},
   "outputs": [
    {
     "data": {
      "text/html": [
       "<div>\n",
       "<style scoped>\n",
       "    .dataframe tbody tr th:only-of-type {\n",
       "        vertical-align: middle;\n",
       "    }\n",
       "\n",
       "    .dataframe tbody tr th {\n",
       "        vertical-align: top;\n",
       "    }\n",
       "\n",
       "    .dataframe thead th {\n",
       "        text-align: right;\n",
       "    }\n",
       "</style>\n",
       "<table border=\"1\" class=\"dataframe\">\n",
       "  <thead>\n",
       "    <tr style=\"text-align: right;\">\n",
       "      <th></th>\n",
       "      <th>total_images</th>\n",
       "      <th>last_price</th>\n",
       "      <th>first_day_exposition</th>\n",
       "      <th>rooms</th>\n",
       "      <th>ceiling_height</th>\n",
       "      <th>floors_total</th>\n",
       "      <th>floor</th>\n",
       "      <th>is_apartment</th>\n",
       "      <th>studio</th>\n",
       "      <th>open_plan</th>\n",
       "      <th>balcony</th>\n",
       "      <th>locality_name</th>\n",
       "      <th>days_exposition</th>\n",
       "      <th>airports_nearest_km</th>\n",
       "      <th>parks_nearest_km</th>\n",
       "      <th>ponds_nearest_km</th>\n",
       "      <th>city_centers_nearest_km</th>\n",
       "      <th>parks_around_3_km</th>\n",
       "      <th>ponds_around_3_km</th>\n",
       "      <th>total_area_m2</th>\n",
       "      <th>living_area_m2</th>\n",
       "      <th>kitchen_area_m2</th>\n",
       "      <th>price_m2</th>\n",
       "      <th>day_of_week_exposition</th>\n",
       "      <th>month_exposition</th>\n",
       "      <th>year_exposition</th>\n",
       "      <th>floor_status</th>\n",
       "      <th>total_living_ratio</th>\n",
       "      <th>total_kitchen_ratio</th>\n",
       "      <th>city_status</th>\n",
       "    </tr>\n",
       "  </thead>\n",
       "  <tbody>\n",
       "    <tr>\n",
       "      <th>20724</th>\n",
       "      <td>4</td>\n",
       "      <td>20,950,000.00</td>\n",
       "      <td>2016-03-10</td>\n",
       "      <td>4</td>\n",
       "      <td>NaN</td>\n",
       "      <td>10.00</td>\n",
       "      <td>6</td>\n",
       "      <td>0</td>\n",
       "      <td>0</td>\n",
       "      <td>0</td>\n",
       "      <td>0.00</td>\n",
       "      <td>санкт-петербург</td>\n",
       "      <td>197.00</td>\n",
       "      <td>15.90</td>\n",
       "      <td>0.65</td>\n",
       "      <td>NaN</td>\n",
       "      <td>7.95</td>\n",
       "      <td>1.00</td>\n",
       "      <td>0.00</td>\n",
       "      <td>148.00</td>\n",
       "      <td>82.00</td>\n",
       "      <td>19.20</td>\n",
       "      <td>255,487.80</td>\n",
       "      <td>Thursday</td>\n",
       "      <td>March</td>\n",
       "      <td>2016</td>\n",
       "      <td>другой</td>\n",
       "      <td>0.55</td>\n",
       "      <td>0.13</td>\n",
       "      <td>Питер</td>\n",
       "    </tr>\n",
       "    <tr>\n",
       "      <th>734</th>\n",
       "      <td>20</td>\n",
       "      <td>17,390,000.00</td>\n",
       "      <td>2017-06-06</td>\n",
       "      <td>4</td>\n",
       "      <td>NaN</td>\n",
       "      <td>18.00</td>\n",
       "      <td>10</td>\n",
       "      <td>0</td>\n",
       "      <td>0</td>\n",
       "      <td>0</td>\n",
       "      <td>1.00</td>\n",
       "      <td>санкт-петербург</td>\n",
       "      <td>94.00</td>\n",
       "      <td>17.31</td>\n",
       "      <td>NaN</td>\n",
       "      <td>NaN</td>\n",
       "      <td>7.96</td>\n",
       "      <td>0.00</td>\n",
       "      <td>0.00</td>\n",
       "      <td>113.00</td>\n",
       "      <td>67.00</td>\n",
       "      <td>19.00</td>\n",
       "      <td>259,552.24</td>\n",
       "      <td>Tuesday</td>\n",
       "      <td>June</td>\n",
       "      <td>2017</td>\n",
       "      <td>другой</td>\n",
       "      <td>0.59</td>\n",
       "      <td>0.17</td>\n",
       "      <td>Питер</td>\n",
       "    </tr>\n",
       "    <tr>\n",
       "      <th>5513</th>\n",
       "      <td>5</td>\n",
       "      <td>9,962,480.00</td>\n",
       "      <td>2015-09-03</td>\n",
       "      <td>3</td>\n",
       "      <td>NaN</td>\n",
       "      <td>14.00</td>\n",
       "      <td>3</td>\n",
       "      <td>0</td>\n",
       "      <td>0</td>\n",
       "      <td>0</td>\n",
       "      <td>0.00</td>\n",
       "      <td>санкт-петербург</td>\n",
       "      <td>659.00</td>\n",
       "      <td>17.31</td>\n",
       "      <td>NaN</td>\n",
       "      <td>NaN</td>\n",
       "      <td>7.96</td>\n",
       "      <td>0.00</td>\n",
       "      <td>0.00</td>\n",
       "      <td>98.50</td>\n",
       "      <td>52.70</td>\n",
       "      <td>19.10</td>\n",
       "      <td>189,041.37</td>\n",
       "      <td>Thursday</td>\n",
       "      <td>September</td>\n",
       "      <td>2015</td>\n",
       "      <td>другой</td>\n",
       "      <td>0.54</td>\n",
       "      <td>0.19</td>\n",
       "      <td>Питер</td>\n",
       "    </tr>\n",
       "    <tr>\n",
       "      <th>21470</th>\n",
       "      <td>20</td>\n",
       "      <td>15,000,000.00</td>\n",
       "      <td>2017-07-25</td>\n",
       "      <td>2</td>\n",
       "      <td>NaN</td>\n",
       "      <td>12.00</td>\n",
       "      <td>9</td>\n",
       "      <td>0</td>\n",
       "      <td>0</td>\n",
       "      <td>0</td>\n",
       "      <td>0.00</td>\n",
       "      <td>санкт-петербург</td>\n",
       "      <td>15.00</td>\n",
       "      <td>17.31</td>\n",
       "      <td>NaN</td>\n",
       "      <td>NaN</td>\n",
       "      <td>7.96</td>\n",
       "      <td>0.00</td>\n",
       "      <td>0.00</td>\n",
       "      <td>59.00</td>\n",
       "      <td>30.00</td>\n",
       "      <td>13.00</td>\n",
       "      <td>500,000.00</td>\n",
       "      <td>Tuesday</td>\n",
       "      <td>July</td>\n",
       "      <td>2017</td>\n",
       "      <td>другой</td>\n",
       "      <td>0.51</td>\n",
       "      <td>0.22</td>\n",
       "      <td>Питер</td>\n",
       "    </tr>\n",
       "    <tr>\n",
       "      <th>3015</th>\n",
       "      <td>6</td>\n",
       "      <td>8,484,786.00</td>\n",
       "      <td>2015-12-30</td>\n",
       "      <td>2</td>\n",
       "      <td>2.70</td>\n",
       "      <td>18.00</td>\n",
       "      <td>17</td>\n",
       "      <td>0</td>\n",
       "      <td>0</td>\n",
       "      <td>0</td>\n",
       "      <td>0.00</td>\n",
       "      <td>санкт-петербург</td>\n",
       "      <td>666.00</td>\n",
       "      <td>17.31</td>\n",
       "      <td>NaN</td>\n",
       "      <td>NaN</td>\n",
       "      <td>7.96</td>\n",
       "      <td>0.00</td>\n",
       "      <td>0.00</td>\n",
       "      <td>60.00</td>\n",
       "      <td>NaN</td>\n",
       "      <td>NaN</td>\n",
       "      <td>NaN</td>\n",
       "      <td>Wednesday</td>\n",
       "      <td>December</td>\n",
       "      <td>2015</td>\n",
       "      <td>другой</td>\n",
       "      <td>NaN</td>\n",
       "      <td>NaN</td>\n",
       "      <td>Питер</td>\n",
       "    </tr>\n",
       "    <tr>\n",
       "      <th>23627</th>\n",
       "      <td>11</td>\n",
       "      <td>6,300,000.00</td>\n",
       "      <td>2017-01-27</td>\n",
       "      <td>1</td>\n",
       "      <td>NaN</td>\n",
       "      <td>10.00</td>\n",
       "      <td>4</td>\n",
       "      <td>0</td>\n",
       "      <td>0</td>\n",
       "      <td>0</td>\n",
       "      <td>2.00</td>\n",
       "      <td>санкт-петербург</td>\n",
       "      <td>616.00</td>\n",
       "      <td>17.31</td>\n",
       "      <td>NaN</td>\n",
       "      <td>NaN</td>\n",
       "      <td>7.96</td>\n",
       "      <td>0.00</td>\n",
       "      <td>0.00</td>\n",
       "      <td>42.30</td>\n",
       "      <td>16.30</td>\n",
       "      <td>12.00</td>\n",
       "      <td>386,503.07</td>\n",
       "      <td>Friday</td>\n",
       "      <td>January</td>\n",
       "      <td>2017</td>\n",
       "      <td>другой</td>\n",
       "      <td>0.39</td>\n",
       "      <td>0.28</td>\n",
       "      <td>Питер</td>\n",
       "    </tr>\n",
       "    <tr>\n",
       "      <th>6441</th>\n",
       "      <td>6</td>\n",
       "      <td>11,675,484.00</td>\n",
       "      <td>2017-06-06</td>\n",
       "      <td>3</td>\n",
       "      <td>2.70</td>\n",
       "      <td>18.00</td>\n",
       "      <td>15</td>\n",
       "      <td>0</td>\n",
       "      <td>0</td>\n",
       "      <td>0</td>\n",
       "      <td>0.00</td>\n",
       "      <td>санкт-петербург</td>\n",
       "      <td>141.00</td>\n",
       "      <td>17.31</td>\n",
       "      <td>NaN</td>\n",
       "      <td>NaN</td>\n",
       "      <td>7.96</td>\n",
       "      <td>0.00</td>\n",
       "      <td>0.00</td>\n",
       "      <td>89.00</td>\n",
       "      <td>NaN</td>\n",
       "      <td>NaN</td>\n",
       "      <td>NaN</td>\n",
       "      <td>Tuesday</td>\n",
       "      <td>June</td>\n",
       "      <td>2017</td>\n",
       "      <td>другой</td>\n",
       "      <td>NaN</td>\n",
       "      <td>NaN</td>\n",
       "      <td>Питер</td>\n",
       "    </tr>\n",
       "    <tr>\n",
       "      <th>11089</th>\n",
       "      <td>20</td>\n",
       "      <td>9,800,000.00</td>\n",
       "      <td>2018-04-11</td>\n",
       "      <td>4</td>\n",
       "      <td>3.00</td>\n",
       "      <td>4.00</td>\n",
       "      <td>1</td>\n",
       "      <td>0</td>\n",
       "      <td>0</td>\n",
       "      <td>0</td>\n",
       "      <td>NaN</td>\n",
       "      <td>санкт-петербург</td>\n",
       "      <td>NaN</td>\n",
       "      <td>38.71</td>\n",
       "      <td>0.62</td>\n",
       "      <td>0.18</td>\n",
       "      <td>7.97</td>\n",
       "      <td>2.00</td>\n",
       "      <td>3.00</td>\n",
       "      <td>105.30</td>\n",
       "      <td>69.00</td>\n",
       "      <td>8.00</td>\n",
       "      <td>142,028.99</td>\n",
       "      <td>Wednesday</td>\n",
       "      <td>April</td>\n",
       "      <td>2018</td>\n",
       "      <td>первый</td>\n",
       "      <td>0.66</td>\n",
       "      <td>0.08</td>\n",
       "      <td>Питер</td>\n",
       "    </tr>\n",
       "    <tr>\n",
       "      <th>7252</th>\n",
       "      <td>16</td>\n",
       "      <td>4,670,000.00</td>\n",
       "      <td>2017-09-20</td>\n",
       "      <td>1</td>\n",
       "      <td>2.65</td>\n",
       "      <td>12.00</td>\n",
       "      <td>5</td>\n",
       "      <td>0</td>\n",
       "      <td>0</td>\n",
       "      <td>0</td>\n",
       "      <td>NaN</td>\n",
       "      <td>санкт-петербург</td>\n",
       "      <td>216.00</td>\n",
       "      <td>30.60</td>\n",
       "      <td>NaN</td>\n",
       "      <td>0.32</td>\n",
       "      <td>7.98</td>\n",
       "      <td>0.00</td>\n",
       "      <td>2.00</td>\n",
       "      <td>36.00</td>\n",
       "      <td>18.50</td>\n",
       "      <td>8.00</td>\n",
       "      <td>252,432.43</td>\n",
       "      <td>Wednesday</td>\n",
       "      <td>September</td>\n",
       "      <td>2017</td>\n",
       "      <td>другой</td>\n",
       "      <td>0.51</td>\n",
       "      <td>0.22</td>\n",
       "      <td>Питер</td>\n",
       "    </tr>\n",
       "    <tr>\n",
       "      <th>15260</th>\n",
       "      <td>5</td>\n",
       "      <td>15,500,000.00</td>\n",
       "      <td>2016-06-20</td>\n",
       "      <td>3</td>\n",
       "      <td>2.75</td>\n",
       "      <td>12.00</td>\n",
       "      <td>12</td>\n",
       "      <td>0</td>\n",
       "      <td>0</td>\n",
       "      <td>0</td>\n",
       "      <td>2.00</td>\n",
       "      <td>санкт-петербург</td>\n",
       "      <td>44.00</td>\n",
       "      <td>30.69</td>\n",
       "      <td>NaN</td>\n",
       "      <td>0.40</td>\n",
       "      <td>7.98</td>\n",
       "      <td>0.00</td>\n",
       "      <td>2.00</td>\n",
       "      <td>82.00</td>\n",
       "      <td>60.00</td>\n",
       "      <td>16.00</td>\n",
       "      <td>258,333.33</td>\n",
       "      <td>Monday</td>\n",
       "      <td>June</td>\n",
       "      <td>2016</td>\n",
       "      <td>последний</td>\n",
       "      <td>0.73</td>\n",
       "      <td>0.20</td>\n",
       "      <td>Питер</td>\n",
       "    </tr>\n",
       "    <tr>\n",
       "      <th>18595</th>\n",
       "      <td>7</td>\n",
       "      <td>3,785,000.00</td>\n",
       "      <td>2015-11-02</td>\n",
       "      <td>1</td>\n",
       "      <td>2.80</td>\n",
       "      <td>18.00</td>\n",
       "      <td>7</td>\n",
       "      <td>0</td>\n",
       "      <td>0</td>\n",
       "      <td>0</td>\n",
       "      <td>2.00</td>\n",
       "      <td>санкт-петербург</td>\n",
       "      <td>438.00</td>\n",
       "      <td>31.84</td>\n",
       "      <td>NaN</td>\n",
       "      <td>0.88</td>\n",
       "      <td>7.98</td>\n",
       "      <td>0.00</td>\n",
       "      <td>1.00</td>\n",
       "      <td>39.00</td>\n",
       "      <td>20.00</td>\n",
       "      <td>9.00</td>\n",
       "      <td>189,250.00</td>\n",
       "      <td>Monday</td>\n",
       "      <td>November</td>\n",
       "      <td>2015</td>\n",
       "      <td>другой</td>\n",
       "      <td>0.51</td>\n",
       "      <td>0.23</td>\n",
       "      <td>Питер</td>\n",
       "    </tr>\n",
       "    <tr>\n",
       "      <th>10483</th>\n",
       "      <td>20</td>\n",
       "      <td>8,750,000.00</td>\n",
       "      <td>2018-01-10</td>\n",
       "      <td>2</td>\n",
       "      <td>2.80</td>\n",
       "      <td>12.00</td>\n",
       "      <td>3</td>\n",
       "      <td>0</td>\n",
       "      <td>0</td>\n",
       "      <td>0</td>\n",
       "      <td>NaN</td>\n",
       "      <td>санкт-петербург</td>\n",
       "      <td>92.00</td>\n",
       "      <td>30.69</td>\n",
       "      <td>NaN</td>\n",
       "      <td>0.40</td>\n",
       "      <td>7.98</td>\n",
       "      <td>0.00</td>\n",
       "      <td>2.00</td>\n",
       "      <td>66.20</td>\n",
       "      <td>34.00</td>\n",
       "      <td>14.00</td>\n",
       "      <td>257,352.94</td>\n",
       "      <td>Wednesday</td>\n",
       "      <td>January</td>\n",
       "      <td>2018</td>\n",
       "      <td>другой</td>\n",
       "      <td>0.51</td>\n",
       "      <td>0.21</td>\n",
       "      <td>Питер</td>\n",
       "    </tr>\n",
       "    <tr>\n",
       "      <th>18176</th>\n",
       "      <td>20</td>\n",
       "      <td>17,000,000.00</td>\n",
       "      <td>2017-10-23</td>\n",
       "      <td>3</td>\n",
       "      <td>NaN</td>\n",
       "      <td>13.00</td>\n",
       "      <td>12</td>\n",
       "      <td>0</td>\n",
       "      <td>0</td>\n",
       "      <td>0</td>\n",
       "      <td>0.00</td>\n",
       "      <td>санкт-петербург</td>\n",
       "      <td>20.00</td>\n",
       "      <td>30.69</td>\n",
       "      <td>NaN</td>\n",
       "      <td>0.40</td>\n",
       "      <td>7.98</td>\n",
       "      <td>0.00</td>\n",
       "      <td>2.00</td>\n",
       "      <td>97.80</td>\n",
       "      <td>49.00</td>\n",
       "      <td>23.00</td>\n",
       "      <td>346,938.78</td>\n",
       "      <td>Monday</td>\n",
       "      <td>October</td>\n",
       "      <td>2017</td>\n",
       "      <td>другой</td>\n",
       "      <td>0.50</td>\n",
       "      <td>0.24</td>\n",
       "      <td>Питер</td>\n",
       "    </tr>\n",
       "    <tr>\n",
       "      <th>19167</th>\n",
       "      <td>12</td>\n",
       "      <td>3,350,000.00</td>\n",
       "      <td>2018-10-23</td>\n",
       "      <td>1</td>\n",
       "      <td>2.50</td>\n",
       "      <td>5.00</td>\n",
       "      <td>1</td>\n",
       "      <td>0</td>\n",
       "      <td>0</td>\n",
       "      <td>0</td>\n",
       "      <td>NaN</td>\n",
       "      <td>санкт-петербург</td>\n",
       "      <td>14.00</td>\n",
       "      <td>15.11</td>\n",
       "      <td>0.46</td>\n",
       "      <td>NaN</td>\n",
       "      <td>7.99</td>\n",
       "      <td>1.00</td>\n",
       "      <td>0.00</td>\n",
       "      <td>31.00</td>\n",
       "      <td>19.00</td>\n",
       "      <td>5.50</td>\n",
       "      <td>176,315.79</td>\n",
       "      <td>Tuesday</td>\n",
       "      <td>October</td>\n",
       "      <td>2018</td>\n",
       "      <td>первый</td>\n",
       "      <td>0.61</td>\n",
       "      <td>0.18</td>\n",
       "      <td>Питер</td>\n",
       "    </tr>\n",
       "    <tr>\n",
       "      <th>6812</th>\n",
       "      <td>16</td>\n",
       "      <td>4,490,000.00</td>\n",
       "      <td>2019-03-13</td>\n",
       "      <td>2</td>\n",
       "      <td>2.50</td>\n",
       "      <td>5.00</td>\n",
       "      <td>5</td>\n",
       "      <td>0</td>\n",
       "      <td>0</td>\n",
       "      <td>0</td>\n",
       "      <td>1.00</td>\n",
       "      <td>санкт-петербург</td>\n",
       "      <td>NaN</td>\n",
       "      <td>15.11</td>\n",
       "      <td>0.46</td>\n",
       "      <td>NaN</td>\n",
       "      <td>7.99</td>\n",
       "      <td>1.00</td>\n",
       "      <td>0.00</td>\n",
       "      <td>41.80</td>\n",
       "      <td>28.00</td>\n",
       "      <td>5.00</td>\n",
       "      <td>160,357.14</td>\n",
       "      <td>Wednesday</td>\n",
       "      <td>March</td>\n",
       "      <td>2019</td>\n",
       "      <td>последний</td>\n",
       "      <td>0.67</td>\n",
       "      <td>0.12</td>\n",
       "      <td>Питер</td>\n",
       "    </tr>\n",
       "    <tr>\n",
       "      <th>21078</th>\n",
       "      <td>12</td>\n",
       "      <td>4,100,000.00</td>\n",
       "      <td>2018-10-14</td>\n",
       "      <td>1</td>\n",
       "      <td>2.50</td>\n",
       "      <td>5.00</td>\n",
       "      <td>2</td>\n",
       "      <td>0</td>\n",
       "      <td>0</td>\n",
       "      <td>0</td>\n",
       "      <td>NaN</td>\n",
       "      <td>санкт-петербург</td>\n",
       "      <td>35.00</td>\n",
       "      <td>15.11</td>\n",
       "      <td>0.46</td>\n",
       "      <td>NaN</td>\n",
       "      <td>7.99</td>\n",
       "      <td>1.00</td>\n",
       "      <td>0.00</td>\n",
       "      <td>36.00</td>\n",
       "      <td>18.00</td>\n",
       "      <td>15.00</td>\n",
       "      <td>227,777.78</td>\n",
       "      <td>Sunday</td>\n",
       "      <td>October</td>\n",
       "      <td>2018</td>\n",
       "      <td>другой</td>\n",
       "      <td>0.50</td>\n",
       "      <td>0.42</td>\n",
       "      <td>Питер</td>\n",
       "    </tr>\n",
       "    <tr>\n",
       "      <th>13804</th>\n",
       "      <td>9</td>\n",
       "      <td>3,200,000.00</td>\n",
       "      <td>2017-02-13</td>\n",
       "      <td>1</td>\n",
       "      <td>NaN</td>\n",
       "      <td>5.00</td>\n",
       "      <td>3</td>\n",
       "      <td>0</td>\n",
       "      <td>0</td>\n",
       "      <td>0</td>\n",
       "      <td>1.00</td>\n",
       "      <td>санкт-петербург</td>\n",
       "      <td>36.00</td>\n",
       "      <td>15.11</td>\n",
       "      <td>0.46</td>\n",
       "      <td>NaN</td>\n",
       "      <td>7.99</td>\n",
       "      <td>1.00</td>\n",
       "      <td>0.00</td>\n",
       "      <td>31.00</td>\n",
       "      <td>17.60</td>\n",
       "      <td>5.30</td>\n",
       "      <td>181,818.18</td>\n",
       "      <td>Monday</td>\n",
       "      <td>February</td>\n",
       "      <td>2017</td>\n",
       "      <td>другой</td>\n",
       "      <td>0.57</td>\n",
       "      <td>0.17</td>\n",
       "      <td>Питер</td>\n",
       "    </tr>\n",
       "    <tr>\n",
       "      <th>21718</th>\n",
       "      <td>11</td>\n",
       "      <td>2,540,000.00</td>\n",
       "      <td>2018-03-22</td>\n",
       "      <td>1</td>\n",
       "      <td>NaN</td>\n",
       "      <td>5.00</td>\n",
       "      <td>1</td>\n",
       "      <td>0</td>\n",
       "      <td>0</td>\n",
       "      <td>0</td>\n",
       "      <td>NaN</td>\n",
       "      <td>санкт-петербург</td>\n",
       "      <td>45.00</td>\n",
       "      <td>27.29</td>\n",
       "      <td>NaN</td>\n",
       "      <td>0.70</td>\n",
       "      <td>8.00</td>\n",
       "      <td>0.00</td>\n",
       "      <td>1.00</td>\n",
       "      <td>23.00</td>\n",
       "      <td>NaN</td>\n",
       "      <td>NaN</td>\n",
       "      <td>NaN</td>\n",
       "      <td>Thursday</td>\n",
       "      <td>March</td>\n",
       "      <td>2018</td>\n",
       "      <td>первый</td>\n",
       "      <td>NaN</td>\n",
       "      <td>NaN</td>\n",
       "      <td>Питер</td>\n",
       "    </tr>\n",
       "    <tr>\n",
       "      <th>18767</th>\n",
       "      <td>9</td>\n",
       "      <td>4,950,000.00</td>\n",
       "      <td>2017-04-06</td>\n",
       "      <td>3</td>\n",
       "      <td>2.50</td>\n",
       "      <td>5.00</td>\n",
       "      <td>2</td>\n",
       "      <td>0</td>\n",
       "      <td>0</td>\n",
       "      <td>0</td>\n",
       "      <td>NaN</td>\n",
       "      <td>санкт-петербург</td>\n",
       "      <td>236.00</td>\n",
       "      <td>27.29</td>\n",
       "      <td>NaN</td>\n",
       "      <td>0.70</td>\n",
       "      <td>8.00</td>\n",
       "      <td>0.00</td>\n",
       "      <td>1.00</td>\n",
       "      <td>59.20</td>\n",
       "      <td>44.60</td>\n",
       "      <td>6.40</td>\n",
       "      <td>110,986.55</td>\n",
       "      <td>Thursday</td>\n",
       "      <td>April</td>\n",
       "      <td>2017</td>\n",
       "      <td>другой</td>\n",
       "      <td>0.75</td>\n",
       "      <td>0.11</td>\n",
       "      <td>Питер</td>\n",
       "    </tr>\n",
       "    <tr>\n",
       "      <th>18111</th>\n",
       "      <td>8</td>\n",
       "      <td>6,800,000.00</td>\n",
       "      <td>2018-12-14</td>\n",
       "      <td>3</td>\n",
       "      <td>NaN</td>\n",
       "      <td>5.00</td>\n",
       "      <td>4</td>\n",
       "      <td>0</td>\n",
       "      <td>0</td>\n",
       "      <td>0</td>\n",
       "      <td>NaN</td>\n",
       "      <td>санкт-петербург</td>\n",
       "      <td>15.00</td>\n",
       "      <td>29.30</td>\n",
       "      <td>0.60</td>\n",
       "      <td>0.95</td>\n",
       "      <td>8.00</td>\n",
       "      <td>2.00</td>\n",
       "      <td>1.00</td>\n",
       "      <td>70.80</td>\n",
       "      <td>46.20</td>\n",
       "      <td>8.10</td>\n",
       "      <td>147,186.15</td>\n",
       "      <td>Friday</td>\n",
       "      <td>December</td>\n",
       "      <td>2018</td>\n",
       "      <td>другой</td>\n",
       "      <td>0.65</td>\n",
       "      <td>0.11</td>\n",
       "      <td>Питер</td>\n",
       "    </tr>\n",
       "  </tbody>\n",
       "</table>\n",
       "</div>"
      ],
      "text/plain": [
       "       total_images    last_price first_day_exposition  rooms  ceiling_height  \\\n",
       "20724             4 20,950,000.00           2016-03-10      4             NaN   \n",
       "734              20 17,390,000.00           2017-06-06      4             NaN   \n",
       "5513              5  9,962,480.00           2015-09-03      3             NaN   \n",
       "21470            20 15,000,000.00           2017-07-25      2             NaN   \n",
       "3015              6  8,484,786.00           2015-12-30      2            2.70   \n",
       "23627            11  6,300,000.00           2017-01-27      1             NaN   \n",
       "6441              6 11,675,484.00           2017-06-06      3            2.70   \n",
       "11089            20  9,800,000.00           2018-04-11      4            3.00   \n",
       "7252             16  4,670,000.00           2017-09-20      1            2.65   \n",
       "15260             5 15,500,000.00           2016-06-20      3            2.75   \n",
       "18595             7  3,785,000.00           2015-11-02      1            2.80   \n",
       "10483            20  8,750,000.00           2018-01-10      2            2.80   \n",
       "18176            20 17,000,000.00           2017-10-23      3             NaN   \n",
       "19167            12  3,350,000.00           2018-10-23      1            2.50   \n",
       "6812             16  4,490,000.00           2019-03-13      2            2.50   \n",
       "21078            12  4,100,000.00           2018-10-14      1            2.50   \n",
       "13804             9  3,200,000.00           2017-02-13      1             NaN   \n",
       "21718            11  2,540,000.00           2018-03-22      1             NaN   \n",
       "18767             9  4,950,000.00           2017-04-06      3            2.50   \n",
       "18111             8  6,800,000.00           2018-12-14      3             NaN   \n",
       "\n",
       "       floors_total  floor  is_apartment  studio  open_plan  balcony  \\\n",
       "20724         10.00      6             0       0          0     0.00   \n",
       "734           18.00     10             0       0          0     1.00   \n",
       "5513          14.00      3             0       0          0     0.00   \n",
       "21470         12.00      9             0       0          0     0.00   \n",
       "3015          18.00     17             0       0          0     0.00   \n",
       "23627         10.00      4             0       0          0     2.00   \n",
       "6441          18.00     15             0       0          0     0.00   \n",
       "11089          4.00      1             0       0          0      NaN   \n",
       "7252          12.00      5             0       0          0      NaN   \n",
       "15260         12.00     12             0       0          0     2.00   \n",
       "18595         18.00      7             0       0          0     2.00   \n",
       "10483         12.00      3             0       0          0      NaN   \n",
       "18176         13.00     12             0       0          0     0.00   \n",
       "19167          5.00      1             0       0          0      NaN   \n",
       "6812           5.00      5             0       0          0     1.00   \n",
       "21078          5.00      2             0       0          0      NaN   \n",
       "13804          5.00      3             0       0          0     1.00   \n",
       "21718          5.00      1             0       0          0      NaN   \n",
       "18767          5.00      2             0       0          0      NaN   \n",
       "18111          5.00      4             0       0          0      NaN   \n",
       "\n",
       "         locality_name  days_exposition  airports_nearest_km  \\\n",
       "20724  санкт-петербург           197.00                15.90   \n",
       "734    санкт-петербург            94.00                17.31   \n",
       "5513   санкт-петербург           659.00                17.31   \n",
       "21470  санкт-петербург            15.00                17.31   \n",
       "3015   санкт-петербург           666.00                17.31   \n",
       "23627  санкт-петербург           616.00                17.31   \n",
       "6441   санкт-петербург           141.00                17.31   \n",
       "11089  санкт-петербург              NaN                38.71   \n",
       "7252   санкт-петербург           216.00                30.60   \n",
       "15260  санкт-петербург            44.00                30.69   \n",
       "18595  санкт-петербург           438.00                31.84   \n",
       "10483  санкт-петербург            92.00                30.69   \n",
       "18176  санкт-петербург            20.00                30.69   \n",
       "19167  санкт-петербург            14.00                15.11   \n",
       "6812   санкт-петербург              NaN                15.11   \n",
       "21078  санкт-петербург            35.00                15.11   \n",
       "13804  санкт-петербург            36.00                15.11   \n",
       "21718  санкт-петербург            45.00                27.29   \n",
       "18767  санкт-петербург           236.00                27.29   \n",
       "18111  санкт-петербург            15.00                29.30   \n",
       "\n",
       "       parks_nearest_km  ponds_nearest_km  city_centers_nearest_km  \\\n",
       "20724              0.65               NaN                     7.95   \n",
       "734                 NaN               NaN                     7.96   \n",
       "5513                NaN               NaN                     7.96   \n",
       "21470               NaN               NaN                     7.96   \n",
       "3015                NaN               NaN                     7.96   \n",
       "23627               NaN               NaN                     7.96   \n",
       "6441                NaN               NaN                     7.96   \n",
       "11089              0.62              0.18                     7.97   \n",
       "7252                NaN              0.32                     7.98   \n",
       "15260               NaN              0.40                     7.98   \n",
       "18595               NaN              0.88                     7.98   \n",
       "10483               NaN              0.40                     7.98   \n",
       "18176               NaN              0.40                     7.98   \n",
       "19167              0.46               NaN                     7.99   \n",
       "6812               0.46               NaN                     7.99   \n",
       "21078              0.46               NaN                     7.99   \n",
       "13804              0.46               NaN                     7.99   \n",
       "21718               NaN              0.70                     8.00   \n",
       "18767               NaN              0.70                     8.00   \n",
       "18111              0.60              0.95                     8.00   \n",
       "\n",
       "       parks_around_3_km  ponds_around_3_km  total_area_m2  living_area_m2  \\\n",
       "20724               1.00               0.00         148.00           82.00   \n",
       "734                 0.00               0.00         113.00           67.00   \n",
       "5513                0.00               0.00          98.50           52.70   \n",
       "21470               0.00               0.00          59.00           30.00   \n",
       "3015                0.00               0.00          60.00             NaN   \n",
       "23627               0.00               0.00          42.30           16.30   \n",
       "6441                0.00               0.00          89.00             NaN   \n",
       "11089               2.00               3.00         105.30           69.00   \n",
       "7252                0.00               2.00          36.00           18.50   \n",
       "15260               0.00               2.00          82.00           60.00   \n",
       "18595               0.00               1.00          39.00           20.00   \n",
       "10483               0.00               2.00          66.20           34.00   \n",
       "18176               0.00               2.00          97.80           49.00   \n",
       "19167               1.00               0.00          31.00           19.00   \n",
       "6812                1.00               0.00          41.80           28.00   \n",
       "21078               1.00               0.00          36.00           18.00   \n",
       "13804               1.00               0.00          31.00           17.60   \n",
       "21718               0.00               1.00          23.00             NaN   \n",
       "18767               0.00               1.00          59.20           44.60   \n",
       "18111               2.00               1.00          70.80           46.20   \n",
       "\n",
       "       kitchen_area_m2   price_m2 day_of_week_exposition month_exposition  \\\n",
       "20724            19.20 255,487.80               Thursday            March   \n",
       "734              19.00 259,552.24                Tuesday             June   \n",
       "5513             19.10 189,041.37               Thursday        September   \n",
       "21470            13.00 500,000.00                Tuesday             July   \n",
       "3015               NaN        NaN              Wednesday         December   \n",
       "23627            12.00 386,503.07                 Friday          January   \n",
       "6441               NaN        NaN                Tuesday             June   \n",
       "11089             8.00 142,028.99              Wednesday            April   \n",
       "7252              8.00 252,432.43              Wednesday        September   \n",
       "15260            16.00 258,333.33                 Monday             June   \n",
       "18595             9.00 189,250.00                 Monday         November   \n",
       "10483            14.00 257,352.94              Wednesday          January   \n",
       "18176            23.00 346,938.78                 Monday          October   \n",
       "19167             5.50 176,315.79                Tuesday          October   \n",
       "6812              5.00 160,357.14              Wednesday            March   \n",
       "21078            15.00 227,777.78                 Sunday          October   \n",
       "13804             5.30 181,818.18                 Monday         February   \n",
       "21718              NaN        NaN               Thursday            March   \n",
       "18767             6.40 110,986.55               Thursday            April   \n",
       "18111             8.10 147,186.15                 Friday         December   \n",
       "\n",
       "       year_exposition floor_status  total_living_ratio  total_kitchen_ratio  \\\n",
       "20724             2016       другой                0.55                 0.13   \n",
       "734               2017       другой                0.59                 0.17   \n",
       "5513              2015       другой                0.54                 0.19   \n",
       "21470             2017       другой                0.51                 0.22   \n",
       "3015              2015       другой                 NaN                  NaN   \n",
       "23627             2017       другой                0.39                 0.28   \n",
       "6441              2017       другой                 NaN                  NaN   \n",
       "11089             2018       первый                0.66                 0.08   \n",
       "7252              2017       другой                0.51                 0.22   \n",
       "15260             2016    последний                0.73                 0.20   \n",
       "18595             2015       другой                0.51                 0.23   \n",
       "10483             2018       другой                0.51                 0.21   \n",
       "18176             2017       другой                0.50                 0.24   \n",
       "19167             2018       первый                0.61                 0.18   \n",
       "6812              2019    последний                0.67                 0.12   \n",
       "21078             2018       другой                0.50                 0.42   \n",
       "13804             2017       другой                0.57                 0.17   \n",
       "21718             2018       первый                 NaN                  NaN   \n",
       "18767             2017       другой                0.75                 0.11   \n",
       "18111             2018       другой                0.65                 0.11   \n",
       "\n",
       "      city_status  \n",
       "20724       Питер  \n",
       "734         Питер  \n",
       "5513        Питер  \n",
       "21470       Питер  \n",
       "3015        Питер  \n",
       "23627       Питер  \n",
       "6441        Питер  \n",
       "11089       Питер  \n",
       "7252        Питер  \n",
       "15260       Питер  \n",
       "18595       Питер  \n",
       "10483       Питер  \n",
       "18176       Питер  \n",
       "19167       Питер  \n",
       "6812        Питер  \n",
       "21078       Питер  \n",
       "13804       Питер  \n",
       "21718       Питер  \n",
       "18767       Питер  \n",
       "18111       Питер  "
      ]
     },
     "execution_count": 104,
     "metadata": {},
     "output_type": "execute_result"
    }
   ],
   "source": [
    "city_center_d.sort_values('city_centers_nearest_km', ascending=True).tail(20)"
   ]
  },
  {
   "cell_type": "code",
   "execution_count": 105,
   "metadata": {},
   "outputs": [
    {
     "data": {
      "text/plain": [
       "rooms\n",
       "1      6,722,279.45\n",
       "0      8,710,277.78\n",
       "2      9,682,139.31\n",
       "3     14,618,599.93\n",
       "4     19,575,444.56\n",
       "11    25,250,000.00\n",
       "14    26,829,500.00\n",
       "10    27,750,000.00\n",
       "16    28,500,000.00\n",
       "5     28,704,815.42\n",
       "19    32,250,000.00\n",
       "6     35,317,453.86\n",
       "9     44,666,666.67\n",
       "8     51,435,454.55\n",
       "7     51,994,259.26\n",
       "15    65,000,000.00\n",
       "12   420,000,000.00\n",
       "Name: last_price, dtype: float64"
      ]
     },
     "execution_count": 105,
     "metadata": {},
     "output_type": "execute_result"
    }
   ],
   "source": [
    "rooms_center = city_center_d.groupby('rooms')['last_price'].sum() / \\\n",
    "   city_center_d.groupby('rooms')['last_price'].count()\n",
    "rooms_center.sort_values()#квартиры до четырех комнат растут плавно в цене, далее же все в хаотичном порядке"
   ]
  },
  {
   "cell_type": "code",
   "execution_count": 106,
   "metadata": {},
   "outputs": [
    {
     "data": {
      "text/plain": [
       "floor\n",
       "1      9,167,232.76\n",
       "16    10,067,807.33\n",
       "14    10,854,097.09\n",
       "2     12,313,022.64\n",
       "23    12,995,000.00\n",
       "3     13,624,943.31\n",
       "13    14,046,891.00\n",
       "11    14,958,454.32\n",
       "4     15,088,639.66\n",
       "5     15,386,611.96\n",
       "18    16,147,484.00\n",
       "21    16,166,666.67\n",
       "6     17,325,240.49\n",
       "9     17,554,206.92\n",
       "12    17,788,450.12\n",
       "20    18,250,000.00\n",
       "15    18,535,963.14\n",
       "8     19,960,600.11\n",
       "19    21,396,159.33\n",
       "17    23,571,848.25\n",
       "7     24,491,818.09\n",
       "10    25,273,221.26\n",
       "25   223,850,000.00\n",
       "Name: last_price, dtype: float64"
      ]
     },
     "execution_count": 106,
     "metadata": {},
     "output_type": "execute_result"
    }
   ],
   "source": [
    "floor_center = city_center_d.groupby('floor')['last_price'].sum() / \\\n",
    "   city_center_d.groupby('floor')['last_price'].count()\n",
    "floor_center.sort_values()#самые дешевые квартиры на первом этаже, делее все одиково хаотично"
   ]
  },
  {
   "cell_type": "code",
   "execution_count": 107,
   "metadata": {},
   "outputs": [
    {
     "data": {
      "text/plain": [
       "city_centers_nearest_km\n",
       "4.17     1,686,000.00\n",
       "5.24     1,800,000.00\n",
       "5.64     1,900,000.00\n",
       "2.11     2,100,000.00\n",
       "2.90     2,385,000.00\n",
       "            ...      \n",
       "3.79   180,000,000.00\n",
       "6.24   245,000,000.00\n",
       "3.96   276,666,666.67\n",
       "1.07   289,238,400.00\n",
       "1.20   330,000,000.00\n",
       "Name: last_price, Length: 1950, dtype: float64"
      ]
     },
     "execution_count": 107,
     "metadata": {},
     "output_type": "execute_result"
    }
   ],
   "source": [
    "center_km = city_center_d.groupby('city_centers_nearest_km')['last_price'].sum() / \\\n",
    "   city_center_d.groupby('city_centers_nearest_km')['last_price'].count()\n",
    "center_km.sort_values()#от отдаленности от цента мало зависит рост цен"
   ]
  },
  {
   "cell_type": "code",
   "execution_count": 108,
   "metadata": {},
   "outputs": [
    {
     "data": {
      "text/plain": [
       "first_day_exposition\n",
       "2018-07-29     2,850,000.00\n",
       "2017-02-06     3,200,000.00\n",
       "2015-08-04     3,500,000.00\n",
       "2015-12-09     3,690,000.00\n",
       "2018-04-12     3,799,000.00\n",
       "                  ...      \n",
       "2016-09-23   131,000,000.00\n",
       "2018-05-22   135,000,000.00\n",
       "2015-08-27   142,167,000.00\n",
       "2016-02-20   157,269,966.67\n",
       "2017-09-30   163,670,000.00\n",
       "Name: last_price, Length: 1086, dtype: float64"
      ]
     },
     "execution_count": 108,
     "metadata": {},
     "output_type": "execute_result"
    }
   ],
   "source": [
    "day_exposition = city_center_d.groupby('first_day_exposition')['last_price'].sum() / \\\n",
    "   city_center_d.groupby('first_day_exposition')['last_price'].count()\n",
    "day_exposition.sort_values()#от даты выставления обьявления цена независит"
   ]
  },
  {
   "cell_type": "code",
   "execution_count": 109,
   "metadata": {},
   "outputs": [
    {
     "data": {
      "text/plain": [
       "total_area_m2\n",
       "13.20      1,686,000.00\n",
       "17.00      1,900,000.00\n",
       "16.00      2,100,000.00\n",
       "138.70     2,200,000.00\n",
       "19.00      2,250,000.00\n",
       "              ...      \n",
       "285.70   245,000,000.00\n",
       "400.00   296,333,333.33\n",
       "618.00   300,000,000.00\n",
       "401.00   401,300,000.00\n",
       "900.00   420,000,000.00\n",
       "Name: last_price, Length: 1181, dtype: float64"
      ]
     },
     "execution_count": 109,
     "metadata": {},
     "output_type": "execute_result"
    }
   ],
   "source": [
    "center_area = city_center_d.groupby('total_area_m2')['last_price'].sum() / \\\n",
    "   city_center_d.groupby('total_area_m2')['last_price'].count()\n",
    "center_area.sort_values()#цена зависит от квадратного метра, чем больше квадратура, тем выше цена"
   ]
  },
  {
   "cell_type": "code",
   "execution_count": 110,
   "metadata": {},
   "outputs": [
    {
     "data": {
      "text/plain": [
       "ceiling_height\n",
       "2.00   12,300,000.00\n",
       "2.40    8,500,000.00\n",
       "2.45    6,600,000.00\n",
       "2.46    7,100,000.00\n",
       "2.47    7,920,000.00\n",
       "2.49    6,800,000.00\n",
       "2.50    7,643,392.00\n",
       "2.51    6,199,500.00\n",
       "2.52    5,545,000.00\n",
       "2.53    6,675,000.00\n",
       "2.54    4,435,000.00\n",
       "2.55    5,756,000.00\n",
       "2.56    6,435,000.00\n",
       "2.59    4,750,000.00\n",
       "2.60    7,668,997.50\n",
       "2.63    6,650,000.00\n",
       "2.64    8,590,000.00\n",
       "2.65    6,741,774.19\n",
       "2.66    6,225,000.00\n",
       "2.67    9,190,000.00\n",
       "Name: last_price, dtype: float64"
      ]
     },
     "execution_count": 110,
     "metadata": {},
     "output_type": "execute_result"
    }
   ],
   "source": [
    "ceiling_h = city_center_d.groupby('ceiling_height')['last_price'].sum() / \\\n",
    "   city_center_d.groupby('ceiling_height')['last_price'].count()\n",
    "ceiling_h.head(20)"
   ]
  },
  {
   "cell_type": "code",
   "execution_count": 111,
   "metadata": {},
   "outputs": [
    {
     "data": {
      "text/plain": [
       "ceiling_height\n",
       "4.19      4,450,000.00\n",
       "4.20     24,545,625.00\n",
       "4.25     11,500,000.00\n",
       "4.30      9,350,000.00\n",
       "4.37      8,250,000.00\n",
       "4.40     35,500,000.00\n",
       "4.45     63,750,000.00\n",
       "4.50     24,133,333.33\n",
       "4.65     91,500,000.00\n",
       "4.70    120,000,000.00\n",
       "4.80     14,950,000.00\n",
       "4.90    115,490,000.00\n",
       "5.20     66,571,000.00\n",
       "5.30     79,450,000.00\n",
       "5.50     38,000,000.00\n",
       "5.60     59,800,000.00\n",
       "5.80      8,200,000.00\n",
       "6.00    119,000,000.00\n",
       "27.00     8,000,000.00\n",
       "32.00     9,999,000.00\n",
       "Name: last_price, dtype: float64"
      ]
     },
     "execution_count": 111,
     "metadata": {},
     "output_type": "execute_result"
    }
   ],
   "source": [
    "ceiling_h.tail(20)#можно сделать вывод, что высота пололков влияет на цену, у квартир с высокими потолками цена выше"
   ]
  },
  {
   "cell_type": "markdown",
   "metadata": {},
   "source": [
    "\n",
    "После проведения анализа можно сделать вывод:\n",
    "\n",
    "-квартиры ближе к центру дороже;\n",
    "\n",
    "-на первом этаже и в общем анализе и в центральных обьектах квартиры дешевле чем на других этажах;\n",
    "\n",
    "-у квартир с высокими потолками цена выше;\n",
    "\n",
    "-чем больше квадратура, тем дороже квартира;\n",
    "\n",
    "-с 1 до 5ти комнат цена растет и в общем анализе и в ценральном обьекте, далее не зависит от колличества комнат.\n"
   ]
  },
  {
   "cell_type": "markdown",
   "metadata": {},
   "source": [
    "## Общий вывод"
   ]
  },
  {
   "cell_type": "markdown",
   "metadata": {},
   "source": [
    "Мы проанализировали недвижимость Санкт-Петербурга и его область(поселки и деревни). Цены на недвижимость в Петербурге порядком дороже, в его пределах средняя стоимость квадратного метра(215000), а за его пределами(132000), но есть районы где цена выше чем в Санкт-Петербурге(возможно это элитные ЖК или поселки, либо большая квадратура). На первом этаже везде квартиры дешевле, чем выше потолки тем выше цена, но после 4х метров. В деревнях недвижимость самая дешевая. Спрос на недвижимость никак не зависит от дня, месяца и года выставления обьявления, есть небольшой всплеск в декабре. До 5ти комнат в квартире, цена плавно растет. Скорее всего цена зависит от района и ЖК, к какому уровню он относится."
   ]
  }
 ],
 "metadata": {
  "ExecuteTimeLog": [
   {
    "duration": 813,
    "start_time": "2022-05-17T11:21:56.592Z"
   },
   {
    "duration": 83,
    "start_time": "2022-05-17T11:23:06.967Z"
   },
   {
    "duration": 66,
    "start_time": "2022-05-17T11:23:35.274Z"
   },
   {
    "duration": 33,
    "start_time": "2022-05-17T11:24:22.192Z"
   },
   {
    "duration": 6,
    "start_time": "2022-05-17T11:24:39.660Z"
   },
   {
    "duration": 13,
    "start_time": "2022-05-17T11:25:03.199Z"
   },
   {
    "duration": 122,
    "start_time": "2022-05-17T11:25:10.304Z"
   },
   {
    "duration": 3,
    "start_time": "2022-05-17T11:27:49.580Z"
   },
   {
    "duration": 78,
    "start_time": "2022-05-17T11:27:50.349Z"
   },
   {
    "duration": 77,
    "start_time": "2022-05-17T11:28:30.815Z"
   },
   {
    "duration": 30,
    "start_time": "2022-05-17T11:34:29.309Z"
   },
   {
    "duration": 78,
    "start_time": "2022-05-17T11:36:10.934Z"
   },
   {
    "duration": 3,
    "start_time": "2022-05-17T11:36:11.558Z"
   },
   {
    "duration": 84,
    "start_time": "2022-05-17T11:36:12.608Z"
   },
   {
    "duration": 3,
    "start_time": "2022-05-17T11:36:48.172Z"
   },
   {
    "duration": 7,
    "start_time": "2022-05-17T11:36:48.661Z"
   },
   {
    "duration": 8,
    "start_time": "2022-05-17T11:37:06.486Z"
   },
   {
    "duration": 7,
    "start_time": "2022-05-17T11:37:08.982Z"
   },
   {
    "duration": 26,
    "start_time": "2022-05-17T11:38:47.131Z"
   },
   {
    "duration": 71,
    "start_time": "2022-05-17T11:41:12.012Z"
   },
   {
    "duration": 3,
    "start_time": "2022-05-17T11:41:12.547Z"
   },
   {
    "duration": 24,
    "start_time": "2022-05-17T11:41:12.987Z"
   },
   {
    "duration": 7,
    "start_time": "2022-05-17T11:42:03.645Z"
   },
   {
    "duration": 12,
    "start_time": "2022-05-17T11:43:15.674Z"
   },
   {
    "duration": 8,
    "start_time": "2022-05-17T11:43:35.892Z"
   },
   {
    "duration": 23,
    "start_time": "2022-05-17T11:44:14.995Z"
   },
   {
    "duration": 21,
    "start_time": "2022-05-17T11:44:51.267Z"
   },
   {
    "duration": 3,
    "start_time": "2022-05-17T11:46:20.950Z"
   },
   {
    "duration": 75,
    "start_time": "2022-05-17T11:46:21.887Z"
   },
   {
    "duration": 27,
    "start_time": "2022-05-17T11:46:22.886Z"
   },
   {
    "duration": 150,
    "start_time": "2022-05-17T11:47:15.675Z"
   },
   {
    "duration": 159,
    "start_time": "2022-05-17T11:47:35.188Z"
   },
   {
    "duration": 3,
    "start_time": "2022-05-17T11:47:38.664Z"
   },
   {
    "duration": 3,
    "start_time": "2022-05-17T11:47:39.093Z"
   },
   {
    "duration": 167,
    "start_time": "2022-05-17T11:47:39.494Z"
   },
   {
    "duration": 164,
    "start_time": "2022-05-17T11:47:59.126Z"
   },
   {
    "duration": 23,
    "start_time": "2022-05-17T11:48:02.637Z"
   },
   {
    "duration": 376,
    "start_time": "2022-05-17T11:48:20.870Z"
   },
   {
    "duration": 260,
    "start_time": "2022-05-17T11:48:31.675Z"
   },
   {
    "duration": 180,
    "start_time": "2022-05-17T11:48:35.346Z"
   },
   {
    "duration": 163,
    "start_time": "2022-05-17T11:48:44.044Z"
   },
   {
    "duration": 89,
    "start_time": "2022-05-17T11:49:15.560Z"
   },
   {
    "duration": 57,
    "start_time": "2022-05-17T11:49:16.749Z"
   },
   {
    "duration": 24,
    "start_time": "2022-05-17T11:49:42.784Z"
   },
   {
    "duration": 86,
    "start_time": "2022-05-17T11:50:21.607Z"
   },
   {
    "duration": 14,
    "start_time": "2022-05-17T11:51:00.403Z"
   },
   {
    "duration": 14,
    "start_time": "2022-05-17T11:51:18.351Z"
   },
   {
    "duration": 15,
    "start_time": "2022-05-17T11:54:51.423Z"
   },
   {
    "duration": 12,
    "start_time": "2022-05-17T12:11:02.156Z"
   },
   {
    "duration": 9,
    "start_time": "2022-05-17T12:29:28.241Z"
   },
   {
    "duration": 9,
    "start_time": "2022-05-17T12:34:23.345Z"
   },
   {
    "duration": 16,
    "start_time": "2022-05-17T12:46:02.014Z"
   },
   {
    "duration": 16,
    "start_time": "2022-05-17T12:48:48.529Z"
   },
   {
    "duration": 4,
    "start_time": "2022-05-17T12:49:25.191Z"
   },
   {
    "duration": 3,
    "start_time": "2022-05-17T12:49:25.360Z"
   },
   {
    "duration": 116,
    "start_time": "2022-05-17T12:49:25.535Z"
   },
   {
    "duration": 58,
    "start_time": "2022-05-17T12:49:25.730Z"
   },
   {
    "duration": 13,
    "start_time": "2022-05-17T12:49:25.885Z"
   },
   {
    "duration": 22,
    "start_time": "2022-05-17T12:49:26.062Z"
   },
   {
    "duration": 10,
    "start_time": "2022-05-17T12:49:26.955Z"
   },
   {
    "duration": 10,
    "start_time": "2022-05-17T12:49:27.160Z"
   },
   {
    "duration": 15,
    "start_time": "2022-05-17T12:49:27.353Z"
   },
   {
    "duration": 15,
    "start_time": "2022-05-17T12:49:27.552Z"
   },
   {
    "duration": 4,
    "start_time": "2022-05-17T12:50:17.114Z"
   },
   {
    "duration": 14,
    "start_time": "2022-05-17T12:50:44.555Z"
   },
   {
    "duration": 5,
    "start_time": "2022-05-17T12:51:18.417Z"
   },
   {
    "duration": 4,
    "start_time": "2022-05-17T12:54:04.498Z"
   },
   {
    "duration": 13,
    "start_time": "2022-05-17T12:57:31.416Z"
   },
   {
    "duration": 13,
    "start_time": "2022-05-17T12:57:47.369Z"
   },
   {
    "duration": 8,
    "start_time": "2022-05-17T13:15:03.585Z"
   },
   {
    "duration": 3,
    "start_time": "2022-05-17T13:15:21.546Z"
   },
   {
    "duration": 4,
    "start_time": "2022-05-17T13:15:32.683Z"
   },
   {
    "duration": 13,
    "start_time": "2022-05-17T13:17:11.056Z"
   },
   {
    "duration": 7,
    "start_time": "2022-05-17T13:17:31.989Z"
   },
   {
    "duration": 7,
    "start_time": "2022-05-17T13:17:58.833Z"
   },
   {
    "duration": 14,
    "start_time": "2022-05-17T13:17:59.983Z"
   },
   {
    "duration": 14,
    "start_time": "2022-05-17T13:18:54.695Z"
   },
   {
    "duration": 8,
    "start_time": "2022-05-17T13:22:56.899Z"
   },
   {
    "duration": 13,
    "start_time": "2022-05-17T13:22:59.205Z"
   },
   {
    "duration": 12,
    "start_time": "2022-05-17T13:24:35.267Z"
   },
   {
    "duration": 7,
    "start_time": "2022-05-17T13:24:57.495Z"
   },
   {
    "duration": 6,
    "start_time": "2022-05-17T13:32:30.269Z"
   },
   {
    "duration": 7,
    "start_time": "2022-05-17T13:33:27.588Z"
   },
   {
    "duration": 6,
    "start_time": "2022-05-17T13:33:35.709Z"
   },
   {
    "duration": 9,
    "start_time": "2022-05-17T13:34:34.620Z"
   },
   {
    "duration": 6,
    "start_time": "2022-05-17T13:34:51.575Z"
   },
   {
    "duration": 9,
    "start_time": "2022-05-17T13:36:11.946Z"
   },
   {
    "duration": 6,
    "start_time": "2022-05-17T13:36:12.505Z"
   },
   {
    "duration": 13,
    "start_time": "2022-05-17T13:36:28.684Z"
   },
   {
    "duration": 5,
    "start_time": "2022-05-17T13:41:33.828Z"
   },
   {
    "duration": 5,
    "start_time": "2022-05-17T13:44:23.105Z"
   },
   {
    "duration": 11,
    "start_time": "2022-05-17T13:44:23.550Z"
   },
   {
    "duration": 6,
    "start_time": "2022-05-17T13:44:23.944Z"
   },
   {
    "duration": 14,
    "start_time": "2022-05-17T13:44:40.050Z"
   },
   {
    "duration": 14,
    "start_time": "2022-05-17T13:44:40.394Z"
   },
   {
    "duration": 3,
    "start_time": "2022-05-17T13:46:04.935Z"
   },
   {
    "duration": 2,
    "start_time": "2022-05-17T13:46:05.107Z"
   },
   {
    "duration": 129,
    "start_time": "2022-05-17T13:46:05.281Z"
   },
   {
    "duration": 63,
    "start_time": "2022-05-17T13:46:05.458Z"
   },
   {
    "duration": 13,
    "start_time": "2022-05-17T13:46:05.612Z"
   },
   {
    "duration": 23,
    "start_time": "2022-05-17T13:46:05.758Z"
   },
   {
    "duration": 10,
    "start_time": "2022-05-17T13:46:06.552Z"
   },
   {
    "duration": 11,
    "start_time": "2022-05-17T13:46:06.724Z"
   },
   {
    "duration": 14,
    "start_time": "2022-05-17T13:46:06.904Z"
   },
   {
    "duration": 4,
    "start_time": "2022-05-17T13:46:07.080Z"
   },
   {
    "duration": 5,
    "start_time": "2022-05-17T13:46:07.249Z"
   },
   {
    "duration": 13,
    "start_time": "2022-05-17T13:46:07.432Z"
   },
   {
    "duration": 5,
    "start_time": "2022-05-17T13:46:07.588Z"
   },
   {
    "duration": 7,
    "start_time": "2022-05-17T13:46:07.796Z"
   },
   {
    "duration": 14,
    "start_time": "2022-05-17T13:46:07.961Z"
   },
   {
    "duration": 13,
    "start_time": "2022-05-17T13:46:08.153Z"
   },
   {
    "duration": 6,
    "start_time": "2022-05-17T13:46:08.330Z"
   },
   {
    "duration": 6,
    "start_time": "2022-05-17T13:46:08.523Z"
   },
   {
    "duration": 9,
    "start_time": "2022-05-17T13:46:08.877Z"
   },
   {
    "duration": 5,
    "start_time": "2022-05-17T13:46:09.053Z"
   },
   {
    "duration": 6,
    "start_time": "2022-05-17T13:46:09.255Z"
   },
   {
    "duration": 12,
    "start_time": "2022-05-17T13:46:09.447Z"
   },
   {
    "duration": 7,
    "start_time": "2022-05-17T13:46:09.623Z"
   },
   {
    "duration": 19,
    "start_time": "2022-05-17T13:46:09.799Z"
   },
   {
    "duration": 14,
    "start_time": "2022-05-17T13:46:31.397Z"
   },
   {
    "duration": 4,
    "start_time": "2022-05-17T13:47:50.045Z"
   },
   {
    "duration": 6,
    "start_time": "2022-05-17T13:48:23.058Z"
   },
   {
    "duration": 6,
    "start_time": "2022-05-17T13:48:55.496Z"
   },
   {
    "duration": 13,
    "start_time": "2022-05-17T13:50:42.323Z"
   },
   {
    "duration": 5,
    "start_time": "2022-05-17T13:51:38.260Z"
   },
   {
    "duration": 6,
    "start_time": "2022-05-17T13:52:06.846Z"
   },
   {
    "duration": 14,
    "start_time": "2022-05-17T13:52:22.201Z"
   },
   {
    "duration": 5,
    "start_time": "2022-05-17T13:53:26.079Z"
   },
   {
    "duration": 6,
    "start_time": "2022-05-17T13:53:27.935Z"
   },
   {
    "duration": 13,
    "start_time": "2022-05-17T13:53:28.645Z"
   },
   {
    "duration": 5,
    "start_time": "2022-05-17T13:57:05.170Z"
   },
   {
    "duration": 6,
    "start_time": "2022-05-17T13:58:21.348Z"
   },
   {
    "duration": 6,
    "start_time": "2022-05-17T14:00:19.475Z"
   },
   {
    "duration": 8,
    "start_time": "2022-05-17T14:04:06.337Z"
   },
   {
    "duration": 14,
    "start_time": "2022-05-17T14:04:14.790Z"
   },
   {
    "duration": 6,
    "start_time": "2022-05-17T14:12:43.241Z"
   },
   {
    "duration": 14,
    "start_time": "2022-05-17T14:12:52.643Z"
   },
   {
    "duration": 7,
    "start_time": "2022-05-17T14:14:52.460Z"
   },
   {
    "duration": 16,
    "start_time": "2022-05-17T14:14:52.933Z"
   },
   {
    "duration": 5,
    "start_time": "2022-05-17T14:16:35.896Z"
   },
   {
    "duration": 13,
    "start_time": "2022-05-17T14:16:36.617Z"
   },
   {
    "duration": 3,
    "start_time": "2022-05-17T14:18:06.998Z"
   },
   {
    "duration": 3,
    "start_time": "2022-05-17T14:18:07.148Z"
   },
   {
    "duration": 88,
    "start_time": "2022-05-17T14:18:07.314Z"
   },
   {
    "duration": 65,
    "start_time": "2022-05-17T14:18:07.476Z"
   },
   {
    "duration": 14,
    "start_time": "2022-05-17T14:18:07.654Z"
   },
   {
    "duration": 21,
    "start_time": "2022-05-17T14:18:07.800Z"
   },
   {
    "duration": 10,
    "start_time": "2022-05-17T14:18:08.612Z"
   },
   {
    "duration": 11,
    "start_time": "2022-05-17T14:18:08.773Z"
   },
   {
    "duration": 12,
    "start_time": "2022-05-17T14:18:08.949Z"
   },
   {
    "duration": 4,
    "start_time": "2022-05-17T14:18:09.135Z"
   },
   {
    "duration": 5,
    "start_time": "2022-05-17T14:18:09.300Z"
   },
   {
    "duration": 13,
    "start_time": "2022-05-17T14:18:09.479Z"
   },
   {
    "duration": 4,
    "start_time": "2022-05-17T14:18:09.663Z"
   },
   {
    "duration": 6,
    "start_time": "2022-05-17T14:18:09.838Z"
   },
   {
    "duration": 13,
    "start_time": "2022-05-17T14:18:10.015Z"
   },
   {
    "duration": 11,
    "start_time": "2022-05-17T14:18:10.207Z"
   },
   {
    "duration": 7,
    "start_time": "2022-05-17T14:18:10.403Z"
   },
   {
    "duration": 6,
    "start_time": "2022-05-17T14:18:10.818Z"
   },
   {
    "duration": 9,
    "start_time": "2022-05-17T14:18:10.992Z"
   },
   {
    "duration": 6,
    "start_time": "2022-05-17T14:18:11.159Z"
   },
   {
    "duration": 6,
    "start_time": "2022-05-17T14:18:11.345Z"
   },
   {
    "duration": 11,
    "start_time": "2022-05-17T14:18:11.538Z"
   },
   {
    "duration": 6,
    "start_time": "2022-05-17T14:18:11.716Z"
   },
   {
    "duration": 13,
    "start_time": "2022-05-17T14:18:11.896Z"
   },
   {
    "duration": 5,
    "start_time": "2022-05-17T14:18:12.260Z"
   },
   {
    "duration": 6,
    "start_time": "2022-05-17T14:18:12.439Z"
   },
   {
    "duration": 5,
    "start_time": "2022-05-17T14:18:12.641Z"
   },
   {
    "duration": 12,
    "start_time": "2022-05-17T14:18:12.834Z"
   },
   {
    "duration": 5,
    "start_time": "2022-05-17T14:18:13.049Z"
   },
   {
    "duration": 6,
    "start_time": "2022-05-17T14:18:13.273Z"
   },
   {
    "duration": 5,
    "start_time": "2022-05-17T14:18:13.450Z"
   },
   {
    "duration": 12,
    "start_time": "2022-05-17T14:18:13.644Z"
   },
   {
    "duration": 4,
    "start_time": "2022-05-17T14:18:13.852Z"
   },
   {
    "duration": 5,
    "start_time": "2022-05-17T14:18:14.075Z"
   },
   {
    "duration": 8,
    "start_time": "2022-05-17T14:18:14.418Z"
   },
   {
    "duration": 13,
    "start_time": "2022-05-17T14:18:14.789Z"
   },
   {
    "duration": 7,
    "start_time": "2022-05-17T14:18:15.278Z"
   },
   {
    "duration": 14,
    "start_time": "2022-05-17T14:18:15.704Z"
   },
   {
    "duration": 13,
    "start_time": "2022-05-17T14:20:35.217Z"
   },
   {
    "duration": 8,
    "start_time": "2022-05-17T14:20:35.976Z"
   },
   {
    "duration": 13,
    "start_time": "2022-05-17T14:20:45.475Z"
   },
   {
    "duration": 707,
    "start_time": "2022-05-17T14:37:39.254Z"
   },
   {
    "duration": 14,
    "start_time": "2022-05-17T14:37:40.343Z"
   },
   {
    "duration": 887,
    "start_time": "2022-05-17T14:38:00.109Z"
   },
   {
    "duration": 13,
    "start_time": "2022-05-17T14:38:01.463Z"
   },
   {
    "duration": 4,
    "start_time": "2022-05-17T14:39:06.732Z"
   },
   {
    "duration": 13,
    "start_time": "2022-05-17T14:39:08.501Z"
   },
   {
    "duration": 4,
    "start_time": "2022-05-17T14:39:40.749Z"
   },
   {
    "duration": 13,
    "start_time": "2022-05-17T14:39:41.448Z"
   },
   {
    "duration": 64,
    "start_time": "2022-05-17T14:40:48.589Z"
   },
   {
    "duration": 3,
    "start_time": "2022-05-17T14:50:52.635Z"
   },
   {
    "duration": 3,
    "start_time": "2022-05-17T14:50:52.804Z"
   },
   {
    "duration": 83,
    "start_time": "2022-05-17T14:50:52.932Z"
   },
   {
    "duration": 77,
    "start_time": "2022-05-17T14:50:53.070Z"
   },
   {
    "duration": 18,
    "start_time": "2022-05-17T14:50:53.220Z"
   },
   {
    "duration": 21,
    "start_time": "2022-05-17T14:50:53.352Z"
   },
   {
    "duration": 10,
    "start_time": "2022-05-17T14:50:54.187Z"
   },
   {
    "duration": 10,
    "start_time": "2022-05-17T14:50:54.357Z"
   },
   {
    "duration": 19,
    "start_time": "2022-05-17T14:50:54.494Z"
   },
   {
    "duration": 5,
    "start_time": "2022-05-17T14:50:54.646Z"
   },
   {
    "duration": 5,
    "start_time": "2022-05-17T14:50:54.778Z"
   },
   {
    "duration": 16,
    "start_time": "2022-05-17T14:50:54.934Z"
   },
   {
    "duration": 5,
    "start_time": "2022-05-17T14:50:55.081Z"
   },
   {
    "duration": 6,
    "start_time": "2022-05-17T14:50:55.237Z"
   },
   {
    "duration": 18,
    "start_time": "2022-05-17T14:50:55.396Z"
   },
   {
    "duration": 12,
    "start_time": "2022-05-17T14:50:55.567Z"
   },
   {
    "duration": 7,
    "start_time": "2022-05-17T14:50:55.732Z"
   },
   {
    "duration": 7,
    "start_time": "2022-05-17T14:50:55.926Z"
   },
   {
    "duration": 9,
    "start_time": "2022-05-17T14:50:56.094Z"
   },
   {
    "duration": 7,
    "start_time": "2022-05-17T14:50:56.277Z"
   },
   {
    "duration": 6,
    "start_time": "2022-05-17T14:50:56.438Z"
   },
   {
    "duration": 15,
    "start_time": "2022-05-17T14:50:56.774Z"
   },
   {
    "duration": 6,
    "start_time": "2022-05-17T14:50:56.959Z"
   },
   {
    "duration": 13,
    "start_time": "2022-05-17T14:50:57.134Z"
   },
   {
    "duration": 5,
    "start_time": "2022-05-17T14:50:57.318Z"
   },
   {
    "duration": 5,
    "start_time": "2022-05-17T14:50:57.513Z"
   },
   {
    "duration": 5,
    "start_time": "2022-05-17T14:50:57.686Z"
   },
   {
    "duration": 20,
    "start_time": "2022-05-17T14:50:57.863Z"
   },
   {
    "duration": 5,
    "start_time": "2022-05-17T14:50:58.034Z"
   },
   {
    "duration": 6,
    "start_time": "2022-05-17T14:50:58.181Z"
   },
   {
    "duration": 7,
    "start_time": "2022-05-17T14:50:58.351Z"
   },
   {
    "duration": 13,
    "start_time": "2022-05-17T14:50:58.520Z"
   },
   {
    "duration": 5,
    "start_time": "2022-05-17T14:50:58.689Z"
   },
   {
    "duration": 6,
    "start_time": "2022-05-17T14:50:58.864Z"
   },
   {
    "duration": 8,
    "start_time": "2022-05-17T14:50:59.032Z"
   },
   {
    "duration": 13,
    "start_time": "2022-05-17T14:50:59.219Z"
   },
   {
    "duration": 7,
    "start_time": "2022-05-17T14:50:59.384Z"
   },
   {
    "duration": 15,
    "start_time": "2022-05-17T14:50:59.561Z"
   },
   {
    "duration": 7,
    "start_time": "2022-05-17T14:50:59.752Z"
   },
   {
    "duration": 5,
    "start_time": "2022-05-17T14:50:59.939Z"
   },
   {
    "duration": 20,
    "start_time": "2022-05-17T14:51:00.112Z"
   },
   {
    "duration": 70,
    "start_time": "2022-05-17T14:51:00.289Z"
   },
   {
    "duration": 7,
    "start_time": "2022-05-17T14:51:00.562Z"
   },
   {
    "duration": 9,
    "start_time": "2022-05-17T14:51:00.898Z"
   },
   {
    "duration": 13,
    "start_time": "2022-05-17T14:51:02.130Z"
   },
   {
    "duration": 14,
    "start_time": "2022-05-17T14:51:09.444Z"
   },
   {
    "duration": 3231,
    "start_time": "2022-05-17T15:06:01.147Z"
   },
   {
    "duration": 0,
    "start_time": "2022-05-17T15:06:04.379Z"
   },
   {
    "duration": 2989,
    "start_time": "2022-05-17T15:06:07.981Z"
   },
   {
    "duration": 0,
    "start_time": "2022-05-17T15:06:10.971Z"
   },
   {
    "duration": 18,
    "start_time": "2022-05-17T15:07:11.474Z"
   },
   {
    "duration": 4,
    "start_time": "2022-05-17T15:07:16.951Z"
   },
   {
    "duration": 3,
    "start_time": "2022-05-17T15:07:17.110Z"
   },
   {
    "duration": 89,
    "start_time": "2022-05-17T15:07:17.254Z"
   },
   {
    "duration": 56,
    "start_time": "2022-05-17T15:07:17.412Z"
   },
   {
    "duration": 14,
    "start_time": "2022-05-17T15:07:17.582Z"
   },
   {
    "duration": 21,
    "start_time": "2022-05-17T15:07:17.734Z"
   },
   {
    "duration": 9,
    "start_time": "2022-05-17T15:07:18.562Z"
   },
   {
    "duration": 10,
    "start_time": "2022-05-17T15:07:18.746Z"
   },
   {
    "duration": 13,
    "start_time": "2022-05-17T15:07:18.916Z"
   },
   {
    "duration": 4,
    "start_time": "2022-05-17T15:07:19.083Z"
   },
   {
    "duration": 4,
    "start_time": "2022-05-17T15:07:19.436Z"
   },
   {
    "duration": 13,
    "start_time": "2022-05-17T15:07:19.628Z"
   },
   {
    "duration": 5,
    "start_time": "2022-05-17T15:07:19.786Z"
   },
   {
    "duration": 6,
    "start_time": "2022-05-17T15:07:19.987Z"
   },
   {
    "duration": 13,
    "start_time": "2022-05-17T15:07:20.155Z"
   },
   {
    "duration": 14,
    "start_time": "2022-05-17T15:07:20.504Z"
   },
   {
    "duration": 9,
    "start_time": "2022-05-17T15:07:20.667Z"
   },
   {
    "duration": 6,
    "start_time": "2022-05-17T15:07:20.837Z"
   },
   {
    "duration": 8,
    "start_time": "2022-05-17T15:07:21.019Z"
   },
   {
    "duration": 6,
    "start_time": "2022-05-17T15:07:21.207Z"
   },
   {
    "duration": 6,
    "start_time": "2022-05-17T15:07:21.388Z"
   },
   {
    "duration": 11,
    "start_time": "2022-05-17T15:07:21.547Z"
   },
   {
    "duration": 6,
    "start_time": "2022-05-17T15:07:21.716Z"
   },
   {
    "duration": 13,
    "start_time": "2022-05-17T15:07:22.076Z"
   },
   {
    "duration": 5,
    "start_time": "2022-05-17T15:07:22.260Z"
   },
   {
    "duration": 6,
    "start_time": "2022-05-17T15:07:22.436Z"
   },
   {
    "duration": 6,
    "start_time": "2022-05-17T15:07:22.749Z"
   },
   {
    "duration": 13,
    "start_time": "2022-05-17T15:07:22.933Z"
   },
   {
    "duration": 4,
    "start_time": "2022-05-17T15:07:23.125Z"
   },
   {
    "duration": 6,
    "start_time": "2022-05-17T15:07:23.327Z"
   },
   {
    "duration": 6,
    "start_time": "2022-05-17T15:07:23.522Z"
   },
   {
    "duration": 14,
    "start_time": "2022-05-17T15:07:23.723Z"
   },
   {
    "duration": 5,
    "start_time": "2022-05-17T15:07:23.913Z"
   },
   {
    "duration": 6,
    "start_time": "2022-05-17T15:07:24.112Z"
   },
   {
    "duration": 8,
    "start_time": "2022-05-17T15:07:24.285Z"
   },
   {
    "duration": 15,
    "start_time": "2022-05-17T15:07:24.506Z"
   },
   {
    "duration": 6,
    "start_time": "2022-05-17T15:07:24.735Z"
   },
   {
    "duration": 15,
    "start_time": "2022-05-17T15:07:24.944Z"
   },
   {
    "duration": 7,
    "start_time": "2022-05-17T15:07:25.148Z"
   },
   {
    "duration": 4,
    "start_time": "2022-05-17T15:07:25.736Z"
   },
   {
    "duration": 20,
    "start_time": "2022-05-17T15:07:26.088Z"
   },
   {
    "duration": 74,
    "start_time": "2022-05-17T15:07:26.651Z"
   },
   {
    "duration": 7,
    "start_time": "2022-05-17T15:07:27.153Z"
   },
   {
    "duration": 9,
    "start_time": "2022-05-17T15:07:27.752Z"
   },
   {
    "duration": 15,
    "start_time": "2022-05-17T15:07:28.741Z"
   },
   {
    "duration": 13,
    "start_time": "2022-05-17T15:07:29.341Z"
   },
   {
    "duration": 5,
    "start_time": "2022-05-17T15:07:46.675Z"
   },
   {
    "duration": 13,
    "start_time": "2022-05-17T15:07:59.012Z"
   },
   {
    "duration": 78,
    "start_time": "2022-05-17T15:09:44.530Z"
   },
   {
    "duration": 6,
    "start_time": "2022-05-17T15:14:17.395Z"
   },
   {
    "duration": 23,
    "start_time": "2022-05-17T15:14:17.924Z"
   },
   {
    "duration": 23,
    "start_time": "2022-05-17T15:23:52.468Z"
   },
   {
    "duration": 4,
    "start_time": "2022-05-17T15:24:42.283Z"
   },
   {
    "duration": 3,
    "start_time": "2022-05-17T15:24:42.425Z"
   },
   {
    "duration": 99,
    "start_time": "2022-05-17T15:24:42.579Z"
   },
   {
    "duration": 59,
    "start_time": "2022-05-17T15:24:42.734Z"
   },
   {
    "duration": 22,
    "start_time": "2022-05-17T15:24:42.874Z"
   },
   {
    "duration": 23,
    "start_time": "2022-05-17T15:24:43.006Z"
   },
   {
    "duration": 10,
    "start_time": "2022-05-17T15:24:43.950Z"
   },
   {
    "duration": 11,
    "start_time": "2022-05-17T15:24:44.161Z"
   },
   {
    "duration": 15,
    "start_time": "2022-05-17T15:24:44.315Z"
   },
   {
    "duration": 6,
    "start_time": "2022-05-17T15:24:44.474Z"
   },
   {
    "duration": 4,
    "start_time": "2022-05-17T15:24:44.642Z"
   },
   {
    "duration": 13,
    "start_time": "2022-05-17T15:24:44.928Z"
   },
   {
    "duration": 6,
    "start_time": "2022-05-17T15:24:45.164Z"
   },
   {
    "duration": 6,
    "start_time": "2022-05-17T15:24:45.202Z"
   },
   {
    "duration": 13,
    "start_time": "2022-05-17T15:24:45.387Z"
   },
   {
    "duration": 13,
    "start_time": "2022-05-17T15:24:45.748Z"
   },
   {
    "duration": 7,
    "start_time": "2022-05-17T15:24:45.920Z"
   },
   {
    "duration": 6,
    "start_time": "2022-05-17T15:24:46.219Z"
   },
   {
    "duration": 9,
    "start_time": "2022-05-17T15:24:46.266Z"
   },
   {
    "duration": 6,
    "start_time": "2022-05-17T15:24:46.418Z"
   },
   {
    "duration": 5,
    "start_time": "2022-05-17T15:24:46.784Z"
   },
   {
    "duration": 11,
    "start_time": "2022-05-17T15:24:46.977Z"
   },
   {
    "duration": 6,
    "start_time": "2022-05-17T15:24:47.142Z"
   },
   {
    "duration": 14,
    "start_time": "2022-05-17T15:24:47.362Z"
   },
   {
    "duration": 5,
    "start_time": "2022-05-17T15:24:47.496Z"
   },
   {
    "duration": 6,
    "start_time": "2022-05-17T15:24:47.697Z"
   },
   {
    "duration": 6,
    "start_time": "2022-05-17T15:24:47.908Z"
   },
   {
    "duration": 15,
    "start_time": "2022-05-17T15:24:48.092Z"
   },
   {
    "duration": 4,
    "start_time": "2022-05-17T15:24:48.264Z"
   },
   {
    "duration": 6,
    "start_time": "2022-05-17T15:24:48.457Z"
   },
   {
    "duration": 5,
    "start_time": "2022-05-17T15:24:48.637Z"
   },
   {
    "duration": 13,
    "start_time": "2022-05-17T15:24:48.842Z"
   },
   {
    "duration": 4,
    "start_time": "2022-05-17T15:24:48.961Z"
   },
   {
    "duration": 5,
    "start_time": "2022-05-17T15:24:49.139Z"
   },
   {
    "duration": 7,
    "start_time": "2022-05-17T15:24:49.340Z"
   },
   {
    "duration": 12,
    "start_time": "2022-05-17T15:24:49.525Z"
   },
   {
    "duration": 7,
    "start_time": "2022-05-17T15:24:49.723Z"
   },
   {
    "duration": 16,
    "start_time": "2022-05-17T15:24:49.979Z"
   },
   {
    "duration": 7,
    "start_time": "2022-05-17T15:24:50.115Z"
   },
   {
    "duration": 5,
    "start_time": "2022-05-17T15:24:50.293Z"
   },
   {
    "duration": 13,
    "start_time": "2022-05-17T15:24:50.485Z"
   },
   {
    "duration": 71,
    "start_time": "2022-05-17T15:24:50.679Z"
   },
   {
    "duration": 7,
    "start_time": "2022-05-17T15:24:50.899Z"
   },
   {
    "duration": 10,
    "start_time": "2022-05-17T15:24:51.171Z"
   },
   {
    "duration": 19,
    "start_time": "2022-05-17T15:24:51.369Z"
   },
   {
    "duration": 6,
    "start_time": "2022-05-17T15:24:52.211Z"
   },
   {
    "duration": 20,
    "start_time": "2022-05-17T15:24:52.476Z"
   },
   {
    "duration": 22,
    "start_time": "2022-05-17T15:24:52.769Z"
   },
   {
    "duration": 18,
    "start_time": "2022-05-17T15:24:52.970Z"
   },
   {
    "duration": 7,
    "start_time": "2022-05-17T15:37:25.637Z"
   },
   {
    "duration": 16,
    "start_time": "2022-05-17T15:38:01.410Z"
   },
   {
    "duration": 3,
    "start_time": "2022-05-17T15:38:03.433Z"
   },
   {
    "duration": 292,
    "start_time": "2022-05-17T15:38:03.956Z"
   },
   {
    "duration": 16,
    "start_time": "2022-05-17T15:38:13.036Z"
   },
   {
    "duration": 6,
    "start_time": "2022-05-17T15:39:50.735Z"
   },
   {
    "duration": 7,
    "start_time": "2022-05-17T15:45:08.545Z"
   },
   {
    "duration": 15,
    "start_time": "2022-05-17T15:45:13.683Z"
   },
   {
    "duration": 6,
    "start_time": "2022-05-17T15:45:14.719Z"
   },
   {
    "duration": 2,
    "start_time": "2022-05-17T15:45:15.216Z"
   },
   {
    "duration": 7,
    "start_time": "2022-05-17T15:45:16.112Z"
   },
   {
    "duration": 6,
    "start_time": "2022-05-17T15:45:47.353Z"
   },
   {
    "duration": 8,
    "start_time": "2022-05-17T15:45:47.616Z"
   },
   {
    "duration": 16,
    "start_time": "2022-05-17T15:45:48.048Z"
   },
   {
    "duration": 5,
    "start_time": "2022-05-17T15:46:22.118Z"
   },
   {
    "duration": 17,
    "start_time": "2022-05-17T15:46:22.760Z"
   },
   {
    "duration": 17,
    "start_time": "2022-05-17T16:11:08.960Z"
   },
   {
    "duration": 170,
    "start_time": "2022-05-17T16:11:52.826Z"
   },
   {
    "duration": 199,
    "start_time": "2022-05-17T16:12:26.182Z"
   },
   {
    "duration": 149,
    "start_time": "2022-05-17T16:12:34.816Z"
   },
   {
    "duration": 178,
    "start_time": "2022-05-17T16:16:34.627Z"
   },
   {
    "duration": 225,
    "start_time": "2022-05-17T16:17:25.031Z"
   },
   {
    "duration": 180,
    "start_time": "2022-05-17T16:17:53.663Z"
   },
   {
    "duration": 130,
    "start_time": "2022-05-17T16:18:11.810Z"
   },
   {
    "duration": 132,
    "start_time": "2022-05-17T16:19:41.966Z"
   },
   {
    "duration": 134,
    "start_time": "2022-05-17T16:19:54.237Z"
   },
   {
    "duration": 198,
    "start_time": "2022-05-17T16:20:23.565Z"
   },
   {
    "duration": 151,
    "start_time": "2022-05-17T16:21:36.798Z"
   },
   {
    "duration": 118,
    "start_time": "2022-05-17T16:21:42.843Z"
   },
   {
    "duration": 114,
    "start_time": "2022-05-17T16:22:07.511Z"
   },
   {
    "duration": 126,
    "start_time": "2022-05-17T16:22:22.287Z"
   },
   {
    "duration": 111,
    "start_time": "2022-05-17T16:22:27.095Z"
   },
   {
    "duration": 112,
    "start_time": "2022-05-17T16:23:38.397Z"
   },
   {
    "duration": 128,
    "start_time": "2022-05-17T16:23:44.104Z"
   },
   {
    "duration": 115,
    "start_time": "2022-05-17T16:23:57.660Z"
   },
   {
    "duration": 173,
    "start_time": "2022-05-17T16:24:35.847Z"
   },
   {
    "duration": 122,
    "start_time": "2022-05-17T16:24:41.820Z"
   },
   {
    "duration": 127,
    "start_time": "2022-05-17T16:25:26.548Z"
   },
   {
    "duration": 54,
    "start_time": "2022-05-17T21:14:48.662Z"
   },
   {
    "duration": 7,
    "start_time": "2022-05-17T21:14:54.210Z"
   },
   {
    "duration": 6,
    "start_time": "2022-05-17T21:15:07.009Z"
   },
   {
    "duration": 1224,
    "start_time": "2022-05-17T21:15:17.631Z"
   },
   {
    "duration": 3,
    "start_time": "2022-05-17T21:15:18.858Z"
   },
   {
    "duration": 176,
    "start_time": "2022-05-17T21:15:18.863Z"
   },
   {
    "duration": 73,
    "start_time": "2022-05-17T21:15:19.041Z"
   },
   {
    "duration": 14,
    "start_time": "2022-05-17T21:15:19.115Z"
   },
   {
    "duration": 22,
    "start_time": "2022-05-17T21:15:19.131Z"
   },
   {
    "duration": 10,
    "start_time": "2022-05-17T21:15:20.428Z"
   },
   {
    "duration": 10,
    "start_time": "2022-05-17T21:15:21.648Z"
   },
   {
    "duration": 14,
    "start_time": "2022-05-17T21:15:22.258Z"
   },
   {
    "duration": 4,
    "start_time": "2022-05-17T21:15:22.678Z"
   },
   {
    "duration": 5,
    "start_time": "2022-05-17T21:15:22.994Z"
   },
   {
    "duration": 21,
    "start_time": "2022-05-17T21:15:23.444Z"
   },
   {
    "duration": 6,
    "start_time": "2022-05-17T21:15:23.804Z"
   },
   {
    "duration": 6,
    "start_time": "2022-05-17T21:15:24.273Z"
   },
   {
    "duration": 13,
    "start_time": "2022-05-17T21:15:25.000Z"
   },
   {
    "duration": 11,
    "start_time": "2022-05-17T21:15:25.353Z"
   },
   {
    "duration": 6,
    "start_time": "2022-05-17T21:15:25.708Z"
   },
   {
    "duration": 5,
    "start_time": "2022-05-17T21:15:26.066Z"
   },
   {
    "duration": 9,
    "start_time": "2022-05-17T21:15:26.620Z"
   },
   {
    "duration": 5,
    "start_time": "2022-05-17T21:15:26.974Z"
   },
   {
    "duration": 5,
    "start_time": "2022-05-17T21:15:27.284Z"
   },
   {
    "duration": 11,
    "start_time": "2022-05-17T21:15:27.556Z"
   },
   {
    "duration": 6,
    "start_time": "2022-05-17T21:15:27.857Z"
   },
   {
    "duration": 14,
    "start_time": "2022-05-17T21:15:28.206Z"
   },
   {
    "duration": 4,
    "start_time": "2022-05-17T21:15:28.578Z"
   },
   {
    "duration": 8,
    "start_time": "2022-05-17T21:15:28.886Z"
   },
   {
    "duration": 5,
    "start_time": "2022-05-17T21:15:29.185Z"
   },
   {
    "duration": 14,
    "start_time": "2022-05-17T21:15:29.473Z"
   },
   {
    "duration": 4,
    "start_time": "2022-05-17T21:15:29.794Z"
   },
   {
    "duration": 5,
    "start_time": "2022-05-17T21:15:30.020Z"
   },
   {
    "duration": 5,
    "start_time": "2022-05-17T21:15:30.353Z"
   },
   {
    "duration": 13,
    "start_time": "2022-05-17T21:15:30.597Z"
   },
   {
    "duration": 5,
    "start_time": "2022-05-17T21:15:30.868Z"
   },
   {
    "duration": 5,
    "start_time": "2022-05-17T21:15:31.117Z"
   },
   {
    "duration": 7,
    "start_time": "2022-05-17T21:15:31.361Z"
   },
   {
    "duration": 14,
    "start_time": "2022-05-17T21:15:31.671Z"
   },
   {
    "duration": 7,
    "start_time": "2022-05-17T21:15:31.944Z"
   },
   {
    "duration": 15,
    "start_time": "2022-05-17T21:15:32.179Z"
   },
   {
    "duration": 10,
    "start_time": "2022-05-17T21:15:32.723Z"
   },
   {
    "duration": 4,
    "start_time": "2022-05-17T21:15:32.985Z"
   },
   {
    "duration": 13,
    "start_time": "2022-05-17T21:15:33.264Z"
   },
   {
    "duration": 73,
    "start_time": "2022-05-17T21:15:33.548Z"
   },
   {
    "duration": 5,
    "start_time": "2022-05-17T21:15:33.796Z"
   },
   {
    "duration": 8,
    "start_time": "2022-05-17T21:15:34.141Z"
   },
   {
    "duration": 13,
    "start_time": "2022-05-17T21:15:34.445Z"
   },
   {
    "duration": 6,
    "start_time": "2022-05-17T21:15:35.373Z"
   },
   {
    "duration": 21,
    "start_time": "2022-05-17T21:15:35.703Z"
   },
   {
    "duration": 21,
    "start_time": "2022-05-17T21:15:35.988Z"
   },
   {
    "duration": 16,
    "start_time": "2022-05-17T21:15:36.308Z"
   },
   {
    "duration": 3,
    "start_time": "2022-05-17T21:15:36.658Z"
   },
   {
    "duration": 393,
    "start_time": "2022-05-17T21:15:37.001Z"
   },
   {
    "duration": 15,
    "start_time": "2022-05-17T21:15:37.395Z"
   },
   {
    "duration": 7,
    "start_time": "2022-05-17T21:15:37.707Z"
   },
   {
    "duration": 5,
    "start_time": "2022-05-17T21:15:38.020Z"
   },
   {
    "duration": 18,
    "start_time": "2022-05-17T21:15:38.375Z"
   },
   {
    "duration": 142,
    "start_time": "2022-05-17T21:15:40.147Z"
   },
   {
    "duration": 123,
    "start_time": "2022-05-17T21:15:40.788Z"
   },
   {
    "duration": 119,
    "start_time": "2022-05-17T21:15:41.141Z"
   },
   {
    "duration": 127,
    "start_time": "2022-05-17T21:15:41.440Z"
   },
   {
    "duration": 175,
    "start_time": "2022-05-17T21:15:42.053Z"
   },
   {
    "duration": 5,
    "start_time": "2022-05-17T21:15:42.340Z"
   },
   {
    "duration": 4,
    "start_time": "2022-05-17T21:15:42.640Z"
   },
   {
    "duration": 9,
    "start_time": "2022-05-17T21:15:42.967Z"
   },
   {
    "duration": 30,
    "start_time": "2022-05-17T21:15:43.961Z"
   },
   {
    "duration": 4,
    "start_time": "2022-05-17T21:15:44.316Z"
   },
   {
    "duration": 129,
    "start_time": "2022-05-17T21:15:45.241Z"
   },
   {
    "duration": 12,
    "start_time": "2022-05-17T21:15:45.614Z"
   },
   {
    "duration": 123,
    "start_time": "2022-05-17T21:15:45.958Z"
   },
   {
    "duration": 12,
    "start_time": "2022-05-17T21:15:46.389Z"
   },
   {
    "duration": 203,
    "start_time": "2022-05-17T21:15:47.140Z"
   },
   {
    "duration": 12,
    "start_time": "2022-05-17T21:15:47.899Z"
   },
   {
    "duration": 129,
    "start_time": "2022-05-17T21:15:48.597Z"
   },
   {
    "duration": 11,
    "start_time": "2022-05-17T21:15:49.474Z"
   },
   {
    "duration": 12,
    "start_time": "2022-05-17T21:15:50.345Z"
   },
   {
    "duration": 10,
    "start_time": "2022-05-17T21:15:51.519Z"
   },
   {
    "duration": 8,
    "start_time": "2022-05-17T21:15:52.385Z"
   },
   {
    "duration": 9,
    "start_time": "2022-05-17T21:15:53.419Z"
   },
   {
    "duration": 10,
    "start_time": "2022-05-17T21:15:54.623Z"
   },
   {
    "duration": 9,
    "start_time": "2022-05-17T21:15:55.675Z"
   },
   {
    "duration": 7,
    "start_time": "2022-05-17T21:15:56.576Z"
   },
   {
    "duration": 20,
    "start_time": "2022-05-17T21:15:57.672Z"
   },
   {
    "duration": 49,
    "start_time": "2022-05-17T21:15:58.073Z"
   },
   {
    "duration": 191,
    "start_time": "2022-05-17T21:15:58.472Z"
   },
   {
    "duration": 181,
    "start_time": "2022-05-17T21:16:36.022Z"
   },
   {
    "duration": 1076,
    "start_time": "2022-05-17T21:17:08.811Z"
   },
   {
    "duration": 2,
    "start_time": "2022-05-17T21:17:09.889Z"
   },
   {
    "duration": 93,
    "start_time": "2022-05-17T21:17:09.893Z"
   },
   {
    "duration": 66,
    "start_time": "2022-05-17T21:17:09.988Z"
   },
   {
    "duration": 14,
    "start_time": "2022-05-17T21:17:10.056Z"
   },
   {
    "duration": 37,
    "start_time": "2022-05-17T21:17:10.072Z"
   },
   {
    "duration": 9,
    "start_time": "2022-05-17T21:17:10.111Z"
   },
   {
    "duration": 10,
    "start_time": "2022-05-17T21:17:10.122Z"
   },
   {
    "duration": 13,
    "start_time": "2022-05-17T21:17:10.134Z"
   },
   {
    "duration": 4,
    "start_time": "2022-05-17T21:17:10.150Z"
   },
   {
    "duration": 39,
    "start_time": "2022-05-17T21:17:10.156Z"
   },
   {
    "duration": 13,
    "start_time": "2022-05-17T21:17:10.197Z"
   },
   {
    "duration": 6,
    "start_time": "2022-05-17T21:17:10.212Z"
   },
   {
    "duration": 7,
    "start_time": "2022-05-17T21:17:10.219Z"
   },
   {
    "duration": 14,
    "start_time": "2022-05-17T21:17:10.227Z"
   },
   {
    "duration": 11,
    "start_time": "2022-05-17T21:17:10.243Z"
   },
   {
    "duration": 8,
    "start_time": "2022-05-17T21:17:10.256Z"
   },
   {
    "duration": 29,
    "start_time": "2022-05-17T21:17:10.266Z"
   },
   {
    "duration": 9,
    "start_time": "2022-05-17T21:17:10.296Z"
   },
   {
    "duration": 7,
    "start_time": "2022-05-17T21:17:10.306Z"
   },
   {
    "duration": 5,
    "start_time": "2022-05-17T21:17:10.315Z"
   },
   {
    "duration": 13,
    "start_time": "2022-05-17T21:17:10.321Z"
   },
   {
    "duration": 7,
    "start_time": "2022-05-17T21:17:10.335Z"
   },
   {
    "duration": 21,
    "start_time": "2022-05-17T21:17:10.344Z"
   },
   {
    "duration": 7,
    "start_time": "2022-05-17T21:17:10.366Z"
   },
   {
    "duration": 21,
    "start_time": "2022-05-17T21:17:10.374Z"
   },
   {
    "duration": 4,
    "start_time": "2022-05-17T21:17:10.396Z"
   },
   {
    "duration": 14,
    "start_time": "2022-05-17T21:17:10.404Z"
   },
   {
    "duration": 6,
    "start_time": "2022-05-17T21:17:10.419Z"
   },
   {
    "duration": 6,
    "start_time": "2022-05-17T21:17:10.426Z"
   },
   {
    "duration": 4,
    "start_time": "2022-05-17T21:17:10.434Z"
   },
   {
    "duration": 16,
    "start_time": "2022-05-17T21:17:10.439Z"
   },
   {
    "duration": 6,
    "start_time": "2022-05-17T21:17:10.456Z"
   },
   {
    "duration": 31,
    "start_time": "2022-05-17T21:17:10.464Z"
   },
   {
    "duration": 7,
    "start_time": "2022-05-17T21:17:10.497Z"
   },
   {
    "duration": 16,
    "start_time": "2022-05-17T21:17:10.505Z"
   },
   {
    "duration": 6,
    "start_time": "2022-05-17T21:17:10.522Z"
   },
   {
    "duration": 14,
    "start_time": "2022-05-17T21:17:10.529Z"
   },
   {
    "duration": 11,
    "start_time": "2022-05-17T21:17:10.544Z"
   },
   {
    "duration": 3,
    "start_time": "2022-05-17T21:17:10.557Z"
   },
   {
    "duration": 37,
    "start_time": "2022-05-17T21:17:10.561Z"
   },
   {
    "duration": 76,
    "start_time": "2022-05-17T21:17:10.599Z"
   },
   {
    "duration": 17,
    "start_time": "2022-05-17T21:17:10.677Z"
   },
   {
    "duration": 12,
    "start_time": "2022-05-17T21:17:10.695Z"
   },
   {
    "duration": 14,
    "start_time": "2022-05-17T21:17:10.709Z"
   },
   {
    "duration": 9,
    "start_time": "2022-05-17T21:17:10.724Z"
   },
   {
    "duration": 14,
    "start_time": "2022-05-17T21:17:10.734Z"
   },
   {
    "duration": 23,
    "start_time": "2022-05-17T21:17:10.749Z"
   },
   {
    "duration": 28,
    "start_time": "2022-05-17T21:17:10.773Z"
   },
   {
    "duration": 9,
    "start_time": "2022-05-17T21:17:10.803Z"
   },
   {
    "duration": 361,
    "start_time": "2022-05-17T21:17:10.813Z"
   },
   {
    "duration": 14,
    "start_time": "2022-05-17T21:17:11.176Z"
   },
   {
    "duration": 9,
    "start_time": "2022-05-17T21:17:11.194Z"
   },
   {
    "duration": 6,
    "start_time": "2022-05-17T21:17:11.204Z"
   },
   {
    "duration": 17,
    "start_time": "2022-05-17T21:17:11.211Z"
   },
   {
    "duration": 150,
    "start_time": "2022-05-17T21:17:11.229Z"
   },
   {
    "duration": 131,
    "start_time": "2022-05-17T21:17:11.381Z"
   },
   {
    "duration": 128,
    "start_time": "2022-05-17T21:17:11.514Z"
   },
   {
    "duration": 134,
    "start_time": "2022-05-17T21:17:11.644Z"
   },
   {
    "duration": 174,
    "start_time": "2022-05-17T21:17:11.780Z"
   },
   {
    "duration": 5,
    "start_time": "2022-05-17T21:17:11.956Z"
   },
   {
    "duration": 30,
    "start_time": "2022-05-17T21:17:11.962Z"
   },
   {
    "duration": 30,
    "start_time": "2022-05-17T21:17:11.993Z"
   },
   {
    "duration": 54,
    "start_time": "2022-05-17T21:17:12.024Z"
   },
   {
    "duration": 9,
    "start_time": "2022-05-17T21:17:12.079Z"
   },
   {
    "duration": 138,
    "start_time": "2022-05-17T21:17:12.090Z"
   },
   {
    "duration": 13,
    "start_time": "2022-05-17T21:17:12.229Z"
   },
   {
    "duration": 138,
    "start_time": "2022-05-17T21:17:12.244Z"
   },
   {
    "duration": 17,
    "start_time": "2022-05-17T21:17:12.384Z"
   },
   {
    "duration": 209,
    "start_time": "2022-05-17T21:17:12.402Z"
   },
   {
    "duration": 11,
    "start_time": "2022-05-17T21:17:12.613Z"
   },
   {
    "duration": 130,
    "start_time": "2022-05-17T21:17:12.625Z"
   },
   {
    "duration": 10,
    "start_time": "2022-05-17T21:17:12.757Z"
   },
   {
    "duration": 26,
    "start_time": "2022-05-17T21:17:12.769Z"
   },
   {
    "duration": 9,
    "start_time": "2022-05-17T21:17:12.796Z"
   },
   {
    "duration": 20,
    "start_time": "2022-05-17T21:17:12.806Z"
   },
   {
    "duration": 9,
    "start_time": "2022-05-17T21:17:12.827Z"
   },
   {
    "duration": 15,
    "start_time": "2022-05-17T21:17:12.837Z"
   },
   {
    "duration": 26,
    "start_time": "2022-05-17T21:17:12.853Z"
   },
   {
    "duration": 6,
    "start_time": "2022-05-17T21:17:12.881Z"
   },
   {
    "duration": 39,
    "start_time": "2022-05-17T21:17:12.888Z"
   },
   {
    "duration": 56,
    "start_time": "2022-05-17T21:17:12.933Z"
   },
   {
    "duration": 196,
    "start_time": "2022-05-17T21:17:12.991Z"
   },
   {
    "duration": 1105,
    "start_time": "2022-05-17T21:17:50.872Z"
   },
   {
    "duration": 3,
    "start_time": "2022-05-17T21:17:51.978Z"
   },
   {
    "duration": 89,
    "start_time": "2022-05-17T21:17:54.121Z"
   },
   {
    "duration": 64,
    "start_time": "2022-05-17T21:17:54.597Z"
   },
   {
    "duration": 12,
    "start_time": "2022-05-17T21:17:54.915Z"
   },
   {
    "duration": 21,
    "start_time": "2022-05-17T21:17:55.301Z"
   },
   {
    "duration": 9,
    "start_time": "2022-05-17T21:17:57.160Z"
   },
   {
    "duration": 10,
    "start_time": "2022-05-17T21:17:57.464Z"
   },
   {
    "duration": 13,
    "start_time": "2022-05-17T21:17:57.703Z"
   },
   {
    "duration": 4,
    "start_time": "2022-05-17T21:17:57.977Z"
   },
   {
    "duration": 5,
    "start_time": "2022-05-17T21:17:58.241Z"
   },
   {
    "duration": 14,
    "start_time": "2022-05-17T21:17:58.771Z"
   },
   {
    "duration": 6,
    "start_time": "2022-05-17T21:17:59.017Z"
   },
   {
    "duration": 6,
    "start_time": "2022-05-17T21:17:59.340Z"
   },
   {
    "duration": 16,
    "start_time": "2022-05-17T21:17:59.718Z"
   },
   {
    "duration": 10,
    "start_time": "2022-05-17T21:17:59.984Z"
   },
   {
    "duration": 6,
    "start_time": "2022-05-17T21:18:00.325Z"
   },
   {
    "duration": 7,
    "start_time": "2022-05-17T21:18:00.612Z"
   },
   {
    "duration": 8,
    "start_time": "2022-05-17T21:18:00.905Z"
   },
   {
    "duration": 5,
    "start_time": "2022-05-17T21:18:01.517Z"
   },
   {
    "duration": 5,
    "start_time": "2022-05-17T21:18:01.868Z"
   },
   {
    "duration": 10,
    "start_time": "2022-05-17T21:18:02.173Z"
   },
   {
    "duration": 7,
    "start_time": "2022-05-17T21:18:02.501Z"
   },
   {
    "duration": 13,
    "start_time": "2022-05-17T21:18:02.863Z"
   },
   {
    "duration": 5,
    "start_time": "2022-05-17T21:18:03.199Z"
   },
   {
    "duration": 5,
    "start_time": "2022-05-17T21:18:03.440Z"
   },
   {
    "duration": 5,
    "start_time": "2022-05-17T21:18:03.713Z"
   },
   {
    "duration": 13,
    "start_time": "2022-05-17T21:18:04.002Z"
   },
   {
    "duration": 4,
    "start_time": "2022-05-17T21:18:04.295Z"
   },
   {
    "duration": 5,
    "start_time": "2022-05-17T21:18:04.555Z"
   },
   {
    "duration": 5,
    "start_time": "2022-05-17T21:18:04.827Z"
   },
   {
    "duration": 12,
    "start_time": "2022-05-17T21:18:05.325Z"
   },
   {
    "duration": 5,
    "start_time": "2022-05-17T21:18:05.670Z"
   },
   {
    "duration": 5,
    "start_time": "2022-05-17T21:18:05.927Z"
   },
   {
    "duration": 7,
    "start_time": "2022-05-17T21:18:06.214Z"
   },
   {
    "duration": 15,
    "start_time": "2022-05-17T21:18:06.466Z"
   },
   {
    "duration": 7,
    "start_time": "2022-05-17T21:18:06.727Z"
   },
   {
    "duration": 14,
    "start_time": "2022-05-17T21:18:06.979Z"
   },
   {
    "duration": 10,
    "start_time": "2022-05-17T21:18:07.217Z"
   },
   {
    "duration": 4,
    "start_time": "2022-05-17T21:18:07.473Z"
   },
   {
    "duration": 14,
    "start_time": "2022-05-17T21:18:07.954Z"
   },
   {
    "duration": 69,
    "start_time": "2022-05-17T21:18:08.269Z"
   },
   {
    "duration": 6,
    "start_time": "2022-05-17T21:18:08.540Z"
   },
   {
    "duration": 7,
    "start_time": "2022-05-17T21:18:08.799Z"
   },
   {
    "duration": 13,
    "start_time": "2022-05-17T21:18:09.069Z"
   },
   {
    "duration": 5,
    "start_time": "2022-05-17T21:18:09.845Z"
   },
   {
    "duration": 13,
    "start_time": "2022-05-17T21:18:10.144Z"
   },
   {
    "duration": 21,
    "start_time": "2022-05-17T21:18:10.464Z"
   },
   {
    "duration": 16,
    "start_time": "2022-05-17T21:18:10.744Z"
   },
   {
    "duration": 3,
    "start_time": "2022-05-17T21:18:11.017Z"
   },
   {
    "duration": 369,
    "start_time": "2022-05-17T21:18:11.284Z"
   },
   {
    "duration": 14,
    "start_time": "2022-05-17T21:18:11.654Z"
   },
   {
    "duration": 7,
    "start_time": "2022-05-17T21:18:11.828Z"
   },
   {
    "duration": 5,
    "start_time": "2022-05-17T21:18:12.126Z"
   },
   {
    "duration": 16,
    "start_time": "2022-05-17T21:18:12.444Z"
   },
   {
    "duration": 143,
    "start_time": "2022-05-17T21:18:13.940Z"
   },
   {
    "duration": 119,
    "start_time": "2022-05-17T21:18:14.267Z"
   },
   {
    "duration": 117,
    "start_time": "2022-05-17T21:18:14.610Z"
   },
   {
    "duration": 135,
    "start_time": "2022-05-17T21:18:14.896Z"
   },
   {
    "duration": 167,
    "start_time": "2022-05-17T21:18:15.500Z"
   },
   {
    "duration": 5,
    "start_time": "2022-05-17T21:18:15.765Z"
   },
   {
    "duration": 5,
    "start_time": "2022-05-17T21:18:16.095Z"
   },
   {
    "duration": 8,
    "start_time": "2022-05-17T21:18:16.384Z"
   },
   {
    "duration": 30,
    "start_time": "2022-05-17T21:18:17.300Z"
   },
   {
    "duration": 4,
    "start_time": "2022-05-17T21:18:17.604Z"
   },
   {
    "duration": 126,
    "start_time": "2022-05-17T21:18:18.323Z"
   },
   {
    "duration": 13,
    "start_time": "2022-05-17T21:18:18.762Z"
   },
   {
    "duration": 117,
    "start_time": "2022-05-17T21:18:19.354Z"
   },
   {
    "duration": 13,
    "start_time": "2022-05-17T21:18:19.891Z"
   },
   {
    "duration": 113,
    "start_time": "2022-05-17T21:18:20.407Z"
   },
   {
    "duration": 12,
    "start_time": "2022-05-17T21:18:20.765Z"
   },
   {
    "duration": 208,
    "start_time": "2022-05-17T21:18:21.207Z"
   },
   {
    "duration": 12,
    "start_time": "2022-05-17T21:18:21.688Z"
   },
   {
    "duration": 12,
    "start_time": "2022-05-17T21:18:22.562Z"
   },
   {
    "duration": 9,
    "start_time": "2022-05-17T21:18:24.011Z"
   },
   {
    "duration": 7,
    "start_time": "2022-05-17T21:18:28.064Z"
   },
   {
    "duration": 11,
    "start_time": "2022-05-17T21:18:29.259Z"
   },
   {
    "duration": 10,
    "start_time": "2022-05-17T21:18:30.296Z"
   },
   {
    "duration": 9,
    "start_time": "2022-05-17T21:18:31.396Z"
   },
   {
    "duration": 9,
    "start_time": "2022-05-17T21:18:32.606Z"
   },
   {
    "duration": 16,
    "start_time": "2022-05-17T21:18:39.672Z"
   },
   {
    "duration": 154,
    "start_time": "2022-05-17T21:18:40.201Z"
   },
   {
    "duration": 193,
    "start_time": "2022-05-17T21:18:40.940Z"
   },
   {
    "duration": 178,
    "start_time": "2022-05-17T21:19:19.059Z"
   },
   {
    "duration": 212,
    "start_time": "2022-05-17T21:19:19.239Z"
   },
   {
    "duration": 268,
    "start_time": "2022-05-17T21:19:19.453Z"
   },
   {
    "duration": 200,
    "start_time": "2022-05-17T21:19:19.723Z"
   },
   {
    "duration": 0,
    "start_time": "2022-05-17T21:19:19.929Z"
   },
   {
    "duration": 0,
    "start_time": "2022-05-17T21:19:19.930Z"
   },
   {
    "duration": 199,
    "start_time": "2022-05-17T21:19:24.179Z"
   },
   {
    "duration": 194,
    "start_time": "2022-05-17T21:20:47.595Z"
   },
   {
    "duration": 37172,
    "start_time": "2022-05-17T21:20:47.795Z"
   },
   {
    "duration": 173,
    "start_time": "2022-05-17T21:21:24.969Z"
   },
   {
    "duration": 25,
    "start_time": "2022-05-17T21:28:29.540Z"
   },
   {
    "duration": 102,
    "start_time": "2022-05-17T21:28:36.628Z"
   },
   {
    "duration": 195,
    "start_time": "2022-05-17T21:28:40.369Z"
   },
   {
    "duration": 10,
    "start_time": "2022-05-17T21:28:45.320Z"
   },
   {
    "duration": 9,
    "start_time": "2022-05-17T21:28:54.287Z"
   },
   {
    "duration": 17,
    "start_time": "2022-05-17T21:30:55.165Z"
   },
   {
    "duration": 16,
    "start_time": "2022-05-17T21:33:05.391Z"
   },
   {
    "duration": 10,
    "start_time": "2022-05-17T21:35:16.199Z"
   },
   {
    "duration": 10,
    "start_time": "2022-05-17T21:38:33.843Z"
   },
   {
    "duration": 11,
    "start_time": "2022-05-17T21:38:37.836Z"
   },
   {
    "duration": 15,
    "start_time": "2022-05-17T21:39:11.530Z"
   },
   {
    "duration": 20,
    "start_time": "2022-05-17T21:39:18.370Z"
   },
   {
    "duration": 12,
    "start_time": "2022-05-17T21:39:23.161Z"
   },
   {
    "duration": 15,
    "start_time": "2022-05-17T21:39:44.652Z"
   },
   {
    "duration": 20,
    "start_time": "2022-05-17T21:40:30.613Z"
   },
   {
    "duration": 31,
    "start_time": "2022-05-17T21:41:10.790Z"
   },
   {
    "duration": 13,
    "start_time": "2022-05-17T21:41:15.960Z"
   },
   {
    "duration": 15,
    "start_time": "2022-05-17T21:42:53.127Z"
   },
   {
    "duration": 12,
    "start_time": "2022-05-17T21:43:12.848Z"
   },
   {
    "duration": 23,
    "start_time": "2022-05-17T21:43:25.380Z"
   },
   {
    "duration": 12,
    "start_time": "2022-05-17T21:43:35.013Z"
   },
   {
    "duration": 11,
    "start_time": "2022-05-17T21:43:43.746Z"
   },
   {
    "duration": 21,
    "start_time": "2022-05-17T21:46:35.541Z"
   },
   {
    "duration": 20,
    "start_time": "2022-05-17T21:46:47.607Z"
   },
   {
    "duration": 13,
    "start_time": "2022-05-17T21:48:44.514Z"
   },
   {
    "duration": 8,
    "start_time": "2022-05-17T21:52:00.870Z"
   },
   {
    "duration": 13,
    "start_time": "2022-05-17T21:52:02.123Z"
   },
   {
    "duration": 9,
    "start_time": "2022-05-17T21:52:26.366Z"
   },
   {
    "duration": 14,
    "start_time": "2022-05-17T21:52:45.048Z"
   },
   {
    "duration": 10,
    "start_time": "2022-05-17T21:53:04.911Z"
   },
   {
    "duration": 16,
    "start_time": "2022-05-17T21:53:06.082Z"
   },
   {
    "duration": 12,
    "start_time": "2022-05-17T21:53:29.839Z"
   },
   {
    "duration": 15,
    "start_time": "2022-05-17T21:53:30.470Z"
   },
   {
    "duration": 16,
    "start_time": "2022-05-17T21:53:54.346Z"
   },
   {
    "duration": 12,
    "start_time": "2022-05-17T21:54:06.401Z"
   },
   {
    "duration": 13,
    "start_time": "2022-05-17T21:54:14.773Z"
   },
   {
    "duration": 18,
    "start_time": "2022-05-17T21:55:22.795Z"
   },
   {
    "duration": 10,
    "start_time": "2022-05-17T21:56:04.231Z"
   },
   {
    "duration": 13,
    "start_time": "2022-05-17T21:56:07.322Z"
   },
   {
    "duration": 12,
    "start_time": "2022-05-17T21:56:15.082Z"
   },
   {
    "duration": 21,
    "start_time": "2022-05-17T21:56:18.815Z"
   },
   {
    "duration": 9,
    "start_time": "2022-05-17T21:56:19.416Z"
   },
   {
    "duration": 11,
    "start_time": "2022-05-17T21:56:20.867Z"
   },
   {
    "duration": 1181,
    "start_time": "2022-05-17T21:57:32.133Z"
   },
   {
    "duration": 2,
    "start_time": "2022-05-17T21:57:33.316Z"
   },
   {
    "duration": 101,
    "start_time": "2022-05-17T21:57:33.320Z"
   },
   {
    "duration": 75,
    "start_time": "2022-05-17T21:57:33.423Z"
   },
   {
    "duration": 13,
    "start_time": "2022-05-17T21:57:33.500Z"
   },
   {
    "duration": 26,
    "start_time": "2022-05-17T21:57:33.515Z"
   },
   {
    "duration": 9,
    "start_time": "2022-05-17T21:57:33.543Z"
   },
   {
    "duration": 18,
    "start_time": "2022-05-17T21:57:33.554Z"
   },
   {
    "duration": 34,
    "start_time": "2022-05-17T21:57:33.574Z"
   },
   {
    "duration": 9,
    "start_time": "2022-05-17T21:57:33.611Z"
   },
   {
    "duration": 17,
    "start_time": "2022-05-17T21:57:33.622Z"
   },
   {
    "duration": 35,
    "start_time": "2022-05-17T21:57:33.641Z"
   },
   {
    "duration": 16,
    "start_time": "2022-05-17T21:57:33.678Z"
   },
   {
    "duration": 18,
    "start_time": "2022-05-17T21:57:33.695Z"
   },
   {
    "duration": 22,
    "start_time": "2022-05-17T21:57:33.715Z"
   },
   {
    "duration": 25,
    "start_time": "2022-05-17T21:57:33.738Z"
   },
   {
    "duration": 28,
    "start_time": "2022-05-17T21:57:33.765Z"
   },
   {
    "duration": 15,
    "start_time": "2022-05-17T21:57:33.795Z"
   },
   {
    "duration": 27,
    "start_time": "2022-05-17T21:57:33.812Z"
   },
   {
    "duration": 15,
    "start_time": "2022-05-17T21:57:33.840Z"
   },
   {
    "duration": 15,
    "start_time": "2022-05-17T21:57:33.857Z"
   },
   {
    "duration": 31,
    "start_time": "2022-05-17T21:57:33.873Z"
   },
   {
    "duration": 21,
    "start_time": "2022-05-17T21:57:33.906Z"
   },
   {
    "duration": 16,
    "start_time": "2022-05-17T21:57:33.929Z"
   },
   {
    "duration": 16,
    "start_time": "2022-05-17T21:57:33.946Z"
   },
   {
    "duration": 6,
    "start_time": "2022-05-17T21:57:33.963Z"
   },
   {
    "duration": 14,
    "start_time": "2022-05-17T21:57:33.971Z"
   },
   {
    "duration": 18,
    "start_time": "2022-05-17T21:57:33.989Z"
   },
   {
    "duration": 6,
    "start_time": "2022-05-17T21:57:34.009Z"
   },
   {
    "duration": 8,
    "start_time": "2022-05-17T21:57:34.017Z"
   },
   {
    "duration": 6,
    "start_time": "2022-05-17T21:57:34.026Z"
   },
   {
    "duration": 29,
    "start_time": "2022-05-17T21:57:34.033Z"
   },
   {
    "duration": 12,
    "start_time": "2022-05-17T21:57:34.064Z"
   },
   {
    "duration": 13,
    "start_time": "2022-05-17T21:57:34.088Z"
   },
   {
    "duration": 13,
    "start_time": "2022-05-17T21:57:34.102Z"
   },
   {
    "duration": 16,
    "start_time": "2022-05-17T21:57:34.117Z"
   },
   {
    "duration": 7,
    "start_time": "2022-05-17T21:57:34.135Z"
   },
   {
    "duration": 14,
    "start_time": "2022-05-17T21:57:34.144Z"
   },
   {
    "duration": 12,
    "start_time": "2022-05-17T21:57:34.160Z"
   },
   {
    "duration": 21,
    "start_time": "2022-05-17T21:57:34.173Z"
   },
   {
    "duration": 15,
    "start_time": "2022-05-17T21:57:34.195Z"
   },
   {
    "duration": 91,
    "start_time": "2022-05-17T21:57:34.211Z"
   },
   {
    "duration": 7,
    "start_time": "2022-05-17T21:57:34.304Z"
   },
   {
    "duration": 12,
    "start_time": "2022-05-17T21:57:34.313Z"
   },
   {
    "duration": 14,
    "start_time": "2022-05-17T21:57:34.327Z"
   },
   {
    "duration": 6,
    "start_time": "2022-05-17T21:57:34.343Z"
   },
   {
    "duration": 15,
    "start_time": "2022-05-17T21:57:34.350Z"
   },
   {
    "duration": 24,
    "start_time": "2022-05-17T21:57:34.395Z"
   },
   {
    "duration": 17,
    "start_time": "2022-05-17T21:57:34.420Z"
   },
   {
    "duration": 7,
    "start_time": "2022-05-17T21:57:34.439Z"
   },
   {
    "duration": 413,
    "start_time": "2022-05-17T21:57:34.447Z"
   },
   {
    "duration": 17,
    "start_time": "2022-05-17T21:57:34.862Z"
   },
   {
    "duration": 17,
    "start_time": "2022-05-17T21:57:34.881Z"
   },
   {
    "duration": 8,
    "start_time": "2022-05-17T21:57:34.899Z"
   },
   {
    "duration": 18,
    "start_time": "2022-05-17T21:57:34.908Z"
   },
   {
    "duration": 173,
    "start_time": "2022-05-17T21:57:34.928Z"
   },
   {
    "duration": 154,
    "start_time": "2022-05-17T21:57:35.103Z"
   },
   {
    "duration": 150,
    "start_time": "2022-05-17T21:57:35.259Z"
   },
   {
    "duration": 152,
    "start_time": "2022-05-17T21:57:35.410Z"
   },
   {
    "duration": 202,
    "start_time": "2022-05-17T21:57:35.563Z"
   },
   {
    "duration": 5,
    "start_time": "2022-05-17T21:57:35.767Z"
   },
   {
    "duration": 8,
    "start_time": "2022-05-17T21:57:35.773Z"
   },
   {
    "duration": 19,
    "start_time": "2022-05-17T21:57:35.783Z"
   },
   {
    "duration": 31,
    "start_time": "2022-05-17T21:57:35.803Z"
   },
   {
    "duration": 4,
    "start_time": "2022-05-17T21:57:35.838Z"
   },
   {
    "duration": 160,
    "start_time": "2022-05-17T21:57:35.844Z"
   },
   {
    "duration": 13,
    "start_time": "2022-05-17T21:57:36.005Z"
   },
   {
    "duration": 164,
    "start_time": "2022-05-17T21:57:36.020Z"
   },
   {
    "duration": 15,
    "start_time": "2022-05-17T21:57:36.194Z"
   },
   {
    "duration": 235,
    "start_time": "2022-05-17T21:57:36.210Z"
   },
   {
    "duration": 14,
    "start_time": "2022-05-17T21:57:36.447Z"
   },
   {
    "duration": 150,
    "start_time": "2022-05-17T21:57:36.463Z"
   },
   {
    "duration": 12,
    "start_time": "2022-05-17T21:57:36.614Z"
   },
   {
    "duration": 11,
    "start_time": "2022-05-17T21:57:36.627Z"
   },
   {
    "duration": 7,
    "start_time": "2022-05-17T21:57:36.639Z"
   },
   {
    "duration": 8,
    "start_time": "2022-05-17T21:57:36.648Z"
   },
   {
    "duration": 18,
    "start_time": "2022-05-17T21:57:36.657Z"
   },
   {
    "duration": 10,
    "start_time": "2022-05-17T21:57:36.693Z"
   },
   {
    "duration": 10,
    "start_time": "2022-05-17T21:57:36.705Z"
   },
   {
    "duration": 7,
    "start_time": "2022-05-17T21:57:36.717Z"
   },
   {
    "duration": 16,
    "start_time": "2022-05-17T21:57:36.725Z"
   },
   {
    "duration": 80,
    "start_time": "2022-05-17T21:57:36.745Z"
   },
   {
    "duration": 213,
    "start_time": "2022-05-17T21:57:36.827Z"
   },
   {
    "duration": 39048,
    "start_time": "2022-05-17T21:57:37.041Z"
   },
   {
    "duration": 180,
    "start_time": "2022-05-17T21:58:16.091Z"
   },
   {
    "duration": 230,
    "start_time": "2022-05-17T21:58:16.272Z"
   },
   {
    "duration": 303,
    "start_time": "2022-05-17T21:58:16.503Z"
   },
   {
    "duration": 220,
    "start_time": "2022-05-17T21:58:16.808Z"
   },
   {
    "duration": 18,
    "start_time": "2022-05-17T21:58:17.029Z"
   },
   {
    "duration": 9,
    "start_time": "2022-05-17T21:58:17.094Z"
   },
   {
    "duration": 14,
    "start_time": "2022-05-17T21:58:17.104Z"
   },
   {
    "duration": 7,
    "start_time": "2022-05-17T21:58:41.295Z"
   },
   {
    "duration": 5,
    "start_time": "2022-05-17T21:59:09.121Z"
   },
   {
    "duration": 15,
    "start_time": "2022-05-17T22:01:21.186Z"
   },
   {
    "duration": 20,
    "start_time": "2022-05-17T22:02:12.839Z"
   },
   {
    "duration": 17,
    "start_time": "2022-05-17T22:02:41.880Z"
   },
   {
    "duration": 14,
    "start_time": "2022-05-17T22:02:58.252Z"
   },
   {
    "duration": 13,
    "start_time": "2022-05-17T22:03:12.543Z"
   },
   {
    "duration": 107,
    "start_time": "2022-05-17T22:03:35.522Z"
   },
   {
    "duration": 14,
    "start_time": "2022-05-17T22:03:40.712Z"
   },
   {
    "duration": 12,
    "start_time": "2022-05-17T22:03:47.026Z"
   },
   {
    "duration": 13,
    "start_time": "2022-05-17T22:04:15.745Z"
   },
   {
    "duration": 13,
    "start_time": "2022-05-17T22:04:55.316Z"
   },
   {
    "duration": 13,
    "start_time": "2022-05-17T22:05:05.838Z"
   },
   {
    "duration": 16,
    "start_time": "2022-05-17T22:06:41.378Z"
   },
   {
    "duration": 16,
    "start_time": "2022-05-17T22:06:50.393Z"
   },
   {
    "duration": 17,
    "start_time": "2022-05-17T22:07:14.666Z"
   },
   {
    "duration": 10,
    "start_time": "2022-05-17T22:09:39.959Z"
   },
   {
    "duration": 13,
    "start_time": "2022-05-17T22:09:49.353Z"
   },
   {
    "duration": 50,
    "start_time": "2022-05-17T22:10:38.511Z"
   },
   {
    "duration": 12,
    "start_time": "2022-05-17T22:11:40.070Z"
   },
   {
    "duration": 13,
    "start_time": "2022-05-17T22:11:51.102Z"
   },
   {
    "duration": 17,
    "start_time": "2022-05-17T22:12:34.265Z"
   },
   {
    "duration": 16,
    "start_time": "2022-05-17T22:12:43.144Z"
   },
   {
    "duration": 621,
    "start_time": "2022-05-17T22:14:04.293Z"
   },
   {
    "duration": 18,
    "start_time": "2022-05-17T22:16:51.723Z"
   },
   {
    "duration": 15,
    "start_time": "2022-05-17T22:17:18.193Z"
   },
   {
    "duration": 18,
    "start_time": "2022-05-17T22:21:11.390Z"
   },
   {
    "duration": 15,
    "start_time": "2022-05-17T22:21:21.853Z"
   },
   {
    "duration": 10,
    "start_time": "2022-05-17T22:21:28.352Z"
   },
   {
    "duration": 327,
    "start_time": "2022-05-17T22:21:29.341Z"
   },
   {
    "duration": 1747,
    "start_time": "2022-05-17T22:21:58.057Z"
   },
   {
    "duration": 826,
    "start_time": "2022-05-17T22:22:38.899Z"
   },
   {
    "duration": 21,
    "start_time": "2022-05-17T22:23:05.480Z"
   },
   {
    "duration": 17,
    "start_time": "2022-05-17T22:24:20.671Z"
   },
   {
    "duration": 16,
    "start_time": "2022-05-17T22:24:22.498Z"
   },
   {
    "duration": 14,
    "start_time": "2022-05-17T22:24:38.149Z"
   },
   {
    "duration": 18,
    "start_time": "2022-05-17T22:25:05.604Z"
   },
   {
    "duration": 14,
    "start_time": "2022-05-17T22:25:24.658Z"
   },
   {
    "duration": 18,
    "start_time": "2022-05-17T22:25:28.401Z"
   },
   {
    "duration": 247,
    "start_time": "2022-05-17T22:26:07.322Z"
   },
   {
    "duration": 28,
    "start_time": "2022-05-17T22:26:09.388Z"
   },
   {
    "duration": 19,
    "start_time": "2022-05-17T22:26:10.344Z"
   },
   {
    "duration": 21,
    "start_time": "2022-05-17T22:26:11.395Z"
   },
   {
    "duration": 13,
    "start_time": "2022-05-17T22:26:12.447Z"
   },
   {
    "duration": 15,
    "start_time": "2022-05-17T22:27:37.862Z"
   },
   {
    "duration": 14,
    "start_time": "2022-05-17T22:27:39.029Z"
   },
   {
    "duration": 10,
    "start_time": "2022-05-17T22:28:17.976Z"
   },
   {
    "duration": 11,
    "start_time": "2022-05-17T22:28:50.512Z"
   },
   {
    "duration": 11,
    "start_time": "2022-05-17T22:28:52.817Z"
   },
   {
    "duration": 10,
    "start_time": "2022-05-17T22:31:23.050Z"
   },
   {
    "duration": 10,
    "start_time": "2022-05-17T22:31:31.272Z"
   },
   {
    "duration": 4,
    "start_time": "2022-05-17T22:36:20.775Z"
   },
   {
    "duration": 12,
    "start_time": "2022-05-17T22:36:48.801Z"
   },
   {
    "duration": 12,
    "start_time": "2022-05-17T22:36:59.241Z"
   },
   {
    "duration": 5,
    "start_time": "2022-05-17T22:37:01.341Z"
   },
   {
    "duration": 5,
    "start_time": "2022-05-17T22:37:18.959Z"
   },
   {
    "duration": 18,
    "start_time": "2022-05-17T22:37:37.851Z"
   },
   {
    "duration": 8,
    "start_time": "2022-05-17T22:39:42.318Z"
   },
   {
    "duration": 14,
    "start_time": "2022-05-17T22:42:04.216Z"
   },
   {
    "duration": 3,
    "start_time": "2022-05-17T22:42:06.849Z"
   },
   {
    "duration": 203,
    "start_time": "2022-05-17T22:42:07.617Z"
   },
   {
    "duration": 11,
    "start_time": "2022-05-17T22:42:09.187Z"
   },
   {
    "duration": 11,
    "start_time": "2022-05-17T22:43:12.563Z"
   },
   {
    "duration": 70,
    "start_time": "2022-05-18T11:03:35.423Z"
   },
   {
    "duration": 7,
    "start_time": "2022-05-18T11:03:40.373Z"
   },
   {
    "duration": 7,
    "start_time": "2022-05-18T11:03:42.209Z"
   },
   {
    "duration": 1378,
    "start_time": "2022-05-18T11:03:54.184Z"
   },
   {
    "duration": 3,
    "start_time": "2022-05-18T11:03:55.564Z"
   },
   {
    "duration": 328,
    "start_time": "2022-05-18T11:03:55.569Z"
   },
   {
    "duration": 69,
    "start_time": "2022-05-18T11:03:55.899Z"
   },
   {
    "duration": 26,
    "start_time": "2022-05-18T11:03:55.970Z"
   },
   {
    "duration": 22,
    "start_time": "2022-05-18T11:03:55.998Z"
   },
   {
    "duration": 9,
    "start_time": "2022-05-18T11:03:56.022Z"
   },
   {
    "duration": 10,
    "start_time": "2022-05-18T11:03:56.032Z"
   },
   {
    "duration": 14,
    "start_time": "2022-05-18T11:03:56.043Z"
   },
   {
    "duration": 37,
    "start_time": "2022-05-18T11:03:56.059Z"
   },
   {
    "duration": 5,
    "start_time": "2022-05-18T11:03:56.097Z"
   },
   {
    "duration": 18,
    "start_time": "2022-05-18T11:03:56.103Z"
   },
   {
    "duration": 8,
    "start_time": "2022-05-18T11:03:56.122Z"
   },
   {
    "duration": 9,
    "start_time": "2022-05-18T11:03:56.131Z"
   },
   {
    "duration": 18,
    "start_time": "2022-05-18T11:03:56.141Z"
   },
   {
    "duration": 40,
    "start_time": "2022-05-18T11:03:56.160Z"
   },
   {
    "duration": 13,
    "start_time": "2022-05-18T11:03:56.202Z"
   },
   {
    "duration": 16,
    "start_time": "2022-05-18T11:03:56.217Z"
   },
   {
    "duration": 14,
    "start_time": "2022-05-18T11:03:56.235Z"
   },
   {
    "duration": 7,
    "start_time": "2022-05-18T11:03:56.250Z"
   },
   {
    "duration": 8,
    "start_time": "2022-05-18T11:03:56.259Z"
   },
   {
    "duration": 26,
    "start_time": "2022-05-18T11:03:56.268Z"
   },
   {
    "duration": 7,
    "start_time": "2022-05-18T11:03:56.296Z"
   },
   {
    "duration": 19,
    "start_time": "2022-05-18T11:03:56.304Z"
   },
   {
    "duration": 7,
    "start_time": "2022-05-18T11:03:56.325Z"
   },
   {
    "duration": 6,
    "start_time": "2022-05-18T11:03:56.333Z"
   },
   {
    "duration": 7,
    "start_time": "2022-05-18T11:03:56.341Z"
   },
   {
    "duration": 13,
    "start_time": "2022-05-18T11:03:56.352Z"
   },
   {
    "duration": 29,
    "start_time": "2022-05-18T11:03:56.367Z"
   },
   {
    "duration": 7,
    "start_time": "2022-05-18T11:03:56.397Z"
   },
   {
    "duration": 7,
    "start_time": "2022-05-18T11:03:56.405Z"
   },
   {
    "duration": 15,
    "start_time": "2022-05-18T11:03:56.413Z"
   },
   {
    "duration": 9,
    "start_time": "2022-05-18T11:03:56.430Z"
   },
   {
    "duration": 6,
    "start_time": "2022-05-18T11:03:56.441Z"
   },
   {
    "duration": 14,
    "start_time": "2022-05-18T11:03:56.448Z"
   },
   {
    "duration": 50,
    "start_time": "2022-05-18T11:03:56.464Z"
   },
   {
    "duration": 8,
    "start_time": "2022-05-18T11:03:56.517Z"
   },
   {
    "duration": 17,
    "start_time": "2022-05-18T11:03:56.527Z"
   },
   {
    "duration": 16,
    "start_time": "2022-05-18T11:03:56.545Z"
   },
   {
    "duration": 4,
    "start_time": "2022-05-18T11:03:56.562Z"
   },
   {
    "duration": 32,
    "start_time": "2022-05-18T11:03:56.568Z"
   },
   {
    "duration": 84,
    "start_time": "2022-05-18T11:03:56.602Z"
   },
   {
    "duration": 12,
    "start_time": "2022-05-18T11:03:56.687Z"
   },
   {
    "duration": 9,
    "start_time": "2022-05-18T11:03:56.700Z"
   },
   {
    "duration": 16,
    "start_time": "2022-05-18T11:03:56.711Z"
   },
   {
    "duration": 8,
    "start_time": "2022-05-18T11:03:56.729Z"
   },
   {
    "duration": 17,
    "start_time": "2022-05-18T11:03:56.738Z"
   },
   {
    "duration": 52,
    "start_time": "2022-05-18T11:03:56.757Z"
   },
   {
    "duration": 17,
    "start_time": "2022-05-18T11:03:56.811Z"
   },
   {
    "duration": 3,
    "start_time": "2022-05-18T11:03:56.830Z"
   },
   {
    "duration": 418,
    "start_time": "2022-05-18T11:03:56.834Z"
   },
   {
    "duration": 21,
    "start_time": "2022-05-18T11:03:57.254Z"
   },
   {
    "duration": 21,
    "start_time": "2022-05-18T11:03:57.276Z"
   },
   {
    "duration": 10,
    "start_time": "2022-05-18T11:03:57.299Z"
   },
   {
    "duration": 29,
    "start_time": "2022-05-18T11:03:57.311Z"
   },
   {
    "duration": 182,
    "start_time": "2022-05-18T11:03:57.342Z"
   },
   {
    "duration": 149,
    "start_time": "2022-05-18T11:03:57.525Z"
   },
   {
    "duration": 155,
    "start_time": "2022-05-18T11:03:57.676Z"
   },
   {
    "duration": 156,
    "start_time": "2022-05-18T11:03:57.832Z"
   },
   {
    "duration": 200,
    "start_time": "2022-05-18T11:03:57.994Z"
   },
   {
    "duration": 5,
    "start_time": "2022-05-18T11:03:58.196Z"
   },
   {
    "duration": 5,
    "start_time": "2022-05-18T11:03:58.202Z"
   },
   {
    "duration": 13,
    "start_time": "2022-05-18T11:03:58.209Z"
   },
   {
    "duration": 32,
    "start_time": "2022-05-18T11:03:58.223Z"
   },
   {
    "duration": 4,
    "start_time": "2022-05-18T11:03:58.256Z"
   },
   {
    "duration": 169,
    "start_time": "2022-05-18T11:03:58.262Z"
   },
   {
    "duration": 12,
    "start_time": "2022-05-18T11:03:58.433Z"
   },
   {
    "duration": 140,
    "start_time": "2022-05-18T11:03:58.447Z"
   },
   {
    "duration": 12,
    "start_time": "2022-05-18T11:03:58.594Z"
   },
   {
    "duration": 210,
    "start_time": "2022-05-18T11:03:58.608Z"
   },
   {
    "duration": 11,
    "start_time": "2022-05-18T11:03:58.819Z"
   },
   {
    "duration": 144,
    "start_time": "2022-05-18T11:03:58.832Z"
   },
   {
    "duration": 22,
    "start_time": "2022-05-18T11:03:58.977Z"
   },
   {
    "duration": 11,
    "start_time": "2022-05-18T11:03:59.001Z"
   },
   {
    "duration": 8,
    "start_time": "2022-05-18T11:03:59.013Z"
   },
   {
    "duration": 6,
    "start_time": "2022-05-18T11:03:59.023Z"
   },
   {
    "duration": 10,
    "start_time": "2022-05-18T11:03:59.030Z"
   },
   {
    "duration": 9,
    "start_time": "2022-05-18T11:03:59.041Z"
   },
   {
    "duration": 9,
    "start_time": "2022-05-18T11:03:59.051Z"
   },
   {
    "duration": 7,
    "start_time": "2022-05-18T11:03:59.095Z"
   },
   {
    "duration": 24,
    "start_time": "2022-05-18T11:03:59.103Z"
   },
   {
    "duration": 51,
    "start_time": "2022-05-18T11:03:59.132Z"
   },
   {
    "duration": 237,
    "start_time": "2022-05-18T11:03:59.184Z"
   },
   {
    "duration": 41610,
    "start_time": "2022-05-18T11:03:59.423Z"
   },
   {
    "duration": 179,
    "start_time": "2022-05-18T11:04:41.034Z"
   },
   {
    "duration": 239,
    "start_time": "2022-05-18T11:04:41.214Z"
   },
   {
    "duration": 300,
    "start_time": "2022-05-18T11:04:41.454Z"
   },
   {
    "duration": 226,
    "start_time": "2022-05-18T11:04:41.755Z"
   },
   {
    "duration": 121,
    "start_time": "2022-05-18T11:04:41.982Z"
   },
   {
    "duration": 0,
    "start_time": "2022-05-18T11:04:42.104Z"
   },
   {
    "duration": 0,
    "start_time": "2022-05-18T11:04:42.105Z"
   },
   {
    "duration": 0,
    "start_time": "2022-05-18T11:04:42.105Z"
   },
   {
    "duration": 0,
    "start_time": "2022-05-18T11:04:42.107Z"
   },
   {
    "duration": 0,
    "start_time": "2022-05-18T11:04:42.108Z"
   },
   {
    "duration": 0,
    "start_time": "2022-05-18T11:04:42.109Z"
   },
   {
    "duration": 0,
    "start_time": "2022-05-18T11:04:42.110Z"
   },
   {
    "duration": 0,
    "start_time": "2022-05-18T11:04:42.110Z"
   },
   {
    "duration": 0,
    "start_time": "2022-05-18T11:04:42.111Z"
   },
   {
    "duration": 16,
    "start_time": "2022-05-18T11:05:09.188Z"
   },
   {
    "duration": 22,
    "start_time": "2022-05-18T11:05:13.856Z"
   },
   {
    "duration": 5,
    "start_time": "2022-05-18T11:05:15.186Z"
   },
   {
    "duration": 229,
    "start_time": "2022-05-18T11:05:22.646Z"
   },
   {
    "duration": 16,
    "start_time": "2022-05-18T11:05:25.165Z"
   },
   {
    "duration": 4,
    "start_time": "2022-05-18T11:05:49.134Z"
   },
   {
    "duration": 9,
    "start_time": "2022-05-18T11:05:50.008Z"
   },
   {
    "duration": 15,
    "start_time": "2022-05-18T11:05:51.047Z"
   },
   {
    "duration": 17,
    "start_time": "2022-05-18T11:06:01.493Z"
   },
   {
    "duration": 16,
    "start_time": "2022-05-18T11:06:11.310Z"
   },
   {
    "duration": 221,
    "start_time": "2022-05-18T11:06:17.478Z"
   },
   {
    "duration": 16,
    "start_time": "2022-05-18T11:06:41.914Z"
   },
   {
    "duration": 11,
    "start_time": "2022-05-18T11:06:50.556Z"
   },
   {
    "duration": 19,
    "start_time": "2022-05-18T11:07:00.074Z"
   },
   {
    "duration": 4,
    "start_time": "2022-05-18T11:07:11.050Z"
   },
   {
    "duration": 8,
    "start_time": "2022-05-18T11:07:12.261Z"
   },
   {
    "duration": 12,
    "start_time": "2022-05-18T11:07:13.349Z"
   },
   {
    "duration": 3,
    "start_time": "2022-05-18T11:07:18.949Z"
   },
   {
    "duration": 231,
    "start_time": "2022-05-18T11:07:19.652Z"
   },
   {
    "duration": 11,
    "start_time": "2022-05-18T11:07:20.351Z"
   },
   {
    "duration": 10,
    "start_time": "2022-05-18T11:07:24.968Z"
   },
   {
    "duration": 10,
    "start_time": "2022-05-18T11:07:28.060Z"
   },
   {
    "duration": 11,
    "start_time": "2022-05-18T11:46:17.043Z"
   },
   {
    "duration": 251,
    "start_time": "2022-05-18T11:46:33.007Z"
   },
   {
    "duration": 174,
    "start_time": "2022-05-18T11:48:09.686Z"
   },
   {
    "duration": 11,
    "start_time": "2022-05-18T11:48:29.009Z"
   },
   {
    "duration": 134,
    "start_time": "2022-05-18T11:48:29.808Z"
   },
   {
    "duration": 44,
    "start_time": "2022-05-18T11:48:44.512Z"
   },
   {
    "duration": 254,
    "start_time": "2022-05-18T11:48:50.918Z"
   },
   {
    "duration": 164,
    "start_time": "2022-05-18T11:49:53.066Z"
   },
   {
    "duration": 131,
    "start_time": "2022-05-18T11:50:37.060Z"
   },
   {
    "duration": 24,
    "start_time": "2022-05-18T11:52:51.626Z"
   },
   {
    "duration": 152,
    "start_time": "2022-05-18T11:52:56.616Z"
   },
   {
    "duration": 144,
    "start_time": "2022-05-18T11:53:05.930Z"
   },
   {
    "duration": 10,
    "start_time": "2022-05-18T11:53:26.336Z"
   },
   {
    "duration": 11,
    "start_time": "2022-05-18T11:53:28.896Z"
   },
   {
    "duration": 10,
    "start_time": "2022-05-18T11:53:29.785Z"
   },
   {
    "duration": 153,
    "start_time": "2022-05-18T11:53:30.331Z"
   },
   {
    "duration": 12,
    "start_time": "2022-05-18T11:57:06.361Z"
   },
   {
    "duration": 146,
    "start_time": "2022-05-18T11:57:22.891Z"
   },
   {
    "duration": 154,
    "start_time": "2022-05-18T11:57:43.006Z"
   },
   {
    "duration": 225,
    "start_time": "2022-05-18T12:00:05.077Z"
   },
   {
    "duration": 14,
    "start_time": "2022-05-18T12:02:04.806Z"
   },
   {
    "duration": 17,
    "start_time": "2022-05-18T12:02:20.887Z"
   },
   {
    "duration": 8,
    "start_time": "2022-05-18T12:09:17.637Z"
   },
   {
    "duration": 7,
    "start_time": "2022-05-18T12:11:17.705Z"
   },
   {
    "duration": 6,
    "start_time": "2022-05-18T12:13:42.752Z"
   },
   {
    "duration": 8,
    "start_time": "2022-05-18T12:14:56.745Z"
   },
   {
    "duration": 15,
    "start_time": "2022-05-18T12:15:13.278Z"
   },
   {
    "duration": 13,
    "start_time": "2022-05-18T12:15:25.488Z"
   },
   {
    "duration": 64,
    "start_time": "2022-05-18T12:15:35.017Z"
   },
   {
    "duration": 42,
    "start_time": "2022-05-18T12:23:31.050Z"
   },
   {
    "duration": 9,
    "start_time": "2022-05-18T12:23:39.426Z"
   },
   {
    "duration": 14,
    "start_time": "2022-05-18T12:24:24.611Z"
   },
   {
    "duration": 16,
    "start_time": "2022-05-18T12:24:36.134Z"
   },
   {
    "duration": 622,
    "start_time": "2022-05-18T12:32:05.195Z"
   },
   {
    "duration": 734,
    "start_time": "2022-05-18T12:32:32.339Z"
   },
   {
    "duration": 7,
    "start_time": "2022-05-18T12:33:17.070Z"
   },
   {
    "duration": 698,
    "start_time": "2022-05-18T12:34:03.653Z"
   },
   {
    "duration": 12,
    "start_time": "2022-05-18T12:36:26.881Z"
   },
   {
    "duration": 26,
    "start_time": "2022-05-18T12:36:58.130Z"
   },
   {
    "duration": 4508,
    "start_time": "2022-05-18T12:40:05.532Z"
   },
   {
    "duration": 0,
    "start_time": "2022-05-18T12:40:10.042Z"
   },
   {
    "duration": 6,
    "start_time": "2022-05-18T12:40:33.185Z"
   },
   {
    "duration": 14,
    "start_time": "2022-05-18T12:40:34.043Z"
   },
   {
    "duration": 1768,
    "start_time": "2022-05-19T08:51:30.036Z"
   },
   {
    "duration": 4,
    "start_time": "2022-05-19T08:51:31.806Z"
   },
   {
    "duration": 195,
    "start_time": "2022-05-19T08:51:31.812Z"
   },
   {
    "duration": 88,
    "start_time": "2022-05-19T08:51:32.010Z"
   },
   {
    "duration": 15,
    "start_time": "2022-05-19T08:51:32.099Z"
   },
   {
    "duration": 27,
    "start_time": "2022-05-19T08:51:32.116Z"
   },
   {
    "duration": 37,
    "start_time": "2022-05-19T08:51:32.145Z"
   },
   {
    "duration": 14,
    "start_time": "2022-05-19T08:51:32.184Z"
   },
   {
    "duration": 16,
    "start_time": "2022-05-19T08:51:32.199Z"
   },
   {
    "duration": 6,
    "start_time": "2022-05-19T08:51:32.217Z"
   },
   {
    "duration": 9,
    "start_time": "2022-05-19T08:51:32.225Z"
   },
   {
    "duration": 24,
    "start_time": "2022-05-19T08:51:32.268Z"
   },
   {
    "duration": 6,
    "start_time": "2022-05-19T08:51:32.329Z"
   },
   {
    "duration": 7,
    "start_time": "2022-05-19T08:51:32.412Z"
   },
   {
    "duration": 14,
    "start_time": "2022-05-19T08:51:32.498Z"
   },
   {
    "duration": 14,
    "start_time": "2022-05-19T08:51:32.589Z"
   },
   {
    "duration": 7,
    "start_time": "2022-05-19T08:51:32.838Z"
   },
   {
    "duration": 8,
    "start_time": "2022-05-19T08:51:32.924Z"
   },
   {
    "duration": 8,
    "start_time": "2022-05-19T08:51:33.001Z"
   },
   {
    "duration": 6,
    "start_time": "2022-05-19T08:51:33.082Z"
   },
   {
    "duration": 5,
    "start_time": "2022-05-19T08:51:33.182Z"
   },
   {
    "duration": 20,
    "start_time": "2022-05-19T08:51:33.258Z"
   },
   {
    "duration": 7,
    "start_time": "2022-05-19T08:51:33.349Z"
   },
   {
    "duration": 16,
    "start_time": "2022-05-19T08:51:33.422Z"
   },
   {
    "duration": 5,
    "start_time": "2022-05-19T08:51:33.501Z"
   },
   {
    "duration": 5,
    "start_time": "2022-05-19T08:51:33.583Z"
   },
   {
    "duration": 7,
    "start_time": "2022-05-19T08:51:33.683Z"
   },
   {
    "duration": 22,
    "start_time": "2022-05-19T08:51:33.751Z"
   },
   {
    "duration": 5,
    "start_time": "2022-05-19T08:51:33.831Z"
   },
   {
    "duration": 6,
    "start_time": "2022-05-19T08:51:33.917Z"
   },
   {
    "duration": 7,
    "start_time": "2022-05-19T08:51:34.013Z"
   },
   {
    "duration": 14,
    "start_time": "2022-05-19T08:51:34.089Z"
   },
   {
    "duration": 5,
    "start_time": "2022-05-19T08:51:34.180Z"
   },
   {
    "duration": 5,
    "start_time": "2022-05-19T08:51:34.252Z"
   },
   {
    "duration": 9,
    "start_time": "2022-05-19T08:51:34.333Z"
   },
   {
    "duration": 17,
    "start_time": "2022-05-19T08:51:34.417Z"
   },
   {
    "duration": 8,
    "start_time": "2022-05-19T08:51:34.499Z"
   },
   {
    "duration": 38,
    "start_time": "2022-05-19T08:51:34.586Z"
   },
   {
    "duration": 16,
    "start_time": "2022-05-19T08:51:34.676Z"
   },
   {
    "duration": 6,
    "start_time": "2022-05-19T08:51:34.753Z"
   },
   {
    "duration": 20,
    "start_time": "2022-05-19T08:51:34.836Z"
   },
   {
    "duration": 115,
    "start_time": "2022-05-19T08:51:35.083Z"
   },
   {
    "duration": 7,
    "start_time": "2022-05-19T08:51:35.201Z"
   },
   {
    "duration": 23,
    "start_time": "2022-05-19T08:51:35.210Z"
   },
   {
    "duration": 30,
    "start_time": "2022-05-19T08:51:35.259Z"
   },
   {
    "duration": 7,
    "start_time": "2022-05-19T08:51:35.585Z"
   },
   {
    "duration": 24,
    "start_time": "2022-05-19T08:51:35.683Z"
   },
   {
    "duration": 36,
    "start_time": "2022-05-19T08:51:35.760Z"
   },
   {
    "duration": 27,
    "start_time": "2022-05-19T08:51:35.921Z"
   },
   {
    "duration": 3,
    "start_time": "2022-05-19T08:51:36.006Z"
   },
   {
    "duration": 514,
    "start_time": "2022-05-19T08:51:36.090Z"
   },
   {
    "duration": 26,
    "start_time": "2022-05-19T08:51:36.606Z"
   },
   {
    "duration": 28,
    "start_time": "2022-05-19T08:51:36.636Z"
   },
   {
    "duration": 7,
    "start_time": "2022-05-19T08:51:36.668Z"
   },
   {
    "duration": 44,
    "start_time": "2022-05-19T08:51:36.678Z"
   },
   {
    "duration": 219,
    "start_time": "2022-05-19T08:51:36.762Z"
   },
   {
    "duration": 175,
    "start_time": "2022-05-19T08:51:36.984Z"
   },
   {
    "duration": 162,
    "start_time": "2022-05-19T08:51:37.164Z"
   },
   {
    "duration": 220,
    "start_time": "2022-05-19T08:51:37.328Z"
   },
   {
    "duration": 236,
    "start_time": "2022-05-19T08:51:37.550Z"
   },
   {
    "duration": 6,
    "start_time": "2022-05-19T08:51:37.788Z"
   },
   {
    "duration": 14,
    "start_time": "2022-05-19T08:51:37.796Z"
   },
   {
    "duration": 13,
    "start_time": "2022-05-19T08:51:37.812Z"
   },
   {
    "duration": 36,
    "start_time": "2022-05-19T08:51:37.868Z"
   },
   {
    "duration": 4,
    "start_time": "2022-05-19T08:51:37.929Z"
   },
   {
    "duration": 171,
    "start_time": "2022-05-19T08:51:39.231Z"
   },
   {
    "duration": 13,
    "start_time": "2022-05-19T08:51:39.404Z"
   },
   {
    "duration": 182,
    "start_time": "2022-05-19T08:51:39.418Z"
   },
   {
    "duration": 13,
    "start_time": "2022-05-19T08:51:39.602Z"
   },
   {
    "duration": 175,
    "start_time": "2022-05-19T08:51:39.616Z"
   },
   {
    "duration": 12,
    "start_time": "2022-05-19T08:51:39.793Z"
   },
   {
    "duration": 273,
    "start_time": "2022-05-19T08:51:39.807Z"
   },
   {
    "duration": 12,
    "start_time": "2022-05-19T08:51:40.082Z"
   },
   {
    "duration": 12,
    "start_time": "2022-05-19T08:51:40.096Z"
   },
   {
    "duration": 9,
    "start_time": "2022-05-19T08:51:40.110Z"
   },
   {
    "duration": 10,
    "start_time": "2022-05-19T08:51:40.233Z"
   },
   {
    "duration": 12,
    "start_time": "2022-05-19T08:51:40.399Z"
   },
   {
    "duration": 13,
    "start_time": "2022-05-19T08:51:40.579Z"
   },
   {
    "duration": 12,
    "start_time": "2022-05-19T08:51:40.734Z"
   },
   {
    "duration": 8,
    "start_time": "2022-05-19T08:51:40.902Z"
   },
   {
    "duration": 20,
    "start_time": "2022-05-19T08:51:41.078Z"
   },
   {
    "duration": 58,
    "start_time": "2022-05-19T08:51:41.176Z"
   },
   {
    "duration": 265,
    "start_time": "2022-05-19T08:51:41.332Z"
   },
   {
    "duration": 48571,
    "start_time": "2022-05-19T08:51:41.599Z"
   },
   {
    "duration": 240,
    "start_time": "2022-05-19T08:52:30.173Z"
   },
   {
    "duration": 304,
    "start_time": "2022-05-19T08:52:30.416Z"
   },
   {
    "duration": 370,
    "start_time": "2022-05-19T08:52:30.722Z"
   },
   {
    "duration": 273,
    "start_time": "2022-05-19T08:52:31.094Z"
   },
   {
    "duration": 19,
    "start_time": "2022-05-19T08:52:31.371Z"
   },
   {
    "duration": 57,
    "start_time": "2022-05-19T08:52:31.392Z"
   },
   {
    "duration": 12,
    "start_time": "2022-05-19T08:52:31.451Z"
   },
   {
    "duration": 40,
    "start_time": "2022-05-19T08:52:31.466Z"
   },
   {
    "duration": 19,
    "start_time": "2022-05-19T08:52:31.508Z"
   },
   {
    "duration": 19,
    "start_time": "2022-05-19T08:52:31.529Z"
   },
   {
    "duration": 287,
    "start_time": "2022-05-19T08:52:31.550Z"
   },
   {
    "duration": 56,
    "start_time": "2022-05-20T20:12:05.544Z"
   },
   {
    "duration": 7,
    "start_time": "2022-05-20T20:12:13.448Z"
   },
   {
    "duration": 1361,
    "start_time": "2022-05-20T20:12:23.096Z"
   },
   {
    "duration": 3,
    "start_time": "2022-05-20T20:12:24.459Z"
   },
   {
    "duration": 321,
    "start_time": "2022-05-20T20:12:24.463Z"
   },
   {
    "duration": 69,
    "start_time": "2022-05-20T20:12:24.786Z"
   },
   {
    "duration": 14,
    "start_time": "2022-05-20T20:12:24.856Z"
   },
   {
    "duration": 24,
    "start_time": "2022-05-20T20:12:24.871Z"
   },
   {
    "duration": 9,
    "start_time": "2022-05-20T20:12:24.957Z"
   },
   {
    "duration": 12,
    "start_time": "2022-05-20T20:12:25.131Z"
   },
   {
    "duration": 16,
    "start_time": "2022-05-20T20:12:27.563Z"
   },
   {
    "duration": 4,
    "start_time": "2022-05-20T20:12:28.457Z"
   },
   {
    "duration": 4,
    "start_time": "2022-05-20T20:12:29.034Z"
   },
   {
    "duration": 15,
    "start_time": "2022-05-20T20:12:29.450Z"
   },
   {
    "duration": 5,
    "start_time": "2022-05-20T20:12:29.654Z"
   },
   {
    "duration": 7,
    "start_time": "2022-05-20T20:12:29.833Z"
   },
   {
    "duration": 15,
    "start_time": "2022-05-20T20:12:30.005Z"
   },
   {
    "duration": 12,
    "start_time": "2022-05-20T20:12:30.188Z"
   },
   {
    "duration": 8,
    "start_time": "2022-05-20T20:12:30.867Z"
   },
   {
    "duration": 6,
    "start_time": "2022-05-20T20:12:31.015Z"
   },
   {
    "duration": 9,
    "start_time": "2022-05-20T20:12:31.380Z"
   },
   {
    "duration": 5,
    "start_time": "2022-05-20T20:12:31.549Z"
   },
   {
    "duration": 6,
    "start_time": "2022-05-20T20:12:31.743Z"
   },
   {
    "duration": 12,
    "start_time": "2022-05-20T20:12:31.925Z"
   },
   {
    "duration": 6,
    "start_time": "2022-05-20T20:12:32.111Z"
   },
   {
    "duration": 15,
    "start_time": "2022-05-20T20:12:32.256Z"
   },
   {
    "duration": 4,
    "start_time": "2022-05-20T20:12:32.456Z"
   },
   {
    "duration": 8,
    "start_time": "2022-05-20T20:12:32.614Z"
   },
   {
    "duration": 5,
    "start_time": "2022-05-20T20:12:32.787Z"
   },
   {
    "duration": 14,
    "start_time": "2022-05-20T20:12:32.969Z"
   },
   {
    "duration": 5,
    "start_time": "2022-05-20T20:12:33.133Z"
   },
   {
    "duration": 6,
    "start_time": "2022-05-20T20:12:33.328Z"
   },
   {
    "duration": 6,
    "start_time": "2022-05-20T20:12:33.496Z"
   },
   {
    "duration": 14,
    "start_time": "2022-05-20T20:12:33.857Z"
   },
   {
    "duration": 5,
    "start_time": "2022-05-20T20:12:34.028Z"
   },
   {
    "duration": 6,
    "start_time": "2022-05-20T20:12:34.218Z"
   },
   {
    "duration": 8,
    "start_time": "2022-05-20T20:12:34.402Z"
   },
   {
    "duration": 15,
    "start_time": "2022-05-20T20:12:34.580Z"
   },
   {
    "duration": 6,
    "start_time": "2022-05-20T20:12:34.780Z"
   },
   {
    "duration": 15,
    "start_time": "2022-05-20T20:12:34.980Z"
   },
   {
    "duration": 12,
    "start_time": "2022-05-20T20:12:35.142Z"
   },
   {
    "duration": 4,
    "start_time": "2022-05-20T20:12:35.356Z"
   },
   {
    "duration": 15,
    "start_time": "2022-05-20T20:12:35.518Z"
   },
   {
    "duration": 76,
    "start_time": "2022-05-20T20:12:35.889Z"
   },
   {
    "duration": 6,
    "start_time": "2022-05-20T20:12:36.074Z"
   },
   {
    "duration": 8,
    "start_time": "2022-05-20T20:12:36.265Z"
   },
   {
    "duration": 14,
    "start_time": "2022-05-20T20:12:36.435Z"
   },
   {
    "duration": 5,
    "start_time": "2022-05-20T20:12:37.376Z"
   },
   {
    "duration": 14,
    "start_time": "2022-05-20T20:12:37.546Z"
   },
   {
    "duration": 23,
    "start_time": "2022-05-20T20:12:37.890Z"
   },
   {
    "duration": 16,
    "start_time": "2022-05-20T20:12:38.282Z"
   },
   {
    "duration": 3,
    "start_time": "2022-05-20T20:12:38.484Z"
   },
   {
    "duration": 404,
    "start_time": "2022-05-20T20:12:38.675Z"
   },
   {
    "duration": 16,
    "start_time": "2022-05-20T20:12:39.081Z"
   },
   {
    "duration": 7,
    "start_time": "2022-05-20T20:12:39.254Z"
   },
   {
    "duration": 6,
    "start_time": "2022-05-20T20:12:39.466Z"
   },
   {
    "duration": 21,
    "start_time": "2022-05-20T20:12:39.873Z"
   },
   {
    "duration": 163,
    "start_time": "2022-05-20T20:12:40.664Z"
   },
   {
    "duration": 163,
    "start_time": "2022-05-20T20:12:41.056Z"
   },
   {
    "duration": 141,
    "start_time": "2022-05-20T20:12:41.257Z"
   },
   {
    "duration": 155,
    "start_time": "2022-05-20T20:12:41.689Z"
   },
   {
    "duration": 204,
    "start_time": "2022-05-20T20:12:42.594Z"
   },
   {
    "duration": 5,
    "start_time": "2022-05-20T20:12:42.819Z"
   },
   {
    "duration": 6,
    "start_time": "2022-05-20T20:12:43.247Z"
   },
   {
    "duration": 10,
    "start_time": "2022-05-20T20:12:43.460Z"
   },
   {
    "duration": 31,
    "start_time": "2022-05-20T20:12:44.481Z"
   },
   {
    "duration": 5,
    "start_time": "2022-05-20T20:12:44.712Z"
   },
   {
    "duration": 149,
    "start_time": "2022-05-20T20:12:58.596Z"
   },
   {
    "duration": 12,
    "start_time": "2022-05-20T20:12:59.036Z"
   },
   {
    "duration": 127,
    "start_time": "2022-05-20T20:12:59.273Z"
   },
   {
    "duration": 13,
    "start_time": "2022-05-20T20:12:59.516Z"
   },
   {
    "duration": 136,
    "start_time": "2022-05-20T20:12:59.733Z"
   },
   {
    "duration": 12,
    "start_time": "2022-05-20T20:12:59.969Z"
   },
   {
    "duration": 228,
    "start_time": "2022-05-20T20:13:00.199Z"
   },
   {
    "duration": 18,
    "start_time": "2022-05-20T20:13:00.428Z"
   },
   {
    "duration": 12,
    "start_time": "2022-05-20T20:13:00.615Z"
   },
   {
    "duration": 10,
    "start_time": "2022-05-20T20:13:01.554Z"
   },
   {
    "duration": 7,
    "start_time": "2022-05-20T20:13:02.042Z"
   },
   {
    "duration": 10,
    "start_time": "2022-05-20T20:13:02.427Z"
   },
   {
    "duration": 10,
    "start_time": "2022-05-20T20:13:02.827Z"
   },
   {
    "duration": 11,
    "start_time": "2022-05-20T20:13:03.206Z"
   },
   {
    "duration": 8,
    "start_time": "2022-05-20T20:13:03.746Z"
   },
   {
    "duration": 18,
    "start_time": "2022-05-20T20:13:04.135Z"
   },
   {
    "duration": 49,
    "start_time": "2022-05-20T20:13:04.319Z"
   },
   {
    "duration": 215,
    "start_time": "2022-05-20T20:13:04.715Z"
   },
   {
    "duration": 41576,
    "start_time": "2022-05-20T20:13:05.380Z"
   },
   {
    "duration": 251,
    "start_time": "2022-05-20T20:13:46.958Z"
   },
   {
    "duration": 258,
    "start_time": "2022-05-20T20:13:47.210Z"
   },
   {
    "duration": 327,
    "start_time": "2022-05-20T20:13:47.470Z"
   },
   {
    "duration": 239,
    "start_time": "2022-05-20T20:13:47.798Z"
   },
   {
    "duration": 11,
    "start_time": "2022-05-20T20:13:48.052Z"
   },
   {
    "duration": 228,
    "start_time": "2022-05-20T20:22:10.573Z"
   },
   {
    "duration": 430,
    "start_time": "2022-05-20T20:22:25.336Z"
   },
   {
    "duration": 13,
    "start_time": "2022-05-20T20:22:52.385Z"
   },
   {
    "duration": 29,
    "start_time": "2022-05-20T20:23:22.475Z"
   },
   {
    "duration": 25,
    "start_time": "2022-05-20T20:23:53.769Z"
   },
   {
    "duration": 246,
    "start_time": "2022-05-20T20:23:55.927Z"
   },
   {
    "duration": 244,
    "start_time": "2022-05-20T20:23:59.094Z"
   },
   {
    "duration": 24,
    "start_time": "2022-05-20T20:24:02.979Z"
   },
   {
    "duration": 24,
    "start_time": "2022-05-20T20:25:13.668Z"
   },
   {
    "duration": 458,
    "start_time": "2022-05-20T20:25:24.393Z"
   },
   {
    "duration": 221,
    "start_time": "2022-05-20T20:25:31.341Z"
   },
   {
    "duration": 425,
    "start_time": "2022-05-20T20:26:17.168Z"
   },
   {
    "duration": 28,
    "start_time": "2022-05-20T20:26:21.875Z"
   },
   {
    "duration": 14,
    "start_time": "2022-05-20T20:27:42.969Z"
   },
   {
    "duration": 15,
    "start_time": "2022-05-20T20:27:48.514Z"
   },
   {
    "duration": 22,
    "start_time": "2022-05-20T20:30:29.712Z"
   },
   {
    "duration": 23,
    "start_time": "2022-05-20T20:30:32.805Z"
   },
   {
    "duration": 25,
    "start_time": "2022-05-20T20:30:44.853Z"
   },
   {
    "duration": 449,
    "start_time": "2022-05-20T20:53:09.077Z"
   },
   {
    "duration": 561,
    "start_time": "2022-05-20T20:53:15.606Z"
   },
   {
    "duration": 0,
    "start_time": "2022-05-20T20:53:16.169Z"
   },
   {
    "duration": 28,
    "start_time": "2022-05-20T20:53:25.883Z"
   },
   {
    "duration": 412,
    "start_time": "2022-05-20T20:53:30.719Z"
   },
   {
    "duration": 57,
    "start_time": "2022-05-21T18:14:36.472Z"
   },
   {
    "duration": 6,
    "start_time": "2022-05-21T18:14:56.734Z"
   },
   {
    "duration": 6,
    "start_time": "2022-05-21T18:15:06.251Z"
   },
   {
    "duration": 6,
    "start_time": "2022-05-21T18:15:10.814Z"
   },
   {
    "duration": 1373,
    "start_time": "2022-05-21T18:15:20.884Z"
   },
   {
    "duration": 3,
    "start_time": "2022-05-21T18:15:22.259Z"
   },
   {
    "duration": 309,
    "start_time": "2022-05-21T18:15:22.263Z"
   },
   {
    "duration": 71,
    "start_time": "2022-05-21T18:15:22.575Z"
   },
   {
    "duration": 14,
    "start_time": "2022-05-21T18:15:22.648Z"
   },
   {
    "duration": 46,
    "start_time": "2022-05-21T18:15:22.665Z"
   },
   {
    "duration": 11,
    "start_time": "2022-05-21T18:15:22.713Z"
   },
   {
    "duration": 13,
    "start_time": "2022-05-21T18:15:22.725Z"
   },
   {
    "duration": 17,
    "start_time": "2022-05-21T18:15:22.740Z"
   },
   {
    "duration": 6,
    "start_time": "2022-05-21T18:15:22.794Z"
   },
   {
    "duration": 11,
    "start_time": "2022-05-21T18:15:22.801Z"
   },
   {
    "duration": 16,
    "start_time": "2022-05-21T18:15:22.814Z"
   },
   {
    "duration": 7,
    "start_time": "2022-05-21T18:15:22.832Z"
   },
   {
    "duration": 8,
    "start_time": "2022-05-21T18:15:22.841Z"
   },
   {
    "duration": 55,
    "start_time": "2022-05-21T18:15:22.851Z"
   },
   {
    "duration": 16,
    "start_time": "2022-05-21T18:15:22.908Z"
   },
   {
    "duration": 11,
    "start_time": "2022-05-21T18:15:22.926Z"
   },
   {
    "duration": 12,
    "start_time": "2022-05-21T18:15:22.939Z"
   },
   {
    "duration": 16,
    "start_time": "2022-05-21T18:15:22.953Z"
   },
   {
    "duration": 29,
    "start_time": "2022-05-21T18:15:22.971Z"
   },
   {
    "duration": 9,
    "start_time": "2022-05-21T18:15:23.002Z"
   },
   {
    "duration": 18,
    "start_time": "2022-05-21T18:15:23.013Z"
   },
   {
    "duration": 9,
    "start_time": "2022-05-21T18:15:23.032Z"
   },
   {
    "duration": 59,
    "start_time": "2022-05-21T18:15:23.042Z"
   },
   {
    "duration": 7,
    "start_time": "2022-05-21T18:15:23.102Z"
   },
   {
    "duration": 9,
    "start_time": "2022-05-21T18:15:23.110Z"
   },
   {
    "duration": 5,
    "start_time": "2022-05-21T18:15:23.121Z"
   },
   {
    "duration": 66,
    "start_time": "2022-05-21T18:15:23.130Z"
   },
   {
    "duration": 12,
    "start_time": "2022-05-21T18:15:23.197Z"
   },
   {
    "duration": 11,
    "start_time": "2022-05-21T18:15:23.211Z"
   },
   {
    "duration": 8,
    "start_time": "2022-05-21T18:15:23.223Z"
   },
   {
    "duration": 68,
    "start_time": "2022-05-21T18:15:23.233Z"
   },
   {
    "duration": 16,
    "start_time": "2022-05-21T18:15:23.303Z"
   },
   {
    "duration": 6,
    "start_time": "2022-05-21T18:15:23.320Z"
   },
   {
    "duration": 8,
    "start_time": "2022-05-21T18:15:23.328Z"
   },
   {
    "duration": 17,
    "start_time": "2022-05-21T18:15:23.337Z"
   },
   {
    "duration": 8,
    "start_time": "2022-05-21T18:15:23.355Z"
   },
   {
    "duration": 17,
    "start_time": "2022-05-21T18:15:23.395Z"
   },
   {
    "duration": 16,
    "start_time": "2022-05-21T18:15:23.413Z"
   },
   {
    "duration": 5,
    "start_time": "2022-05-21T18:15:23.430Z"
   },
   {
    "duration": 69,
    "start_time": "2022-05-21T18:15:23.436Z"
   },
   {
    "duration": 190,
    "start_time": "2022-05-21T18:15:23.507Z"
   },
   {
    "duration": 8,
    "start_time": "2022-05-21T18:15:23.698Z"
   },
   {
    "duration": 8,
    "start_time": "2022-05-21T18:15:23.708Z"
   },
   {
    "duration": 16,
    "start_time": "2022-05-21T18:15:23.718Z"
   },
   {
    "duration": 63,
    "start_time": "2022-05-21T18:15:23.735Z"
   },
   {
    "duration": 21,
    "start_time": "2022-05-21T18:15:23.799Z"
   },
   {
    "duration": 25,
    "start_time": "2022-05-21T18:15:23.822Z"
   },
   {
    "duration": 16,
    "start_time": "2022-05-21T18:15:23.894Z"
   },
   {
    "duration": 11,
    "start_time": "2022-05-21T18:15:23.912Z"
   },
   {
    "duration": 476,
    "start_time": "2022-05-21T18:15:23.925Z"
   },
   {
    "duration": 16,
    "start_time": "2022-05-21T18:15:24.402Z"
   },
   {
    "duration": 19,
    "start_time": "2022-05-21T18:15:24.420Z"
   },
   {
    "duration": 10,
    "start_time": "2022-05-21T18:15:24.441Z"
   },
   {
    "duration": 36,
    "start_time": "2022-05-21T18:15:24.453Z"
   },
   {
    "duration": 167,
    "start_time": "2022-05-21T18:15:24.490Z"
   },
   {
    "duration": 152,
    "start_time": "2022-05-21T18:15:24.660Z"
   },
   {
    "duration": 149,
    "start_time": "2022-05-21T18:15:24.813Z"
   },
   {
    "duration": 172,
    "start_time": "2022-05-21T18:15:24.964Z"
   },
   {
    "duration": 212,
    "start_time": "2022-05-21T18:15:25.137Z"
   },
   {
    "duration": 6,
    "start_time": "2022-05-21T18:15:25.350Z"
   },
   {
    "duration": 9,
    "start_time": "2022-05-21T18:15:25.357Z"
   },
   {
    "duration": 33,
    "start_time": "2022-05-21T18:15:25.367Z"
   },
   {
    "duration": 34,
    "start_time": "2022-05-21T18:15:25.402Z"
   },
   {
    "duration": 5,
    "start_time": "2022-05-21T18:15:25.438Z"
   },
   {
    "duration": 185,
    "start_time": "2022-05-21T18:15:25.445Z"
   },
   {
    "duration": 13,
    "start_time": "2022-05-21T18:15:25.632Z"
   },
   {
    "duration": 153,
    "start_time": "2022-05-21T18:15:25.647Z"
   },
   {
    "duration": 12,
    "start_time": "2022-05-21T18:15:25.801Z"
   },
   {
    "duration": 224,
    "start_time": "2022-05-21T18:15:25.814Z"
   },
   {
    "duration": 12,
    "start_time": "2022-05-21T18:15:26.040Z"
   },
   {
    "duration": 160,
    "start_time": "2022-05-21T18:15:26.053Z"
   },
   {
    "duration": 11,
    "start_time": "2022-05-21T18:15:26.214Z"
   },
   {
    "duration": 12,
    "start_time": "2022-05-21T18:15:26.226Z"
   },
   {
    "duration": 9,
    "start_time": "2022-05-21T18:15:26.239Z"
   },
   {
    "duration": 10,
    "start_time": "2022-05-21T18:15:26.249Z"
   },
   {
    "duration": 41,
    "start_time": "2022-05-21T18:15:26.261Z"
   },
   {
    "duration": 10,
    "start_time": "2022-05-21T18:15:26.303Z"
   },
   {
    "duration": 9,
    "start_time": "2022-05-21T18:15:26.314Z"
   },
   {
    "duration": 18,
    "start_time": "2022-05-21T18:15:26.324Z"
   },
   {
    "duration": 17,
    "start_time": "2022-05-21T18:15:26.343Z"
   },
   {
    "duration": 56,
    "start_time": "2022-05-21T18:15:26.397Z"
   },
   {
    "duration": 228,
    "start_time": "2022-05-21T18:15:26.454Z"
   },
   {
    "duration": 41099,
    "start_time": "2022-05-21T18:15:26.684Z"
   },
   {
    "duration": 200,
    "start_time": "2022-05-21T18:16:07.785Z"
   },
   {
    "duration": 146,
    "start_time": "2022-05-21T18:16:07.987Z"
   },
   {
    "duration": 0,
    "start_time": "2022-05-21T18:16:08.135Z"
   },
   {
    "duration": 0,
    "start_time": "2022-05-21T18:16:08.136Z"
   },
   {
    "duration": 0,
    "start_time": "2022-05-21T18:16:08.138Z"
   },
   {
    "duration": 0,
    "start_time": "2022-05-21T18:16:08.138Z"
   },
   {
    "duration": 0,
    "start_time": "2022-05-21T18:16:08.140Z"
   },
   {
    "duration": 0,
    "start_time": "2022-05-21T18:16:08.141Z"
   },
   {
    "duration": 0,
    "start_time": "2022-05-21T18:16:08.142Z"
   },
   {
    "duration": 0,
    "start_time": "2022-05-21T18:16:08.143Z"
   },
   {
    "duration": 0,
    "start_time": "2022-05-21T18:16:08.144Z"
   },
   {
    "duration": 0,
    "start_time": "2022-05-21T18:16:08.145Z"
   },
   {
    "duration": 0,
    "start_time": "2022-05-21T18:16:08.146Z"
   },
   {
    "duration": 0,
    "start_time": "2022-05-21T18:16:08.147Z"
   },
   {
    "duration": 0,
    "start_time": "2022-05-21T18:16:08.148Z"
   },
   {
    "duration": 0,
    "start_time": "2022-05-21T18:16:08.149Z"
   },
   {
    "duration": 0,
    "start_time": "2022-05-21T18:16:08.150Z"
   },
   {
    "duration": 0,
    "start_time": "2022-05-21T18:16:08.151Z"
   },
   {
    "duration": 0,
    "start_time": "2022-05-21T18:16:08.152Z"
   },
   {
    "duration": 0,
    "start_time": "2022-05-21T18:16:08.153Z"
   },
   {
    "duration": 0,
    "start_time": "2022-05-21T18:16:08.155Z"
   },
   {
    "duration": 0,
    "start_time": "2022-05-21T18:16:08.156Z"
   },
   {
    "duration": 25,
    "start_time": "2022-05-21T18:19:12.824Z"
   },
   {
    "duration": 10,
    "start_time": "2022-05-21T18:20:28.508Z"
   },
   {
    "duration": 1196,
    "start_time": "2022-05-21T18:29:42.984Z"
   },
   {
    "duration": 3,
    "start_time": "2022-05-21T18:29:44.182Z"
   },
   {
    "duration": 116,
    "start_time": "2022-05-21T18:29:44.186Z"
   },
   {
    "duration": 74,
    "start_time": "2022-05-21T18:29:44.304Z"
   },
   {
    "duration": 15,
    "start_time": "2022-05-21T18:29:44.394Z"
   },
   {
    "duration": 30,
    "start_time": "2022-05-21T18:29:44.411Z"
   },
   {
    "duration": 12,
    "start_time": "2022-05-21T18:29:44.442Z"
   },
   {
    "duration": 44,
    "start_time": "2022-05-21T18:29:44.456Z"
   },
   {
    "duration": 17,
    "start_time": "2022-05-21T18:29:44.502Z"
   },
   {
    "duration": 15,
    "start_time": "2022-05-21T18:29:44.521Z"
   },
   {
    "duration": 7,
    "start_time": "2022-05-21T18:29:44.537Z"
   },
   {
    "duration": 17,
    "start_time": "2022-05-21T18:29:44.546Z"
   },
   {
    "duration": 30,
    "start_time": "2022-05-21T18:29:44.565Z"
   },
   {
    "duration": 6,
    "start_time": "2022-05-21T18:29:44.599Z"
   },
   {
    "duration": 20,
    "start_time": "2022-05-21T18:29:44.606Z"
   },
   {
    "duration": 16,
    "start_time": "2022-05-21T18:29:44.628Z"
   },
   {
    "duration": 9,
    "start_time": "2022-05-21T18:29:44.645Z"
   },
   {
    "duration": 8,
    "start_time": "2022-05-21T18:29:44.656Z"
   },
   {
    "duration": 9,
    "start_time": "2022-05-21T18:29:44.695Z"
   },
   {
    "duration": 7,
    "start_time": "2022-05-21T18:29:44.706Z"
   },
   {
    "duration": 7,
    "start_time": "2022-05-21T18:29:44.715Z"
   },
   {
    "duration": 13,
    "start_time": "2022-05-21T18:29:44.724Z"
   },
   {
    "duration": 7,
    "start_time": "2022-05-21T18:29:44.739Z"
   },
   {
    "duration": 50,
    "start_time": "2022-05-21T18:29:44.747Z"
   },
   {
    "duration": 11,
    "start_time": "2022-05-21T18:29:44.799Z"
   },
   {
    "duration": 7,
    "start_time": "2022-05-21T18:29:44.812Z"
   },
   {
    "duration": 7,
    "start_time": "2022-05-21T18:29:44.820Z"
   },
   {
    "duration": 17,
    "start_time": "2022-05-21T18:29:44.828Z"
   },
   {
    "duration": 7,
    "start_time": "2022-05-21T18:29:44.847Z"
   },
   {
    "duration": 44,
    "start_time": "2022-05-21T18:29:44.855Z"
   },
   {
    "duration": 9,
    "start_time": "2022-05-21T18:29:44.901Z"
   },
   {
    "duration": 21,
    "start_time": "2022-05-21T18:29:44.912Z"
   },
   {
    "duration": 9,
    "start_time": "2022-05-21T18:29:44.935Z"
   },
   {
    "duration": 8,
    "start_time": "2022-05-21T18:29:44.945Z"
   },
   {
    "duration": 11,
    "start_time": "2022-05-21T18:29:44.954Z"
   },
   {
    "duration": 39,
    "start_time": "2022-05-21T18:29:44.967Z"
   },
   {
    "duration": 8,
    "start_time": "2022-05-21T18:29:45.008Z"
   },
   {
    "duration": 35,
    "start_time": "2022-05-21T18:29:45.018Z"
   },
   {
    "duration": 17,
    "start_time": "2022-05-21T18:29:45.055Z"
   },
   {
    "duration": 4,
    "start_time": "2022-05-21T18:29:45.074Z"
   },
   {
    "duration": 26,
    "start_time": "2022-05-21T18:29:45.083Z"
   },
   {
    "duration": 94,
    "start_time": "2022-05-21T18:29:45.111Z"
   },
   {
    "duration": 6,
    "start_time": "2022-05-21T18:29:45.207Z"
   },
   {
    "duration": 11,
    "start_time": "2022-05-21T18:29:45.214Z"
   },
   {
    "duration": 16,
    "start_time": "2022-05-21T18:29:45.226Z"
   },
   {
    "duration": 6,
    "start_time": "2022-05-21T18:29:45.244Z"
   },
   {
    "duration": 48,
    "start_time": "2022-05-21T18:29:45.251Z"
   },
   {
    "duration": 26,
    "start_time": "2022-05-21T18:29:45.301Z"
   },
   {
    "duration": 17,
    "start_time": "2022-05-21T18:29:45.328Z"
   },
   {
    "duration": 5,
    "start_time": "2022-05-21T18:29:45.347Z"
   },
   {
    "duration": 438,
    "start_time": "2022-05-21T18:29:45.353Z"
   },
   {
    "duration": 16,
    "start_time": "2022-05-21T18:29:45.794Z"
   },
   {
    "duration": 9,
    "start_time": "2022-05-21T18:29:45.812Z"
   },
   {
    "duration": 8,
    "start_time": "2022-05-21T18:29:45.823Z"
   },
   {
    "duration": 20,
    "start_time": "2022-05-21T18:29:45.832Z"
   },
   {
    "duration": 190,
    "start_time": "2022-05-21T18:29:45.854Z"
   },
   {
    "duration": 168,
    "start_time": "2022-05-21T18:29:46.046Z"
   },
   {
    "duration": 161,
    "start_time": "2022-05-21T18:29:46.216Z"
   },
   {
    "duration": 174,
    "start_time": "2022-05-21T18:29:46.379Z"
   },
   {
    "duration": 217,
    "start_time": "2022-05-21T18:29:46.554Z"
   },
   {
    "duration": 7,
    "start_time": "2022-05-21T18:29:46.773Z"
   },
   {
    "duration": 15,
    "start_time": "2022-05-21T18:29:46.781Z"
   },
   {
    "duration": 18,
    "start_time": "2022-05-21T18:29:46.798Z"
   },
   {
    "duration": 33,
    "start_time": "2022-05-21T18:29:46.817Z"
   },
   {
    "duration": 3,
    "start_time": "2022-05-21T18:29:46.852Z"
   },
   {
    "duration": 180,
    "start_time": "2022-05-21T18:29:46.857Z"
   },
   {
    "duration": 15,
    "start_time": "2022-05-21T18:29:47.039Z"
   },
   {
    "duration": 172,
    "start_time": "2022-05-21T18:29:47.056Z"
   },
   {
    "duration": 16,
    "start_time": "2022-05-21T18:29:47.231Z"
   },
   {
    "duration": 288,
    "start_time": "2022-05-21T18:29:47.249Z"
   },
   {
    "duration": 13,
    "start_time": "2022-05-21T18:29:47.539Z"
   },
   {
    "duration": 168,
    "start_time": "2022-05-21T18:29:47.554Z"
   },
   {
    "duration": 13,
    "start_time": "2022-05-21T18:29:47.724Z"
   },
   {
    "duration": 13,
    "start_time": "2022-05-21T18:29:47.738Z"
   },
   {
    "duration": 10,
    "start_time": "2022-05-21T18:29:47.752Z"
   },
   {
    "duration": 10,
    "start_time": "2022-05-21T18:29:47.794Z"
   },
   {
    "duration": 12,
    "start_time": "2022-05-21T18:29:47.806Z"
   },
   {
    "duration": 10,
    "start_time": "2022-05-21T18:29:47.820Z"
   },
   {
    "duration": 10,
    "start_time": "2022-05-21T18:29:47.831Z"
   },
   {
    "duration": 7,
    "start_time": "2022-05-21T18:29:47.843Z"
   },
   {
    "duration": 57,
    "start_time": "2022-05-21T18:29:47.851Z"
   },
   {
    "duration": 54,
    "start_time": "2022-05-21T18:29:47.910Z"
   },
   {
    "duration": 257,
    "start_time": "2022-05-21T18:29:47.966Z"
   },
   {
    "duration": 255,
    "start_time": "2022-05-21T18:29:48.225Z"
   },
   {
    "duration": 310,
    "start_time": "2022-05-21T18:29:48.481Z"
   },
   {
    "duration": 545,
    "start_time": "2022-05-21T18:29:48.795Z"
   },
   {
    "duration": 10,
    "start_time": "2022-05-21T18:29:49.342Z"
   },
   {
    "duration": 166455,
    "start_time": "2022-05-21T18:29:49.354Z"
   },
   {
    "duration": 16,
    "start_time": "2022-05-21T18:32:35.810Z"
   },
   {
    "duration": 77,
    "start_time": "2022-05-21T18:32:35.828Z"
   },
   {
    "duration": 7,
    "start_time": "2022-05-21T18:32:35.907Z"
   },
   {
    "duration": 11,
    "start_time": "2022-05-21T18:32:35.916Z"
   },
   {
    "duration": 71,
    "start_time": "2022-05-21T18:32:35.928Z"
   },
   {
    "duration": 3,
    "start_time": "2022-05-21T18:32:36.001Z"
   },
   {
    "duration": 327,
    "start_time": "2022-05-21T18:32:36.005Z"
   },
   {
    "duration": 11,
    "start_time": "2022-05-21T18:32:36.334Z"
   },
   {
    "duration": 11,
    "start_time": "2022-05-21T18:32:36.347Z"
   },
   {
    "duration": 40,
    "start_time": "2022-05-21T18:32:36.360Z"
   },
   {
    "duration": 11,
    "start_time": "2022-05-21T18:32:36.402Z"
   },
   {
    "duration": 19,
    "start_time": "2022-05-21T18:32:36.415Z"
   },
   {
    "duration": 8,
    "start_time": "2022-05-21T18:32:36.436Z"
   },
   {
    "duration": 55,
    "start_time": "2022-05-21T18:32:36.446Z"
   },
   {
    "duration": 6,
    "start_time": "2022-05-21T18:32:36.503Z"
   },
   {
    "duration": 16,
    "start_time": "2022-05-21T18:32:36.511Z"
   },
   {
    "duration": 11,
    "start_time": "2022-05-21T19:00:38.683Z"
   },
   {
    "duration": 123,
    "start_time": "2022-05-21T19:06:42.717Z"
   },
   {
    "duration": 10,
    "start_time": "2022-05-21T19:06:59.249Z"
   },
   {
    "duration": 9,
    "start_time": "2022-05-21T19:07:02.346Z"
   },
   {
    "duration": 12,
    "start_time": "2022-05-21T19:07:03.997Z"
   },
   {
    "duration": 7,
    "start_time": "2022-05-21T19:08:38.901Z"
   },
   {
    "duration": 7,
    "start_time": "2022-05-21T19:08:56.990Z"
   },
   {
    "duration": 9,
    "start_time": "2022-05-21T19:09:09.649Z"
   },
   {
    "duration": 11,
    "start_time": "2022-05-21T19:18:39.034Z"
   },
   {
    "duration": 18,
    "start_time": "2022-05-21T19:18:55.746Z"
   },
   {
    "duration": 73,
    "start_time": "2022-05-21T19:19:27.345Z"
   },
   {
    "duration": 8,
    "start_time": "2022-05-21T19:19:59.358Z"
   },
   {
    "duration": 9,
    "start_time": "2022-05-21T19:20:55.810Z"
   },
   {
    "duration": 11,
    "start_time": "2022-05-21T19:21:33.642Z"
   },
   {
    "duration": 11,
    "start_time": "2022-05-21T19:21:49.406Z"
   },
   {
    "duration": 14,
    "start_time": "2022-05-21T19:25:15.123Z"
   },
   {
    "duration": 26,
    "start_time": "2022-05-21T19:26:06.161Z"
   },
   {
    "duration": 15,
    "start_time": "2022-05-21T19:28:09.708Z"
   },
   {
    "duration": 15,
    "start_time": "2022-05-21T19:28:21.878Z"
   },
   {
    "duration": 9,
    "start_time": "2022-05-21T19:29:17.783Z"
   },
   {
    "duration": 5,
    "start_time": "2022-05-21T19:29:58.111Z"
   },
   {
    "duration": 5,
    "start_time": "2022-05-21T19:30:41.486Z"
   },
   {
    "duration": 13,
    "start_time": "2022-05-21T19:35:40.805Z"
   },
   {
    "duration": 12,
    "start_time": "2022-05-21T19:35:59.602Z"
   },
   {
    "duration": 14,
    "start_time": "2022-05-21T19:36:14.610Z"
   },
   {
    "duration": 20,
    "start_time": "2022-05-21T19:37:02.490Z"
   },
   {
    "duration": 14,
    "start_time": "2022-05-21T19:37:17.698Z"
   },
   {
    "duration": 499,
    "start_time": "2022-05-21T19:38:01.994Z"
   },
   {
    "duration": 19,
    "start_time": "2022-05-21T19:39:49.314Z"
   },
   {
    "duration": 19,
    "start_time": "2022-05-21T19:39:56.539Z"
   },
   {
    "duration": 20,
    "start_time": "2022-05-21T19:40:29.331Z"
   },
   {
    "duration": 27,
    "start_time": "2022-05-21T19:40:57.099Z"
   },
   {
    "duration": 17,
    "start_time": "2022-05-21T19:41:27.789Z"
   },
   {
    "duration": 10,
    "start_time": "2022-05-21T19:42:05.331Z"
   },
   {
    "duration": 12,
    "start_time": "2022-05-21T19:43:11.529Z"
   },
   {
    "duration": 14,
    "start_time": "2022-05-21T19:43:13.100Z"
   },
   {
    "duration": 9,
    "start_time": "2022-05-21T19:43:15.196Z"
   },
   {
    "duration": 9,
    "start_time": "2022-05-21T19:43:16.046Z"
   },
   {
    "duration": 16,
    "start_time": "2022-05-21T19:43:16.625Z"
   },
   {
    "duration": 11,
    "start_time": "2022-05-21T19:43:34.373Z"
   },
   {
    "duration": 10,
    "start_time": "2022-05-21T19:43:54.282Z"
   },
   {
    "duration": 10,
    "start_time": "2022-05-21T19:44:33.714Z"
   },
   {
    "duration": 10,
    "start_time": "2022-05-21T19:44:53.924Z"
   },
   {
    "duration": 16,
    "start_time": "2022-05-21T19:44:58.031Z"
   },
   {
    "duration": 14,
    "start_time": "2022-05-21T19:45:08.395Z"
   },
   {
    "duration": 8,
    "start_time": "2022-05-21T19:45:41.336Z"
   },
   {
    "duration": 13,
    "start_time": "2022-05-21T19:51:23.159Z"
   },
   {
    "duration": 21,
    "start_time": "2022-05-21T19:51:42.693Z"
   },
   {
    "duration": 21,
    "start_time": "2022-05-21T19:51:58.134Z"
   },
   {
    "duration": 22,
    "start_time": "2022-05-21T19:52:27.205Z"
   },
   {
    "duration": 15,
    "start_time": "2022-05-21T19:52:46.926Z"
   },
   {
    "duration": 16,
    "start_time": "2022-05-21T19:53:14.730Z"
   },
   {
    "duration": 16,
    "start_time": "2022-05-21T19:53:32.651Z"
   },
   {
    "duration": 15,
    "start_time": "2022-05-21T19:54:18.497Z"
   },
   {
    "duration": 10,
    "start_time": "2022-05-21T19:54:23.190Z"
   },
   {
    "duration": 14,
    "start_time": "2022-05-21T19:54:24.016Z"
   },
   {
    "duration": 14,
    "start_time": "2022-05-21T19:54:33.905Z"
   },
   {
    "duration": 50,
    "start_time": "2022-05-21T19:55:00.928Z"
   },
   {
    "duration": 14,
    "start_time": "2022-05-21T19:56:05.043Z"
   },
   {
    "duration": 14,
    "start_time": "2022-05-21T19:56:26.042Z"
   },
   {
    "duration": 13,
    "start_time": "2022-05-21T19:56:38.582Z"
   },
   {
    "duration": 23,
    "start_time": "2022-05-21T19:57:15.913Z"
   },
   {
    "duration": 17,
    "start_time": "2022-05-21T19:58:23.649Z"
   },
   {
    "duration": 727,
    "start_time": "2022-05-21T20:01:10.178Z"
   },
   {
    "duration": 27,
    "start_time": "2022-05-21T20:01:41.318Z"
   },
   {
    "duration": 16,
    "start_time": "2022-05-21T20:02:18.836Z"
   },
   {
    "duration": 13,
    "start_time": "2022-05-21T20:02:43.415Z"
   },
   {
    "duration": 15,
    "start_time": "2022-05-21T20:02:51.357Z"
   },
   {
    "duration": 16,
    "start_time": "2022-05-21T20:02:54.525Z"
   },
   {
    "duration": 1853,
    "start_time": "2022-05-21T20:03:05.418Z"
   },
   {
    "duration": 15,
    "start_time": "2022-05-21T20:04:16.101Z"
   },
   {
    "duration": 15,
    "start_time": "2022-05-21T20:04:21.502Z"
   },
   {
    "duration": 18,
    "start_time": "2022-05-21T20:06:24.305Z"
   },
   {
    "duration": 18,
    "start_time": "2022-05-21T20:06:33.678Z"
   },
   {
    "duration": 14,
    "start_time": "2022-05-21T20:06:47.129Z"
   },
   {
    "duration": 13,
    "start_time": "2022-05-21T20:06:58.019Z"
   },
   {
    "duration": 21,
    "start_time": "2022-05-21T20:07:10.606Z"
   },
   {
    "duration": 14,
    "start_time": "2022-05-21T20:07:18.185Z"
   },
   {
    "duration": 20,
    "start_time": "2022-05-21T20:07:44.483Z"
   },
   {
    "duration": 531,
    "start_time": "2022-05-21T20:07:54.101Z"
   },
   {
    "duration": 17,
    "start_time": "2022-05-21T20:16:20.924Z"
   },
   {
    "duration": 1267,
    "start_time": "2022-05-21T20:16:46.604Z"
   },
   {
    "duration": 3,
    "start_time": "2022-05-21T20:16:47.873Z"
   },
   {
    "duration": 115,
    "start_time": "2022-05-21T20:16:47.877Z"
   },
   {
    "duration": 72,
    "start_time": "2022-05-21T20:16:47.994Z"
   },
   {
    "duration": 29,
    "start_time": "2022-05-21T20:16:48.068Z"
   },
   {
    "duration": 29,
    "start_time": "2022-05-21T20:16:48.098Z"
   },
   {
    "duration": 10,
    "start_time": "2022-05-21T20:16:48.129Z"
   },
   {
    "duration": 21,
    "start_time": "2022-05-21T20:16:48.141Z"
   },
   {
    "duration": 52,
    "start_time": "2022-05-21T20:16:48.164Z"
   },
   {
    "duration": 11,
    "start_time": "2022-05-21T20:16:48.218Z"
   },
   {
    "duration": 10,
    "start_time": "2022-05-21T20:16:48.230Z"
   },
   {
    "duration": 26,
    "start_time": "2022-05-21T20:16:48.241Z"
   },
   {
    "duration": 10,
    "start_time": "2022-05-21T20:16:48.269Z"
   },
   {
    "duration": 7,
    "start_time": "2022-05-21T20:16:48.294Z"
   },
   {
    "duration": 17,
    "start_time": "2022-05-21T20:16:48.302Z"
   },
   {
    "duration": 14,
    "start_time": "2022-05-21T20:16:48.321Z"
   },
   {
    "duration": 9,
    "start_time": "2022-05-21T20:16:48.337Z"
   },
   {
    "duration": 8,
    "start_time": "2022-05-21T20:16:48.347Z"
   },
   {
    "duration": 43,
    "start_time": "2022-05-21T20:16:48.357Z"
   },
   {
    "duration": 12,
    "start_time": "2022-05-21T20:16:48.402Z"
   },
   {
    "duration": 10,
    "start_time": "2022-05-21T20:16:48.416Z"
   },
   {
    "duration": 23,
    "start_time": "2022-05-21T20:16:48.428Z"
   },
   {
    "duration": 9,
    "start_time": "2022-05-21T20:16:48.454Z"
   },
   {
    "duration": 43,
    "start_time": "2022-05-21T20:16:48.466Z"
   },
   {
    "duration": 12,
    "start_time": "2022-05-21T20:16:48.511Z"
   },
   {
    "duration": 7,
    "start_time": "2022-05-21T20:16:48.525Z"
   },
   {
    "duration": 7,
    "start_time": "2022-05-21T20:16:48.534Z"
   },
   {
    "duration": 57,
    "start_time": "2022-05-21T20:16:48.542Z"
   },
   {
    "duration": 9,
    "start_time": "2022-05-21T20:16:48.601Z"
   },
   {
    "duration": 7,
    "start_time": "2022-05-21T20:16:48.612Z"
   },
   {
    "duration": 7,
    "start_time": "2022-05-21T20:16:48.621Z"
   },
   {
    "duration": 16,
    "start_time": "2022-05-21T20:16:48.630Z"
   },
   {
    "duration": 8,
    "start_time": "2022-05-21T20:16:48.648Z"
   },
   {
    "duration": 13,
    "start_time": "2022-05-21T20:16:48.695Z"
   },
   {
    "duration": 8,
    "start_time": "2022-05-21T20:16:48.710Z"
   },
   {
    "duration": 21,
    "start_time": "2022-05-21T20:16:48.720Z"
   },
   {
    "duration": 13,
    "start_time": "2022-05-21T20:16:48.742Z"
   },
   {
    "duration": 16,
    "start_time": "2022-05-21T20:16:48.757Z"
   },
   {
    "duration": 12,
    "start_time": "2022-05-21T20:16:48.795Z"
   },
   {
    "duration": 4,
    "start_time": "2022-05-21T20:16:48.809Z"
   },
   {
    "duration": 15,
    "start_time": "2022-05-21T20:16:48.819Z"
   },
   {
    "duration": 119,
    "start_time": "2022-05-21T20:16:48.836Z"
   },
   {
    "duration": 6,
    "start_time": "2022-05-21T20:16:48.957Z"
   },
   {
    "duration": 14,
    "start_time": "2022-05-21T20:16:48.965Z"
   },
   {
    "duration": 27,
    "start_time": "2022-05-21T20:16:48.981Z"
   },
   {
    "duration": 11,
    "start_time": "2022-05-21T20:16:49.010Z"
   },
   {
    "duration": 39,
    "start_time": "2022-05-21T20:16:49.023Z"
   },
   {
    "duration": 33,
    "start_time": "2022-05-21T20:16:49.064Z"
   },
   {
    "duration": 17,
    "start_time": "2022-05-21T20:16:49.099Z"
   },
   {
    "duration": 8,
    "start_time": "2022-05-21T20:16:49.117Z"
   },
   {
    "duration": 433,
    "start_time": "2022-05-21T20:16:49.127Z"
   },
   {
    "duration": 18,
    "start_time": "2022-05-21T20:16:49.562Z"
   },
   {
    "duration": 22,
    "start_time": "2022-05-21T20:16:49.581Z"
   },
   {
    "duration": 8,
    "start_time": "2022-05-21T20:16:49.604Z"
   },
   {
    "duration": 22,
    "start_time": "2022-05-21T20:16:49.614Z"
   },
   {
    "duration": 184,
    "start_time": "2022-05-21T20:16:49.638Z"
   },
   {
    "duration": 178,
    "start_time": "2022-05-21T20:16:49.824Z"
   },
   {
    "duration": 160,
    "start_time": "2022-05-21T20:16:50.004Z"
   },
   {
    "duration": 191,
    "start_time": "2022-05-21T20:16:50.166Z"
   },
   {
    "duration": 232,
    "start_time": "2022-05-21T20:16:50.360Z"
   },
   {
    "duration": 10,
    "start_time": "2022-05-21T20:16:50.597Z"
   },
   {
    "duration": 7,
    "start_time": "2022-05-21T20:16:50.609Z"
   },
   {
    "duration": 16,
    "start_time": "2022-05-21T20:16:50.617Z"
   },
   {
    "duration": 36,
    "start_time": "2022-05-21T20:16:50.634Z"
   },
   {
    "duration": 5,
    "start_time": "2022-05-21T20:16:50.695Z"
   },
   {
    "duration": 168,
    "start_time": "2022-05-21T20:16:50.701Z"
   },
   {
    "duration": 13,
    "start_time": "2022-05-21T20:16:50.871Z"
   },
   {
    "duration": 155,
    "start_time": "2022-05-21T20:16:50.895Z"
   },
   {
    "duration": 12,
    "start_time": "2022-05-21T20:16:51.052Z"
   },
   {
    "duration": 246,
    "start_time": "2022-05-21T20:16:51.066Z"
   },
   {
    "duration": 14,
    "start_time": "2022-05-21T20:16:51.314Z"
   },
   {
    "duration": 170,
    "start_time": "2022-05-21T20:16:51.330Z"
   },
   {
    "duration": 14,
    "start_time": "2022-05-21T20:16:51.502Z"
   },
   {
    "duration": 14,
    "start_time": "2022-05-21T20:16:51.517Z"
   },
   {
    "duration": 10,
    "start_time": "2022-05-21T20:16:51.532Z"
   },
   {
    "duration": 8,
    "start_time": "2022-05-21T20:16:51.544Z"
   },
   {
    "duration": 16,
    "start_time": "2022-05-21T20:16:51.595Z"
   },
   {
    "duration": 11,
    "start_time": "2022-05-21T20:16:51.613Z"
   },
   {
    "duration": 17,
    "start_time": "2022-05-21T20:16:51.625Z"
   },
   {
    "duration": 7,
    "start_time": "2022-05-21T20:16:51.644Z"
   },
   {
    "duration": 20,
    "start_time": "2022-05-21T20:16:51.695Z"
   },
   {
    "duration": 82,
    "start_time": "2022-05-21T20:16:51.717Z"
   },
   {
    "duration": 251,
    "start_time": "2022-05-21T20:16:51.801Z"
   },
   {
    "duration": 259,
    "start_time": "2022-05-21T20:16:52.053Z"
   },
   {
    "duration": 385,
    "start_time": "2022-05-21T20:16:52.314Z"
   },
   {
    "duration": 604,
    "start_time": "2022-05-21T20:16:52.702Z"
   },
   {
    "duration": 12,
    "start_time": "2022-05-21T20:16:53.307Z"
   },
   {
    "duration": 166114,
    "start_time": "2022-05-21T20:16:53.321Z"
   },
   {
    "duration": 271,
    "start_time": "2022-05-21T20:19:39.438Z"
   },
   {
    "duration": 0,
    "start_time": "2022-05-21T20:19:39.711Z"
   },
   {
    "duration": 0,
    "start_time": "2022-05-21T20:19:39.712Z"
   },
   {
    "duration": 0,
    "start_time": "2022-05-21T20:19:39.714Z"
   },
   {
    "duration": 0,
    "start_time": "2022-05-21T20:19:39.715Z"
   },
   {
    "duration": 0,
    "start_time": "2022-05-21T20:19:39.716Z"
   },
   {
    "duration": 0,
    "start_time": "2022-05-21T20:19:39.717Z"
   },
   {
    "duration": 0,
    "start_time": "2022-05-21T20:19:39.719Z"
   },
   {
    "duration": 0,
    "start_time": "2022-05-21T20:19:39.720Z"
   },
   {
    "duration": 0,
    "start_time": "2022-05-21T20:19:39.721Z"
   },
   {
    "duration": 0,
    "start_time": "2022-05-21T20:19:39.723Z"
   },
   {
    "duration": 1,
    "start_time": "2022-05-21T20:19:39.724Z"
   },
   {
    "duration": 0,
    "start_time": "2022-05-21T20:19:39.726Z"
   },
   {
    "duration": 0,
    "start_time": "2022-05-21T20:19:39.728Z"
   },
   {
    "duration": 0,
    "start_time": "2022-05-21T20:19:39.729Z"
   },
   {
    "duration": 0,
    "start_time": "2022-05-21T20:19:39.731Z"
   },
   {
    "duration": 14,
    "start_time": "2022-05-21T20:23:26.031Z"
   },
   {
    "duration": 8,
    "start_time": "2022-05-21T20:23:27.100Z"
   },
   {
    "duration": 9,
    "start_time": "2022-05-21T20:23:45.042Z"
   },
   {
    "duration": 25,
    "start_time": "2022-05-21T20:23:58.497Z"
   },
   {
    "duration": 713,
    "start_time": "2022-05-21T20:24:07.636Z"
   },
   {
    "duration": 17,
    "start_time": "2022-05-21T20:24:39.237Z"
   },
   {
    "duration": 21,
    "start_time": "2022-05-21T20:24:56.808Z"
   },
   {
    "duration": 36,
    "start_time": "2022-05-21T20:25:00.178Z"
   },
   {
    "duration": 27,
    "start_time": "2022-05-21T20:25:05.302Z"
   },
   {
    "duration": 7,
    "start_time": "2022-05-21T20:25:45.381Z"
   },
   {
    "duration": 7,
    "start_time": "2022-05-21T20:25:54.730Z"
   },
   {
    "duration": 4,
    "start_time": "2022-05-21T20:26:11.426Z"
   },
   {
    "duration": 20,
    "start_time": "2022-05-21T20:26:53.842Z"
   },
   {
    "duration": 20,
    "start_time": "2022-05-21T20:26:56.277Z"
   },
   {
    "duration": 15,
    "start_time": "2022-05-21T20:27:27.431Z"
   },
   {
    "duration": 14,
    "start_time": "2022-05-21T20:27:45.995Z"
   },
   {
    "duration": 6,
    "start_time": "2022-05-21T20:28:41.030Z"
   },
   {
    "duration": 250,
    "start_time": "2022-05-21T20:28:43.296Z"
   },
   {
    "duration": 12,
    "start_time": "2022-05-21T20:28:44.751Z"
   },
   {
    "duration": 12,
    "start_time": "2022-05-21T20:28:46.180Z"
   },
   {
    "duration": 10,
    "start_time": "2022-05-21T20:28:49.169Z"
   },
   {
    "duration": 10,
    "start_time": "2022-05-21T20:29:08.695Z"
   },
   {
    "duration": 17,
    "start_time": "2022-05-21T20:29:10.933Z"
   },
   {
    "duration": 7,
    "start_time": "2022-05-21T20:30:15.832Z"
   },
   {
    "duration": 9,
    "start_time": "2022-05-21T20:30:56.021Z"
   },
   {
    "duration": 7,
    "start_time": "2022-05-21T20:31:23.127Z"
   },
   {
    "duration": 21,
    "start_time": "2022-05-21T20:31:25.569Z"
   },
   {
    "duration": 23,
    "start_time": "2022-05-21T20:34:13.072Z"
   },
   {
    "duration": 32,
    "start_time": "2022-05-21T20:43:30.777Z"
   },
   {
    "duration": 28,
    "start_time": "2022-05-21T20:43:57.733Z"
   },
   {
    "duration": 31,
    "start_time": "2022-05-21T20:45:57.030Z"
   },
   {
    "duration": 76,
    "start_time": "2022-05-21T20:49:54.272Z"
   },
   {
    "duration": 14,
    "start_time": "2022-05-21T20:52:41.865Z"
   },
   {
    "duration": 28,
    "start_time": "2022-05-21T20:53:00.297Z"
   },
   {
    "duration": 9,
    "start_time": "2022-05-21T20:53:37.652Z"
   },
   {
    "duration": 8,
    "start_time": "2022-05-21T20:53:59.177Z"
   },
   {
    "duration": 10,
    "start_time": "2022-05-21T20:55:29.701Z"
   },
   {
    "duration": 6,
    "start_time": "2022-05-21T20:56:43.408Z"
   },
   {
    "duration": 8,
    "start_time": "2022-05-21T20:58:00.602Z"
   },
   {
    "duration": 7,
    "start_time": "2022-05-21T20:59:19.811Z"
   },
   {
    "duration": 12,
    "start_time": "2022-05-21T20:59:58.606Z"
   },
   {
    "duration": 8,
    "start_time": "2022-05-21T21:00:02.103Z"
   },
   {
    "duration": 14,
    "start_time": "2022-05-21T21:00:23.457Z"
   },
   {
    "duration": 8,
    "start_time": "2022-05-21T21:00:40.099Z"
   },
   {
    "duration": 10,
    "start_time": "2022-05-21T21:00:57.417Z"
   },
   {
    "duration": 9,
    "start_time": "2022-05-21T21:02:52.308Z"
   },
   {
    "duration": 10,
    "start_time": "2022-05-21T21:04:40.486Z"
   },
   {
    "duration": 13,
    "start_time": "2022-05-21T21:07:16.149Z"
   },
   {
    "duration": 9,
    "start_time": "2022-05-21T21:09:31.779Z"
   },
   {
    "duration": 9,
    "start_time": "2022-05-21T21:13:03.182Z"
   },
   {
    "duration": 11,
    "start_time": "2022-05-21T21:13:36.027Z"
   },
   {
    "duration": 5,
    "start_time": "2022-05-21T21:14:48.343Z"
   },
   {
    "duration": 460,
    "start_time": "2022-05-21T21:38:31.104Z"
   },
   {
    "duration": 22,
    "start_time": "2022-05-21T21:39:10.475Z"
   },
   {
    "duration": 24,
    "start_time": "2022-05-21T21:39:23.487Z"
   },
   {
    "duration": 20,
    "start_time": "2022-05-21T21:39:25.820Z"
   },
   {
    "duration": 22,
    "start_time": "2022-05-21T21:39:29.123Z"
   },
   {
    "duration": 10,
    "start_time": "2022-05-21T21:42:54.077Z"
   },
   {
    "duration": 11,
    "start_time": "2022-05-21T21:43:12.923Z"
   },
   {
    "duration": 107,
    "start_time": "2022-05-21T21:44:22.246Z"
   },
   {
    "duration": 35,
    "start_time": "2022-05-21T21:45:48.083Z"
   },
   {
    "duration": 28,
    "start_time": "2022-05-21T21:45:55.512Z"
   },
   {
    "duration": 23,
    "start_time": "2022-05-21T21:46:16.368Z"
   },
   {
    "duration": 27,
    "start_time": "2022-05-21T21:46:17.423Z"
   },
   {
    "duration": 36,
    "start_time": "2022-05-21T21:46:52.825Z"
   },
   {
    "duration": 31,
    "start_time": "2022-05-21T21:46:57.118Z"
   },
   {
    "duration": 36,
    "start_time": "2022-05-21T21:47:05.429Z"
   },
   {
    "duration": 827,
    "start_time": "2022-05-21T21:47:24.786Z"
   },
   {
    "duration": 225,
    "start_time": "2022-05-21T21:48:26.480Z"
   },
   {
    "duration": 1458,
    "start_time": "2022-05-21T21:48:35.262Z"
   },
   {
    "duration": 1183,
    "start_time": "2022-05-21T21:52:35.673Z"
   },
   {
    "duration": 2,
    "start_time": "2022-05-21T21:52:36.858Z"
   },
   {
    "duration": 115,
    "start_time": "2022-05-21T21:52:36.862Z"
   },
   {
    "duration": 75,
    "start_time": "2022-05-21T21:52:36.979Z"
   },
   {
    "duration": 14,
    "start_time": "2022-05-21T21:52:37.055Z"
   },
   {
    "duration": 46,
    "start_time": "2022-05-21T21:52:37.070Z"
   },
   {
    "duration": 9,
    "start_time": "2022-05-21T21:52:37.117Z"
   },
   {
    "duration": 15,
    "start_time": "2022-05-21T21:52:37.128Z"
   },
   {
    "duration": 15,
    "start_time": "2022-05-21T21:52:37.144Z"
   },
   {
    "duration": 39,
    "start_time": "2022-05-21T21:52:37.161Z"
   },
   {
    "duration": 5,
    "start_time": "2022-05-21T21:52:37.201Z"
   },
   {
    "duration": 29,
    "start_time": "2022-05-21T21:52:37.208Z"
   },
   {
    "duration": 8,
    "start_time": "2022-05-21T21:52:37.240Z"
   },
   {
    "duration": 12,
    "start_time": "2022-05-21T21:52:37.249Z"
   },
   {
    "duration": 46,
    "start_time": "2022-05-21T21:52:37.262Z"
   },
   {
    "duration": 17,
    "start_time": "2022-05-21T21:52:37.311Z"
   },
   {
    "duration": 14,
    "start_time": "2022-05-21T21:52:37.332Z"
   },
   {
    "duration": 16,
    "start_time": "2022-05-21T21:52:37.348Z"
   },
   {
    "duration": 16,
    "start_time": "2022-05-21T21:52:37.366Z"
   },
   {
    "duration": 24,
    "start_time": "2022-05-21T21:52:37.384Z"
   },
   {
    "duration": 7,
    "start_time": "2022-05-21T21:52:37.410Z"
   },
   {
    "duration": 15,
    "start_time": "2022-05-21T21:52:37.418Z"
   },
   {
    "duration": 12,
    "start_time": "2022-05-21T21:52:37.434Z"
   },
   {
    "duration": 14,
    "start_time": "2022-05-21T21:52:37.448Z"
   },
   {
    "duration": 5,
    "start_time": "2022-05-21T21:52:37.464Z"
   },
   {
    "duration": 5,
    "start_time": "2022-05-21T21:52:37.470Z"
   },
   {
    "duration": 13,
    "start_time": "2022-05-21T21:52:37.494Z"
   },
   {
    "duration": 14,
    "start_time": "2022-05-21T21:52:37.512Z"
   },
   {
    "duration": 6,
    "start_time": "2022-05-21T21:52:37.527Z"
   },
   {
    "duration": 7,
    "start_time": "2022-05-21T21:52:37.535Z"
   },
   {
    "duration": 4,
    "start_time": "2022-05-21T21:52:37.544Z"
   },
   {
    "duration": 15,
    "start_time": "2022-05-21T21:52:37.549Z"
   },
   {
    "duration": 38,
    "start_time": "2022-05-21T21:52:37.565Z"
   },
   {
    "duration": 8,
    "start_time": "2022-05-21T21:52:37.605Z"
   },
   {
    "duration": 8,
    "start_time": "2022-05-21T21:52:37.615Z"
   },
   {
    "duration": 16,
    "start_time": "2022-05-21T21:52:37.625Z"
   },
   {
    "duration": 9,
    "start_time": "2022-05-21T21:52:37.643Z"
   },
   {
    "duration": 63,
    "start_time": "2022-05-21T21:52:37.654Z"
   },
   {
    "duration": 12,
    "start_time": "2022-05-21T21:52:37.719Z"
   },
   {
    "duration": 5,
    "start_time": "2022-05-21T21:52:37.733Z"
   },
   {
    "duration": 18,
    "start_time": "2022-05-21T21:52:37.739Z"
   },
   {
    "duration": 103,
    "start_time": "2022-05-21T21:52:37.758Z"
   },
   {
    "duration": 7,
    "start_time": "2022-05-21T21:52:37.863Z"
   },
   {
    "duration": 31,
    "start_time": "2022-05-21T21:52:37.872Z"
   },
   {
    "duration": 14,
    "start_time": "2022-05-21T21:52:37.909Z"
   },
   {
    "duration": 8,
    "start_time": "2022-05-21T21:52:37.924Z"
   },
   {
    "duration": 18,
    "start_time": "2022-05-21T21:52:37.933Z"
   },
   {
    "duration": 22,
    "start_time": "2022-05-21T21:52:37.953Z"
   },
   {
    "duration": 41,
    "start_time": "2022-05-21T21:52:37.977Z"
   },
   {
    "duration": 3,
    "start_time": "2022-05-21T21:52:38.020Z"
   },
   {
    "duration": 422,
    "start_time": "2022-05-21T21:52:38.025Z"
   },
   {
    "duration": 18,
    "start_time": "2022-05-21T21:52:38.449Z"
   },
   {
    "duration": 16,
    "start_time": "2022-05-21T21:52:38.468Z"
   },
   {
    "duration": 18,
    "start_time": "2022-05-21T21:52:38.494Z"
   },
   {
    "duration": 18,
    "start_time": "2022-05-21T21:52:38.513Z"
   },
   {
    "duration": 170,
    "start_time": "2022-05-21T21:52:38.533Z"
   },
   {
    "duration": 152,
    "start_time": "2022-05-21T21:52:38.710Z"
   },
   {
    "duration": 158,
    "start_time": "2022-05-21T21:52:38.864Z"
   },
   {
    "duration": 159,
    "start_time": "2022-05-21T21:52:39.023Z"
   },
   {
    "duration": 229,
    "start_time": "2022-05-21T21:52:39.183Z"
   },
   {
    "duration": 7,
    "start_time": "2022-05-21T21:52:39.413Z"
   },
   {
    "duration": 6,
    "start_time": "2022-05-21T21:52:39.421Z"
   },
   {
    "duration": 11,
    "start_time": "2022-05-21T21:52:39.428Z"
   },
   {
    "duration": 64,
    "start_time": "2022-05-21T21:52:39.441Z"
   },
   {
    "duration": 4,
    "start_time": "2022-05-21T21:52:39.507Z"
   },
   {
    "duration": 150,
    "start_time": "2022-05-21T21:52:39.512Z"
   },
   {
    "duration": 12,
    "start_time": "2022-05-21T21:52:39.663Z"
   },
   {
    "duration": 163,
    "start_time": "2022-05-21T21:52:39.677Z"
   },
   {
    "duration": 13,
    "start_time": "2022-05-21T21:52:39.842Z"
   },
   {
    "duration": 251,
    "start_time": "2022-05-21T21:52:39.857Z"
   },
   {
    "duration": 13,
    "start_time": "2022-05-21T21:52:40.110Z"
   },
   {
    "duration": 153,
    "start_time": "2022-05-21T21:52:40.125Z"
   },
   {
    "duration": 27,
    "start_time": "2022-05-21T21:52:40.280Z"
   },
   {
    "duration": 12,
    "start_time": "2022-05-21T21:52:40.309Z"
   },
   {
    "duration": 8,
    "start_time": "2022-05-21T21:52:40.323Z"
   },
   {
    "duration": 8,
    "start_time": "2022-05-21T21:52:40.332Z"
   },
   {
    "duration": 10,
    "start_time": "2022-05-21T21:52:40.341Z"
   },
   {
    "duration": 56,
    "start_time": "2022-05-21T21:52:40.352Z"
   },
   {
    "duration": 10,
    "start_time": "2022-05-21T21:52:40.410Z"
   },
   {
    "duration": 7,
    "start_time": "2022-05-21T21:52:40.421Z"
   },
   {
    "duration": 16,
    "start_time": "2022-05-21T21:52:40.430Z"
   },
   {
    "duration": 77,
    "start_time": "2022-05-21T21:52:40.452Z"
   },
   {
    "duration": 232,
    "start_time": "2022-05-21T21:52:40.531Z"
   },
   {
    "duration": 267,
    "start_time": "2022-05-21T21:52:40.765Z"
   },
   {
    "duration": 341,
    "start_time": "2022-05-21T21:52:41.034Z"
   },
   {
    "duration": 557,
    "start_time": "2022-05-21T21:52:41.377Z"
   },
   {
    "duration": 11,
    "start_time": "2022-05-21T21:52:41.936Z"
   },
   {
    "duration": 163063,
    "start_time": "2022-05-21T21:52:41.949Z"
   },
   {
    "duration": 10,
    "start_time": "2022-05-21T21:55:25.014Z"
   },
   {
    "duration": 9,
    "start_time": "2022-05-21T21:55:25.025Z"
   },
   {
    "duration": 70,
    "start_time": "2022-05-21T21:55:25.035Z"
   },
   {
    "duration": 5,
    "start_time": "2022-05-21T21:55:25.108Z"
   },
   {
    "duration": 420,
    "start_time": "2022-05-21T21:55:25.114Z"
   },
   {
    "duration": 11,
    "start_time": "2022-05-21T21:55:25.536Z"
   },
   {
    "duration": 12,
    "start_time": "2022-05-21T21:55:25.549Z"
   },
   {
    "duration": 38,
    "start_time": "2022-05-21T21:55:25.563Z"
   },
   {
    "duration": 17,
    "start_time": "2022-05-21T21:55:25.605Z"
   },
   {
    "duration": 8,
    "start_time": "2022-05-21T21:55:25.624Z"
   },
   {
    "duration": 12,
    "start_time": "2022-05-21T21:55:25.633Z"
   },
   {
    "duration": 10,
    "start_time": "2022-05-21T21:55:25.647Z"
   },
   {
    "duration": 55,
    "start_time": "2022-05-21T21:55:25.658Z"
   },
   {
    "duration": 10,
    "start_time": "2022-05-21T21:57:59.011Z"
   },
   {
    "duration": 20,
    "start_time": "2022-05-21T21:57:59.023Z"
   },
   {
    "duration": 8,
    "start_time": "2022-05-21T21:57:59.044Z"
   },
   {
    "duration": 11,
    "start_time": "2022-05-21T21:57:59.054Z"
   },
   {
    "duration": 5,
    "start_time": "2022-05-21T21:57:59.067Z"
   },
   {
    "duration": 1131,
    "start_time": "2022-05-21T21:58:35.706Z"
   },
   {
    "duration": 3,
    "start_time": "2022-05-21T21:58:36.839Z"
   },
   {
    "duration": 136,
    "start_time": "2022-05-21T21:58:36.843Z"
   },
   {
    "duration": 80,
    "start_time": "2022-05-21T21:58:36.981Z"
   },
   {
    "duration": 14,
    "start_time": "2022-05-21T21:58:37.064Z"
   },
   {
    "duration": 28,
    "start_time": "2022-05-21T21:58:37.104Z"
   },
   {
    "duration": 10,
    "start_time": "2022-05-21T21:58:37.134Z"
   },
   {
    "duration": 10,
    "start_time": "2022-05-21T21:58:37.145Z"
   },
   {
    "duration": 14,
    "start_time": "2022-05-21T21:58:37.156Z"
   },
   {
    "duration": 11,
    "start_time": "2022-05-21T21:58:37.194Z"
   },
   {
    "duration": 20,
    "start_time": "2022-05-21T21:58:37.215Z"
   },
   {
    "duration": 36,
    "start_time": "2022-05-21T21:58:37.237Z"
   },
   {
    "duration": 8,
    "start_time": "2022-05-21T21:58:37.275Z"
   },
   {
    "duration": 13,
    "start_time": "2022-05-21T21:58:37.287Z"
   },
   {
    "duration": 35,
    "start_time": "2022-05-21T21:58:37.302Z"
   },
   {
    "duration": 18,
    "start_time": "2022-05-21T21:58:37.339Z"
   },
   {
    "duration": 17,
    "start_time": "2022-05-21T21:58:37.359Z"
   },
   {
    "duration": 19,
    "start_time": "2022-05-21T21:58:37.378Z"
   },
   {
    "duration": 24,
    "start_time": "2022-05-21T21:58:37.399Z"
   },
   {
    "duration": 5,
    "start_time": "2022-05-21T21:58:37.425Z"
   },
   {
    "duration": 13,
    "start_time": "2022-05-21T21:58:37.432Z"
   },
   {
    "duration": 19,
    "start_time": "2022-05-21T21:58:37.446Z"
   },
   {
    "duration": 8,
    "start_time": "2022-05-21T21:58:37.466Z"
   },
   {
    "duration": 16,
    "start_time": "2022-05-21T21:58:37.476Z"
   },
   {
    "duration": 22,
    "start_time": "2022-05-21T21:58:37.494Z"
   },
   {
    "duration": 7,
    "start_time": "2022-05-21T21:58:37.517Z"
   },
   {
    "duration": 5,
    "start_time": "2022-05-21T21:58:37.525Z"
   },
   {
    "duration": 18,
    "start_time": "2022-05-21T21:58:37.531Z"
   },
   {
    "duration": 5,
    "start_time": "2022-05-21T21:58:37.550Z"
   },
   {
    "duration": 7,
    "start_time": "2022-05-21T21:58:37.556Z"
   },
   {
    "duration": 10,
    "start_time": "2022-05-21T21:58:37.564Z"
   },
   {
    "duration": 35,
    "start_time": "2022-05-21T21:58:37.575Z"
   },
   {
    "duration": 10,
    "start_time": "2022-05-21T21:58:37.612Z"
   },
   {
    "duration": 7,
    "start_time": "2022-05-21T21:58:37.623Z"
   },
   {
    "duration": 7,
    "start_time": "2022-05-21T21:58:37.632Z"
   },
   {
    "duration": 16,
    "start_time": "2022-05-21T21:58:37.641Z"
   },
   {
    "duration": 45,
    "start_time": "2022-05-21T21:58:37.659Z"
   },
   {
    "duration": 30,
    "start_time": "2022-05-21T21:58:37.705Z"
   },
   {
    "duration": 36,
    "start_time": "2022-05-21T21:58:37.736Z"
   },
   {
    "duration": 26,
    "start_time": "2022-05-21T21:58:37.773Z"
   },
   {
    "duration": 39,
    "start_time": "2022-05-21T21:58:37.805Z"
   },
   {
    "duration": 110,
    "start_time": "2022-05-21T21:58:37.846Z"
   },
   {
    "duration": 5,
    "start_time": "2022-05-21T21:58:37.958Z"
   },
   {
    "duration": 56,
    "start_time": "2022-05-21T21:58:37.965Z"
   },
   {
    "duration": 22,
    "start_time": "2022-05-21T21:58:38.022Z"
   },
   {
    "duration": 32,
    "start_time": "2022-05-21T21:58:38.046Z"
   },
   {
    "duration": 44,
    "start_time": "2022-05-21T21:58:38.079Z"
   },
   {
    "duration": 47,
    "start_time": "2022-05-21T21:58:38.125Z"
   },
   {
    "duration": 37,
    "start_time": "2022-05-21T21:58:38.173Z"
   },
   {
    "duration": 18,
    "start_time": "2022-05-21T21:58:38.211Z"
   },
   {
    "duration": 444,
    "start_time": "2022-05-21T21:58:38.231Z"
   },
   {
    "duration": 28,
    "start_time": "2022-05-21T21:58:38.677Z"
   },
   {
    "duration": 42,
    "start_time": "2022-05-21T21:58:38.707Z"
   },
   {
    "duration": 28,
    "start_time": "2022-05-21T21:58:38.750Z"
   },
   {
    "duration": 74,
    "start_time": "2022-05-21T21:58:38.779Z"
   },
   {
    "duration": 184,
    "start_time": "2022-05-21T21:58:38.854Z"
   },
   {
    "duration": 160,
    "start_time": "2022-05-21T21:58:39.040Z"
   },
   {
    "duration": 148,
    "start_time": "2022-05-21T21:58:39.209Z"
   },
   {
    "duration": 169,
    "start_time": "2022-05-21T21:58:39.358Z"
   },
   {
    "duration": 224,
    "start_time": "2022-05-21T21:58:39.528Z"
   },
   {
    "duration": 5,
    "start_time": "2022-05-21T21:58:39.754Z"
   },
   {
    "duration": 31,
    "start_time": "2022-05-21T21:58:39.760Z"
   },
   {
    "duration": 51,
    "start_time": "2022-05-21T21:58:39.793Z"
   },
   {
    "duration": 41,
    "start_time": "2022-05-21T21:58:39.846Z"
   },
   {
    "duration": 21,
    "start_time": "2022-05-21T21:58:39.889Z"
   },
   {
    "duration": 163,
    "start_time": "2022-05-21T21:58:39.912Z"
   },
   {
    "duration": 28,
    "start_time": "2022-05-21T21:58:40.077Z"
   },
   {
    "duration": 147,
    "start_time": "2022-05-21T21:58:40.107Z"
   },
   {
    "duration": 13,
    "start_time": "2022-05-21T21:58:40.255Z"
   },
   {
    "duration": 240,
    "start_time": "2022-05-21T21:58:40.270Z"
   },
   {
    "duration": 13,
    "start_time": "2022-05-21T21:58:40.512Z"
   },
   {
    "duration": 165,
    "start_time": "2022-05-21T21:58:40.527Z"
   },
   {
    "duration": 19,
    "start_time": "2022-05-21T21:58:40.693Z"
   },
   {
    "duration": 22,
    "start_time": "2022-05-21T21:58:40.713Z"
   },
   {
    "duration": 8,
    "start_time": "2022-05-21T21:58:40.737Z"
   },
   {
    "duration": 13,
    "start_time": "2022-05-21T21:58:40.747Z"
   },
   {
    "duration": 36,
    "start_time": "2022-05-21T21:58:40.762Z"
   },
   {
    "duration": 31,
    "start_time": "2022-05-21T21:58:40.800Z"
   },
   {
    "duration": 14,
    "start_time": "2022-05-21T21:58:40.833Z"
   },
   {
    "duration": 19,
    "start_time": "2022-05-21T21:58:40.848Z"
   },
   {
    "duration": 37,
    "start_time": "2022-05-21T21:58:40.869Z"
   },
   {
    "duration": 53,
    "start_time": "2022-05-21T21:58:40.908Z"
   },
   {
    "duration": 247,
    "start_time": "2022-05-21T21:58:40.963Z"
   },
   {
    "duration": 250,
    "start_time": "2022-05-21T21:58:41.212Z"
   },
   {
    "duration": 322,
    "start_time": "2022-05-21T21:58:41.464Z"
   },
   {
    "duration": 547,
    "start_time": "2022-05-21T21:58:41.788Z"
   },
   {
    "duration": 12,
    "start_time": "2022-05-21T21:58:42.337Z"
   },
   {
    "duration": 163864,
    "start_time": "2022-05-21T21:58:42.351Z"
   },
   {
    "duration": 11,
    "start_time": "2022-05-21T22:01:26.217Z"
   },
   {
    "duration": 11,
    "start_time": "2022-05-21T22:01:26.229Z"
   },
   {
    "duration": 66,
    "start_time": "2022-05-21T22:01:26.242Z"
   },
   {
    "duration": 3,
    "start_time": "2022-05-21T22:01:26.310Z"
   },
   {
    "duration": 413,
    "start_time": "2022-05-21T22:01:26.314Z"
   },
   {
    "duration": 10,
    "start_time": "2022-05-21T22:01:26.728Z"
   },
   {
    "duration": 10,
    "start_time": "2022-05-21T22:01:26.740Z"
   },
   {
    "duration": 15,
    "start_time": "2022-05-21T22:01:26.751Z"
   },
   {
    "duration": 39,
    "start_time": "2022-05-21T22:01:26.768Z"
   },
   {
    "duration": 7,
    "start_time": "2022-05-21T22:01:26.808Z"
   },
   {
    "duration": 10,
    "start_time": "2022-05-21T22:01:26.817Z"
   },
   {
    "duration": 6,
    "start_time": "2022-05-21T22:01:26.829Z"
   },
   {
    "duration": 20,
    "start_time": "2022-05-21T22:01:26.837Z"
   },
   {
    "duration": 154403,
    "start_time": "2022-05-21T22:01:26.858Z"
   },
   {
    "duration": 47,
    "start_time": "2022-05-21T22:04:01.263Z"
   },
   {
    "duration": 27,
    "start_time": "2022-05-21T22:04:01.311Z"
   },
   {
    "duration": 8,
    "start_time": "2022-05-21T22:04:01.340Z"
   },
   {
    "duration": 22,
    "start_time": "2022-05-21T22:04:01.349Z"
   },
   {
    "duration": 26,
    "start_time": "2022-05-21T22:04:01.373Z"
   },
   {
    "duration": 12,
    "start_time": "2022-05-21T22:04:01.406Z"
   },
   {
    "duration": 46,
    "start_time": "2022-05-21T22:04:01.420Z"
   },
   {
    "duration": 23,
    "start_time": "2022-05-21T22:04:01.468Z"
   },
   {
    "duration": 28,
    "start_time": "2022-05-21T22:04:01.493Z"
   },
   {
    "duration": 155194,
    "start_time": "2022-05-21T22:18:54.833Z"
   },
   {
    "duration": 154156,
    "start_time": "2022-05-21T22:22:25.134Z"
   },
   {
    "duration": 44,
    "start_time": "2022-05-21T22:26:27.025Z"
   },
   {
    "duration": 221,
    "start_time": "2022-05-21T22:26:40.646Z"
   },
   {
    "duration": 1533,
    "start_time": "2022-05-22T09:45:04.012Z"
   },
   {
    "duration": 4,
    "start_time": "2022-05-22T09:45:05.547Z"
   },
   {
    "duration": 352,
    "start_time": "2022-05-22T09:45:05.553Z"
   },
   {
    "duration": 80,
    "start_time": "2022-05-22T09:45:05.908Z"
   },
   {
    "duration": 13,
    "start_time": "2022-05-22T09:45:05.989Z"
   },
   {
    "duration": 29,
    "start_time": "2022-05-22T09:45:06.004Z"
   },
   {
    "duration": 8,
    "start_time": "2022-05-22T09:45:07.102Z"
   },
   {
    "duration": 18,
    "start_time": "2022-05-22T09:45:07.258Z"
   },
   {
    "duration": 14,
    "start_time": "2022-05-22T09:45:07.594Z"
   },
   {
    "duration": 7,
    "start_time": "2022-05-22T09:45:07.727Z"
   },
   {
    "duration": 6,
    "start_time": "2022-05-22T09:45:07.885Z"
   },
   {
    "duration": 14,
    "start_time": "2022-05-22T09:45:08.392Z"
   },
   {
    "duration": 5,
    "start_time": "2022-05-22T09:45:08.482Z"
   },
   {
    "duration": 6,
    "start_time": "2022-05-22T09:45:08.578Z"
   },
   {
    "duration": 18,
    "start_time": "2022-05-22T09:45:08.652Z"
   },
   {
    "duration": 11,
    "start_time": "2022-05-22T09:45:08.747Z"
   },
   {
    "duration": 6,
    "start_time": "2022-05-22T09:45:08.991Z"
   },
   {
    "duration": 5,
    "start_time": "2022-05-22T09:45:09.076Z"
   },
   {
    "duration": 8,
    "start_time": "2022-05-22T09:45:09.173Z"
   },
   {
    "duration": 6,
    "start_time": "2022-05-22T09:45:09.253Z"
   },
   {
    "duration": 5,
    "start_time": "2022-05-22T09:45:09.317Z"
   },
   {
    "duration": 12,
    "start_time": "2022-05-22T09:45:09.395Z"
   },
   {
    "duration": 5,
    "start_time": "2022-05-22T09:45:09.500Z"
   },
   {
    "duration": 13,
    "start_time": "2022-05-22T09:45:09.594Z"
   },
   {
    "duration": 5,
    "start_time": "2022-05-22T09:45:09.647Z"
   },
   {
    "duration": 6,
    "start_time": "2022-05-22T09:45:09.748Z"
   },
   {
    "duration": 5,
    "start_time": "2022-05-22T09:45:09.820Z"
   },
   {
    "duration": 13,
    "start_time": "2022-05-22T09:45:09.912Z"
   },
   {
    "duration": 4,
    "start_time": "2022-05-22T09:45:09.982Z"
   },
   {
    "duration": 6,
    "start_time": "2022-05-22T09:45:10.072Z"
   },
   {
    "duration": 6,
    "start_time": "2022-05-22T09:45:10.177Z"
   },
   {
    "duration": 13,
    "start_time": "2022-05-22T09:45:10.275Z"
   },
   {
    "duration": 5,
    "start_time": "2022-05-22T09:45:10.319Z"
   },
   {
    "duration": 6,
    "start_time": "2022-05-22T09:45:10.401Z"
   },
   {
    "duration": 8,
    "start_time": "2022-05-22T09:45:10.477Z"
   },
   {
    "duration": 14,
    "start_time": "2022-05-22T09:45:10.588Z"
   },
   {
    "duration": 12,
    "start_time": "2022-05-22T09:45:10.655Z"
   },
   {
    "duration": 27,
    "start_time": "2022-05-22T09:45:10.750Z"
   },
   {
    "duration": 10,
    "start_time": "2022-05-22T09:45:10.812Z"
   },
   {
    "duration": 5,
    "start_time": "2022-05-22T09:45:10.896Z"
   },
   {
    "duration": 19,
    "start_time": "2022-05-22T09:45:10.993Z"
   },
   {
    "duration": 73,
    "start_time": "2022-05-22T09:45:11.178Z"
   },
   {
    "duration": 19,
    "start_time": "2022-05-22T09:45:11.253Z"
   },
   {
    "duration": 9,
    "start_time": "2022-05-22T09:45:11.673Z"
   },
   {
    "duration": 53,
    "start_time": "2022-05-22T09:45:11.684Z"
   },
   {
    "duration": 38,
    "start_time": "2022-05-22T09:45:11.739Z"
   },
   {
    "duration": 13,
    "start_time": "2022-05-22T09:45:11.813Z"
   },
   {
    "duration": 21,
    "start_time": "2022-05-22T09:45:11.896Z"
   },
   {
    "duration": 21,
    "start_time": "2022-05-22T09:45:12.060Z"
   },
   {
    "duration": 8,
    "start_time": "2022-05-22T09:45:12.163Z"
   },
   {
    "duration": 404,
    "start_time": "2022-05-22T09:45:12.228Z"
   },
   {
    "duration": 16,
    "start_time": "2022-05-22T09:45:12.634Z"
   },
   {
    "duration": 36,
    "start_time": "2022-05-22T09:45:12.659Z"
   },
   {
    "duration": 27,
    "start_time": "2022-05-22T09:45:12.697Z"
   },
   {
    "duration": 45,
    "start_time": "2022-05-22T09:45:12.726Z"
   },
   {
    "duration": 159,
    "start_time": "2022-05-22T09:45:12.948Z"
   },
   {
    "duration": 167,
    "start_time": "2022-05-22T09:45:13.109Z"
   },
   {
    "duration": 138,
    "start_time": "2022-05-22T09:45:13.278Z"
   },
   {
    "duration": 173,
    "start_time": "2022-05-22T09:45:13.417Z"
   },
   {
    "duration": 226,
    "start_time": "2022-05-22T09:45:13.592Z"
   },
   {
    "duration": 5,
    "start_time": "2022-05-22T09:45:13.819Z"
   },
   {
    "duration": 12,
    "start_time": "2022-05-22T09:45:13.826Z"
   },
   {
    "duration": 45,
    "start_time": "2022-05-22T09:45:13.840Z"
   },
   {
    "duration": 32,
    "start_time": "2022-05-22T09:45:13.990Z"
   },
   {
    "duration": 5,
    "start_time": "2022-05-22T09:45:14.076Z"
   },
   {
    "duration": 149,
    "start_time": "2022-05-22T09:45:14.327Z"
   },
   {
    "duration": 12,
    "start_time": "2022-05-22T09:45:14.478Z"
   },
   {
    "duration": 148,
    "start_time": "2022-05-22T09:45:14.491Z"
   },
   {
    "duration": 21,
    "start_time": "2022-05-22T09:45:14.640Z"
   },
   {
    "duration": 159,
    "start_time": "2022-05-22T09:45:14.662Z"
   },
   {
    "duration": 11,
    "start_time": "2022-05-22T09:45:14.822Z"
   },
   {
    "duration": 229,
    "start_time": "2022-05-22T09:45:14.850Z"
   },
   {
    "duration": 11,
    "start_time": "2022-05-22T09:45:15.081Z"
   },
   {
    "duration": 31,
    "start_time": "2022-05-22T09:45:15.093Z"
   },
   {
    "duration": 11,
    "start_time": "2022-05-22T09:45:15.173Z"
   },
   {
    "duration": 9,
    "start_time": "2022-05-22T09:45:15.330Z"
   },
   {
    "duration": 10,
    "start_time": "2022-05-22T09:45:15.547Z"
   },
   {
    "duration": 9,
    "start_time": "2022-05-22T09:45:15.675Z"
   },
   {
    "duration": 13,
    "start_time": "2022-05-22T09:45:15.851Z"
   },
   {
    "duration": 8,
    "start_time": "2022-05-22T09:45:16.000Z"
   },
   {
    "duration": 16,
    "start_time": "2022-05-22T09:45:16.184Z"
   },
   {
    "duration": 55,
    "start_time": "2022-05-22T09:45:16.254Z"
   },
   {
    "duration": 209,
    "start_time": "2022-05-22T09:45:16.417Z"
   },
   {
    "duration": 249,
    "start_time": "2022-05-22T09:45:16.628Z"
   },
   {
    "duration": 328,
    "start_time": "2022-05-22T09:45:16.980Z"
   },
   {
    "duration": 537,
    "start_time": "2022-05-22T09:45:17.376Z"
   },
   {
    "duration": 13,
    "start_time": "2022-05-22T09:45:17.914Z"
   },
   {
    "duration": 8224,
    "start_time": "2022-05-22T09:45:35.482Z"
   }
  ],
  "kernelspec": {
   "display_name": "Python 3 (ipykernel)",
   "language": "python",
   "name": "python3"
  },
  "language_info": {
   "codemirror_mode": {
    "name": "ipython",
    "version": 3
   },
   "file_extension": ".py",
   "mimetype": "text/x-python",
   "name": "python",
   "nbconvert_exporter": "python",
   "pygments_lexer": "ipython3",
   "version": "3.9.5"
  },
  "toc": {
   "base_numbering": 1,
   "nav_menu": {},
   "number_sections": true,
   "sideBar": true,
   "skip_h1_title": true,
   "title_cell": "Содержание",
   "title_sidebar": "Contents",
   "toc_cell": true,
   "toc_position": {
    "height": "calc(100% - 180px)",
    "left": "10px",
    "top": "150px",
    "width": "165px"
   },
   "toc_section_display": true,
   "toc_window_display": true
  }
 },
 "nbformat": 4,
 "nbformat_minor": 4
}
